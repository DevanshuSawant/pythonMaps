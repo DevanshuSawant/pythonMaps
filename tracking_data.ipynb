{
 "cells": [
  {
   "cell_type": "code",
   "execution_count": 1,
   "metadata": {},
   "outputs": [],
   "source": [
    "import pandas as pd\n",
    "import geopandas as gpd\n",
    "import movingpandas as mpd\n",
    "from datetime import datetime, timedelta\n"
   ]
  },
  {
   "cell_type": "code",
   "execution_count": 2,
   "metadata": {},
   "outputs": [],
   "source": [
    "route82 = pd.read_csv(\"189.csv\")\n",
    "route82['directionsss'] = 0\n",
    "route82['location.coordinates'] = route82['location.coordinates'].apply(lambda x: x.strip('[]'))\n",
    "route82['location.coordinates.lon'] = route82['location.coordinates'].apply(lambda x: x.split(',')[0])\n",
    "route82['location.coordinates.lat'] = route82['location.coordinates'].apply(lambda x: x.split(',')[1])\n",
    "route82['PrevTrackDt'] = pd.to_datetime(route82['LastTrackdt'])\n",
    "route82.set_index('PrevTrackDt', inplace=True)\n",
    "route82gpd = gpd.GeoDataFrame(route82, geometry=gpd.points_from_xy(route82['location.coordinates.lon'], route82['location.coordinates.lat']))\n",
    "route82gpd = route82gpd.set_crs(4326)\n"
   ]
  },
  {
   "cell_type": "code",
   "execution_count": 3,
   "metadata": {},
   "outputs": [
    {
     "name": "stderr",
     "output_type": "stream",
     "text": [
      "c:\\Users\\dusng\\mambaforge\\lib\\site-packages\\geopandas\\array.py:1406: UserWarning: CRS not set for some of the concatenation inputs. Setting output's CRS as WGS 84 (the single non-null crs provided).\n",
      "  warnings.warn(\n"
     ]
    },
    {
     "data": {
      "text/plain": [
       "<AxesSubplot: >"
      ]
     },
     "execution_count": 3,
     "metadata": {},
     "output_type": "execute_result"
    },
    {
     "data": {
      "image/png": "[encoded data removed]",
      "text/plain": [
       "<Figure size 640x480 with 1 Axes>"
      ]
     },
     "metadata": {},
     "output_type": "display_data"
    }
   ],
   "source": [
    "my_traj = mpd.Trajectory(route82gpd, 'LastTrackdt', 'location.coordinates.lon', 'location.coordinates.lat')\n",
    "my_traj.plot()\n",
    "# my_traj.to_linestring()"
   ]
  },
  {
   "cell_type": "code",
   "execution_count": 4,
   "metadata": {},
   "outputs": [
    {
     "name": "stderr",
     "output_type": "stream",
     "text": [
      "c:\\Users\\dusng\\mambaforge\\lib\\site-packages\\geopandas\\array.py:1406: UserWarning: CRS not set for some of the concatenation inputs. Setting output's CRS as WGS 84 (the single non-null crs provided).\n",
      "  warnings.warn(\n",
      "C:\\Users\\dusng\\AppData\\Local\\Temp\\ipykernel_13952\\1444390592.py:7: FutureWarning: The frame.append method is deprecated and will be removed from pandas in a future version. Use pandas.concat instead.\n",
      "  route_changed = route_changed.append({'direction': my_traj.df['direction'][i], 'LastTrackdt': my_traj.df['LastTrackdt'][i], 'location.coordinates.lon': my_traj.df['location.coordinates.lon'][i], 'location.coordinates.lat': my_traj.df['location.coordinates.lat'][i]}, ignore_index=True)\n",
      "C:\\Users\\dusng\\AppData\\Local\\Temp\\ipykernel_13952\\1444390592.py:7: FutureWarning: The frame.append method is deprecated and will be removed from pandas in a future version. Use pandas.concat instead.\n",
      "  route_changed = route_changed.append({'direction': my_traj.df['direction'][i], 'LastTrackdt': my_traj.df['LastTrackdt'][i], 'location.coordinates.lon': my_traj.df['location.coordinates.lon'][i], 'location.coordinates.lat': my_traj.df['location.coordinates.lat'][i]}, ignore_index=True)\n",
      "C:\\Users\\dusng\\AppData\\Local\\Temp\\ipykernel_13952\\1444390592.py:7: FutureWarning: The frame.append method is deprecated and will be removed from pandas in a future version. Use pandas.concat instead.\n",
      "  route_changed = route_changed.append({'direction': my_traj.df['direction'][i], 'LastTrackdt': my_traj.df['LastTrackdt'][i], 'location.coordinates.lon': my_traj.df['location.coordinates.lon'][i], 'location.coordinates.lat': my_traj.df['location.coordinates.lat'][i]}, ignore_index=True)\n",
      "C:\\Users\\dusng\\AppData\\Local\\Temp\\ipykernel_13952\\1444390592.py:7: FutureWarning: The frame.append method is deprecated and will be removed from pandas in a future version. Use pandas.concat instead.\n",
      "  route_changed = route_changed.append({'direction': my_traj.df['direction'][i], 'LastTrackdt': my_traj.df['LastTrackdt'][i], 'location.coordinates.lon': my_traj.df['location.coordinates.lon'][i], 'location.coordinates.lat': my_traj.df['location.coordinates.lat'][i]}, ignore_index=True)\n",
      "C:\\Users\\dusng\\AppData\\Local\\Temp\\ipykernel_13952\\1444390592.py:7: FutureWarning: The frame.append method is deprecated and will be removed from pandas in a future version. Use pandas.concat instead.\n",
      "  route_changed = route_changed.append({'direction': my_traj.df['direction'][i], 'LastTrackdt': my_traj.df['LastTrackdt'][i], 'location.coordinates.lon': my_traj.df['location.coordinates.lon'][i], 'location.coordinates.lat': my_traj.df['location.coordinates.lat'][i]}, ignore_index=True)\n",
      "C:\\Users\\dusng\\AppData\\Local\\Temp\\ipykernel_13952\\1444390592.py:7: FutureWarning: The frame.append method is deprecated and will be removed from pandas in a future version. Use pandas.concat instead.\n",
      "  route_changed = route_changed.append({'direction': my_traj.df['direction'][i], 'LastTrackdt': my_traj.df['LastTrackdt'][i], 'location.coordinates.lon': my_traj.df['location.coordinates.lon'][i], 'location.coordinates.lat': my_traj.df['location.coordinates.lat'][i]}, ignore_index=True)\n",
      "C:\\Users\\dusng\\AppData\\Local\\Temp\\ipykernel_13952\\1444390592.py:7: FutureWarning: The frame.append method is deprecated and will be removed from pandas in a future version. Use pandas.concat instead.\n",
      "  route_changed = route_changed.append({'direction': my_traj.df['direction'][i], 'LastTrackdt': my_traj.df['LastTrackdt'][i], 'location.coordinates.lon': my_traj.df['location.coordinates.lon'][i], 'location.coordinates.lat': my_traj.df['location.coordinates.lat'][i]}, ignore_index=True)\n",
      "C:\\Users\\dusng\\AppData\\Local\\Temp\\ipykernel_13952\\1444390592.py:7: FutureWarning: The frame.append method is deprecated and will be removed from pandas in a future version. Use pandas.concat instead.\n",
      "  route_changed = route_changed.append({'direction': my_traj.df['direction'][i], 'LastTrackdt': my_traj.df['LastTrackdt'][i], 'location.coordinates.lon': my_traj.df['location.coordinates.lon'][i], 'location.coordinates.lat': my_traj.df['location.coordinates.lat'][i]}, ignore_index=True)\n",
      "C:\\Users\\dusng\\AppData\\Local\\Temp\\ipykernel_13952\\1444390592.py:7: FutureWarning: The frame.append method is deprecated and will be removed from pandas in a future version. Use pandas.concat instead.\n",
      "  route_changed = route_changed.append({'direction': my_traj.df['direction'][i], 'LastTrackdt': my_traj.df['LastTrackdt'][i], 'location.coordinates.lon': my_traj.df['location.coordinates.lon'][i], 'location.coordinates.lat': my_traj.df['location.coordinates.lat'][i]}, ignore_index=True)\n",
      "C:\\Users\\dusng\\AppData\\Local\\Temp\\ipykernel_13952\\1444390592.py:7: FutureWarning: The frame.append method is deprecated and will be removed from pandas in a future version. Use pandas.concat instead.\n",
      "  route_changed = route_changed.append({'direction': my_traj.df['direction'][i], 'LastTrackdt': my_traj.df['LastTrackdt'][i], 'location.coordinates.lon': my_traj.df['location.coordinates.lon'][i], 'location.coordinates.lat': my_traj.df['location.coordinates.lat'][i]}, ignore_index=True)\n",
      "C:\\Users\\dusng\\AppData\\Local\\Temp\\ipykernel_13952\\1444390592.py:7: FutureWarning: The frame.append method is deprecated and will be removed from pandas in a future version. Use pandas.concat instead.\n",
      "  route_changed = route_changed.append({'direction': my_traj.df['direction'][i], 'LastTrackdt': my_traj.df['LastTrackdt'][i], 'location.coordinates.lon': my_traj.df['location.coordinates.lon'][i], 'location.coordinates.lat': my_traj.df['location.coordinates.lat'][i]}, ignore_index=True)\n",
      "C:\\Users\\dusng\\AppData\\Local\\Temp\\ipykernel_13952\\1444390592.py:7: FutureWarning: The frame.append method is deprecated and will be removed from pandas in a future version. Use pandas.concat instead.\n",
      "  route_changed = route_changed.append({'direction': my_traj.df['direction'][i], 'LastTrackdt': my_traj.df['LastTrackdt'][i], 'location.coordinates.lon': my_traj.df['location.coordinates.lon'][i], 'location.coordinates.lat': my_traj.df['location.coordinates.lat'][i]}, ignore_index=True)\n",
      "C:\\Users\\dusng\\AppData\\Local\\Temp\\ipykernel_13952\\1444390592.py:7: FutureWarning: The frame.append method is deprecated and will be removed from pandas in a future version. Use pandas.concat instead.\n",
      "  route_changed = route_changed.append({'direction': my_traj.df['direction'][i], 'LastTrackdt': my_traj.df['LastTrackdt'][i], 'location.coordinates.lon': my_traj.df['location.coordinates.lon'][i], 'location.coordinates.lat': my_traj.df['location.coordinates.lat'][i]}, ignore_index=True)\n",
      "C:\\Users\\dusng\\AppData\\Local\\Temp\\ipykernel_13952\\1444390592.py:7: FutureWarning: The frame.append method is deprecated and will be removed from pandas in a future version. Use pandas.concat instead.\n",
      "  route_changed = route_changed.append({'direction': my_traj.df['direction'][i], 'LastTrackdt': my_traj.df['LastTrackdt'][i], 'location.coordinates.lon': my_traj.df['location.coordinates.lon'][i], 'location.coordinates.lat': my_traj.df['location.coordinates.lat'][i]}, ignore_index=True)\n",
      "C:\\Users\\dusng\\AppData\\Local\\Temp\\ipykernel_13952\\1444390592.py:7: FutureWarning: The frame.append method is deprecated and will be removed from pandas in a future version. Use pandas.concat instead.\n",
      "  route_changed = route_changed.append({'direction': my_traj.df['direction'][i], 'LastTrackdt': my_traj.df['LastTrackdt'][i], 'location.coordinates.lon': my_traj.df['location.coordinates.lon'][i], 'location.coordinates.lat': my_traj.df['location.coordinates.lat'][i]}, ignore_index=True)\n",
      "C:\\Users\\dusng\\AppData\\Local\\Temp\\ipykernel_13952\\1444390592.py:7: FutureWarning: The frame.append method is deprecated and will be removed from pandas in a future version. Use pandas.concat instead.\n",
      "  route_changed = route_changed.append({'direction': my_traj.df['direction'][i], 'LastTrackdt': my_traj.df['LastTrackdt'][i], 'location.coordinates.lon': my_traj.df['location.coordinates.lon'][i], 'location.coordinates.lat': my_traj.df['location.coordinates.lat'][i]}, ignore_index=True)\n",
      "C:\\Users\\dusng\\AppData\\Local\\Temp\\ipykernel_13952\\1444390592.py:7: FutureWarning: The frame.append method is deprecated and will be removed from pandas in a future version. Use pandas.concat instead.\n",
      "  route_changed = route_changed.append({'direction': my_traj.df['direction'][i], 'LastTrackdt': my_traj.df['LastTrackdt'][i], 'location.coordinates.lon': my_traj.df['location.coordinates.lon'][i], 'location.coordinates.lat': my_traj.df['location.coordinates.lat'][i]}, ignore_index=True)\n",
      "C:\\Users\\dusng\\AppData\\Local\\Temp\\ipykernel_13952\\1444390592.py:7: FutureWarning: The frame.append method is deprecated and will be removed from pandas in a future version. Use pandas.concat instead.\n",
      "  route_changed = route_changed.append({'direction': my_traj.df['direction'][i], 'LastTrackdt': my_traj.df['LastTrackdt'][i], 'location.coordinates.lon': my_traj.df['location.coordinates.lon'][i], 'location.coordinates.lat': my_traj.df['location.coordinates.lat'][i]}, ignore_index=True)\n"
     ]
    },
    {
     "data": {
      "text/html": [
       "<div style=\"width:100%;\"><div style=\"position:relative;width:100%;height:0;padding-bottom:60%;\"><span style=\"color:#565656\">Make this Notebook Trusted to load map: File -> Trust Notebook</span><iframe srcdoc=\"&lt;!DOCTYPE html&gt;\n",
       "&lt;html&gt;\n",
       "&lt;head&gt;\n",
       "    \n",
       "    &lt;meta http-equiv=&quot;content-type&quot; content=&quot;text/html; charset=UTF-8&quot; /&gt;\n",
       "    \n",
       "        &lt;script&gt;\n",
       "            L_NO_TOUCH = false;\n",
       "            L_DISABLE_3D = false;\n",
       "        &lt;/script&gt;\n",
       "    \n",
       "    &lt;style&gt;html, body {width: 100%;height: 100%;margin: 0;padding: 0;}&lt;/style&gt;\n",
       "    &lt;style&gt;#map {position:absolute;top:0;bottom:0;right:0;left:0;}&lt;/style&gt;\n",
       "    &lt;script src=&quot;https://cdn.jsdelivr.net/npm/leaflet@1.9.3/dist/leaflet.js&quot;&gt;&lt;/script&gt;\n",
       "    &lt;script src=&quot;https://code.jquery.com/jquery-1.12.4.min.js&quot;&gt;&lt;/script&gt;\n",
       "    &lt;script src=&quot;https://cdn.jsdelivr.net/npm/bootstrap@5.2.2/dist/js/bootstrap.bundle.min.js&quot;&gt;&lt;/script&gt;\n",
       "    &lt;script src=&quot;https://cdnjs.cloudflare.com/ajax/libs/Leaflet.awesome-markers/2.0.2/leaflet.awesome-markers.js&quot;&gt;&lt;/script&gt;\n",
       "    &lt;link rel=&quot;stylesheet&quot; href=&quot;https://cdn.jsdelivr.net/npm/leaflet@1.9.3/dist/leaflet.css&quot;/&gt;\n",
       "    &lt;link rel=&quot;stylesheet&quot; href=&quot;https://cdn.jsdelivr.net/npm/bootstrap@5.2.2/dist/css/bootstrap.min.css&quot;/&gt;\n",
       "    &lt;link rel=&quot;stylesheet&quot; href=&quot;https://netdna.bootstrapcdn.com/bootstrap/3.0.0/css/bootstrap.min.css&quot;/&gt;\n",
       "    &lt;link rel=&quot;stylesheet&quot; href=&quot;https://cdn.jsdelivr.net/npm/@fortawesome/fontawesome-free@6.2.0/css/all.min.css&quot;/&gt;\n",
       "    &lt;link rel=&quot;stylesheet&quot; href=&quot;https://cdnjs.cloudflare.com/ajax/libs/Leaflet.awesome-markers/2.0.2/leaflet.awesome-markers.css&quot;/&gt;\n",
       "    &lt;link rel=&quot;stylesheet&quot; href=&quot;https://cdn.jsdelivr.net/gh/python-visualization/folium/folium/templates/leaflet.awesome.rotate.min.css&quot;/&gt;\n",
       "    \n",
       "            &lt;meta name=&quot;viewport&quot; content=&quot;width=device-width,\n",
       "                initial-scale=1.0, maximum-scale=1.0, user-scalable=no&quot; /&gt;\n",
       "            &lt;style&gt;\n",
       "                #map_fa2e3912e827d1ad3dce6f35293ca647 {\n",
       "                    position: relative;\n",
       "                    width: 100.0%;\n",
       "                    height: 100.0%;\n",
       "                    left: 0.0%;\n",
       "                    top: 0.0%;\n",
       "                }\n",
       "                .leaflet-container { font-size: 1rem; }\n",
       "            &lt;/style&gt;\n",
       "        \n",
       "    \n",
       "                    &lt;style&gt;\n",
       "                        .foliumtooltip {\n",
       "                            \n",
       "                        }\n",
       "                       .foliumtooltip table{\n",
       "                            margin: auto;\n",
       "                        }\n",
       "                        .foliumtooltip tr{\n",
       "                            text-align: left;\n",
       "                        }\n",
       "                        .foliumtooltip th{\n",
       "                            padding: 2px; padding-right: 8px;\n",
       "                        }\n",
       "                    &lt;/style&gt;\n",
       "            \n",
       "&lt;/head&gt;\n",
       "&lt;body&gt;\n",
       "    \n",
       "    \n",
       "            &lt;div class=&quot;folium-map&quot; id=&quot;map_fa2e3912e827d1ad3dce6f35293ca647&quot; &gt;&lt;/div&gt;\n",
       "        \n",
       "&lt;/body&gt;\n",
       "&lt;script&gt;\n",
       "    \n",
       "    \n",
       "            var map_fa2e3912e827d1ad3dce6f35293ca647 = L.map(\n",
       "                &quot;map_fa2e3912e827d1ad3dce6f35293ca647&quot;,\n",
       "                {\n",
       "                    center: [19.165109575, 73.0079758335],\n",
       "                    crs: L.CRS.EPSG3857,\n",
       "                    zoom: 10,\n",
       "                    zoomControl: true,\n",
       "                    preferCanvas: false,\n",
       "                }\n",
       "            );\n",
       "            L.control.scale().addTo(map_fa2e3912e827d1ad3dce6f35293ca647);\n",
       "\n",
       "            \n",
       "\n",
       "        \n",
       "    \n",
       "            var tile_layer_e7d34eb0973bf14984f47cd4868bd6df = L.tileLayer(\n",
       "                &quot;https://{s}.tile.openstreetmap.org/{z}/{x}/{y}.png&quot;,\n",
       "                {&quot;attribution&quot;: &quot;Data by \\u0026copy; \\u003ca target=\\&quot;_blank\\&quot; href=\\&quot;http://openstreetmap.org\\&quot;\\u003eOpenStreetMap\\u003c/a\\u003e, under \\u003ca target=\\&quot;_blank\\&quot; href=\\&quot;http://www.openstreetmap.org/copyright\\&quot;\\u003eODbL\\u003c/a\\u003e.&quot;, &quot;detectRetina&quot;: false, &quot;maxNativeZoom&quot;: 18, &quot;maxZoom&quot;: 18, &quot;minZoom&quot;: 0, &quot;noWrap&quot;: false, &quot;opacity&quot;: 1, &quot;subdomains&quot;: &quot;abc&quot;, &quot;tms&quot;: false}\n",
       "            ).addTo(map_fa2e3912e827d1ad3dce6f35293ca647);\n",
       "        \n",
       "    \n",
       "            map_fa2e3912e827d1ad3dce6f35293ca647.fitBounds(\n",
       "                [[19.06393433, 72.9692805], [19.26628482, 73.046671167]],\n",
       "                {}\n",
       "            );\n",
       "        \n",
       "    \n",
       "        function geo_json_0fbca005931b3a17cedb1e56cf445ae5_styler(feature) {\n",
       "            switch(feature.id) {\n",
       "                default:\n",
       "                    return {&quot;fillOpacity&quot;: 0.5, &quot;weight&quot;: 2};\n",
       "            }\n",
       "        }\n",
       "        function geo_json_0fbca005931b3a17cedb1e56cf445ae5_highlighter(feature) {\n",
       "            switch(feature.id) {\n",
       "                default:\n",
       "                    return {&quot;fillOpacity&quot;: 0.75};\n",
       "            }\n",
       "        }\n",
       "        function geo_json_0fbca005931b3a17cedb1e56cf445ae5_pointToLayer(feature, latlng) {\n",
       "            var opts = {&quot;bubblingMouseEvents&quot;: true, &quot;color&quot;: &quot;#3388ff&quot;, &quot;dashArray&quot;: null, &quot;dashOffset&quot;: null, &quot;fill&quot;: true, &quot;fillColor&quot;: &quot;#3388ff&quot;, &quot;fillOpacity&quot;: 0.2, &quot;fillRule&quot;: &quot;evenodd&quot;, &quot;lineCap&quot;: &quot;round&quot;, &quot;lineJoin&quot;: &quot;round&quot;, &quot;opacity&quot;: 1.0, &quot;radius&quot;: 2, &quot;stroke&quot;: true, &quot;weight&quot;: 3};\n",
       "            \n",
       "            let style = geo_json_0fbca005931b3a17cedb1e56cf445ae5_styler(feature)\n",
       "            Object.assign(opts, style)\n",
       "            \n",
       "            return new L.CircleMarker(latlng, opts)\n",
       "        }\n",
       "\n",
       "        function geo_json_0fbca005931b3a17cedb1e56cf445ae5_onEachFeature(feature, layer) {\n",
       "            layer.on({\n",
       "                mouseout: function(e) {\n",
       "                    if(typeof e.target.setStyle === &quot;function&quot;){\n",
       "                        geo_json_0fbca005931b3a17cedb1e56cf445ae5.resetStyle(e.target);\n",
       "                    }\n",
       "                },\n",
       "                mouseover: function(e) {\n",
       "                    if(typeof e.target.setStyle === &quot;function&quot;){\n",
       "                        const highlightStyle = geo_json_0fbca005931b3a17cedb1e56cf445ae5_highlighter(e.target.feature)\n",
       "                        e.target.setStyle(highlightStyle);\n",
       "                    }\n",
       "                },\n",
       "            });\n",
       "        };\n",
       "        var geo_json_0fbca005931b3a17cedb1e56cf445ae5 = L.geoJson(null, {\n",
       "                onEachFeature: geo_json_0fbca005931b3a17cedb1e56cf445ae5_onEachFeature,\n",
       "            \n",
       "                style: geo_json_0fbca005931b3a17cedb1e56cf445ae5_styler,\n",
       "                pointToLayer: geo_json_0fbca005931b3a17cedb1e56cf445ae5_pointToLayer\n",
       "        });\n",
       "\n",
       "        function geo_json_0fbca005931b3a17cedb1e56cf445ae5_add (data) {\n",
       "            geo_json_0fbca005931b3a17cedb1e56cf445ae5\n",
       "                .addData(data)\n",
       "                .addTo(map_fa2e3912e827d1ad3dce6f35293ca647);\n",
       "        }\n",
       "            geo_json_0fbca005931b3a17cedb1e56cf445ae5_add({&quot;bbox&quot;: [72.9692805, 19.06393433, 73.046671167, 19.26628482], &quot;features&quot;: [{&quot;bbox&quot;: [72.9693133, 19.26623735, 72.9693133, 19.26623735], &quot;geometry&quot;: {&quot;coordinates&quot;: [72.9693133, 19.26623735], &quot;type&quot;: &quot;Point&quot;}, &quot;id&quot;: &quot;0&quot;, &quot;properties&quot;: {&quot;LastTrackdt&quot;: &quot;2022-12-18T22:05:22.000Z&quot;, &quot;direction&quot;: 53.48050223373946, &quot;location.coordinates.lat&quot;: &quot;19.26623735&quot;, &quot;location.coordinates.lon&quot;: &quot;72.9693133&quot;}, &quot;type&quot;: &quot;Feature&quot;}, {&quot;bbox&quot;: [72.9692805, 19.26628482, 72.9692805, 19.26628482], &quot;geometry&quot;: {&quot;coordinates&quot;: [72.9692805, 19.26628482], &quot;type&quot;: &quot;Point&quot;}, &quot;id&quot;: &quot;1&quot;, &quot;properties&quot;: {&quot;LastTrackdt&quot;: &quot;2022-12-18T22:07:56.000Z&quot;, &quot;direction&quot;: 104.3195154796515, &quot;location.coordinates.lat&quot;: &quot;19.26628482&quot;, &quot;location.coordinates.lon&quot;: &quot;72.9692805&quot;}, &quot;type&quot;: &quot;Feature&quot;}, {&quot;bbox&quot;: [73.0065948335, 19.21234034, 73.0065948335, 19.21234034], &quot;geometry&quot;: {&quot;coordinates&quot;: [73.0065948335, 19.21234034], &quot;type&quot;: &quot;Point&quot;}, &quot;id&quot;: &quot;2&quot;, &quot;properties&quot;: {&quot;LastTrackdt&quot;: &quot;2022-12-20T16:07:22.000Z&quot;, &quot;direction&quot;: 35.90358999174066, &quot;location.coordinates.lat&quot;: &quot;19.21234034&quot;, &quot;location.coordinates.lon&quot;: &quot;73.0065948335&quot;}, &quot;type&quot;: &quot;Feature&quot;}, {&quot;bbox&quot;: [73.046671167, 19.15580817, 73.046671167, 19.15580817], &quot;geometry&quot;: {&quot;coordinates&quot;: [73.046671167, 19.15580817], &quot;type&quot;: &quot;Point&quot;}, &quot;id&quot;: &quot;3&quot;, &quot;properties&quot;: {&quot;LastTrackdt&quot;: &quot;2022-12-20T16:57:04.000Z&quot;, &quot;direction&quot;: 5.792275107158048, &quot;location.coordinates.lat&quot;: &quot;19.15580817&quot;, &quot;location.coordinates.lon&quot;: &quot;73.046671167&quot;}, &quot;type&quot;: &quot;Feature&quot;}, {&quot;bbox&quot;: [73.0461995, 19.16054484, 73.0461995, 19.16054484], &quot;geometry&quot;: {&quot;coordinates&quot;: [73.0461995, 19.16054484], &quot;type&quot;: &quot;Point&quot;}, &quot;id&quot;: &quot;4&quot;, &quot;properties&quot;: {&quot;LastTrackdt&quot;: &quot;2022-12-20T16:59:06.000Z&quot;, &quot;direction&quot;: 2.219100576455901, &quot;location.coordinates.lat&quot;: &quot;19.16054484&quot;, &quot;location.coordinates.lon&quot;: &quot;73.0461995&quot;}, &quot;type&quot;: &quot;Feature&quot;}, {&quot;bbox&quot;: [73.046172, 19.16122934, 73.046172, 19.16122934], &quot;geometry&quot;: {&quot;coordinates&quot;: [73.046172, 19.16122934], &quot;type&quot;: &quot;Point&quot;}, &quot;id&quot;: &quot;5&quot;, &quot;properties&quot;: {&quot;LastTrackdt&quot;: &quot;2022-12-20T16:59:36.000Z&quot;, &quot;direction&quot;: 0.6676946631567944, &quot;location.coordinates.lat&quot;: &quot;19.16122934&quot;, &quot;location.coordinates.lon&quot;: &quot;73.046172&quot;}, &quot;type&quot;: &quot;Feature&quot;}, {&quot;bbox&quot;: [73.046525337, 19.16646351, 73.046525337, 19.16646351], &quot;geometry&quot;: {&quot;coordinates&quot;: [73.046525337, 19.16646351], &quot;type&quot;: &quot;Point&quot;}, &quot;id&quot;: &quot;6&quot;, &quot;properties&quot;: {&quot;LastTrackdt&quot;: &quot;2022-12-20T17:01:33.000Z&quot;, &quot;direction&quot;: 4.89551482530743, &quot;location.coordinates.lat&quot;: &quot;19.16646351&quot;, &quot;location.coordinates.lon&quot;: &quot;73.046525337&quot;}, &quot;type&quot;: &quot;Feature&quot;}, {&quot;bbox&quot;: [73.042819165, 19.18439235, 73.042819165, 19.18439235], &quot;geometry&quot;: {&quot;coordinates&quot;: [73.042819165, 19.18439235], &quot;type&quot;: &quot;Point&quot;}, &quot;id&quot;: &quot;7&quot;, &quot;properties&quot;: {&quot;LastTrackdt&quot;: &quot;2022-12-20T17:09:16.000Z&quot;, &quot;direction&quot;: 56.59281506128855, &quot;location.coordinates.lat&quot;: &quot;19.18439235&quot;, &quot;location.coordinates.lon&quot;: &quot;73.042819165&quot;}, &quot;type&quot;: &quot;Feature&quot;}, {&quot;bbox&quot;: [73.027710833, 19.07291717, 73.027710833, 19.07291717], &quot;geometry&quot;: {&quot;coordinates&quot;: [73.027710833, 19.07291717], &quot;type&quot;: &quot;Point&quot;}, &quot;id&quot;: &quot;8&quot;, &quot;properties&quot;: {&quot;LastTrackdt&quot;: &quot;2022-12-20T18:05:35.000Z&quot;, &quot;direction&quot;: 60.94069535906965, &quot;location.coordinates.lat&quot;: &quot;19.07291717&quot;, &quot;location.coordinates.lon&quot;: &quot;73.027710833&quot;}, &quot;type&quot;: &quot;Feature&quot;}, {&quot;bbox&quot;: [73.027937332, 19.07081734, 73.027937332, 19.07081734], &quot;geometry&quot;: {&quot;coordinates&quot;: [73.027937332, 19.07081734], &quot;type&quot;: &quot;Point&quot;}, &quot;id&quot;: &quot;9&quot;, &quot;properties&quot;: {&quot;LastTrackdt&quot;: &quot;2022-12-20T18:13:06.000Z&quot;, &quot;direction&quot;: 149.07393298426598, &quot;location.coordinates.lat&quot;: &quot;19.07081734&quot;, &quot;location.coordinates.lon&quot;: &quot;73.027937332&quot;}, &quot;type&quot;: &quot;Feature&quot;}, {&quot;bbox&quot;: [73.019946834, 19.066162, 73.019946834, 19.066162], &quot;geometry&quot;: {&quot;coordinates&quot;: [73.019946834, 19.066162], &quot;type&quot;: &quot;Point&quot;}, &quot;id&quot;: &quot;10&quot;, &quot;properties&quot;: {&quot;LastTrackdt&quot;: &quot;2022-12-20T18:22:24.000Z&quot;, &quot;direction&quot;: 4.197420188743706, &quot;location.coordinates.lat&quot;: &quot;19.066162&quot;, &quot;location.coordinates.lon&quot;: &quot;73.019946834&quot;}, &quot;type&quot;: &quot;Feature&quot;}, {&quot;bbox&quot;: [73.009058333, 19.06868, 73.009058333, 19.06868], &quot;geometry&quot;: {&quot;coordinates&quot;: [73.009058333, 19.06868], &quot;type&quot;: &quot;Point&quot;}, &quot;id&quot;: &quot;11&quot;, &quot;properties&quot;: {&quot;LastTrackdt&quot;: &quot;2022-12-20T18:27:43.000Z&quot;, &quot;direction&quot;: 4.277365230544262, &quot;location.coordinates.lat&quot;: &quot;19.06868&quot;, &quot;location.coordinates.lon&quot;: &quot;73.009058333&quot;}, &quot;type&quot;: &quot;Feature&quot;}, {&quot;bbox&quot;: [73.009374334, 19.07321717, 73.009374334, 19.07321717], &quot;geometry&quot;: {&quot;coordinates&quot;: [73.009374334, 19.07321717], &quot;type&quot;: &quot;Point&quot;}, &quot;id&quot;: &quot;12&quot;, &quot;properties&quot;: {&quot;LastTrackdt&quot;: &quot;2022-12-20T18:30:36.000Z&quot;, &quot;direction&quot;: 3.461553100184517, &quot;location.coordinates.lat&quot;: &quot;19.07321717&quot;, &quot;location.coordinates.lon&quot;: &quot;73.009374334&quot;}, &quot;type&quot;: &quot;Feature&quot;}, {&quot;bbox&quot;: [72.9979355, 19.06394917, 72.9979355, 19.06394917], &quot;geometry&quot;: {&quot;coordinates&quot;: [72.9979355, 19.06394917], &quot;type&quot;: &quot;Point&quot;}, &quot;id&quot;: &quot;13&quot;, &quot;properties&quot;: {&quot;LastTrackdt&quot;: &quot;2022-12-20T18:52:41.000Z&quot;, &quot;direction&quot;: 32.888248259521674, &quot;location.coordinates.lat&quot;: &quot;19.06394917&quot;, &quot;location.coordinates.lon&quot;: &quot;72.9979355&quot;}, &quot;type&quot;: &quot;Feature&quot;}, {&quot;bbox&quot;: [72.99794567, 19.06393433, 72.99794567, 19.06393433], &quot;geometry&quot;: {&quot;coordinates&quot;: [72.99794567, 19.06393433], &quot;type&quot;: &quot;Point&quot;}, &quot;id&quot;: &quot;14&quot;, &quot;properties&quot;: {&quot;LastTrackdt&quot;: &quot;2022-12-20T18:58:24.000Z&quot;, &quot;direction&quot;: 35.854748331118174, &quot;location.coordinates.lat&quot;: &quot;19.06393433&quot;, &quot;location.coordinates.lon&quot;: &quot;72.99794567&quot;}, &quot;type&quot;: &quot;Feature&quot;}, {&quot;bbox&quot;: [73.0023085, 19.07421584, 73.0023085, 19.07421584], &quot;geometry&quot;: {&quot;coordinates&quot;: [73.0023085, 19.07421584], &quot;type&quot;: &quot;Point&quot;}, &quot;id&quot;: &quot;15&quot;, &quot;properties&quot;: {&quot;LastTrackdt&quot;: &quot;2022-12-20T19:12:42.000Z&quot;, &quot;direction&quot;: 96.26926156444136, &quot;location.coordinates.lat&quot;: &quot;19.07421584&quot;, &quot;location.coordinates.lon&quot;: &quot;73.0023085&quot;}, &quot;type&quot;: &quot;Feature&quot;}, {&quot;bbox&quot;: [73.009151666, 19.07364984, 73.009151666, 19.07364984], &quot;geometry&quot;: {&quot;coordinates&quot;: [73.009151666, 19.07364984], &quot;type&quot;: &quot;Point&quot;}, &quot;id&quot;: &quot;16&quot;, &quot;properties&quot;: {&quot;LastTrackdt&quot;: &quot;2022-12-20T19:15:44.000Z&quot;, &quot;direction&quot;: 108.01714348278256, &quot;location.coordinates.lat&quot;: &quot;19.07364984&quot;, &quot;location.coordinates.lon&quot;: &quot;73.009151666&quot;}, &quot;type&quot;: &quot;Feature&quot;}, {&quot;bbox&quot;: [73.027720166, 19.07151217, 73.027720166, 19.07151217], &quot;geometry&quot;: {&quot;coordinates&quot;: [73.027720166, 19.07151217], &quot;type&quot;: &quot;Point&quot;}, &quot;id&quot;: &quot;17&quot;, &quot;properties&quot;: {&quot;LastTrackdt&quot;: &quot;2022-12-20T19:24:50.000Z&quot;, &quot;direction&quot;: 5.314808280148384, &quot;location.coordinates.lat&quot;: &quot;19.07151217&quot;, &quot;location.coordinates.lon&quot;: &quot;73.027720166&quot;}, &quot;type&quot;: &quot;Feature&quot;}], &quot;type&quot;: &quot;FeatureCollection&quot;});\n",
       "\n",
       "        \n",
       "    \n",
       "    geo_json_0fbca005931b3a17cedb1e56cf445ae5.bindTooltip(\n",
       "    function(layer){\n",
       "    let div = L.DomUtil.create(&#x27;div&#x27;);\n",
       "    \n",
       "    let handleObject = feature=&gt;typeof(feature)==&#x27;object&#x27; ? JSON.stringify(feature) : feature;\n",
       "    let fields = [&quot;direction&quot;, &quot;LastTrackdt&quot;, &quot;location.coordinates.lon&quot;, &quot;location.coordinates.lat&quot;];\n",
       "    let aliases = [&quot;direction&quot;, &quot;LastTrackdt&quot;, &quot;location.coordinates.lon&quot;, &quot;location.coordinates.lat&quot;];\n",
       "    let table = &#x27;&lt;table&gt;&#x27; +\n",
       "        String(\n",
       "        fields.map(\n",
       "        (v,i)=&gt;\n",
       "        `&lt;tr&gt;\n",
       "            &lt;th&gt;${aliases[i]}&lt;/th&gt;\n",
       "            \n",
       "            &lt;td&gt;${handleObject(layer.feature.properties[v])}&lt;/td&gt;\n",
       "        &lt;/tr&gt;`).join(&#x27;&#x27;))\n",
       "    +&#x27;&lt;/table&gt;&#x27;;\n",
       "    div.innerHTML=table;\n",
       "    \n",
       "    return div\n",
       "    }\n",
       "    ,{&quot;className&quot;: &quot;foliumtooltip&quot;, &quot;sticky&quot;: true});\n",
       "                     \n",
       "&lt;/script&gt;\n",
       "&lt;/html&gt;\" style=\"position:absolute;width:100%;height:100%;left:0;top:0;border:none !important;\" allowfullscreen webkitallowfullscreen mozallowfullscreen></iframe></div></div>"
      ],
      "text/plain": [
       "<folium.folium.Map at 0x1e253637b80>"
      ]
     },
     "execution_count": 4,
     "metadata": {},
     "output_type": "execute_result"
    }
   ],
   "source": [
    "my_traj.add_direction(overwrite=True)\n",
    "route_changed = pd.DataFrame(columns=['direction', 'LastTrackdt', 'location.coordinates.lon', 'location.coordinates.lat'])\n",
    "\n",
    "for i in range(0,len(my_traj.df)-6):\n",
    "    direction_difference = my_traj.df['direction'][i+1] - my_traj.df['direction'][i]\n",
    "    if direction_difference > 160:\n",
    "        route_changed = route_changed.append({'direction': my_traj.df['direction'][i], 'LastTrackdt': my_traj.df['LastTrackdt'][i], 'location.coordinates.lon': my_traj.df['location.coordinates.lon'][i], 'location.coordinates.lat': my_traj.df['location.coordinates.lat'][i]}, ignore_index=True)\n",
    "# my_traj.df['speed']\n",
    "# my_traj.df.directionsss.plot()\n",
    "# my_traj.hvplot(c='directionsss', clim=(-360,360), line_width=7.0, tiles='OSM', cmap='Viridis', colorbar=True)\n",
    "# print(my_traj.df.directionsss)\n",
    "route_changedgpd = gpd.GeoDataFrame(route_changed, geometry=gpd.points_from_xy(route_changed['location.coordinates.lon'], route_changed['location.coordinates.lat']))\n",
    "route_changedgpd = route_changedgpd.set_crs(4326)\n",
    "route_changedgpd.explore()"
   ]
  },
  {
   "cell_type": "code",
   "execution_count": 5,
   "metadata": {},
   "outputs": [
    {
     "name": "stderr",
     "output_type": "stream",
     "text": [
      "c:\\Users\\dusng\\mambaforge\\lib\\site-packages\\geopandas\\array.py:1406: UserWarning: CRS not set for some of the concatenation inputs. Setting output's CRS as WGS 84 (the single non-null crs provided).\n",
      "  warnings.warn(\n"
     ]
    },
    {
     "ename": "AttributeError",
     "evalue": "'Series' object has no attribute 'hvplot'",
     "output_type": "error",
     "traceback": [
      "\u001b[1;31m---------------------------------------------------------------------------\u001b[0m",
      "\u001b[1;31mAttributeError\u001b[0m                            Traceback (most recent call last)",
      "Cell \u001b[1;32mIn[5], line 3\u001b[0m\n\u001b[0;32m      1\u001b[0m my_traj\u001b[39m.\u001b[39madd_speed(overwrite\u001b[39m=\u001b[39m\u001b[39mTrue\u001b[39;00m)\n\u001b[1;32m----> 3\u001b[0m my_traj\u001b[39m.\u001b[39;49mdf\u001b[39m.\u001b[39;49mspeed\u001b[39m.\u001b[39;49mhvplot()\n",
      "File \u001b[1;32mc:\\Users\\dusng\\mambaforge\\lib\\site-packages\\pandas\\core\\generic.py:5902\u001b[0m, in \u001b[0;36mNDFrame.__getattr__\u001b[1;34m(self, name)\u001b[0m\n\u001b[0;32m   5895\u001b[0m \u001b[39mif\u001b[39;00m (\n\u001b[0;32m   5896\u001b[0m     name \u001b[39mnot\u001b[39;00m \u001b[39min\u001b[39;00m \u001b[39mself\u001b[39m\u001b[39m.\u001b[39m_internal_names_set\n\u001b[0;32m   5897\u001b[0m     \u001b[39mand\u001b[39;00m name \u001b[39mnot\u001b[39;00m \u001b[39min\u001b[39;00m \u001b[39mself\u001b[39m\u001b[39m.\u001b[39m_metadata\n\u001b[0;32m   5898\u001b[0m     \u001b[39mand\u001b[39;00m name \u001b[39mnot\u001b[39;00m \u001b[39min\u001b[39;00m \u001b[39mself\u001b[39m\u001b[39m.\u001b[39m_accessors\n\u001b[0;32m   5899\u001b[0m     \u001b[39mand\u001b[39;00m \u001b[39mself\u001b[39m\u001b[39m.\u001b[39m_info_axis\u001b[39m.\u001b[39m_can_hold_identifiers_and_holds_name(name)\n\u001b[0;32m   5900\u001b[0m ):\n\u001b[0;32m   5901\u001b[0m     \u001b[39mreturn\u001b[39;00m \u001b[39mself\u001b[39m[name]\n\u001b[1;32m-> 5902\u001b[0m \u001b[39mreturn\u001b[39;00m \u001b[39mobject\u001b[39;49m\u001b[39m.\u001b[39;49m\u001b[39m__getattribute__\u001b[39;49m(\u001b[39mself\u001b[39;49m, name)\n",
      "\u001b[1;31mAttributeError\u001b[0m: 'Series' object has no attribute 'hvplot'"
     ]
    }
   ],
   "source": [
    "my_traj.add_speed(overwrite=True)\n",
    "\n",
    "my_traj.df.speed.hvplot()\n"
   ]
  },
  {
   "cell_type": "code",
   "execution_count": null,
   "metadata": {},
   "outputs": [],
   "source": [
    "\n",
    "split = mpd.SpeedSplitter(my_traj).split(speed=2.7, duration=timedelta(minutes=10))\n"
   ]
  },
  {
   "cell_type": "code",
   "execution_count": null,
   "metadata": {},
   "outputs": [
    {
     "name": "stdout",
     "output_type": "stream",
     "text": [
      "36819.572717505485\n"
     ]
    },
    {
     "name": "stderr",
     "output_type": "stream",
     "text": [
      "c:\\Users\\dusng\\mambaforge\\lib\\site-packages\\geopandas\\array.py:1406: UserWarning: CRS not set for some of the concatenation inputs. Setting output's CRS as WGS 84 (the single non-null crs provided).\n",
      "  warnings.warn(\n"
     ]
    },
    {
     "data": {},
     "metadata": {},
     "output_type": "display_data"
    },
    {
     "data": {
      "application/vnd.holoviews_exec.v0+json": "",
      "text/html": [
       "<div id='1451'>\n",
       "  <div class=\"bk-root\" id=\"c3e33030-5904-4411-84f3-a1d95933d92d\" data-root-id=\"1451\"></div>\n",
       "</div>\n",
       "<script type=\"application/javascript\">(function(root) {\n",
       "  function embed_document(root) {\n",
       "    var docs_json = {\"75b34baf-5c46-45d9-b076-87a3ecc55e8f\":{\"defs\":[{\"extends\":null,\"module\":null,\"name\":\"ReactiveHTML1\",\"overrides\":[],\"properties\":[]},{\"extends\":null,\"module\":null,\"name\":\"FlexBox1\",\"overrides\":[],\"properties\":[{\"default\":\"flex-start\",\"kind\":null,\"name\":\"align_content\"},{\"default\":\"flex-start\",\"kind\":null,\"name\":\"align_items\"},{\"default\":\"row\",\"kind\":null,\"name\":\"flex_direction\"},{\"default\":\"wrap\",\"kind\":null,\"name\":\"flex_wrap\"},{\"default\":\"flex-start\",\"kind\":null,\"name\":\"justify_content\"}]},{\"extends\":null,\"module\":null,\"name\":\"GridStack1\",\"overrides\":[],\"properties\":[{\"default\":\"warn\",\"kind\":null,\"name\":\"mode\"},{\"default\":null,\"kind\":null,\"name\":\"ncols\"},{\"default\":null,\"kind\":null,\"name\":\"nrows\"},{\"default\":true,\"kind\":null,\"name\":\"allow_resize\"},{\"default\":true,\"kind\":null,\"name\":\"allow_drag\"},{\"default\":[],\"kind\":null,\"name\":\"state\"}]},{\"extends\":null,\"module\":null,\"name\":\"click1\",\"overrides\":[],\"properties\":[{\"default\":\"\",\"kind\":null,\"name\":\"terminal_output\"},{\"default\":\"\",\"kind\":null,\"name\":\"debug_name\"},{\"default\":0,\"kind\":null,\"name\":\"clears\"}]},{\"extends\":null,\"module\":null,\"name\":\"NotificationAreaBase1\",\"overrides\":[],\"properties\":[{\"default\":\"bottom-right\",\"kind\":null,\"name\":\"position\"},{\"default\":0,\"kind\":null,\"name\":\"_clear\"}]},{\"extends\":null,\"module\":null,\"name\":\"NotificationArea1\",\"overrides\":[],\"properties\":[{\"default\":[],\"kind\":null,\"name\":\"notifications\"},{\"default\":\"bottom-right\",\"kind\":null,\"name\":\"position\"},{\"default\":0,\"kind\":null,\"name\":\"_clear\"},{\"default\":[{\"background\":\"#ffc107\",\"icon\":{\"className\":\"fas fa-exclamation-triangle\",\"color\":\"white\",\"tagName\":\"i\"},\"type\":\"warning\"},{\"background\":\"#007bff\",\"icon\":{\"className\":\"fas fa-info-circle\",\"color\":\"white\",\"tagName\":\"i\"},\"type\":\"info\"}],\"kind\":null,\"name\":\"types\"}]},{\"extends\":null,\"module\":null,\"name\":\"Notification\",\"overrides\":[],\"properties\":[{\"default\":null,\"kind\":null,\"name\":\"background\"},{\"default\":3000,\"kind\":null,\"name\":\"duration\"},{\"default\":null,\"kind\":null,\"name\":\"icon\"},{\"default\":\"\",\"kind\":null,\"name\":\"message\"},{\"default\":null,\"kind\":null,\"name\":\"notification_type\"},{\"default\":false,\"kind\":null,\"name\":\"_destroyed\"}]},{\"extends\":null,\"module\":null,\"name\":\"TemplateActions1\",\"overrides\":[],\"properties\":[{\"default\":0,\"kind\":null,\"name\":\"open_modal\"},{\"default\":0,\"kind\":null,\"name\":\"close_modal\"}]},{\"extends\":null,\"module\":null,\"name\":\"MaterialTemplateActions1\",\"overrides\":[],\"properties\":[{\"default\":0,\"kind\":null,\"name\":\"open_modal\"},{\"default\":0,\"kind\":null,\"name\":\"close_modal\"}]}],\"roots\":{\"references\":[{\"attributes\":{\"source\":{\"id\":\"1527\"}},\"id\":\"1534\",\"type\":\"CDSView\"},{\"attributes\":{\"margin\":[5,5,5,5],\"name\":\"HSpacer64153\",\"sizing_mode\":\"stretch_width\"},\"id\":\"1546\",\"type\":\"Spacer\"},{\"attributes\":{},\"id\":\"1543\",\"type\":\"UnionRenderers\"},{\"attributes\":{\"active_scroll\":{\"id\":\"1483\"},\"tools\":[{\"id\":\"1461\"},{\"id\":\"1481\"},{\"id\":\"1482\"},{\"id\":\"1483\"},{\"id\":\"1484\"},{\"id\":\"1485\"}]},\"id\":\"1487\",\"type\":\"Toolbar\"},{\"attributes\":{\"margin\":[5,5,5,5],\"name\":\"HSpacer64152\",\"sizing_mode\":\"stretch_width\"},\"id\":\"1452\",\"type\":\"Spacer\"},{\"attributes\":{\"end\":2187576.9703374654,\"min_interval\":5,\"reset_end\":2187576.9703374654,\"reset_start\":2162502.143851615,\"start\":2162502.143851615,\"tags\":[[[\"Latitude\",\"Latitude\",null]]]},\"id\":\"1458\",\"type\":\"Range1d\"},{\"attributes\":{},\"id\":\"1509\",\"type\":\"AllLabels\"},{\"attributes\":{\"below\":[{\"id\":\"1473\"}],\"center\":[{\"id\":\"1476\"},{\"id\":\"1480\"}],\"frame_height\":600,\"frame_width\":400,\"left\":[{\"id\":\"1477\"}],\"margin\":[5,5,5,5],\"match_aspect\":true,\"min_border_bottom\":10,\"min_border_left\":10,\"min_border_right\":10,\"min_border_top\":10,\"renderers\":[{\"id\":\"1525\"},{\"id\":\"1533\"}],\"sizing_mode\":\"fixed\",\"title\":{\"id\":\"1465\"},\"toolbar\":{\"id\":\"1487\"},\"width\":400,\"x_range\":{\"id\":\"1457\"},\"x_scale\":{\"id\":\"1469\"},\"y_range\":{\"id\":\"1458\"},\"y_scale\":{\"id\":\"1471\"}},\"id\":\"1464\",\"subtype\":\"Figure\",\"type\":\"Plot\"},{\"attributes\":{\"attribution\":\"&copy; <a href=\\\"https://www.openstreetmap.org/copyright\\\">OpenStreetMap</a> contributors\",\"url\":\"https://c.tile.openstreetmap.org/{Z}/{X}/{Y}.png\"},\"id\":\"1522\",\"type\":\"WMTSTileSource\"},{\"attributes\":{\"line_alpha\":{\"value\":0.2},\"line_color\":{\"value\":\"red\"},\"line_width\":{\"value\":5},\"xs\":{\"field\":\"xs\"},\"ys\":{\"field\":\"ys\"}},\"id\":\"1532\",\"type\":\"MultiLine\"},{\"attributes\":{},\"id\":\"1502\",\"type\":\"AllLabels\"},{\"attributes\":{\"children\":[{\"id\":\"1452\"},{\"id\":\"1464\"},{\"id\":\"1546\"}],\"margin\":[0,0,0,0],\"name\":\"Row64148\",\"tags\":[\"embedded\"]},\"id\":\"1451\",\"type\":\"Row\"},{\"attributes\":{\"end\":8135515.218512029,\"min_interval\":5,\"reset_end\":8135515.218512029,\"reset_start\":8118798.667521463,\"start\":8118798.667521463,\"tags\":[[[\"Longitude\",\"Longitude\",null]]]},\"id\":\"1457\",\"type\":\"Range1d\"},{\"attributes\":{\"line_alpha\":{\"value\":0.1},\"line_color\":{\"value\":\"red\"},\"line_width\":{\"value\":5},\"xs\":{\"field\":\"xs\"},\"ys\":{\"field\":\"ys\"}},\"id\":\"1531\",\"type\":\"MultiLine\"},{\"attributes\":{\"axis\":{\"id\":\"1477\"},\"coordinates\":null,\"dimension\":1,\"grid_line_color\":null,\"group\":null,\"ticker\":null},\"id\":\"1480\",\"type\":\"Grid\"},{\"attributes\":{\"dimension\":\"lon\"},\"id\":\"1497\",\"type\":\"MercatorTickFormatter\"},{\"attributes\":{\"line_color\":{\"value\":\"red\"},\"line_width\":{\"value\":5},\"xs\":{\"field\":\"xs\"},\"ys\":{\"field\":\"ys\"}},\"id\":\"1530\",\"type\":\"MultiLine\"},{\"attributes\":{},\"id\":\"1471\",\"type\":\"LinearScale\"},{\"attributes\":{},\"id\":\"1485\",\"type\":\"ResetTool\"},{\"attributes\":{\"axis_label\":\"y\",\"coordinates\":null,\"formatter\":{\"id\":\"1499\"},\"group\":null,\"major_label_policy\":{\"id\":\"1509\"},\"ticker\":{\"id\":\"1498\"}},\"id\":\"1477\",\"type\":\"LinearAxis\"},{\"attributes\":{\"zoom_on_axis\":false},\"id\":\"1483\",\"type\":\"WheelZoomTool\"},{\"attributes\":{\"data\":{\"LastTrackdt\":[\"2022-12-20T15:42:14.000Z\",\"2022-12-20T15:42:24.000Z\",\"2022-12-20T15:42:35.000Z\",\"2022-12-20T15:42:45.000Z\",\"2022-12-20T15:42:55.000Z\",\"2022-12-20T15:43:35.000Z\",\"2022-12-20T15:43:45.000Z\",\"2022-12-20T15:43:55.000Z\",\"2022-12-20T15:44:06.000Z\",\"2022-12-20T15:44:16.000Z\",\"2022-12-20T15:44:26.000Z\",\"2022-12-20T15:44:36.000Z\",\"2022-12-20T15:45:06.000Z\",\"2022-12-20T15:45:11.000Z\",\"2022-12-20T15:45:21.000Z\",\"2022-12-20T15:45:42.000Z\",\"2022-12-20T15:45:52.000Z\",\"2022-12-20T15:46:02.000Z\",\"2022-12-20T15:46:22.000Z\",\"2022-12-20T15:46:42.000Z\",\"2022-12-20T15:47:03.000Z\",\"2022-12-20T15:47:13.000Z\",\"2022-12-20T15:48:03.000Z\",\"2022-12-20T15:48:24.000Z\",\"2022-12-20T15:48:34.000Z\",\"2022-12-20T15:48:44.000Z\",\"2022-12-20T15:49:24.000Z\",\"2022-12-20T15:49:34.000Z\",\"2022-12-20T15:49:55.000Z\",\"2022-12-20T15:50:05.000Z\",\"2022-12-20T15:50:15.000Z\",\"2022-12-20T15:50:25.000Z\",\"2022-12-20T15:50:35.000Z\",\"2022-12-20T15:50:46.000Z\",\"2022-12-20T15:51:06.000Z\",\"2022-12-20T15:51:16.000Z\",\"2022-12-20T15:51:56.000Z\",\"2022-12-20T15:52:06.000Z\",\"2022-12-20T15:52:16.000Z\",\"2022-12-20T15:52:22.000Z\",\"2022-12-20T15:52:42.000Z\",\"2022-12-20T15:52:52.000Z\",\"2022-12-20T15:54:03.000Z\",\"2022-12-20T15:54:13.000Z\",\"2022-12-20T15:54:54.000Z\",\"2022-12-20T15:55:24.000Z\",\"2022-12-20T15:56:45.000Z\",\"2022-12-20T15:56:55.000Z\",\"2022-12-20T15:57:05.000Z\",\"2022-12-20T15:57:55.000Z\",\"2022-12-20T15:58:05.000Z\",\"2022-12-20T15:58:16.000Z\",\"2022-12-20T15:58:26.000Z\",\"2022-12-20T16:01:03.000Z\",\"2022-12-20T16:04:05.000Z\",\"2022-12-20T16:04:56.000Z\",\"2022-12-20T16:05:06.000Z\",\"2022-12-20T16:05:36.000Z\",\"2022-12-20T16:06:42.000Z\",\"2022-12-20T16:07:22.000Z\",\"2022-12-20T16:07:32.000Z\",\"2022-12-20T16:07:42.000Z\",\"2022-12-20T16:08:02.000Z\",\"2022-12-20T16:08:13.000Z\",\"2022-12-20T16:08:43.000Z\",\"2022-12-20T16:09:23.000Z\",\"2022-12-20T16:09:44.000Z\",\"2022-12-20T16:10:24.000Z\",\"2022-12-20T16:10:34.000Z\",\"2022-12-20T16:10:44.000Z\",\"2022-12-20T16:11:05.000Z\",\"2022-12-20T16:11:15.000Z\",\"2022-12-20T16:12:26.000Z\",\"2022-12-20T16:12:56.000Z\",\"2022-12-20T16:13:01.000Z\",\"2022-12-20T16:13:11.000Z\",\"2022-12-20T16:13:27.000Z\",\"2022-12-20T16:13:32.000Z\",\"2022-12-20T16:13:42.000Z\",\"2022-12-20T16:14:43.000Z\",\"2022-12-20T16:15:13.000Z\",\"2022-12-20T16:15:34.000Z\",\"2022-12-20T16:15:44.000Z\",\"2022-12-20T16:15:54.000Z\",\"2022-12-20T16:16:24.000Z\",\"2022-12-20T16:16:35.000Z\",\"2022-12-20T16:16:44.000Z\",\"2022-12-20T16:16:55.000Z\",\"2022-12-20T16:17:05.000Z\",\"2022-12-20T16:17:46.000Z\",\"2022-12-20T16:17:56.000Z\",\"2022-12-20T16:18:22.000Z\",\"2022-12-20T16:21:14.000Z\",\"2022-12-20T16:21:34.000Z\",\"2022-12-20T16:21:44.000Z\",\"2022-12-20T16:21:54.000Z\",\"2022-12-20T16:22:55.000Z\",\"2022-12-20T16:23:05.000Z\",\"2022-12-20T16:23:15.000Z\",\"2022-12-20T16:23:25.000Z\",\"2022-12-20T16:24:06.000Z\",\"2022-12-20T16:24:36.000Z\",\"2022-12-20T16:24:47.000Z\",\"2022-12-20T16:24:52.000Z\",\"2022-12-20T16:25:07.000Z\",\"2022-12-20T16:25:12.000Z\",\"2022-12-20T16:25:32.000Z\",\"2022-12-20T16:25:53.000Z\",\"2022-12-20T16:26:03.000Z\",\"2022-12-20T16:26:13.000Z\",\"2022-12-20T16:26:33.000Z\",\"2022-12-20T16:26:43.000Z\",\"2022-12-20T16:26:53.000Z\",\"2022-12-20T16:27:03.000Z\",\"2022-12-20T16:27:14.000Z\",\"2022-12-20T16:28:04.000Z\",\"2022-12-20T16:28:14.000Z\",\"2022-12-20T16:29:35.000Z\",\"2022-12-20T16:30:42.000Z\",\"2022-12-20T16:31:32.000Z\",\"2022-12-20T16:31:42.000Z\",\"2022-12-20T16:32:13.000Z\",\"2022-12-20T16:32:44.000Z\",\"2022-12-20T16:34:15.000Z\",\"2022-12-20T16:35:05.000Z\",\"2022-12-20T16:35:26.000Z\",\"2022-12-20T16:35:36.000Z\",\"2022-12-20T16:35:45.000Z\",\"2022-12-20T16:36:16.000Z\",\"2022-12-20T16:37:06.000Z\",\"2022-12-20T16:37:12.000Z\",\"2022-12-20T16:37:32.000Z\",\"2022-12-20T16:37:42.000Z\",\"2022-12-20T16:37:52.000Z\",\"2022-12-20T16:38:23.000Z\",\"2022-12-20T16:38:43.000Z\",\"2022-12-20T16:39:03.000Z\",\"2022-12-20T16:39:13.000Z\",\"2022-12-20T16:39:44.000Z\",\"2022-12-20T16:40:14.000Z\",\"2022-12-20T16:40:25.000Z\",\"2022-12-20T16:40:45.000Z\",\"2022-12-20T16:41:05.000Z\",\"2022-12-20T16:41:26.000Z\",\"2022-12-20T16:41:36.000Z\",\"2022-12-20T16:50:14.000Z\",\"2022-12-20T16:50:54.000Z\",\"2022-12-20T16:51:04.000Z\",\"2022-12-20T16:51:15.000Z\",\"2022-12-20T16:51:25.000Z\",\"2022-12-20T16:51:35.000Z\",\"2022-12-20T16:54:07.000Z\",\"2022-12-20T16:54:53.000Z\",\"2022-12-20T16:55:03.000Z\",\"2022-12-20T16:55:13.000Z\",\"2022-12-20T16:55:23.000Z\",\"2022-12-20T16:55:33.000Z\",\"2022-12-20T16:55:43.000Z\",\"2022-12-20T16:56:04.000Z\",\"2022-12-20T16:56:14.000Z\",\"2022-12-20T16:56:24.000Z\",\"2022-12-20T16:57:04.000Z\",\"2022-12-20T16:57:14.000Z\",\"2022-12-20T16:57:24.000Z\",\"2022-12-20T16:57:35.000Z\",\"2022-12-20T16:57:55.000Z\",\"2022-12-20T16:58:05.000Z\",\"2022-12-20T16:58:35.000Z\",\"2022-12-20T16:59:06.000Z\",\"2022-12-20T16:59:16.000Z\",\"2022-12-20T17:00:06.000Z\",\"2022-12-20T17:00:11.000Z\",\"2022-12-20T17:00:42.000Z\",\"2022-12-20T17:00:52.000Z\",\"2022-12-20T17:01:13.000Z\",\"2022-12-20T17:01:23.000Z\",\"2022-12-20T17:01:33.000Z\",\"2022-12-20T17:01:42.000Z\",\"2022-12-20T17:02:13.000Z\",\"2022-12-20T17:02:44.000Z\",\"2022-12-20T17:03:14.000Z\",\"2022-12-20T17:03:24.000Z\",\"2022-12-20T17:03:34.000Z\",\"2022-12-20T17:04:04.000Z\",\"2022-12-20T17:04:15.000Z\",\"2022-12-20T17:04:25.000Z\",\"2022-12-20T17:04:35.000Z\",\"2022-12-20T17:05:05.000Z\",\"2022-12-20T17:05:46.000Z\",\"2022-12-20T17:05:56.000Z\",\"2022-12-20T17:06:02.000Z\",\"2022-12-20T17:06:12.000Z\",\"2022-12-20T17:06:22.000Z\",\"2022-12-20T17:12:23.000Z\",\"2022-12-20T17:12:43.000Z\",\"2022-12-20T17:12:53.000Z\",\"2022-12-20T17:13:03.000Z\",\"2022-12-20T17:13:34.000Z\",\"2022-12-20T17:14:14.000Z\",\"2022-12-20T17:14:24.000Z\",\"2022-12-20T17:14:35.000Z\",\"2022-12-20T17:14:45.000Z\",\"2022-12-20T17:15:36.000Z\",\"2022-12-20T17:16:16.000Z\",\"2022-12-20T17:16:26.000Z\",\"2022-12-20T17:16:36.000Z\",\"2022-12-20T17:16:57.000Z\",\"2022-12-20T17:17:06.000Z\",\"2022-12-20T17:17:21.000Z\",\"2022-12-20T17:17:32.000Z\",\"2022-12-20T17:17:42.000Z\",\"2022-12-20T17:17:52.000Z\",\"2022-12-20T17:18:03.000Z\",\"2022-12-20T17:18:23.000Z\",\"2022-12-20T17:18:58.000Z\",\"2022-12-20T17:19:14.000Z\",\"2022-12-20T17:19:24.000Z\",\"2022-12-20T17:19:54.000Z\",\"2022-12-20T17:20:34.000Z\",\"2022-12-20T17:20:45.000Z\",\"2022-12-20T17:20:55.000Z\",\"2022-12-20T17:21:05.000Z\",\"2022-12-20T17:21:15.000Z\",\"2022-12-20T17:21:35.000Z\",\"2022-12-20T17:21:46.000Z\",\"2022-12-20T17:21:56.000Z\",\"2022-12-20T17:22:26.000Z\",\"2022-12-20T17:22:37.000Z\",\"2022-12-20T17:22:57.000Z\",\"2022-12-20T17:23:02.000Z\",\"2022-12-20T17:23:12.000Z\",\"2022-12-20T17:24:03.000Z\",\"2022-12-20T17:24:44.000Z\",\"2022-12-20T17:25:44.000Z\",\"2022-12-20T17:27:36.000Z\",\"2022-12-20T17:27:46.000Z\",\"2022-12-20T17:28:26.000Z\",\"2022-12-20T17:28:36.000Z\",\"2022-12-20T17:28:57.000Z\",\"2022-12-20T17:29:02.000Z\",\"2022-12-20T17:29:12.000Z\",\"2022-12-20T17:29:22.000Z\",\"2022-12-20T17:30:03.000Z\",\"2022-12-20T17:30:23.000Z\",\"2022-12-20T17:30:33.000Z\",\"2022-12-20T17:30:53.000Z\",\"2022-12-20T17:31:24.000Z\",\"2022-12-20T17:31:34.000Z\",\"2022-12-20T17:31:54.000Z\",\"2022-12-20T17:32:04.000Z\",\"2022-12-20T17:32:14.000Z\",\"2022-12-20T17:32:35.000Z\",\"2022-12-20T17:32:45.000Z\",\"2022-12-20T17:33:25.000Z\",\"2022-12-20T17:33:56.000Z\",\"2022-12-20T17:34:27.000Z\",\"2022-12-20T17:34:37.000Z\",\"2022-12-20T17:34:42.000Z\",\"2022-12-20T17:35:02.000Z\",\"2022-12-20T17:35:22.000Z\",\"2022-12-20T17:35:53.000Z\",\"2022-12-20T17:36:03.000Z\",\"2022-12-20T17:36:44.000Z\",\"2022-12-20T17:37:24.000Z\",\"2022-12-20T17:37:35.000Z\",\"2022-12-20T17:38:15.000Z\",\"2022-12-20T17:39:32.000Z\",\"2022-12-20T17:40:13.000Z\",\"2022-12-20T17:40:33.000Z\",\"2022-12-20T17:40:43.000Z\",\"2022-12-20T17:40:53.000Z\",\"2022-12-20T17:41:24.000Z\",\"2022-12-20T17:41:34.000Z\",\"2022-12-20T17:42:04.000Z\",\"2022-12-20T17:42:14.000Z\",\"2022-12-20T17:42:24.000Z\",\"2022-12-20T17:43:15.000Z\",\"2022-12-20T17:43:25.000Z\",\"2022-12-20T17:44:06.000Z\",\"2022-12-20T17:44:26.000Z\",\"2022-12-20T17:44:36.000Z\",\"2022-12-20T17:45:17.000Z\",\"2022-12-20T17:45:27.000Z\",\"2022-12-20T17:45:47.000Z\",\"2022-12-20T17:45:52.000Z\",\"2022-12-20T17:47:12.000Z\",\"2022-12-20T17:47:53.000Z\",\"2022-12-20T17:48:54.000Z\",\"2022-12-20T17:51:05.000Z\"],\"RouteNo\":{\"__ndarray__\":\"kgAAAJIAAACSAAAAkgAAAJIAAACSAAAAkgAAAAAAAAAAAAAAAAAAAAAAAAAAAAAAAAAAAAAAAAAAAAAAAAAAAAAAAAAAAAAAAAAAAAAAAAAAAAAAAAAAAAAAAAAAAAAAAAAAAAAAAAAAAAAAAAAAAAAAAAAAAAAAAAAAAAAAAAAAAAAAAAAAAAAAAAAAAAAAAAAAAAAAAAAAAAAAAAAAAAAAAAAAAAAAAAAAAAAAAAAAAAAAAAAAAAAAAAAAAAAAAAAAAAAAAAAAAAAAAAAAAAAAAAAAAAAAAAAAAAAAAAAAAAAAAAAAAAAAAAAAAAAAAAAAAAAAAAAAAAAAAAAAAAAAAAAAAAAAAAAAAAAAAAAAAAAAAAAAAAAAAAAAAAAAAAAAAAAAAAAAAAAAAAAAAAAAAAAAAAAAAAAAAAAAAAAAAAAAAAAAAAAAAAAAAAAAAAAAAAAAAAAAAAAAAAAAAAAAAAAAAAAAAAAAAAAAAAAAAAAAAAAAAAAAAAAAAAAAAAAAAAAAAAAAAAAAAAAAAAAAAAAAAAAAAAAAAAAAAAAAAAAAAAAAAAAAAAAAAAAAAAAAAAAAAAAAAAAAAAAAAAAAAAAAAAAAAAAAAAAAAAAAAAAAAAAAAAAAAAAAAAAAAAAAAAAAAAAAAAAAAAAAAAAAAAAAAAAAAAAAAAAAAAAAAAAAAAAAAAAAAAAAAAAAAAAAAAAAAAAAAAAAAAAAAAAAAAAAAAAAAAAAAAAAAAAAAAAAAAAAAAAAAAAAAAAAAAAAAAAAAAAAAAAAAAAAAAAAAAAAAAAAAAAAAAAAAAAAAAAAAAAAAAAAAAAAAAAAAAAAAAAAAAAAAAAAAAAAAAAAAAAAAAAAAAAAAAAAAAAAAAAAAAAAAAAAAAAAAAAAAAAAAAAAAAAAAAAAAAAAAAAAAAAAAAAAAAAAAAAAAAAAAAAAAAAAAAAAAAAAAAAAAAAAAAAAAAAAAAAAAAAAAAAAAAAAAAAAAAAAAAAAAAAAAAAAAAAAAAAAAAAAAAAAAAAAAAAAAAAAAAAAAAAAAAAAAAAAAAAAAAAAAAAAAAAAAAAAAAAAAAAAAAAAAAAAAAAAAAAAAAAAAAAAAAAAAAAAAAAAAAAAAAAAAAAAAAAAAAAAAAAAAAAAAAAAAAAAAAAAAAAAAAAAAAAAAAAAAAAAAAAAAAAAAAAAAAAAAAAAAAAAAAAAAAAAAAAAAAAAAAAAAAAAAAAAAAAAAAAAAAAAAAAAAAAAAAAAAAAAAAAAAAAAAAAAAAAAAAAAAAAAAAAAAAAAAAAAAAAAAAAAAAAAAAAAAAAAAAAAAAAAAAAAAAAAAAAAAAAAAAAAAAAAAAAAAAAAAAAAAAAAAAAAAAAAAAAAAAAAAAAAAAAAAAAAAAAAAAAAAAAAAAAAAAAAAAAAAAAAAAAAAAAAAAAAAAAAAAAAAAAAAAAAAAAAAAAAAAAAAAAAAAAAAAAAAAAAAAAAAAAAAAAAAAAAAAAAAAAAAAAAAAAAAAAAAAAAAAAAAAAAAAAAAAAAAAAAAAAAAAAAAA==\",\"dtype\":\"int32\",\"order\":\"little\",\"shape\":[289]},\"location_full_stop_coordinates_full_stop_lat\":[\"19.26426217\",\"19.26408818\",\"19.26379284\",\"19.26321134\",\"19.26289466\",\"19.26091784\",\"19.2600835\",\"19.25956017\",\"19.25930366\",\"19.2589345\",\"19.2581975\",\"19.25731465\",\"19.254319\",\"19.25403333\",\"19.253507\",\"19.252737\",\"19.25232634\",\"19.25173017\",\"19.25099283\",\"19.25025782\",\"19.24846901\",\"19.24769701\",\"19.245445\",\"19.2437625\",\"19.2430365\",\"19.24237116\",\"19.239408\",\"19.23903318\",\"19.23741849\",\"19.23650783\",\"19.23604417\",\"19.23552984\",\"19.23512384\",\"19.23471983\",\"19.23320083\",\"19.23216566\",\"19.22899668\",\"19.22805749\",\"19.22699149\",\"19.2263755\",\"19.22420032\",\"19.22371118\",\"19.22194017\",\"19.22115584\",\"19.21891032\",\"19.21834233\",\"19.21670151\",\"19.21623768\",\"19.21582133\",\"19.21392816\",\"19.21337867\",\"19.2127865\",\"19.212488\",\"19.21089867\",\"19.21041633\",\"19.20954183\",\"19.20940034\",\"19.20902318\",\"19.20966016\",\"19.21234034\",\"19.21278249\",\"19.21358201\",\"19.21515816\",\"19.21601601\",\"19.21568416\",\"19.21457234\",\"19.21386734\",\"19.2118045\",\"19.21139301\",\"19.21115151\",\"19.21060017\",\"19.21008934\",\"19.2052\",\"19.20344467\",\"19.20324449\",\"19.20295167\",\"19.20241033\",\"19.20226617\",\"19.20186833\",\"19.20022167\",\"19.19951484\",\"19.19855633\",\"19.198021\",\"19.19743367\",\"19.19513449\",\"19.19472833\",\"19.19433483\",\"19.193628\",\"19.19304484\",\"19.19153\",\"19.19110267\",\"19.19069816\",\"19.18882133\",\"19.18835583\",\"19.18804067\",\"19.18779516\",\"19.18605167\",\"19.18568534\",\"19.18540749\",\"19.18508217\",\"19.18366383\",\"19.1826935\",\"19.18230334\",\"19.18202649\",\"19.18100433\",\"19.18077818\",\"19.17972265\",\"19.17869483\",\"19.17829166\",\"19.177854\",\"19.17730184\",\"19.17665267\",\"19.17629966\",\"19.17584899\",\"19.175231\",\"19.17430267\",\"19.17399117\",\"19.172668\",\"19.17149134\",\"19.17023283\",\"19.16991283\",\"19.16888116\",\"19.16809283\",\"19.165663\",\"19.16476282\",\"19.16424984\",\"19.16395201\",\"19.16372867\",\"19.16247366\",\"19.160897\",\"19.16056116\",\"19.16001783\",\"19.15947565\",\"19.158844\",\"19.15782167\",\"19.1573205\",\"19.15598683\",\"19.15568283\",\"19.15491232\",\"19.1540655\",\"19.15362234\",\"19.15331984\",\"19.15239283\",\"19.15187916\",\"19.1514835\",\"19.149613\",\"19.14907749\",\"19.14890316\",\"19.1487\",\"19.14852567\",\"19.14829215\",\"19.1493745\",\"19.149955\",\"19.15026483\",\"19.15058984\",\"19.15093666\",\"19.151358\",\"19.15164784\",\"19.15230867\",\"19.15281\",\"19.15306883\",\"19.15580817\",\"19.15614916\",\"19.15671332\",\"19.1575045\",\"19.15884283\",\"19.1591725\",\"19.16008584\",\"19.16054484\",\"19.1608685\",\"19.16261433\",\"19.16287516\",\"19.16378585\",\"19.16445783\",\"19.16523184\",\"19.16575767\",\"19.16646351\",\"19.16680934\",\"19.16801783\",\"19.16904084\",\"19.17025116\",\"19.17083801\",\"19.17158167\",\"19.17442767\",\"19.175691\",\"19.1767555\",\"19.17764384\",\"19.17934933\",\"19.18175767\",\"19.18232967\",\"19.18262234\",\"19.18317284\",\"19.18370083\",\"19.1830605\",\"19.18220684\",\"19.18177667\",\"19.18148467\",\"19.179049\",\"19.17658167\",\"19.17566782\",\"19.17455117\",\"19.17384334\",\"19.17020933\",\"19.16851418\",\"19.16796432\",\"19.16770618\",\"19.16711716\",\"19.1666975\",\"19.16603483\",\"19.16527867\",\"19.16499251\",\"19.16442066\",\"19.16360134\",\"19.1630085\",\"19.16185968\",\"19.16113584\",\"19.160668\",\"19.159851\",\"19.15837632\",\"19.15764649\",\"19.15712617\",\"19.15660816\",\"19.15592018\",\"19.1548775\",\"19.154414\",\"19.15406017\",\"19.15215667\",\"19.1514885\",\"19.15068984\",\"19.15054917\",\"19.15028583\",\"19.14917666\",\"19.1481945\",\"19.14745733\",\"19.14520817\",\"19.14432184\",\"19.14105134\",\"19.14012018\",\"19.13837834\",\"19.137948\",\"19.13708666\",\"19.13626184\",\"19.13290218\",\"19.1312925\",\"19.13042767\",\"19.12889683\",\"19.12510866\",\"19.123699166\",\"19.120996\",\"19.11978416\",\"19.11859033\",\"19.116007\",\"19.1152955\",\"19.11250234\",\"19.111258\",\"19.1108755\",\"19.11099533\",\"19.111105666\",\"19.11152767\",\"19.112225\",\"19.113048665\",\"19.113137335\",\"19.11198167\",\"19.10930383\",\"19.108533\",\"19.1072515\",\"19.104470834\",\"19.1030365\",\"19.10195134\",\"19.10112367\",\"19.10016017\",\"19.09712834\",\"19.096735835\",\"19.09416333\",\"19.093136504\",\"19.092523836\",\"19.090098165\",\"19.08964533\",\"19.08857617\",\"19.0868\",\"19.08636517\",\"19.08457733\",\"19.0836255\",\"19.08178666\",\"19.08151\",\"19.079955496\",\"19.07883584\",\"19.078292996\",\"19.076775\"],\"location_full_stop_coordinates_full_stop_lon\":[\"72.9688612\",\"72.96842664\",\"72.9681978\",\"72.9684112\",\"72.9685248\",\"72.9692558\",\"72.9695865\",\"72.9697664\",\"72.9698858\",\"72.97002035\",\"72.9703533\",\"72.9706878\",\"72.971904\",\"72.9720373\",\"72.9722433\",\"72.9725575\",\"72.9727047\",\"72.9729574\",\"72.9732882\",\"72.97370017\",\"72.9749045\",\"72.97541165\",\"72.97597384\",\"72.97597766\",\"72.97595733\",\"72.975956\",\"72.97574645\",\"72.97578233\",\"72.9759516\",\"72.97603434\",\"72.9761028\",\"72.97622836\",\"72.9763016\",\"72.97633135\",\"72.976508\",\"72.9766073\",\"72.97690284\",\"72.97701067\",\"72.97715384\",\"72.9772238\",\"72.9774865\",\"72.97755784\",\"72.977691\",\"72.9777678\",\"72.97810066\",\"72.9781912\",\"72.978342\",\"72.9781956\",\"72.9780922\",\"72.9778275\",\"72.9776691\",\"72.9775143\",\"72.977469\",\"72.9848419\",\"72.987843\",\"72.99324733\",\"72.99407417\",\"72.99640465\",\"73.0045399996\",\"73.0065948335\",\"73.0063063335\",\"73.006183167\",\"73.0076823332\",\"73.008539333\",\"73.0104186665\",\"73.0119995\",\"73.012791666\",\"73.015233833\",\"73.015743334\",\"73.016043501\",\"73.016469501\",\"73.016716333\",\"73.018568499\",\"73.019993333\",\"73.020138668\",\"73.020351\",\"73.020810502\",\"73.020949833\",\"73.021262832\",\"73.022418\",\"73.022876833\",\"73.023121\",\"73.023156334\",\"73.022887833\",\"73.022920834\",\"73.0228945\",\"73.022882001\",\"73.022841\",\"73.022798667\",\"73.022742666\",\"73.022708\",\"73.022728167\",\"73.022348499\",\"73.022008501\",\"73.021795833\",\"73.021610167\",\"73.0211605\",\"73.021343667\",\"73.021504333\",\"73.021676833\",\"73.022417666\",\"73.022384334\",\"73.022406833\",\"73.022424666\",\"73.022441667\",\"73.022449\",\"73.022478167\",\"73.022590334\",\"73.022634167\",\"73.0226865\",\"73.0227625\",\"73.022835167\",\"73.0228525\",\"73.022873001\",\"73.022892501\",\"73.0229955\",\"73.023018\",\"73.023281166\",\"73.023751\",\"73.024403334\",\"73.024611168\",\"73.025192333\",\"73.025773833\",\"73.027726833\",\"73.028345667\",\"73.028454\",\"73.028483666\",\"73.0285055\",\"73.028869\",\"73.029657999\",\"73.029857667\",\"73.030229665\",\"73.030446833\",\"73.030808998\",\"73.031428333\",\"73.031695332\",\"73.032522332\",\"73.032804333\",\"73.0334205\",\"73.0340765\",\"73.034355666\",\"73.034496833\",\"73.03500033\",\"73.03527767\",\"73.035524834\",\"73.038169667\",\"73.0389045\",\"73.039116666\",\"73.039374333\",\"73.039601333\",\"73.03991933\",\"73.0424825\",\"73.043424\",\"73.044002336\",\"73.044658832\",\"73.045297332\",\"73.045835666\",\"73.045912\",\"73.0461035\",\"73.046269\",\"73.046377\",\"73.046671167\",\"73.046613667\",\"73.0465565\",\"73.046490002\",\"73.046316165\",\"73.046236333\",\"73.046183333\",\"73.0461995\",\"73.04616883\",\"73.045985833\",\"73.045972332\",\"73.0462\",\"73.046314664\",\"73.046407167\",\"73.046461333\",\"73.046525337\",\"73.046524502\",\"73.046357334\",\"73.046188\",\"73.045974333\",\"73.045869168\",\"73.045727666\",\"73.0451965\",\"73.044939\",\"73.0446825\",\"73.044431165\",\"73.043982666\",\"73.04351\",\"73.043350168\",\"73.043230664\",\"73.042982664\",\"73.04280133\",\"73.043064166\",\"73.043398\",\"73.043518834\",\"73.043572668\",\"73.044045333\",\"73.044723164\",\"73.044959333\",\"73.045182664\",\"73.045316834\",\"73.04601567\",\"73.04631533\",\"73.046373002\",\"73.046392333\",\"73.046478502\",\"73.04654033\",\"73.046499003\",\"73.046425503\",\"73.046397164\",\"73.046313502\",\"73.0461755\",\"73.046045497\",\"73.0460695\",\"73.0461455\",\"73.046198167\",\"73.046172667\",\"73.0464545\",\"73.04649683\",\"73.04653267\",\"73.046577\",\"73.046652667\",\"73.046788167\",\"73.046742164\",\"73.046666835\",\"73.046041835\",\"73.045880836\",\"73.0448095\",\"73.044540167\",\"73.044015165\",\"73.042310834\",\"73.041433834\",\"73.040847335\",\"73.03921317\",\"73.03882567\",\"73.0365685\",\"73.0362015\",\"73.0361355\",\"73.036137834\",\"73.036139667\",\"73.03622033\",\"73.036265668\",\"73.036180165\",\"73.036044497\",\"73.035181\",\"73.034810666\",\"73.034923002\",\"73.035160337\",\"73.035097834\",\"73.035014\",\"73.034713667\",\"73.034393\",\"73.033204667\",\"73.032302335\",\"73.0300925\",\"73.029588167\",\"73.029255169\",\"73.028021501\",\"73.025809335\",\"73.0222915\",\"73.021878665\",\"73.021244667\",\"73.022197502\",\"73.0224965\",\"73.023012834\",\"73.024119668\",\"73.024656666\",\"73.025053333\",\"73.025386667\",\"73.025751332\",\"73.026317\",\"73.026373167\",\"73.026794832\",\"73.026956668\",\"73.027057668\",\"73.027461167\",\"73.027537666\",\"73.027713167\",\"73.0280255\",\"73.0280835\",\"73.027552001\",\"73.027175667\",\"73.026784332\",\"73.026812166\",\"73.026947834\",\"73.027051\",\"73.027101334\",\"73.027247999\"],\"xs\":[{\"__ndarray__\":\"Yib6xYj8XkGJPj4eevxeQQ==\",\"dtype\":\"float64\",\"order\":\"little\",\"shape\":[2]},{\"__ndarray__\":\"iT4+Hnr8XkFDRz4GbvxeQQ==\",\"dtype\":\"float64\",\"order\":\"little\",\"shape\":[2]},{\"__ndarray__\":\"Q0c+Bm78XkGefeKnZ/xeQQ==\",\"dtype\":\"float64\",\"order\":\"little\",\"shape\":[2]},{\"__ndarray__\":\"nn3ip2f8XkEN5z2YbfxeQQ==\",\"dtype\":\"float64\",\"order\":\"little\",\"shape\":[2]},{\"__ndarray__\":\"Dec9mG38XkF7O5TBcPxeQQ==\",\"dtype\":\"float64\",\"order\":\"little\",\"shape\":[2]},{\"__ndarray__\":\"ezuUwXD8XkGy0owZhfxeQQ==\",\"dtype\":\"float64\",\"order\":\"little\",\"shape\":[2]},{\"__ndarray__\":\"stKMGYX8XkFe15pNjvxeQQ==\",\"dtype\":\"float64\",\"order\":\"little\",\"shape\":[2]},{\"__ndarray__\":\"XteaTY78XkH6/UpPk/xeQQ==\",\"dtype\":\"float64\",\"order\":\"little\",\"shape\":[2]},{\"__ndarray__\":\"+v1KT5P8XkGQs/OhlvxeQQ==\",\"dtype\":\"float64\",\"order\":\"little\",\"shape\":[2]},{\"__ndarray__\":\"kLPzoZb8XkEb3otgmvxeQQ==\",\"dtype\":\"float64\",\"order\":\"little\",\"shape\":[2]},{\"__ndarray__\":\"G96LYJr8XkFKkaGko/xeQQ==\",\"dtype\":\"float64\",\"order\":\"little\",\"shape\":[2]},{\"__ndarray__\":\"SpGhpKP8XkGLP8LzrPxeQQ==\",\"dtype\":\"float64\",\"order\":\"little\",\"shape\":[2]},{\"__ndarray__\":\"iz/C86z8XkFIAIPMzvxeQQ==\",\"dtype\":\"float64\",\"order\":\"little\",\"shape\":[2]},{\"__ndarray__\":\"SACDzM78XkEYWDOC0vxeQQ==\",\"dtype\":\"float64\",\"order\":\"little\",\"shape\":[2]},{\"__ndarray__\":\"GFgzgtL8XkHpM9Y92PxeQQ==\",\"dtype\":\"float64\",\"order\":\"little\",\"shape\":[2]},{\"__ndarray__\":\"6TPWPdj8XkEdjlb84PxeQQ==\",\"dtype\":\"float64\",\"order\":\"little\",\"shape\":[2]},{\"__ndarray__\":\"HY5W/OD8XkEliA4V5fxeQQ==\",\"dtype\":\"float64\",\"order\":\"little\",\"shape\":[2]},{\"__ndarray__\":\"JYgOFeX8XkGLlWcd7PxeQQ==\",\"dtype\":\"float64\",\"order\":\"little\",\"shape\":[2]},{\"__ndarray__\":\"i5VnHez8XkH+/CtS9fxeQQ==\",\"dtype\":\"float64\",\"order\":\"little\",\"shape\":[2]},{\"__ndarray__\":\"/vwrUvX8XkFk/TrJAP1eQQ==\",\"dtype\":\"float64\",\"order\":\"little\",\"shape\":[2]},{\"__ndarray__\":\"ZP06yQD9XkG3impNIv1eQQ==\",\"dtype\":\"float64\",\"order\":\"little\",\"shape\":[2]},{\"__ndarray__\":\"t4pqTSL9XkEjZpRqMP1eQQ==\",\"dtype\":\"float64\",\"order\":\"little\",\"shape\":[2]},{\"__ndarray__\":\"I2aUajD9XkETbt8PQP1eQQ==\",\"dtype\":\"float64\",\"order\":\"little\",\"shape\":[2]},{\"__ndarray__\":\"E27fD0D9XkHQkRYrQP1eQQ==\",\"dtype\":\"float64\",\"order\":\"little\",\"shape\":[2]},{\"__ndarray__\":\"0JEWK0D9XkGJhj+aP/1eQQ==\",\"dtype\":\"float64\",\"order\":\"little\",\"shape\":[2]},{\"__ndarray__\":\"iYY/mj/9XkEuy8WQP/1eQQ==\",\"dtype\":\"float64\",\"order\":\"little\",\"shape\":[2]},{\"__ndarray__\":\"LsvFkD/9XkG7PNi7Of1eQQ==\",\"dtype\":\"float64\",\"order\":\"little\",\"shape\":[2]},{\"__ndarray__\":\"uzzYuzn9XkESSHi7Ov1eQQ==\",\"dtype\":\"float64\",\"order\":\"little\",\"shape\":[2]},{\"__ndarray__\":\"Ekh4uzr9XkHt0GxxP/1eQQ==\",\"dtype\":\"float64\",\"order\":\"little\",\"shape\":[2]},{\"__ndarray__\":\"7dBscT/9XkEa3+a+Qf1eQQ==\",\"dtype\":\"float64\",\"order\":\"little\",\"shape\":[2]},{\"__ndarray__\":\"Gt/mvkH9XkEZOqSmQ/1eQQ==\",\"dtype\":\"float64\",\"order\":\"little\",\"shape\":[2]},{\"__ndarray__\":\"GTqkpkP9XkGl5y8lR/1eQQ==\",\"dtype\":\"float64\",\"order\":\"little\",\"shape\":[2]},{\"__ndarray__\":\"pecvJUf9XkHaTfsuSf1eQQ==\",\"dtype\":\"float64\",\"order\":\"little\",\"shape\":[2]},{\"__ndarray__\":\"2k37Lkn9XkF4GO8CSv1eQQ==\",\"dtype\":\"float64\",\"order\":\"little\",\"shape\":[2]},{\"__ndarray__\":\"eBjvAkr9XkHJtHftTv1eQQ==\",\"dtype\":\"float64\",\"order\":\"little\",\"shape\":[2]},{\"__ndarray__\":\"ybR37U79XkHj2+ywUf1eQQ==\",\"dtype\":\"float64\",\"order\":\"little\",\"shape\":[2]},{\"__ndarray__\":\"49vssFH9XkHQAnzqWf1eQQ==\",\"dtype\":\"float64\",\"order\":\"little\",\"shape\":[2]},{\"__ndarray__\":\"0AJ86ln9XkFUrbbqXP1eQQ==\",\"dtype\":\"float64\",\"order\":\"little\",\"shape\":[2]},{\"__ndarray__\":\"VK226lz9XkH6gLjmYP1eQQ==\",\"dtype\":\"float64\",\"order\":\"little\",\"shape\":[2]},{\"__ndarray__\":\"+oC45mD9XkGppSXZYv1eQQ==\",\"dtype\":\"float64\",\"order\":\"little\",\"shape\":[2]},{\"__ndarray__\":\"qaUl2WL9XkHpSL0oav1eQQ==\",\"dtype\":\"float64\",\"order\":\"little\",\"shape\":[2]},{\"__ndarray__\":\"6Ui9KGr9XkFVWv8kbP1eQQ==\",\"dtype\":\"float64\",\"order\":\"little\",\"shape\":[2]},{\"__ndarray__\":\"VVr/JGz9XkELW7DZb/1eQQ==\",\"dtype\":\"float64\",\"order\":\"little\",\"shape\":[2]},{\"__ndarray__\":\"C1uw2W/9XkH5sNj8cf1eQQ==\",\"dtype\":\"float64\",\"order\":\"little\",\"shape\":[2]},{\"__ndarray__\":\"+bDY/HH9XkF0PkpAe/1eQQ==\",\"dtype\":\"float64\",\"order\":\"little\",\"shape\":[2]},{\"__ndarray__\":\"dD5KQHv9XkFbZVbFff1eQQ==\",\"dtype\":\"float64\",\"order\":\"little\",\"shape\":[2]},{\"__ndarray__\":\"W2VWxX39XkFqQ7T3gf1eQQ==\",\"dtype\":\"float64\",\"order\":\"little\",\"shape\":[2]},{\"__ndarray__\":\"akO094H9XkGeX6/kff1eQQ==\",\"dtype\":\"float64\",\"order\":\"little\",\"shape\":[2]},{\"__ndarray__\":\"nl+v5H39XkGYZgQEe/1eQQ==\",\"dtype\":\"float64\",\"order\":\"little\",\"shape\":[2]},{\"__ndarray__\":\"mGYEBHv9XkHFCy2mc/1eQQ==\",\"dtype\":\"float64\",\"order\":\"little\",\"shape\":[2]},{\"__ndarray__\":\"xQstpnP9XkGM2qk9b/1eQQ==\",\"dtype\":\"float64\",\"order\":\"little\",\"shape\":[2]},{\"__ndarray__\":\"jNqpPW/9XkFZjczuav1eQQ==\",\"dtype\":\"float64\",\"order\":\"little\",\"shape\":[2]},{\"__ndarray__\":\"WY3M7mr9XkGpwg+saf1eQQ==\",\"dtype\":\"float64\",\"order\":\"little\",\"shape\":[2]},{\"__ndarray__\":\"qcIPrGn9XkF3XubbNv5eQQ==\",\"dtype\":\"float64\",\"order\":\"little\",\"shape\":[2]},{\"__ndarray__\":\"d17m2zb+XkGQORRhiv5eQQ==\",\"dtype\":\"float64\",\"order\":\"little\",\"shape\":[2]},{\"__ndarray__\":\"kDkUYYr+XkEMovHHIP9eQQ==\",\"dtype\":\"float64\",\"order\":\"little\",\"shape\":[2]},{\"__ndarray__\":\"DKLxxyD/XkFr07jKN/9eQQ==\",\"dtype\":\"float64\",\"order\":\"little\",\"shape\":[2]},{\"__ndarray__\":\"a9O4yjf/XkFmqxqmeP9eQQ==\",\"dtype\":\"float64\",\"order\":\"little\",\"shape\":[2]},{\"__ndarray__\":\"Zqsapnj/XkGAffkNWwBfQQ==\",\"dtype\":\"float64\",\"order\":\"little\",\"shape\":[2]},{\"__ndarray__\":\"gH35DVsAX0FZ14c9lABfQQ==\",\"dtype\":\"float64\",\"order\":\"little\",\"shape\":[2]},{\"__ndarray__\":\"WdeHPZQAX0E7pyA2jABfQQ==\",\"dtype\":\"float64\",\"order\":\"little\",\"shape\":[2]},{\"__ndarray__\":\"O6cgNowAX0F2YaLIiABfQQ==\",\"dtype\":\"float64\",\"order\":\"little\",\"shape\":[2]},{\"__ndarray__\":\"dmGiyIgAX0EDdF2BsgBfQQ==\",\"dtype\":\"float64\",\"order\":\"little\",\"shape\":[2]},{\"__ndarray__\":\"A3RdgbIAX0HS2gNbygBfQQ==\",\"dtype\":\"float64\",\"order\":\"little\",\"shape\":[2]},{\"__ndarray__\":\"0toDW8oAX0GLTTqo/gBfQQ==\",\"dtype\":\"float64\",\"order\":\"little\",\"shape\":[2]},{\"__ndarray__\":\"i006qP4AX0FK+sqmKgFfQQ==\",\"dtype\":\"float64\",\"order\":\"little\",\"shape\":[2]},{\"__ndarray__\":\"SvrKpioBX0Ecs4myQAFfQQ==\",\"dtype\":\"float64\",\"order\":\"little\",\"shape\":[2]},{\"__ndarray__\":\"HLOJskABX0Hu1KCphAFfQQ==\",\"dtype\":\"float64\",\"order\":\"little\",\"shape\":[2]},{\"__ndarray__\":\"7tSgqYQBX0GPlIrXkgFfQQ==\",\"dtype\":\"float64\",\"order\":\"little\",\"shape\":[2]},{\"__ndarray__\":\"j5SK15IBX0HPuRAymwFfQQ==\",\"dtype\":\"float64\",\"order\":\"little\",\"shape\":[2]},{\"__ndarray__\":\"z7kQMpsBX0FwdhQNpwFfQQ==\",\"dtype\":\"float64\",\"order\":\"little\",\"shape\":[2]},{\"__ndarray__\":\"cHYUDacBX0H1HJ/rrQFfQQ==\",\"dtype\":\"float64\",\"order\":\"little\",\"shape\":[2]},{\"__ndarray__\":\"9Ryf660BX0Fp4kd34QFfQQ==\",\"dtype\":\"float64\",\"order\":\"little\",\"shape\":[2]},{\"__ndarray__\":\"aeJHd+EBX0ETim8eCQJfQQ==\",\"dtype\":\"float64\",\"order\":\"little\",\"shape\":[2]},{\"__ndarray__\":\"E4pvHgkCX0EVBd4pDQJfQQ==\",\"dtype\":\"float64\",\"order\":\"little\",\"shape\":[2]},{\"__ndarray__\":\"FQXeKQ0CX0H/jJ0SEwJfQQ==\",\"dtype\":\"float64\",\"order\":\"little\",\"shape\":[2]},{\"__ndarray__\":\"/4ydEhMCX0FCMlDcHwJfQQ==\",\"dtype\":\"float64\",\"order\":\"little\",\"shape\":[2]},{\"__ndarray__\":\"QjJQ3B8CX0HsOvi8IwJfQQ==\",\"dtype\":\"float64\",\"order\":\"little\",\"shape\":[2]},{\"__ndarray__\":\"7Dr4vCMCX0HhIOpyLAJfQQ==\",\"dtype\":\"float64\",\"order\":\"little\",\"shape\":[2]},{\"__ndarray__\":\"4SDqciwCX0GnJdmYTAJfQQ==\",\"dtype\":\"float64\",\"order\":\"little\",\"shape\":[2]},{\"__ndarray__\":\"pyXZmEwCX0GaocddWQJfQQ==\",\"dtype\":\"float64\",\"order\":\"little\",\"shape\":[2]},{\"__ndarray__\":\"mqHHXVkCX0HdslUpYAJfQQ==\",\"dtype\":\"float64\",\"order\":\"little\",\"shape\":[2]},{\"__ndarray__\":\"3bJVKWACX0GQ6hElYQJfQQ==\",\"dtype\":\"float64\",\"order\":\"little\",\"shape\":[2]},{\"__ndarray__\":\"kOoRJWECX0E9EyasWQJfQQ==\",\"dtype\":\"float64\",\"order\":\"little\",\"shape\":[2]},{\"__ndarray__\":\"PRMmrFkCX0ESO0OXWgJfQQ==\",\"dtype\":\"float64\",\"order\":\"little\",\"shape\":[2]},{\"__ndarray__\":\"EjtDl1oCX0FzvaXbWQJfQQ==\",\"dtype\":\"float64\",\"order\":\"little\",\"shape\":[2]},{\"__ndarray__\":\"c72l21kCX0EJVZmCWQJfQQ==\",\"dtype\":\"float64\",\"order\":\"little\",\"shape\":[2]},{\"__ndarray__\":\"CVWZglkCX0HsTn1eWAJfQQ==\",\"dtype\":\"float64\",\"order\":\"little\",\"shape\":[2]},{\"__ndarray__\":\"7E59XlgCX0Gk5+MwVwJfQQ==\",\"dtype\":\"float64\",\"order\":\"little\",\"shape\":[2]},{\"__ndarray__\":\"pOfjMFcCX0G9AOqhVQJfQQ==\",\"dtype\":\"float64\",\"order\":\"little\",\"shape\":[2]},{\"__ndarray__\":\"vQDqoVUCX0FyH/CqVAJfQQ==\",\"dtype\":\"float64\",\"order\":\"little\",\"shape\":[2]},{\"__ndarray__\":\"ch/wqlQCX0HC4J06VQJfQQ==\",\"dtype\":\"float64\",\"order\":\"little\",\"shape\":[2]},{\"__ndarray__\":\"wuCdOlUCX0GnJ7GpSgJfQQ==\",\"dtype\":\"float64\",\"order\":\"little\",\"shape\":[2]},{\"__ndarray__\":\"pyexqUoCX0Fl5mQzQQJfQQ==\",\"dtype\":\"float64\",\"order\":\"little\",\"shape\":[2]},{\"__ndarray__\":\"ZeZkM0ECX0F1jUBIOwJfQQ==\",\"dtype\":\"float64\",\"order\":\"little\",\"shape\":[2]},{\"__ndarray__\":\"dY1ASDsCX0GPCHwdNgJfQQ==\",\"dtype\":\"float64\",\"order\":\"little\",\"shape\":[2]},{\"__ndarray__\":\"jwh8HTYCX0FeCduZKQJfQQ==\",\"dtype\":\"float64\",\"order\":\"little\",\"shape\":[2]},{\"__ndarray__\":\"XgnbmSkCX0G4u9GyLgJfQQ==\",\"dtype\":\"float64\",\"order\":\"little\",\"shape\":[2]},{\"__ndarray__\":\"uLvRsi4CX0H8yXkrMwJfQQ==\",\"dtype\":\"float64\",\"order\":\"little\",\"shape\":[2]},{\"__ndarray__\":\"/Ml5KzMCX0H9YnH4NwJfQQ==\",\"dtype\":\"float64\",\"order\":\"little\",\"shape\":[2]},{\"__ndarray__\":\"/WJx+DcCX0Fz+neWTAJfQQ==\",\"dtype\":\"float64\",\"order\":\"little\",\"shape\":[2]},{\"__ndarray__\":\"c/p3lkwCX0EkIP+oSwJfQQ==\",\"dtype\":\"float64\",\"order\":\"little\",\"shape\":[2]},{\"__ndarray__\":\"JCD/qEsCX0FpHkpJTAJfQQ==\",\"dtype\":\"float64\",\"order\":\"little\",\"shape\":[2]},{\"__ndarray__\":\"aR5KSUwCX0Hz/FbITAJfQQ==\",\"dtype\":\"float64\",\"order\":\"little\",\"shape\":[2]},{\"__ndarray__\":\"8/xWyEwCX0E1aHZBTQJfQQ==\",\"dtype\":\"float64\",\"order\":\"little\",\"shape\":[2]},{\"__ndarray__\":\"NWh2QU0CX0H/wrR1TQJfQQ==\",\"dtype\":\"float64\",\"order\":\"little\",\"shape\":[2]},{\"__ndarray__\":\"/8K0dU0CX0FhPoFFTgJfQQ==\",\"dtype\":\"float64\",\"order\":\"little\",\"shape\":[2]},{\"__ndarray__\":\"YT6BRU4CX0H1+6FkUQJfQQ==\",\"dtype\":\"float64\",\"order\":\"little\",\"shape\":[2]},{\"__ndarray__\":\"9fuhZFECX0HsLOucUgJfQQ==\",\"dtype\":\"float64\",\"order\":\"little\",\"shape\":[2]},{\"__ndarray__\":\"7CzrnFICX0ERKsMRVAJfQQ==\",\"dtype\":\"float64\",\"order\":\"little\",\"shape\":[2]},{\"__ndarray__\":\"ESrDEVQCX0HDaTgvVgJfQQ==\",\"dtype\":\"float64\",\"order\":\"little\",\"shape\":[2]},{\"__ndarray__\":\"w2k4L1YCX0HPve40WAJfQQ==\",\"dtype\":\"float64\",\"order\":\"little\",\"shape\":[2]},{\"__ndarray__\":\"z73uNFgCX0F0rmuwWAJfQQ==\",\"dtype\":\"float64\",\"order\":\"little\",\"shape\":[2]},{\"__ndarray__\":\"dK5rsFgCX0H2mnpCWQJfQQ==\",\"dtype\":\"float64\",\"order\":\"little\",\"shape\":[2]},{\"__ndarray__\":\"9pp6QlkCX0HJ2GfNWQJfQQ==\",\"dtype\":\"float64\",\"order\":\"little\",\"shape\":[2]},{\"__ndarray__\":\"ydhnzVkCX0HHczerXAJfQQ==\",\"dtype\":\"float64\",\"order\":\"little\",\"shape\":[2]},{\"__ndarray__\":\"x3M3q1wCX0H1RIRLXQJfQQ==\",\"dtype\":\"float64\",\"order\":\"little\",\"shape\":[2]},{\"__ndarray__\":\"9USES10CX0E9022eZAJfQQ==\",\"dtype\":\"float64\",\"order\":\"little\",\"shape\":[2]},{\"__ndarray__\":\"PdNtnmQCX0G+k7yxcQJfQQ==\",\"dtype\":\"float64\",\"order\":\"little\",\"shape\":[2]},{\"__ndarray__\":\"vpO8sXECX0EYg0HZgwJfQQ==\",\"dtype\":\"float64\",\"order\":\"little\",\"shape\":[2]},{\"__ndarray__\":\"GINB2YMCX0HLU/WhiQJfQQ==\",\"dtype\":\"float64\",\"order\":\"little\",\"shape\":[2]},{\"__ndarray__\":\"y1P1oYkCX0H0EnDOmQJfQQ==\",\"dtype\":\"float64\",\"order\":\"little\",\"shape\":[2]},{\"__ndarray__\":\"9BJwzpkCX0E60E39qQJfQQ==\",\"dtype\":\"float64\",\"order\":\"little\",\"shape\":[2]},{\"__ndarray__\":\"OtBN/akCX0FViVlX4AJfQQ==\",\"dtype\":\"float64\",\"order\":\"little\",\"shape\":[2]},{\"__ndarray__\":\"VYlZV+ACX0HfNTOQ8QJfQQ==\",\"dtype\":\"float64\",\"order\":\"little\",\"shape\":[2]},{\"__ndarray__\":\"3zUzkPECX0H/RgOU9AJfQQ==\",\"dtype\":\"float64\",\"order\":\"little\",\"shape\":[2]},{\"__ndarray__\":\"/0YDlPQCX0Fe3V1n9QJfQQ==\",\"dtype\":\"float64\",\"order\":\"little\",\"shape\":[2]},{\"__ndarray__\":\"Xt1dZ/UCX0H0/esC9gJfQQ==\",\"dtype\":\"float64\",\"order\":\"little\",\"shape\":[2]},{\"__ndarray__\":\"9P3rAvYCX0H+kaggAANfQQ==\",\"dtype\":\"float64\",\"order\":\"little\",\"shape\":[2]},{\"__ndarray__\":\"/pGoIAADX0HZIdcVFgNfQQ==\",\"dtype\":\"float64\",\"order\":\"little\",\"shape\":[2]},{\"__ndarray__\":\"2SHXFRYDX0GSUV2kGwNfQQ==\",\"dtype\":\"float64\",\"order\":\"little\",\"shape\":[2]},{\"__ndarray__\":\"klFdpBsDX0H2C6X+JQNfQQ==\",\"dtype\":\"float64\",\"order\":\"little\",\"shape\":[2]},{\"__ndarray__\":\"9gul/iUDX0HtwdgJLANfQQ==\",\"dtype\":\"float64\",\"order\":\"little\",\"shape\":[2]},{\"__ndarray__\":\"7cHYCSwDX0ERfBIeNgNfQQ==\",\"dtype\":\"float64\",\"order\":\"little\",\"shape\":[2]},{\"__ndarray__\":\"EXwSHjYDX0Fn6X1aRwNfQQ==\",\"dtype\":\"float64\",\"order\":\"little\",\"shape\":[2]},{\"__ndarray__\":\"Z+l9WkcDX0E7UbbITgNfQQ==\",\"dtype\":\"float64\",\"order\":\"little\",\"shape\":[2]},{\"__ndarray__\":\"O1G2yE4DX0HZU6HMZQNfQQ==\",\"dtype\":\"float64\",\"order\":\"little\",\"shape\":[2]},{\"__ndarray__\":\"2VOhzGUDX0FFQrulbQNfQQ==\",\"dtype\":\"float64\",\"order\":\"little\",\"shape\":[2]},{\"__ndarray__\":\"RUK7pW0DX0HBs5TLfgNfQQ==\",\"dtype\":\"float64\",\"order\":\"little\",\"shape\":[2]},{\"__ndarray__\":\"wbOUy34DX0EL5zcNkQNfQQ==\",\"dtype\":\"float64\",\"order\":\"little\",\"shape\":[2]},{\"__ndarray__\":\"C+c3DZEDX0HlMR/SmANfQQ==\",\"dtype\":\"float64\",\"order\":\"little\",\"shape\":[2]},{\"__ndarray__\":\"5TEf0pgDX0FB1du/nANfQQ==\",\"dtype\":\"float64\",\"order\":\"little\",\"shape\":[2]},{\"__ndarray__\":\"QdXbv5wDX0GJIv/CqgNfQQ==\",\"dtype\":\"float64\",\"order\":\"little\",\"shape\":[2]},{\"__ndarray__\":\"iSL/wqoDX0HFD+R6sgNfQQ==\",\"dtype\":\"float64\",\"order\":\"little\",\"shape\":[2]},{\"__ndarray__\":\"xQ/kerIDX0GqO8xbuQNfQQ==\",\"dtype\":\"float64\",\"order\":\"little\",\"shape\":[2]},{\"__ndarray__\":\"qjvMW7kDX0HAesX2AgRfQQ==\",\"dtype\":\"float64\",\"order\":\"little\",\"shape\":[2]},{\"__ndarray__\":\"wHrF9gIEX0GA6wxqFwRfQQ==\",\"dtype\":\"float64\",\"order\":\"little\",\"shape\":[2]},{\"__ndarray__\":\"gOsMahcEX0G3sJ1RHQRfQQ==\",\"dtype\":\"float64\",\"order\":\"little\",\"shape\":[2]},{\"__ndarray__\":\"t7CdUR0EX0EW2Vl9JARfQQ==\",\"dtype\":\"float64\",\"order\":\"little\",\"shape\":[2]},{\"__ndarray__\":\"FtlZfSQEX0FlvJnOKgRfQQ==\",\"dtype\":\"float64\",\"order\":\"little\",\"shape\":[2]},{\"__ndarray__\":\"ZbyZzioEX0F4RyeoMwRfQQ==\",\"dtype\":\"float64\",\"order\":\"little\",\"shape\":[2]},{\"__ndarray__\":\"eEcnqDMEX0EQxFL9egRfQQ==\",\"dtype\":\"float64\",\"order\":\"little\",\"shape\":[2]},{\"__ndarray__\":\"EMRS/XoEX0EelP0wlQRfQQ==\",\"dtype\":\"float64\",\"order\":\"little\",\"shape\":[2]},{\"__ndarray__\":\"HpT9MJUEX0EpoVBJpQRfQQ==\",\"dtype\":\"float64\",\"order\":\"little\",\"shape\":[2]},{\"__ndarray__\":\"KaFQSaUEX0G3dnyOtwRfQQ==\",\"dtype\":\"float64\",\"order\":\"little\",\"shape\":[2]},{\"__ndarray__\":\"t3Z8jrcEX0HFI3JTyQRfQQ==\",\"dtype\":\"float64\",\"order\":\"little\",\"shape\":[2]},{\"__ndarray__\":\"xSNyU8kEX0GTM8dO2ARfQQ==\",\"dtype\":\"float64\",\"order\":\"little\",\"shape\":[2]},{\"__ndarray__\":\"kzPHTtgEX0F6np1u2gRfQQ==\",\"dtype\":\"float64\",\"order\":\"little\",\"shape\":[2]},{\"__ndarray__\":\"ep6dbtoEX0Fmh/LC3wRfQQ==\",\"dtype\":\"float64\",\"order\":\"little\",\"shape\":[2]},{\"__ndarray__\":\"Zofywt8EX0HnHQte5ARfQQ==\",\"dtype\":\"float64\",\"order\":\"little\",\"shape\":[2]},{\"__ndarray__\":\"5x0LXuQEX0G+1ntf5wRfQQ==\",\"dtype\":\"float64\",\"order\":\"little\",\"shape\":[2]},{\"__ndarray__\":\"vtZ7X+cEX0FH1UKP7wRfQQ==\",\"dtype\":\"float64\",\"order\":\"little\",\"shape\":[2]},{\"__ndarray__\":\"R9VCj+8EX0Gc95r17QRfQQ==\",\"dtype\":\"float64\",\"order\":\"little\",\"shape\":[2]},{\"__ndarray__\":\"nPea9e0EX0E8clJe7ARfQQ==\",\"dtype\":\"float64\",\"order\":\"little\",\"shape\":[2]},{\"__ndarray__\":\"PHJSXuwEX0FQgI+E6gRfQQ==\",\"dtype\":\"float64\",\"order\":\"little\",\"shape\":[2]},{\"__ndarray__\":\"UICPhOoEX0GbZxGu5QRfQQ==\",\"dtype\":\"float64\",\"order\":\"little\",\"shape\":[2]},{\"__ndarray__\":\"m2cRruUEX0FGIU914wRfQQ==\",\"dtype\":\"float64\",\"order\":\"little\",\"shape\":[2]},{\"__ndarray__\":\"RiFPdeMEX0GjoLb74QRfQQ==\",\"dtype\":\"float64\",\"order\":\"little\",\"shape\":[2]},{\"__ndarray__\":\"o6C2++EEX0HO8uRu4gRfQQ==\",\"dtype\":\"float64\",\"order\":\"little\",\"shape\":[2]},{\"__ndarray__\":\"zvLkbuIEX0EHNWOU4QRfQQ==\",\"dtype\":\"float64\",\"order\":\"little\",\"shape\":[2]},{\"__ndarray__\":\"BzVjlOEEX0EBkaJ83ARfQQ==\",\"dtype\":\"float64\",\"order\":\"little\",\"shape\":[2]},{\"__ndarray__\":\"AZGifNwEX0H9pnIc3ARfQQ==\",\"dtype\":\"float64\",\"order\":\"little\",\"shape\":[2]},{\"__ndarray__\":\"/aZyHNwEX0Gz4HRy4gRfQQ==\",\"dtype\":\"float64\",\"order\":\"little\",\"shape\":[2]},{\"__ndarray__\":\"s+B0cuIEX0EFy1+j5QRfQQ==\",\"dtype\":\"float64\",\"order\":\"little\",\"shape\":[2]},{\"__ndarray__\":\"Bctfo+UEX0HnLWg26ARfQQ==\",\"dtype\":\"float64\",\"order\":\"little\",\"shape\":[2]},{\"__ndarray__\":\"5y1oNugEX0ECTU+46QRfQQ==\",\"dtype\":\"float64\",\"order\":\"little\",\"shape\":[2]},{\"__ndarray__\":\"Ak1PuOkEX0Hrik2A6wRfQQ==\",\"dtype\":\"float64\",\"order\":\"little\",\"shape\":[2]},{\"__ndarray__\":\"64pNgOsEX0Hpnlp66wRfQQ==\",\"dtype\":\"float64\",\"order\":\"little\",\"shape\":[2]},{\"__ndarray__\":\"6Z5aeusEX0E61l/T5gRfQQ==\",\"dtype\":\"float64\",\"order\":\"little\",\"shape\":[2]},{\"__ndarray__\":\"OtZf0+YEX0FGk/Yc4gRfQQ==\",\"dtype\":\"float64\",\"order\":\"little\",\"shape\":[2]},{\"__ndarray__\":\"RpP2HOIEX0F5MbQq3ARfQQ==\",\"dtype\":\"float64\",\"order\":\"little\",\"shape\":[2]},{\"__ndarray__\":\"eTG0KtwEX0EzHHY92QRfQQ==\",\"dtype\":\"float64\",\"order\":\"little\",\"shape\":[2]},{\"__ndarray__\":\"Mxx2PdkEX0G+elZN1QRfQQ==\",\"dtype\":\"float64\",\"order\":\"little\",\"shape\":[2]},{\"__ndarray__\":\"vnpWTdUEX0Hw1RKFxgRfQQ==\",\"dtype\":\"float64\",\"order\":\"little\",\"shape\":[2]},{\"__ndarray__\":\"8NUShcYEX0ErQ4davwRfQQ==\",\"dtype\":\"float64\",\"order\":\"little\",\"shape\":[2]},{\"__ndarray__\":\"K0OHWr8EX0EujBs3uARfQQ==\",\"dtype\":\"float64\",\"order\":\"little\",\"shape\":[2]},{\"__ndarray__\":\"LowbN7gEX0HqD3w4sQRfQQ==\",\"dtype\":\"float64\",\"order\":\"little\",\"shape\":[2]},{\"__ndarray__\":\"6g98OLEEX0EFVS29pARfQQ==\",\"dtype\":\"float64\",\"order\":\"little\",\"shape\":[2]},{\"__ndarray__\":\"BVUtvaQEX0GsabGVlwRfQQ==\",\"dtype\":\"float64\",\"order\":\"little\",\"shape\":[2]},{\"__ndarray__\":\"rGmxlZcEX0GAdPoikwRfQQ==\",\"dtype\":\"float64\",\"order\":\"little\",\"shape\":[2]},{\"__ndarray__\":\"gHT6IpMEX0GBEJTPjwRfQQ==\",\"dtype\":\"float64\",\"order\":\"little\",\"shape\":[2]},{\"__ndarray__\":\"gRCUz48EX0GxJbfoiARfQQ==\",\"dtype\":\"float64\",\"order\":\"little\",\"shape\":[2]},{\"__ndarray__\":\"sSW36IgEX0FQlc/cgwRfQQ==\",\"dtype\":\"float64\",\"order\":\"little\",\"shape\":[2]},{\"__ndarray__\":\"UJXP3IMEX0EGRF8tiwRfQQ==\",\"dtype\":\"float64\",\"order\":\"little\",\"shape\":[2]},{\"__ndarray__\":\"BkRfLYsEX0GyQcF3lARfQQ==\",\"dtype\":\"float64\",\"order\":\"little\",\"shape\":[2]},{\"__ndarray__\":\"skHBd5QEX0ENYaHUlwRfQQ==\",\"dtype\":\"float64\",\"order\":\"little\",\"shape\":[2]},{\"__ndarray__\":\"DWGh1JcEX0HH+ipUmQRfQQ==\",\"dtype\":\"float64\",\"order\":\"little\",\"shape\":[2]},{\"__ndarray__\":\"x/oqVJkEX0E2E6V7pgRfQQ==\",\"dtype\":\"float64\",\"order\":\"little\",\"shape\":[2]},{\"__ndarray__\":\"NhOle6YEX0Fh7tBYuQRfQQ==\",\"dtype\":\"float64\",\"order\":\"little\",\"shape\":[2]},{\"__ndarray__\":\"Ye7QWLkEX0Erx2PrvwRfQQ==\",\"dtype\":\"float64\",\"order\":\"little\",\"shape\":[2]},{\"__ndarray__\":\"K8dj678EX0HS7X8ixgRfQQ==\",\"dtype\":\"float64\",\"order\":\"little\",\"shape\":[2]},{\"__ndarray__\":\"0u1/IsYEX0FoB2PeyQRfQQ==\",\"dtype\":\"float64\",\"order\":\"little\",\"shape\":[2]},{\"__ndarray__\":\"aAdj3skEX0GZCDVR3QRfQQ==\",\"dtype\":\"float64\",\"order\":\"little\",\"shape\":[2]},{\"__ndarray__\":\"mQg1Ud0EX0Gaex6o5QRfQQ==\",\"dtype\":\"float64\",\"order\":\"little\",\"shape\":[2]},{\"__ndarray__\":\"mnseqOUEX0FoDQBD5wRfQQ==\",\"dtype\":\"float64\",\"order\":\"little\",\"shape\":[2]},{\"__ndarray__\":\"aA0AQ+cEX0HPD7nM5wRfQQ==\",\"dtype\":\"float64\",\"order\":\"little\",\"shape\":[2]},{\"__ndarray__\":\"zw+5zOcEX0HHIKEy6gRfQQ==\",\"dtype\":\"float64\",\"order\":\"little\",\"shape\":[2]},{\"__ndarray__\":\"xyChMuoEX0FYpx7r6wRfQQ==\",\"dtype\":\"float64\",\"order\":\"little\",\"shape\":[2]},{\"__ndarray__\":\"WKce6+sEX0FLDbDE6gRfQQ==\",\"dtype\":\"float64\",\"order\":\"little\",\"shape\":[2]},{\"__ndarray__\":\"Sw2wxOoEX0EPcwq56ARfQQ==\",\"dtype\":\"float64\",\"order\":\"little\",\"shape\":[2]},{\"__ndarray__\":\"D3MKuegEX0FSHyTv5wRfQQ==\",\"dtype\":\"float64\",\"order\":\"little\",\"shape\":[2]},{\"__ndarray__\":\"Uh8k7+cEX0EseBib5QRfQQ==\",\"dtype\":\"float64\",\"order\":\"little\",\"shape\":[2]},{\"__ndarray__\":\"LHgYm+UEX0H1V+jD4QRfQQ==\",\"dtype\":\"float64\",\"order\":\"little\",\"shape\":[2]},{\"__ndarray__\":\"9Vfow+EEX0EcQ7Ul3gRfQQ==\",\"dtype\":\"float64\",\"order\":\"little\",\"shape\":[2]},{\"__ndarray__\":\"HEO1Jd4EX0GxVrfQ3gRfQQ==\",\"dtype\":\"float64\",\"order\":\"little\",\"shape\":[2]},{\"__ndarray__\":\"sVa30N4EX0Fklizu4ARfQQ==\",\"dtype\":\"float64\",\"order\":\"little\",\"shape\":[2]},{\"__ndarray__\":\"ZJYs7uAEX0G7vmVl4gRfQQ==\",\"dtype\":\"float64\",\"order\":\"little\",\"shape\":[2]},{\"__ndarray__\":\"u75lZeIEX0EyWrmv4QRfQQ==\",\"dtype\":\"float64\",\"order\":\"little\",\"shape\":[2]},{\"__ndarray__\":\"Mlq5r+EEX0Ed4KCH6QRfQQ==\",\"dtype\":\"float64\",\"order\":\"little\",\"shape\":[2]},{\"__ndarray__\":\"HeCgh+kEX0GtzjS16gRfQQ==\",\"dtype\":\"float64\",\"order\":\"little\",\"shape\":[2]},{\"__ndarray__\":\"rc40teoEX0G15Yu06wRfQQ==\",\"dtype\":\"float64\",\"order\":\"little\",\"shape\":[2]},{\"__ndarray__\":\"teWLtOsEX0HXi1/w7ARfQQ==\",\"dtype\":\"float64\",\"order\":\"little\",\"shape\":[2]},{\"__ndarray__\":\"14tf8OwEX0E/c3UL7wRfQQ==\",\"dtype\":\"float64\",\"order\":\"little\",\"shape\":[2]},{\"__ndarray__\":\"P3N1C+8EX0EuSNLQ8gRfQQ==\",\"dtype\":\"float64\",\"order\":\"little\",\"shape\":[2]},{\"__ndarray__\":\"LkjS0PIEX0FSUROJ8QRfQQ==\",\"dtype\":\"float64\",\"order\":\"little\",\"shape\":[2]},{\"__ndarray__\":\"UlETifEEX0HA4GVw7wRfQQ==\",\"dtype\":\"float64\",\"order\":\"little\",\"shape\":[2]},{\"__ndarray__\":\"wOBlcO8EX0HNSp4L3gRfQQ==\",\"dtype\":\"float64\",\"order\":\"little\",\"shape\":[2]},{\"__ndarray__\":\"zUqeC94EX0E/5JaQ2QRfQQ==\",\"dtype\":\"float64\",\"order\":\"little\",\"shape\":[2]},{\"__ndarray__\":\"P+SWkNkEX0HzlOm/uwRfQQ==\",\"dtype\":\"float64\",\"order\":\"little\",\"shape\":[2]},{\"__ndarray__\":\"85Tpv7sEX0FZShBBtARfQQ==\",\"dtype\":\"float64\",\"order\":\"little\",\"shape\":[2]},{\"__ndarray__\":\"WUoQQbQEX0Ek6bakpQRfQQ==\",\"dtype\":\"float64\",\"order\":\"little\",\"shape\":[2]},{\"__ndarray__\":\"JOm2pKUEX0EoREw2dgRfQQ==\",\"dtype\":\"float64\",\"order\":\"little\",\"shape\":[2]},{\"__ndarray__\":\"KERMNnYEX0FCVCjOXQRfQQ==\",\"dtype\":\"float64\",\"order\":\"little\",\"shape\":[2]},{\"__ndarray__\":\"QlQozl0EX0H1Hq17TQRfQQ==\",\"dtype\":\"float64\",\"order\":\"little\",\"shape\":[2]},{\"__ndarray__\":\"9R6te00EX0GnVScBIARfQQ==\",\"dtype\":\"float64\",\"order\":\"little\",\"shape\":[2]},{\"__ndarray__\":\"p1UnASAEX0HDJm44FQRfQQ==\",\"dtype\":\"float64\",\"order\":\"little\",\"shape\":[2]},{\"__ndarray__\":\"wyZuOBUEX0GLYFdn1gNfQQ==\",\"dtype\":\"float64\",\"order\":\"little\",\"shape\":[2]},{\"__ndarray__\":\"i2BXZ9YDX0FCS6swzANfQQ==\",\"dtype\":\"float64\",\"order\":\"little\",\"shape\":[2]},{\"__ndarray__\":\"QkurMMwDX0FpoXRaygNfQQ==\",\"dtype\":\"float64\",\"order\":\"little\",\"shape\":[2]},{\"__ndarray__\":\"aaF0WsoDX0EvhBVrygNfQQ==\",\"dtype\":\"float64\",\"order\":\"little\",\"shape\":[2]},{\"__ndarray__\":\"L4QVa8oDX0EopiR4ygNfQQ==\",\"dtype\":\"float64\",\"order\":\"little\",\"shape\":[2]},{\"__ndarray__\":\"KKYkeMoDX0HcjNK2zANfQQ==\",\"dtype\":\"float64\",\"order\":\"little\",\"shape\":[2]},{\"__ndarray__\":\"3IzStswDX0EJptT5zQNfQQ==\",\"dtype\":\"float64\",\"order\":\"little\",\"shape\":[2]},{\"__ndarray__\":\"CabU+c0DX0GnRauYywNfQQ==\",\"dtype\":\"float64\",\"order\":\"little\",\"shape\":[2]},{\"__ndarray__\":\"p0WrmMsDX0E2CBzSxwNfQQ==\",\"dtype\":\"float64\",\"order\":\"little\",\"shape\":[2]},{\"__ndarray__\":\"Nggc0scDX0EjqCvKrwNfQQ==\",\"dtype\":\"float64\",\"order\":\"little\",\"shape\":[2]},{\"__ndarray__\":\"I6gryq8DX0FO1L57pQNfQQ==\",\"dtype\":\"float64\",\"order\":\"little\",\"shape\":[2]},{\"__ndarray__\":\"TtS+e6UDX0FLzROcqANfQQ==\",\"dtype\":\"float64\",\"order\":\"little\",\"shape\":[2]},{\"__ndarray__\":\"S80TnKgDX0GRRPU2rwNfQQ==\",\"dtype\":\"float64\",\"order\":\"little\",\"shape\":[2]},{\"__ndarray__\":\"kUT1Nq8DX0FAo6h5rQNfQQ==\",\"dtype\":\"float64\",\"order\":\"little\",\"shape\":[2]},{\"__ndarray__\":\"QKOoea0DX0H2R2MkqwNfQQ==\",\"dtype\":\"float64\",\"order\":\"little\",\"shape\":[2]},{\"__ndarray__\":\"9kdjJKsDX0EFYK7IogNfQQ==\",\"dtype\":\"float64\",\"order\":\"little\",\"shape\":[2]},{\"__ndarray__\":\"BWCuyKIDX0EnIRvcmQNfQQ==\",\"dtype\":\"float64\",\"order\":\"little\",\"shape\":[2]},{\"__ndarray__\":\"JyEb3JkDX0Gu1+PJeANfQQ==\",\"dtype\":\"float64\",\"order\":\"little\",\"shape\":[2]},{\"__ndarray__\":\"rtfjyXgDX0HC60WtXwNfQQ==\",\"dtype\":\"float64\",\"order\":\"little\",\"shape\":[2]},{\"__ndarray__\":\"wutFrV8DX0GQfWstIgNfQQ==\",\"dtype\":\"float64\",\"order\":\"little\",\"shape\":[2]},{\"__ndarray__\":\"kH1rLSIDX0FfcVMkFANfQQ==\",\"dtype\":\"float64\",\"order\":\"little\",\"shape\":[2]},{\"__ndarray__\":\"X3FTJBQDX0GdMubfCgNfQQ==\",\"dtype\":\"float64\",\"order\":\"little\",\"shape\":[2]},{\"__ndarray__\":\"nTLm3woDX0GsSLKK6AJfQQ==\",\"dtype\":\"float64\",\"order\":\"little\",\"shape\":[2]},{\"__ndarray__\":\"rEiyiugCX0FvcDz6qgJfQQ==\",\"dtype\":\"float64\",\"order\":\"little\",\"shape\":[2]},{\"__ndarray__\":\"b3A8+qoCX0HHCpsTSQJfQQ==\",\"dtype\":\"float64\",\"order\":\"little\",\"shape\":[2]},{\"__ndarray__\":\"xwqbE0kCX0EmZ2KWPQJfQQ==\",\"dtype\":\"float64\",\"order\":\"little\",\"shape\":[2]},{\"__ndarray__\":\"Jmdilj0CX0H0vH/xKwJfQQ==\",\"dtype\":\"float64\",\"order\":\"little\",\"shape\":[2]},{\"__ndarray__\":\"9Lx/8SsCX0HC/Ot1RgJfQQ==\",\"dtype\":\"float64\",\"order\":\"little\",\"shape\":[2]},{\"__ndarray__\":\"wvzrdUYCX0HQCh7ITgJfQQ==\",\"dtype\":\"float64\",\"order\":\"little\",\"shape\":[2]},{\"__ndarray__\":\"0AoeyE4CX0FWN7YmXQJfQQ==\",\"dtype\":\"float64\",\"order\":\"little\",\"shape\":[2]},{\"__ndarray__\":\"Vje2Jl0CX0E020r0ewJfQQ==\",\"dtype\":\"float64\",\"order\":\"little\",\"shape\":[2]},{\"__ndarray__\":\"NNtK9HsCX0E2PhvmigJfQQ==\",\"dtype\":\"float64\",\"order\":\"little\",\"shape\":[2]},{\"__ndarray__\":\"Nj4b5ooCX0HEvCPwlQJfQQ==\",\"dtype\":\"float64\",\"order\":\"little\",\"shape\":[2]},{\"__ndarray__\":\"xLwj8JUCX0GLzPU2nwJfQQ==\",\"dtype\":\"float64\",\"order\":\"little\",\"shape\":[2]},{\"__ndarray__\":\"i8z1Np8CX0EmLP9cqQJfQQ==\",\"dtype\":\"float64\",\"order\":\"little\",\"shape\":[2]},{\"__ndarray__\":\"Jiz/XKkCX0FdlREbuQJfQQ==\",\"dtype\":\"float64\",\"order\":\"little\",\"shape\":[2]},{\"__ndarray__\":\"XZURG7kCX0H0PjqrugJfQQ==\",\"dtype\":\"float64\",\"order\":\"little\",\"shape\":[2]},{\"__ndarray__\":\"9D46q7oCX0FUjltnxgJfQQ==\",\"dtype\":\"float64\",\"order\":\"little\",\"shape\":[2]},{\"__ndarray__\":\"VI5bZ8YCX0G1hlnoygJfQQ==\",\"dtype\":\"float64\",\"order\":\"little\",\"shape\":[2]},{\"__ndarray__\":\"tYZZ6MoCX0EKPeu3zQJfQQ==\",\"dtype\":\"float64\",\"order\":\"little\",\"shape\":[2]},{\"__ndarray__\":\"Cj3rt80CX0GWVaDy2AJfQQ==\",\"dtype\":\"float64\",\"order\":\"little\",\"shape\":[2]},{\"__ndarray__\":\"llWg8tgCX0FGsKMT2wJfQQ==\",\"dtype\":\"float64\",\"order\":\"little\",\"shape\":[2]},{\"__ndarray__\":\"RrCjE9sCX0GJr/z13wJfQQ==\",\"dtype\":\"float64\",\"order\":\"little\",\"shape\":[2]},{\"__ndarray__\":\"ia/89d8CX0Ho5C+n6AJfQQ==\",\"dtype\":\"float64\",\"order\":\"little\",\"shape\":[2]},{\"__ndarray__\":\"6OQvp+gCX0F3sGdE6gJfQQ==\",\"dtype\":\"float64\",\"order\":\"little\",\"shape\":[2]},{\"__ndarray__\":\"d7BnROoCX0Fhs8R52wJfQQ==\",\"dtype\":\"float64\",\"order\":\"little\",\"shape\":[2]},{\"__ndarray__\":\"YbPEedsCX0HTuJgA0QJfQQ==\",\"dtype\":\"float64\",\"order\":\"little\",\"shape\":[2]},{\"__ndarray__\":\"07iYANECX0GVCo0cxgJfQQ==\",\"dtype\":\"float64\",\"order\":\"little\",\"shape\":[2]},{\"__ndarray__\":\"lQqNHMYCX0HhUdrixgJfQQ==\",\"dtype\":\"float64\",\"order\":\"little\",\"shape\":[2]},{\"__ndarray__\":\"4VHa4sYCX0FUj2mpygJfQQ==\",\"dtype\":\"float64\",\"order\":\"little\",\"shape\":[2]},{\"__ndarray__\":\"VI9pqcoCX0Huv2mIzQJfQQ==\",\"dtype\":\"float64\",\"order\":\"little\",\"shape\":[2]},{\"__ndarray__\":\"7r9piM0CX0Fn2APvzgJfQQ==\",\"dtype\":\"float64\",\"order\":\"little\",\"shape\":[2]},{\"__ndarray__\":\"Z9gD784CX0HDDuwD0wJfQQ==\",\"dtype\":\"float64\",\"order\":\"little\",\"shape\":[2]}],\"ys\":[{\"__ndarray__\":\"YY6aDLutQEEFijesrK1AQQ==\",\"dtype\":\"float64\",\"order\":\"little\",\"shape\":[2]},{\"__ndarray__\":\"BYo3rKytQEGF1gBqoq1AQQ==\",\"dtype\":\"float64\",\"order\":\"little\",\"shape\":[2]},{\"__ndarray__\":\"hdYAaqKtQEHBECIAka1AQQ==\",\"dtype\":\"float64\",\"order\":\"little\",\"shape\":[2]},{\"__ndarray__\":\"wRAiAJGtQEHMs/q2bq1AQQ==\",\"dtype\":\"float64\",\"order\":\"little\",\"shape\":[2]},{\"__ndarray__\":\"zLP6tm6tQEGZRgcLXK1AQQ==\",\"dtype\":\"float64\",\"order\":\"little\",\"shape\":[2]},{\"__ndarray__\":\"mUYHC1ytQEFt7Th956xAQQ==\",\"dtype\":\"float64\",\"order\":\"little\",\"shape\":[2]},{\"__ndarray__\":\"be04feesQEHUce9LtqxAQQ==\",\"dtype\":\"float64\",\"order\":\"little\",\"shape\":[2]},{\"__ndarray__\":\"1HHvS7asQEFE4/lwl6xAQQ==\",\"dtype\":\"float64\",\"order\":\"little\",\"shape\":[2]},{\"__ndarray__\":\"ROP5cJesQEGjQFBRiKxAQQ==\",\"dtype\":\"float64\",\"order\":\"little\",\"shape\":[2]},{\"__ndarray__\":\"o0BQUYisQEFlsV2NcqxAQQ==\",\"dtype\":\"float64\",\"order\":\"little\",\"shape\":[2]},{\"__ndarray__\":\"ZbFdjXKsQEEzmm4ZR6xAQQ==\",\"dtype\":\"float64\",\"order\":\"little\",\"shape\":[2]},{\"__ndarray__\":\"M5puGUesQEEJDiwME6xAQQ==\",\"dtype\":\"float64\",\"order\":\"little\",\"shape\":[2]},{\"__ndarray__\":\"CQ4sDBOsQEHHw/xtYqtAQQ==\",\"dtype\":\"float64\",\"order\":\"little\",\"shape\":[2]},{\"__ndarray__\":\"x8P8bWKrQEENSVWWUatAQQ==\",\"dtype\":\"float64\",\"order\":\"little\",\"shape\":[2]},{\"__ndarray__\":\"DUlVllGrQEHG2GKOMqtAQQ==\",\"dtype\":\"float64\",\"order\":\"little\",\"shape\":[2]},{\"__ndarray__\":\"xthijjKrQEECV8AoBatAQQ==\",\"dtype\":\"float64\",\"order\":\"little\",\"shape\":[2]},{\"__ndarray__\":\"AlfAKAWrQEGIRavy7KpAQQ==\",\"dtype\":\"float64\",\"order\":\"little\",\"shape\":[2]},{\"__ndarray__\":\"iEWr8uyqQEHZTLfMyapAQQ==\",\"dtype\":\"float64\",\"order\":\"little\",\"shape\":[2]},{\"__ndarray__\":\"2Uy3zMmqQEHtmiNUnqpAQQ==\",\"dtype\":\"float64\",\"order\":\"little\",\"shape\":[2]},{\"__ndarray__\":\"7ZojVJ6qQEGoP8f+cqpAQQ==\",\"dtype\":\"float64\",\"order\":\"little\",\"shape\":[2]},{\"__ndarray__\":\"qD/H/nKqQEGKddSICapAQQ==\",\"dtype\":\"float64\",\"order\":\"little\",\"shape\":[2]},{\"__ndarray__\":\"inXUiAmqQEG/7l0F3KlAQQ==\",\"dtype\":\"float64\",\"order\":\"little\",\"shape\":[2]},{\"__ndarray__\":\"v+5dBdypQEGTiBBBV6lAQQ==\",\"dtype\":\"float64\",\"order\":\"little\",\"shape\":[2]},{\"__ndarray__\":\"k4gQQVepQEGDMFsQ9KhAQQ==\",\"dtype\":\"float64\",\"order\":\"little\",\"shape\":[2]},{\"__ndarray__\":\"gzBbEPSoQEGozXZDyahAQQ==\",\"dtype\":\"float64\",\"order\":\"little\",\"shape\":[2]},{\"__ndarray__\":\"qM12Q8moQEHGhBoKoqhAQQ==\",\"dtype\":\"float64\",\"order\":\"little\",\"shape\":[2]},{\"__ndarray__\":\"xoQaCqKoQEGVNF5a86dAQQ==\",\"dtype\":\"float64\",\"order\":\"little\",\"shape\":[2]},{\"__ndarray__\":\"lTReWvOnQEHWRq1B3adAQQ==\",\"dtype\":\"float64\",\"order\":\"little\",\"shape\":[2]},{\"__ndarray__\":\"1katQd2nQEHQGVIRfqdAQQ==\",\"dtype\":\"float64\",\"order\":\"little\",\"shape\":[2]},{\"__ndarray__\":\"0BlSEX6nQEHZoA1iSKdAQQ==\",\"dtype\":\"float64\",\"order\":\"little\",\"shape\":[2]},{\"__ndarray__\":\"2aANYkinQEHpd7wMLadAQQ==\",\"dtype\":\"float64\",\"order\":\"little\",\"shape\":[2]},{\"__ndarray__\":\"6Xe8DC2nQEF8wMG6DqdAQQ==\",\"dtype\":\"float64\",\"order\":\"little\",\"shape\":[2]},{\"__ndarray__\":\"fMDBug6nQEHDb6bL9qZAQQ==\",\"dtype\":\"float64\",\"order\":\"little\",\"shape\":[2]},{\"__ndarray__\":\"w2+my/amQEG0IZf63qZAQQ==\",\"dtype\":\"float64\",\"order\":\"little\",\"shape\":[2]},{\"__ndarray__\":\"tCGX+t6mQEHTbPNuhaZAQQ==\",\"dtype\":\"float64\",\"order\":\"little\",\"shape\":[2]},{\"__ndarray__\":\"02zzboWmQEEEywppSKZAQQ==\",\"dtype\":\"float64\",\"order\":\"little\",\"shape\":[2]},{\"__ndarray__\":\"BMsKaUimQEEktReajaVAQQ==\",\"dtype\":\"float64\",\"order\":\"little\",\"shape\":[2]},{\"__ndarray__\":\"JLUXmo2lQEFQy/08VqVAQQ==\",\"dtype\":\"float64\",\"order\":\"little\",\"shape\":[2]},{\"__ndarray__\":\"UMv9PFalQEEa4lNmF6VAQQ==\",\"dtype\":\"float64\",\"order\":\"little\",\"shape\":[2]},{\"__ndarray__\":\"GuJTZhelQEEq/6oW86RAQQ==\",\"dtype\":\"float64\",\"order\":\"little\",\"shape\":[2]},{\"__ndarray__\":\"Kv+qFvOkQEFVACzecqRAQQ==\",\"dtype\":\"float64\",\"order\":\"little\",\"shape\":[2]},{\"__ndarray__\":\"VQAs3nKkQEEypuAIVqRAQQ==\",\"dtype\":\"float64\",\"order\":\"little\",\"shape\":[2]},{\"__ndarray__\":\"MqbgCFakQEFEC+aj7aNAQQ==\",\"dtype\":\"float64\",\"order\":\"little\",\"shape\":[2]},{\"__ndarray__\":\"RAvmo+2jQEErx0Fov6NAQQ==\",\"dtype\":\"float64\",\"order\":\"little\",\"shape\":[2]},{\"__ndarray__\":\"K8dBaL+jQEHxbWELO6NAQQ==\",\"dtype\":\"float64\",\"order\":\"little\",\"shape\":[2]},{\"__ndarray__\":\"8W1hCzujQEGxcX2QGaNAQQ==\",\"dtype\":\"float64\",\"order\":\"little\",\"shape\":[2]},{\"__ndarray__\":\"sXF9kBmjQEGH0ejYuKJAQQ==\",\"dtype\":\"float64\",\"order\":\"little\",\"shape\":[2]},{\"__ndarray__\":\"h9Ho2LiiQEEp596BnaJAQQ==\",\"dtype\":\"float64\",\"order\":\"little\",\"shape\":[2]},{\"__ndarray__\":\"KefegZ2iQEFuWE73hKJAQQ==\",\"dtype\":\"float64\",\"order\":\"little\",\"shape\":[2]},{\"__ndarray__\":\"blhO94SiQEEr1EhgFaJAQQ==\",\"dtype\":\"float64\",\"order\":\"little\",\"shape\":[2]},{\"__ndarray__\":\"K9RIYBWiQEG2pM789KFAQQ==\",\"dtype\":\"float64\",\"order\":\"little\",\"shape\":[2]},{\"__ndarray__\":\"tqTO/PShQEH1WVgV0qFAQQ==\",\"dtype\":\"float64\",\"order\":\"little\",\"shape\":[2]},{\"__ndarray__\":\"9VlYFdKhQEG1fC99wKFAQQ==\",\"dtype\":\"float64\",\"order\":\"little\",\"shape\":[2]},{\"__ndarray__\":\"tXwvfcChQEGQTW3PYqFAQQ==\",\"dtype\":\"float64\",\"order\":\"little\",\"shape\":[2]},{\"__ndarray__\":\"kE1tz2KhQEG++lVhRqFAQQ==\",\"dtype\":\"float64\",\"order\":\"little\",\"shape\":[2]},{\"__ndarray__\":\"vvpVYUahQEFvI/LVEqFAQQ==\",\"dtype\":\"float64\",\"order\":\"little\",\"shape\":[2]},{\"__ndarray__\":\"byPy1RKhQEHUDQB/CqFAQQ==\",\"dtype\":\"float64\",\"order\":\"little\",\"shape\":[2]},{\"__ndarray__\":\"1A0AfwqhQEE/qwhE9KBAQQ==\",\"dtype\":\"float64\",\"order\":\"little\",\"shape\":[2]},{\"__ndarray__\":\"P6sIRPSgQEEfYW7PGaFAQQ==\",\"dtype\":\"float64\",\"order\":\"little\",\"shape\":[2]},{\"__ndarray__\":\"H2FuzxmhQEFRyBnJt6FAQQ==\",\"dtype\":\"float64\",\"order\":\"little\",\"shape\":[2]},{\"__ndarray__\":\"UcgZybehQEHgQNbY0aFAQQ==\",\"dtype\":\"float64\",\"order\":\"little\",\"shape\":[2]},{\"__ndarray__\":\"4EDW2NGhQEHyaBX5AKJAQQ==\",\"dtype\":\"float64\",\"order\":\"little\",\"shape\":[2]},{\"__ndarray__\":\"8mgV+QCiQEFcd1rgXaJAQQ==\",\"dtype\":\"float64\",\"order\":\"little\",\"shape\":[2]},{\"__ndarray__\":\"XHda4F2iQEGPsfNwkKJAQQ==\",\"dtype\":\"float64\",\"order\":\"little\",\"shape\":[2]},{\"__ndarray__\":\"j7HzcJCiQEFvRHfhfKJAQQ==\",\"dtype\":\"float64\",\"order\":\"little\",\"shape\":[2]},{\"__ndarray__\":\"b0R34XyiQEFh45xYO6JAQQ==\",\"dtype\":\"float64\",\"order\":\"little\",\"shape\":[2]},{\"__ndarray__\":\"YeOcWDuiQEGrpYvKEaJAQQ==\",\"dtype\":\"float64\",\"order\":\"little\",\"shape\":[2]},{\"__ndarray__\":\"q6WLyhGiQEE466szmKFAQQ==\",\"dtype\":\"float64\",\"order\":\"little\",\"shape\":[2]},{\"__ndarray__\":\"OOurM5ihQEEeG5zyf6FAQQ==\",\"dtype\":\"float64\",\"order\":\"little\",\"shape\":[2]},{\"__ndarray__\":\"Hhuc8n+hQEEIOpK2caFAQQ==\",\"dtype\":\"float64\",\"order\":\"little\",\"shape\":[2]},{\"__ndarray__\":\"CDqStnGhQEF4rVE3UaFAQQ==\",\"dtype\":\"float64\",\"order\":\"little\",\"shape\":[2]},{\"__ndarray__\":\"eK1RN1GhQEHMcFobM6FAQQ==\",\"dtype\":\"float64\",\"order\":\"little\",\"shape\":[2]},{\"__ndarray__\":\"zHBaGzOhQEGNCtHsEqBAQQ==\",\"dtype\":\"float64\",\"order\":\"little\",\"shape\":[2]},{\"__ndarray__\":\"jQrR7BKgQEEmCW93q59AQQ==\",\"dtype\":\"float64\",\"order\":\"little\",\"shape\":[2]},{\"__ndarray__\":\"Jglvd6ufQEGlowarn59AQQ==\",\"dtype\":\"float64\",\"order\":\"little\",\"shape\":[2]},{\"__ndarray__\":\"paMGq5+fQEH2ctRojp9AQQ==\",\"dtype\":\"float64\",\"order\":\"little\",\"shape\":[2]},{\"__ndarray__\":\"9nLUaI6fQEFbUOCAbp9AQQ==\",\"dtype\":\"float64\",\"order\":\"little\",\"shape\":[2]},{\"__ndarray__\":\"W1DggG6fQEH3urwBZp9AQQ==\",\"dtype\":\"float64\",\"order\":\"little\",\"shape\":[2]},{\"__ndarray__\":\"97q8AWafQEF4vP2OTp9AQQ==\",\"dtype\":\"float64\",\"order\":\"little\",\"shape\":[2]},{\"__ndarray__\":\"eLz9jk6fQEE5o8aB7Z5AQQ==\",\"dtype\":\"float64\",\"order\":\"little\",\"shape\":[2]},{\"__ndarray__\":\"OaPGge2eQEG1iQbZw55AQQ==\",\"dtype\":\"float64\",\"order\":\"little\",\"shape\":[2]},{\"__ndarray__\":\"tYkG2cOeQEFEEvdai55AQQ==\",\"dtype\":\"float64\",\"order\":\"little\",\"shape\":[2]},{\"__ndarray__\":\"RBL3WoueQEGJi+jNa55AQQ==\",\"dtype\":\"float64\",\"order\":\"little\",\"shape\":[2]},{\"__ndarray__\":\"iYvozWueQEHSW04wSZ5AQQ==\",\"dtype\":\"float64\",\"order\":\"little\",\"shape\":[2]},{\"__ndarray__\":\"0ltOMEmeQEH477WuwZ1AQQ==\",\"dtype\":\"float64\",\"order\":\"little\",\"shape\":[2]},{\"__ndarray__\":\"+O+1rsGdQEEXBLK+qZ1AQQ==\",\"dtype\":\"float64\",\"order\":\"little\",\"shape\":[2]},{\"__ndarray__\":\"FwSyvqmdQEFCYbSNkp1AQQ==\",\"dtype\":\"float64\",\"order\":\"little\",\"shape\":[2]},{\"__ndarray__\":\"QmG0jZKdQEEr8lXlaJ1AQQ==\",\"dtype\":\"float64\",\"order\":\"little\",\"shape\":[2]},{\"__ndarray__\":\"K/JV5WidQEHWieKGRp1AQQ==\",\"dtype\":\"float64\",\"order\":\"little\",\"shape\":[2]},{\"__ndarray__\":\"1onihkadQEH3pNE/7ZxAQQ==\",\"dtype\":\"float64\",\"order\":\"little\",\"shape\":[2]},{\"__ndarray__\":\"96TRP+2cQEGo8okQ1JxAQQ==\",\"dtype\":\"float64\",\"order\":\"little\",\"shape\":[2]},{\"__ndarray__\":\"qPKJENScQEEqVJE5vJxAQQ==\",\"dtype\":\"float64\",\"order\":\"little\",\"shape\":[2]},{\"__ndarray__\":\"KlSRObycQEF/nW6dTZxAQQ==\",\"dtype\":\"float64\",\"order\":\"little\",\"shape\":[2]},{\"__ndarray__\":\"f51unU2cQEGtTWIuMpxAQQ==\",\"dtype\":\"float64\",\"order\":\"little\",\"shape\":[2]},{\"__ndarray__\":\"rU1iLjKcQEFF84qbH5xAQQ==\",\"dtype\":\"float64\",\"order\":\"little\",\"shape\":[2]},{\"__ndarray__\":\"RfOKmx+cQEHjt4UjEZxAQQ==\",\"dtype\":\"float64\",\"order\":\"little\",\"shape\":[2]},{\"__ndarray__\":\"47eFIxGcQEFxqZFjqptAQQ==\",\"dtype\":\"float64\",\"order\":\"little\",\"shape\":[2]},{\"__ndarray__\":\"camRY6qbQEF28czMlJtAQQ==\",\"dtype\":\"float64\",\"order\":\"little\",\"shape\":[2]},{\"__ndarray__\":\"dvHMzJSbQEHw6uxshJtAQQ==\",\"dtype\":\"float64\",\"order\":\"little\",\"shape\":[2]},{\"__ndarray__\":\"8OrsbISbQEEHPONAcZtAQQ==\",\"dtype\":\"float64\",\"order\":\"little\",\"shape\":[2]},{\"__ndarray__\":\"BzzjQHGbQEGR7smqHZtAQQ==\",\"dtype\":\"float64\",\"order\":\"little\",\"shape\":[2]},{\"__ndarray__\":\"ke7Jqh2bQEGkNMx75JpAQQ==\",\"dtype\":\"float64\",\"order\":\"little\",\"shape\":[2]},{\"__ndarray__\":\"pDTMe+SaQEHtQKF9zZpAQQ==\",\"dtype\":\"float64\",\"order\":\"little\",\"shape\":[2]},{\"__ndarray__\":\"7UChfc2aQEFiae0svZpAQQ==\",\"dtype\":\"float64\",\"order\":\"little\",\"shape\":[2]},{\"__ndarray__\":\"YmntLL2aQEHEKCfwgJpAQQ==\",\"dtype\":\"float64\",\"order\":\"little\",\"shape\":[2]},{\"__ndarray__\":\"xCgn8ICaQEGGAV2cc5pAQQ==\",\"dtype\":\"float64\",\"order\":\"little\",\"shape\":[2]},{\"__ndarray__\":\"hgFdnHOaQEH+q0ZoNZpAQQ==\",\"dtype\":\"float64\",\"order\":\"little\",\"shape\":[2]},{\"__ndarray__\":\"/qtGaDWaQEG5VVTW+JlAQQ==\",\"dtype\":\"float64\",\"order\":\"little\",\"shape\":[2]},{\"__ndarray__\":\"uVVU1viZQEEdlwgU4ZlAQQ==\",\"dtype\":\"float64\",\"order\":\"little\",\"shape\":[2]},{\"__ndarray__\":\"HZcIFOGZQEGNn25Jx5lAQQ==\",\"dtype\":\"float64\",\"order\":\"little\",\"shape\":[2]},{\"__ndarray__\":\"jZ9uSceZQEF/CH6/pplAQQ==\",\"dtype\":\"float64\",\"order\":\"little\",\"shape\":[2]},{\"__ndarray__\":\"fwh+v6aZQEE9+xV+gJlAQQ==\",\"dtype\":\"float64\",\"order\":\"little\",\"shape\":[2]},{\"__ndarray__\":\"PfsVfoCZQEFD/JOwa5lAQQ==\",\"dtype\":\"float64\",\"order\":\"little\",\"shape\":[2]},{\"__ndarray__\":\"Q/yTsGuZQEHN08khUZlAQQ==\",\"dtype\":\"float64\",\"order\":\"little\",\"shape\":[2]},{\"__ndarray__\":\"zdPJIVGZQEEBmdi2LJlAQQ==\",\"dtype\":\"float64\",\"order\":\"little\",\"shape\":[2]},{\"__ndarray__\":\"AZnYtiyZQEE4MjUC9phAQQ==\",\"dtype\":\"float64\",\"order\":\"little\",\"shape\":[2]},{\"__ndarray__\":\"ODI1AvaYQEGldfym45hAQQ==\",\"dtype\":\"float64\",\"order\":\"little\",\"shape\":[2]},{\"__ndarray__\":\"pXX8puOYQEHDWweulZhAQQ==\",\"dtype\":\"float64\",\"order\":\"little\",\"shape\":[2]},{\"__ndarray__\":\"w1sHrpWYQEFuxWlXUJhAQQ==\",\"dtype\":\"float64\",\"order\":\"little\",\"shape\":[2]},{\"__ndarray__\":\"bsVpV1CYQEHnlC4uBphAQQ==\",\"dtype\":\"float64\",\"order\":\"little\",\"shape\":[2]},{\"__ndarray__\":\"55QuLgaYQEGSu9lS85dAQQ==\",\"dtype\":\"float64\",\"order\":\"little\",\"shape\":[2]},{\"__ndarray__\":\"krvZUvOXQEHdpb+HtpdAQQ==\",\"dtype\":\"float64\",\"order\":\"little\",\"shape\":[2]},{\"__ndarray__\":\"3aW/h7aXQEHkyJQTiJdAQQ==\",\"dtype\":\"float64\",\"order\":\"little\",\"shape\":[2]},{\"__ndarray__\":\"5MiUE4iXQEGm3k7l+JZAQQ==\",\"dtype\":\"float64\",\"order\":\"little\",\"shape\":[2]},{\"__ndarray__\":\"pt5O5fiWQEHclx/aw5ZAQQ==\",\"dtype\":\"float64\",\"order\":\"little\",\"shape\":[2]},{\"__ndarray__\":\"3Jcf2sOWQEEs6N6fpZZAQQ==\",\"dtype\":\"float64\",\"order\":\"little\",\"shape\":[2]},{\"__ndarray__\":\"LOjen6WWQEEpRyUTlJZAQQ==\",\"dtype\":\"float64\",\"order\":\"little\",\"shape\":[2]},{\"__ndarray__\":\"KUclE5SWQEHw7BjqhpZAQQ==\",\"dtype\":\"float64\",\"order\":\"little\",\"shape\":[2]},{\"__ndarray__\":\"8OwY6oaWQEGVhI72PJZAQQ==\",\"dtype\":\"float64\",\"order\":\"little\",\"shape\":[2]},{\"__ndarray__\":\"lYSO9jyWQEFNADQP4JVAQQ==\",\"dtype\":\"float64\",\"order\":\"little\",\"shape\":[2]},{\"__ndarray__\":\"TQA0D+CVQEHQtzRFzJVAQQ==\",\"dtype\":\"float64\",\"order\":\"little\",\"shape\":[2]},{\"__ndarray__\":\"0Lc0RcyVQEEwC1ZBrJVAQQ==\",\"dtype\":\"float64\",\"order\":\"little\",\"shape\":[2]},{\"__ndarray__\":\"MAtWQayVQEFSJNdOjJVAQQ==\",\"dtype\":\"float64\",\"order\":\"little\",\"shape\":[2]},{\"__ndarray__\":\"UiTXToyVQEHhfMUWZ5VAQQ==\",\"dtype\":\"float64\",\"order\":\"little\",\"shape\":[2]},{\"__ndarray__\":\"4XzFFmeVQEHqBZrZKpVAQQ==\",\"dtype\":\"float64\",\"order\":\"little\",\"shape\":[2]},{\"__ndarray__\":\"6gWa2SqVQEHK0tFRDZVAQQ==\",\"dtype\":\"float64\",\"order\":\"little\",\"shape\":[2]},{\"__ndarray__\":\"ytLRUQ2VQEFyUH+8vpRAQQ==\",\"dtype\":\"float64\",\"order\":\"little\",\"shape\":[2]},{\"__ndarray__\":\"clB/vL6UQEHPr+3SrJRAQQ==\",\"dtype\":\"float64\",\"order\":\"little\",\"shape\":[2]},{\"__ndarray__\":\"z6/t0qyUQEGLnIJsf5RAQQ==\",\"dtype\":\"float64\",\"order\":\"little\",\"shape\":[2]},{\"__ndarray__\":\"i5yCbH+UQEGuCxeHTZRAQQ==\",\"dtype\":\"float64\",\"order\":\"little\",\"shape\":[2]},{\"__ndarray__\":\"rgsXh02UQEFfU39qM5RAQQ==\",\"dtype\":\"float64\",\"order\":\"little\",\"shape\":[2]},{\"__ndarray__\":\"X1N/ajOUQEEMvJ6XIZRAQQ==\",\"dtype\":\"float64\",\"order\":\"little\",\"shape\":[2]},{\"__ndarray__\":\"DLyelyGUQEHG5cD46pNAQQ==\",\"dtype\":\"float64\",\"order\":\"little\",\"shape\":[2]},{\"__ndarray__\":\"xuXA+OqTQEHOZqy0zJNAQQ==\",\"dtype\":\"float64\",\"order\":\"little\",\"shape\":[2]},{\"__ndarray__\":\"zmastMyTQEEdQKVktZNAQQ==\",\"dtype\":\"float64\",\"order\":\"little\",\"shape\":[2]},{\"__ndarray__\":\"HUClZLWTQEFgu7kuR5NAQQ==\",\"dtype\":\"float64\",\"order\":\"little\",\"shape\":[2]},{\"__ndarray__\":\"YLu5LkeTQEGcQFqhJ5NAQQ==\",\"dtype\":\"float64\",\"order\":\"little\",\"shape\":[2]},{\"__ndarray__\":\"nEBaoSeTQEGKXdlbHZNAQQ==\",\"dtype\":\"float64\",\"order\":\"little\",\"shape\":[2]},{\"__ndarray__\":\"il3ZWx2TQEFYCX5jEZNAQQ==\",\"dtype\":\"float64\",\"order\":\"little\",\"shape\":[2]},{\"__ndarray__\":\"WAl+YxGTQEGDsP4dB5NAQQ==\",\"dtype\":\"float64\",\"order\":\"little\",\"shape\":[2]},{\"__ndarray__\":\"g7D+HQeTQEEjZ7Zb+ZJAQQ==\",\"dtype\":\"float64\",\"order\":\"little\",\"shape\":[2]},{\"__ndarray__\":\"I2e2W/mSQEET1E0hOZNAQQ==\",\"dtype\":\"float64\",\"order\":\"little\",\"shape\":[2]},{\"__ndarray__\":\"E9RNITmTQEHMH01VW5NAQQ==\",\"dtype\":\"float64\",\"order\":\"little\",\"shape\":[2]},{\"__ndarray__\":\"zB9NVVuTQEFY9qWWbZNAQQ==\",\"dtype\":\"float64\",\"order\":\"little\",\"shape\":[2]},{\"__ndarray__\":\"WPallm2TQEE0O/m8gJNAQQ==\",\"dtype\":\"float64\",\"order\":\"little\",\"shape\":[2]},{\"__ndarray__\":\"NDv5vICTQEHReEgslZNAQQ==\",\"dtype\":\"float64\",\"order\":\"little\",\"shape\":[2]},{\"__ndarray__\":\"0XhILJWTQEFS/qP/rZNAQQ==\",\"dtype\":\"float64\",\"order\":\"little\",\"shape\":[2]},{\"__ndarray__\":\"Uv6j/62TQEES8YATv5NAQQ==\",\"dtype\":\"float64\",\"order\":\"little\",\"shape\":[2]},{\"__ndarray__\":\"EvGAE7+TQEGeQU0D5pNAQQ==\",\"dtype\":\"float64\",\"order\":\"little\",\"shape\":[2]},{\"__ndarray__\":\"nkFNA+aTQEHUfESNA5RAQQ==\",\"dtype\":\"float64\",\"order\":\"little\",\"shape\":[2]},{\"__ndarray__\":\"1HxEjQOUQEGdL2vNEpRAQQ==\",\"dtype\":\"float64\",\"order\":\"little\",\"shape\":[2]},{\"__ndarray__\":\"nS9rzRKUQEHWzZE1tJRAQQ==\",\"dtype\":\"float64\",\"order\":\"little\",\"shape\":[2]},{\"__ndarray__\":\"1s2RNbSUQEHgohpNyJRAQQ==\",\"dtype\":\"float64\",\"order\":\"little\",\"shape\":[2]},{\"__ndarray__\":\"4KIaTciUQEFpOPyK6ZRAQQ==\",\"dtype\":\"float64\",\"order\":\"little\",\"shape\":[2]},{\"__ndarray__\":\"aTj8iumUQEF0clIpGJVAQQ==\",\"dtype\":\"float64\",\"order\":\"little\",\"shape\":[2]},{\"__ndarray__\":\"dHJSKRiVQEHQaR8FZ5VAQQ==\",\"dtype\":\"float64\",\"order\":\"little\",\"shape\":[2]},{\"__ndarray__\":\"0GkfBWeVQEGxDP9xepVAQQ==\",\"dtype\":\"float64\",\"order\":\"little\",\"shape\":[2]},{\"__ndarray__\":\"sQz/cXqVQEEhhztDsJVAQQ==\",\"dtype\":\"float64\",\"order\":\"little\",\"shape\":[2]},{\"__ndarray__\":\"IYc7Q7CVQEHctwZPy5VAQQ==\",\"dtype\":\"float64\",\"order\":\"little\",\"shape\":[2]},{\"__ndarray__\":\"3LcGT8uVQEHd+kph3pVAQQ==\",\"dtype\":\"float64\",\"order\":\"little\",\"shape\":[2]},{\"__ndarray__\":\"3fpKYd6VQEElR4ZARZZAQQ==\",\"dtype\":\"float64\",\"order\":\"little\",\"shape\":[2]},{\"__ndarray__\":\"JUeGQEWWQEGayROfVJZAQQ==\",\"dtype\":\"float64\",\"order\":\"little\",\"shape\":[2]},{\"__ndarray__\":\"mskTn1SWQEEk6qVIipZAQQ==\",\"dtype\":\"float64\",\"order\":\"little\",\"shape\":[2]},{\"__ndarray__\":\"JOqlSIqWQEFNX2DhsZZAQQ==\",\"dtype\":\"float64\",\"order\":\"little\",\"shape\":[2]},{\"__ndarray__\":\"TV9g4bGWQEGZ0EN935ZAQQ==\",\"dtype\":\"float64\",\"order\":\"little\",\"shape\":[2]},{\"__ndarray__\":\"mdBDfd+WQEGw92d5/pZAQQ==\",\"dtype\":\"float64\",\"order\":\"little\",\"shape\":[2]},{\"__ndarray__\":\"sPdnef6WQEFoVwkRKJdAQQ==\",\"dtype\":\"float64\",\"order\":\"little\",\"shape\":[2]},{\"__ndarray__\":\"aFcJESiXQEGmUupxPJdAQQ==\",\"dtype\":\"float64\",\"order\":\"little\",\"shape\":[2]},{\"__ndarray__\":\"plLqcTyXQEGUcTCog5dAQQ==\",\"dtype\":\"float64\",\"order\":\"little\",\"shape\":[2]},{\"__ndarray__\":\"lHEwqIOXQEGVHZLwv5dAQQ==\",\"dtype\":\"float64\",\"order\":\"little\",\"shape\":[2]},{\"__ndarray__\":\"lR2S8L+XQEGApLJCB5hAQQ==\",\"dtype\":\"float64\",\"order\":\"little\",\"shape\":[2]},{\"__ndarray__\":\"gKSyQgeYQEHrsZjXKZhAQQ==\",\"dtype\":\"float64\",\"order\":\"little\",\"shape\":[2]},{\"__ndarray__\":\"67GY1ymYQEETJheqVZhAQQ==\",\"dtype\":\"float64\",\"order\":\"little\",\"shape\":[2]},{\"__ndarray__\":\"EyYXqlWYQEEc6u5f/ZhAQQ==\",\"dtype\":\"float64\",\"order\":\"little\",\"shape\":[2]},{\"__ndarray__\":\"HOruX/2YQEEXqFzSR5lAQQ==\",\"dtype\":\"float64\",\"order\":\"little\",\"shape\":[2]},{\"__ndarray__\":\"F6hc0keZQEGKjmGNhplAQQ==\",\"dtype\":\"float64\",\"order\":\"little\",\"shape\":[2]},{\"__ndarray__\":\"io5hjYaZQEFzO+/muplAQQ==\",\"dtype\":\"float64\",\"order\":\"little\",\"shape\":[2]},{\"__ndarray__\":\"czvv5rqZQEHVXURoH5pAQQ==\",\"dtype\":\"float64\",\"order\":\"little\",\"shape\":[2]},{\"__ndarray__\":\"1V1EaB+aQEHIV2BVrZpAQQ==\",\"dtype\":\"float64\",\"order\":\"little\",\"shape\":[2]},{\"__ndarray__\":\"yFdgVa2aQEFUuNsKz5pAQQ==\",\"dtype\":\"float64\",\"order\":\"little\",\"shape\":[2]},{\"__ndarray__\":\"VLjbCs+aQEFX4zxK4JpAQQ==\",\"dtype\":\"float64\",\"order\":\"little\",\"shape\":[2]},{\"__ndarray__\":\"V+M8SuCaQEGrJ2e7AJtAQQ==\",\"dtype\":\"float64\",\"order\":\"little\",\"shape\":[2]},{\"__ndarray__\":\"qydnuwCbQEE8v/7YH5tAQQ==\",\"dtype\":\"float64\",\"order\":\"little\",\"shape\":[2]},{\"__ndarray__\":\"PL/+2B+bQEF/35Ic+ppAQQ==\",\"dtype\":\"float64\",\"order\":\"little\",\"shape\":[2]},{\"__ndarray__\":\"f9+SHPqaQEF8tcfNx5pAQQ==\",\"dtype\":\"float64\",\"order\":\"little\",\"shape\":[2]},{\"__ndarray__\":\"fLXHzceaQEE//QR0rppAQQ==\",\"dtype\":\"float64\",\"order\":\"little\",\"shape\":[2]},{\"__ndarray__\":\"P/0EdK6aQEEHQcU+nZpAQQ==\",\"dtype\":\"float64\",\"order\":\"little\",\"shape\":[2]},{\"__ndarray__\":\"B0HFPp2aQEEUKWq1DZpAQQ==\",\"dtype\":\"float64\",\"order\":\"little\",\"shape\":[2]},{\"__ndarray__\":\"FClqtQ2aQEFaqvpOfJlAQQ==\",\"dtype\":\"float64\",\"order\":\"little\",\"shape\":[2]},{\"__ndarray__\":\"Wqr6TnyZQEGXk6t0RplAQQ==\",\"dtype\":\"float64\",\"order\":\"little\",\"shape\":[2]},{\"__ndarray__\":\"l5OrdEaZQEE6CwinBJlAQQ==\",\"dtype\":\"float64\",\"order\":\"little\",\"shape\":[2]},{\"__ndarray__\":\"OgsIpwSZQEF+ndvw2phAQQ==\",\"dtype\":\"float64\",\"order\":\"little\",\"shape\":[2]},{\"__ndarray__\":\"fp3b8NqYQEE9q6zLBJhAQQ==\",\"dtype\":\"float64\",\"order\":\"little\",\"shape\":[2]},{\"__ndarray__\":\"PausywSYQEHrMsDnoJdAQQ==\",\"dtype\":\"float64\",\"order\":\"little\",\"shape\":[2]},{\"__ndarray__\":\"6zLA56CXQEFApvqAgJdAQQ==\",\"dtype\":\"float64\",\"order\":\"little\",\"shape\":[2]},{\"__ndarray__\":\"QKb6gICXQEEMUOJKcZdAQQ==\",\"dtype\":\"float64\",\"order\":\"little\",\"shape\":[2]},{\"__ndarray__\":\"DFDiSnGXQEEhOmuVTpdAQQ==\",\"dtype\":\"float64\",\"order\":\"little\",\"shape\":[2]},{\"__ndarray__\":\"ITprlU6XQEG8BczaNZdAQQ==\",\"dtype\":\"float64\",\"order\":\"little\",\"shape\":[2]},{\"__ndarray__\":\"vAXM2jWXQEFSZF/ODpdAQQ==\",\"dtype\":\"float64\",\"order\":\"little\",\"shape\":[2]},{\"__ndarray__\":\"UmRfzg6XQEGZrLE/4pZAQQ==\",\"dtype\":\"float64\",\"order\":\"little\",\"shape\":[2]},{\"__ndarray__\":\"mayxP+KWQEF8cfti0ZZAQQ==\",\"dtype\":\"float64\",\"order\":\"little\",\"shape\":[2]},{\"__ndarray__\":\"fHH7YtGWQEEewKuwr5ZAQQ==\",\"dtype\":\"float64\",\"order\":\"little\",\"shape\":[2]},{\"__ndarray__\":\"HsCrsK+WQEEjwFhpf5ZAQQ==\",\"dtype\":\"float64\",\"order\":\"little\",\"shape\":[2]},{\"__ndarray__\":\"I8BYaX+WQEF5nHp6XJZAQQ==\",\"dtype\":\"float64\",\"order\":\"little\",\"shape\":[2]},{\"__ndarray__\":\"eZx6elyWQEEORdzIGJZAQQ==\",\"dtype\":\"float64\",\"order\":\"little\",\"shape\":[2]},{\"__ndarray__\":\"DkXcyBiWQEETNAEi7pVAQQ==\",\"dtype\":\"float64\",\"order\":\"little\",\"shape\":[2]},{\"__ndarray__\":\"EzQBIu6VQEEQuNaQ0pVAQQ==\",\"dtype\":\"float64\",\"order\":\"little\",\"shape\":[2]},{\"__ndarray__\":\"ELjWkNKVQEGBs8psopVAQQ==\",\"dtype\":\"float64\",\"order\":\"little\",\"shape\":[2]},{\"__ndarray__\":\"gbPKbKKVQEFq9x2IS5VAQQ==\",\"dtype\":\"float64\",\"order\":\"little\",\"shape\":[2]},{\"__ndarray__\":\"avcdiEuVQEGRHSOHIJVAQQ==\",\"dtype\":\"float64\",\"order\":\"little\",\"shape\":[2]},{\"__ndarray__\":\"kR0jhyCVQEGCDoDeAZVAQQ==\",\"dtype\":\"float64\",\"order\":\"little\",\"shape\":[2]},{\"__ndarray__\":\"gg6A3gGVQEE+hLtY45RAQQ==\",\"dtype\":\"float64\",\"order\":\"little\",\"shape\":[2]},{\"__ndarray__\":\"PoS7WOOUQEEUCyTPupRAQQ==\",\"dtype\":\"float64\",\"order\":\"little\",\"shape\":[2]},{\"__ndarray__\":\"FAskz7qUQEFP2EhffZRAQQ==\",\"dtype\":\"float64\",\"order\":\"little\",\"shape\":[2]},{\"__ndarray__\":\"T9hIX32UQEGd0dkPYpRAQQ==\",\"dtype\":\"float64\",\"order\":\"little\",\"shape\":[2]},{\"__ndarray__\":\"ndHZD2KUQEGLTbE2TZRAQQ==\",\"dtype\":\"float64\",\"order\":\"little\",\"shape\":[2]},{\"__ndarray__\":\"i02xNk2UQEF6QpEO3ZNAQQ==\",\"dtype\":\"float64\",\"order\":\"little\",\"shape\":[2]},{\"__ndarray__\":\"ekKRDt2TQEFYZhCwtZNAQQ==\",\"dtype\":\"float64\",\"order\":\"little\",\"shape\":[2]},{\"__ndarray__\":\"WGYQsLWTQEHjPFahhpNAQQ==\",\"dtype\":\"float64\",\"order\":\"little\",\"shape\":[2]},{\"__ndarray__\":\"4zxWoYaTQEE3wIVXfpNAQQ==\",\"dtype\":\"float64\",\"order\":\"little\",\"shape\":[2]},{\"__ndarray__\":\"N8CFV36TQEH+ZGfTbpNAQQ==\",\"dtype\":\"float64\",\"order\":\"little\",\"shape\":[2]},{\"__ndarray__\":\"/mRn026TQEETxy55LZNAQQ==\",\"dtype\":\"float64\",\"order\":\"little\",\"shape\":[2]},{\"__ndarray__\":\"E8cueS2TQEHEL9Ga85JAQQ==\",\"dtype\":\"float64\",\"order\":\"little\",\"shape\":[2]},{\"__ndarray__\":\"xC/RmvOSQEGHEs4ryJJAQQ==\",\"dtype\":\"float64\",\"order\":\"little\",\"shape\":[2]},{\"__ndarray__\":\"hxLOK8iSQEGWsy+nQ5JAQQ==\",\"dtype\":\"float64\",\"order\":\"little\",\"shape\":[2]},{\"__ndarray__\":\"lrMvp0OSQEE89pVuD5JAQQ==\",\"dtype\":\"float64\",\"order\":\"little\",\"shape\":[2]},{\"__ndarray__\":\"PPaVbg+SQEGy9PC9TpFAQQ==\",\"dtype\":\"float64\",\"order\":\"little\",\"shape\":[2]},{\"__ndarray__\":\"svTwvU6RQEENZoXhF5FAQQ==\",\"dtype\":\"float64\",\"order\":\"little\",\"shape\":[2]},{\"__ndarray__\":\"DWaF4ReRQEFREw9CsZBAQQ==\",\"dtype\":\"float64\",\"order\":\"little\",\"shape\":[2]},{\"__ndarray__\":\"URMPQrGQQEEAe3Xnl5BAQQ==\",\"dtype\":\"float64\",\"order\":\"little\",\"shape\":[2]},{\"__ndarray__\":\"AHt155eQQEEo9looZZBAQQ==\",\"dtype\":\"float64\",\"order\":\"little\",\"shape\":[2]},{\"__ndarray__\":\"KPZaKGWQQEEeMCCQNJBAQQ==\",\"dtype\":\"float64\",\"order\":\"little\",\"shape\":[2]},{\"__ndarray__\":\"HjAgkDSQQEGlPC2hbo9AQQ==\",\"dtype\":\"float64\",\"order\":\"little\",\"shape\":[2]},{\"__ndarray__\":\"pTwtoW6PQEEH1RTMD49AQQ==\",\"dtype\":\"float64\",\"order\":\"little\",\"shape\":[2]},{\"__ndarray__\":\"B9UUzA+PQEHzq93Y3I5AQQ==\",\"dtype\":\"float64\",\"order\":\"little\",\"shape\":[2]},{\"__ndarray__\":\"86vd2NyOQEFfxyupgo5AQQ==\",\"dtype\":\"float64\",\"order\":\"little\",\"shape\":[2]},{\"__ndarray__\":\"X8crqYKOQEHuGPx9o41AQQ==\",\"dtype\":\"float64\",\"order\":\"little\",\"shape\":[2]},{\"__ndarray__\":\"7hj8faONQEEcihJ1UI1AQQ==\",\"dtype\":\"float64\",\"order\":\"little\",\"shape\":[2]},{\"__ndarray__\":\"HIoSdVCNQEH4eH42sYxAQQ==\",\"dtype\":\"float64\",\"order\":\"little\",\"shape\":[2]},{\"__ndarray__\":\"+Hh+NrGMQEETb+TSaYxAQQ==\",\"dtype\":\"float64\",\"order\":\"little\",\"shape\":[2]},{\"__ndarray__\":\"E2/k0mmMQEH6MQd/I4xAQQ==\",\"dtype\":\"float64\",\"order\":\"little\",\"shape\":[2]},{\"__ndarray__\":\"+jEHfyOMQEFvdeRQi4tAQQ==\",\"dtype\":\"float64\",\"order\":\"little\",\"shape\":[2]},{\"__ndarray__\":\"b3XkUIuLQEEtMSlnYYtAQQ==\",\"dtype\":\"float64\",\"order\":\"little\",\"shape\":[2]},{\"__ndarray__\":\"LTEpZ2GLQEEvG4jdvIpAQQ==\",\"dtype\":\"float64\",\"order\":\"little\",\"shape\":[2]},{\"__ndarray__\":\"LxuI3byKQEGYhsSQc4pAQQ==\",\"dtype\":\"float64\",\"order\":\"little\",\"shape\":[2]},{\"__ndarray__\":\"mIbEkHOKQEHn/6gIXYpAQQ==\",\"dtype\":\"float64\",\"order\":\"little\",\"shape\":[2]},{\"__ndarray__\":\"5/+oCF2KQEHVjbIXZIpAQQ==\",\"dtype\":\"float64\",\"order\":\"little\",\"shape\":[2]},{\"__ndarray__\":\"1Y2yF2SKQEEy/ZCXaopAQQ==\",\"dtype\":\"float64\",\"order\":\"little\",\"shape\":[2]},{\"__ndarray__\":\"Mv2Ql2qKQEELlGdzg4pAQQ==\",\"dtype\":\"float64\",\"order\":\"little\",\"shape\":[2]},{\"__ndarray__\":\"C5Rnc4OKQEHnyTSHrIpAQQ==\",\"dtype\":\"float64\",\"order\":\"little\",\"shape\":[2]},{\"__ndarray__\":\"58k0h6yKQEGcYzUM3YpAQQ==\",\"dtype\":\"float64\",\"order\":\"little\",\"shape\":[2]},{\"__ndarray__\":\"nGM1DN2KQEHEyl5F4opAQQ==\",\"dtype\":\"float64\",\"order\":\"little\",\"shape\":[2]},{\"__ndarray__\":\"xMpeReKKQEF5E8MxnopAQQ==\",\"dtype\":\"float64\",\"order\":\"little\",\"shape\":[2]},{\"__ndarray__\":\"eRPDMZ6KQEGWVfxzAIpAQQ==\",\"dtype\":\"float64\",\"order\":\"little\",\"shape\":[2]},{\"__ndarray__\":\"llX8cwCKQEE0UAEM04lAQQ==\",\"dtype\":\"float64\",\"order\":\"little\",\"shape\":[2]},{\"__ndarray__\":\"NFABDNOJQEHYtFSPh4lAQQ==\",\"dtype\":\"float64\",\"order\":\"little\",\"shape\":[2]},{\"__ndarray__\":\"2LRUj4eJQEE8GyfE44hAQQ==\",\"dtype\":\"float64\",\"order\":\"little\",\"shape\":[2]},{\"__ndarray__\":\"PBsnxOOIQEEh/1JHj4hAQQ==\",\"dtype\":\"float64\",\"order\":\"little\",\"shape\":[2]},{\"__ndarray__\":\"If9SR4+IQEGPL/BbT4hAQQ==\",\"dtype\":\"float64\",\"order\":\"little\",\"shape\":[2]},{\"__ndarray__\":\"jy/wW0+IQEGrnWCbHohAQQ==\",\"dtype\":\"float64\",\"order\":\"little\",\"shape\":[2]},{\"__ndarray__\":\"q51gmx6IQEHCtLHa5YdAQQ==\",\"dtype\":\"float64\",\"order\":\"little\",\"shape\":[2]},{\"__ndarray__\":\"wrSx2uWHQEEoTxJGM4dAQQ==\",\"dtype\":\"float64\",\"order\":\"little\",\"shape\":[2]},{\"__ndarray__\":\"KE8SRjOHQEHTGJgnHIdAQQ==\",\"dtype\":\"float64\",\"order\":\"little\",\"shape\":[2]},{\"__ndarray__\":\"0xiYJxyHQEESh9ShhIZAQQ==\",\"dtype\":\"float64\",\"order\":\"little\",\"shape\":[2]},{\"__ndarray__\":\"EofUoYSGQEHBa+cmSIZAQQ==\",\"dtype\":\"float64\",\"order\":\"little\",\"shape\":[2]},{\"__ndarray__\":\"wWvnJkiGQEGIeeAQJIZAQQ==\",\"dtype\":\"float64\",\"order\":\"little\",\"shape\":[2]},{\"__ndarray__\":\"iHngECSGQEFw9xMylYVAQQ==\",\"dtype\":\"float64\",\"order\":\"little\",\"shape\":[2]},{\"__ndarray__\":\"cPcTMpWFQEHYJjGGeoVAQQ==\",\"dtype\":\"float64\",\"order\":\"little\",\"shape\":[2]},{\"__ndarray__\":\"2CYxhnqFQEGLo2CNO4VAQQ==\",\"dtype\":\"float64\",\"order\":\"little\",\"shape\":[2]},{\"__ndarray__\":\"i6NgjTuFQEGuq3vw0oRAQQ==\",\"dtype\":\"float64\",\"order\":\"little\",\"shape\":[2]},{\"__ndarray__\":\"rqt78NKEQEESVDVUuYRAQQ==\",\"dtype\":\"float64\",\"order\":\"little\",\"shape\":[2]},{\"__ndarray__\":\"ElQ1VLmEQEHBQLcHUIRAQQ==\",\"dtype\":\"float64\",\"order\":\"little\",\"shape\":[2]},{\"__ndarray__\":\"wUC3B1CEQEGJfnD4F4RAQQ==\",\"dtype\":\"float64\",\"order\":\"little\",\"shape\":[2]},{\"__ndarray__\":\"iX5w+BeEQEGFpHKrq4NAQQ==\",\"dtype\":\"float64\",\"order\":\"little\",\"shape\":[2]},{\"__ndarray__\":\"haRyq6uDQEEesSZgm4NAQQ==\",\"dtype\":\"float64\",\"order\":\"little\",\"shape\":[2]},{\"__ndarray__\":\"HrEmYJuDQEHdGX/SP4NAQQ==\",\"dtype\":\"float64\",\"order\":\"little\",\"shape\":[2]},{\"__ndarray__\":\"3Rl/0j+DQEGL7Urh/YJAQQ==\",\"dtype\":\"float64\",\"order\":\"little\",\"shape\":[2]},{\"__ndarray__\":\"i+1K4f2CQEGMSc3o3YJAQQ==\",\"dtype\":\"float64\",\"order\":\"little\",\"shape\":[2]},{\"__ndarray__\":\"jEnN6N2CQEE9lweChIJAQQ==\",\"dtype\":\"float64\",\"order\":\"little\",\"shape\":[2]}]},\"selected\":{\"id\":\"1528\"},\"selection_policy\":{\"id\":\"1543\"}},\"id\":\"1527\",\"type\":\"ColumnDataSource\"},{\"attributes\":{},\"id\":\"1469\",\"type\":\"LinearScale\"},{\"attributes\":{\"coordinates\":null,\"data_source\":{\"id\":\"1527\"},\"glyph\":{\"id\":\"1530\"},\"group\":null,\"hover_glyph\":null,\"muted_glyph\":{\"id\":\"1532\"},\"nonselection_glyph\":{\"id\":\"1531\"},\"selection_glyph\":{\"id\":\"1537\"},\"view\":{\"id\":\"1534\"}},\"id\":\"1533\",\"type\":\"GlyphRenderer\"},{\"attributes\":{\"axis\":{\"id\":\"1473\"},\"coordinates\":null,\"grid_line_color\":null,\"group\":null,\"ticker\":null},\"id\":\"1476\",\"type\":\"Grid\"},{\"attributes\":{\"coordinates\":null,\"group\":null,\"level\":\"glyph\",\"tile_source\":{\"id\":\"1522\"}},\"id\":\"1525\",\"type\":\"TileRenderer\"},{\"attributes\":{\"line_alpha\":{\"value\":1.0},\"line_cap\":{\"value\":\"butt\"},\"line_color\":{\"value\":\"red\"},\"line_dash\":{\"value\":[]},\"line_dash_offset\":{\"value\":0},\"line_join\":{\"value\":\"bevel\"},\"line_width\":{\"value\":5},\"xs\":{\"field\":\"xs\"},\"ys\":{\"field\":\"ys\"}},\"id\":\"1537\",\"type\":\"MultiLine\"},{\"attributes\":{},\"id\":\"1481\",\"type\":\"SaveTool\"},{\"attributes\":{\"coordinates\":null,\"group\":null,\"text_color\":\"black\",\"text_font_size\":\"12pt\"},\"id\":\"1465\",\"type\":\"Title\"},{\"attributes\":{\"bottom_units\":\"screen\",\"coordinates\":null,\"fill_alpha\":0.5,\"fill_color\":\"lightgrey\",\"group\":null,\"left_units\":\"screen\",\"level\":\"overlay\",\"line_alpha\":1.0,\"line_color\":\"black\",\"line_dash\":[4,4],\"line_width\":2,\"right_units\":\"screen\",\"syncable\":false,\"top_units\":\"screen\"},\"id\":\"1486\",\"type\":\"BoxAnnotation\"},{\"attributes\":{\"axis_label\":\"x\",\"coordinates\":null,\"formatter\":{\"id\":\"1497\"},\"group\":null,\"major_label_policy\":{\"id\":\"1502\"},\"ticker\":{\"id\":\"1496\"}},\"id\":\"1473\",\"type\":\"LinearAxis\"},{\"attributes\":{},\"id\":\"1482\",\"type\":\"PanTool\"},{\"attributes\":{\"dimension\":\"lon\"},\"id\":\"1496\",\"type\":\"MercatorTicker\"},{\"attributes\":{\"callback\":null,\"renderers\":[{\"id\":\"1533\"}],\"tags\":[\"hv_created\"],\"tooltips\":[[\"LastTrackdt\",\"@{LastTrackdt}\"],[\"location.coordinates.lon\",\"@{location_full_stop_coordinates_full_stop_lon}\"],[\"location.coordinates.lat\",\"@{location_full_stop_coordinates_full_stop_lat}\"],[\"RouteNo\",\"@{RouteNo}\"]]},\"id\":\"1461\",\"type\":\"HoverTool\"},{\"attributes\":{\"dimension\":\"lat\"},\"id\":\"1498\",\"type\":\"MercatorTicker\"},{\"attributes\":{\"match_aspect\":true,\"overlay\":{\"id\":\"1486\"}},\"id\":\"1484\",\"type\":\"BoxZoomTool\"},{\"attributes\":{\"dimension\":\"lat\"},\"id\":\"1499\",\"type\":\"MercatorTickFormatter\"},{\"attributes\":{},\"id\":\"1528\",\"type\":\"Selection\"}],\"root_ids\":[\"1451\"]},\"title\":\"Bokeh Application\",\"version\":\"2.4.3\"}};\n",
       "    var render_items = [{\"docid\":\"75b34baf-5c46-45d9-b076-87a3ecc55e8f\",\"root_ids\":[\"1451\"],\"roots\":{\"1451\":\"c3e33030-5904-4411-84f3-a1d95933d92d\"}}];\n",
       "    root.Bokeh.embed.embed_items_notebook(docs_json, render_items);\n",
       "    for (const render_item of render_items) {\n",
       "      for (const root_id of render_item.root_ids) {\n",
       "\tconst id_el = document.getElementById(root_id)\n",
       "\tif (id_el.children.length && (id_el.children[0].className === 'bk-root')) {\n",
       "\t  const root_el = id_el.children[0]\n",
       "\t  root_el.id = root_el.id + '-rendered'\n",
       "\t}\n",
       "      }\n",
       "    }\n",
       "  }\n",
       "  if (root.Bokeh !== undefined && root.Bokeh.Panel !== undefined) {\n",
       "    embed_document(root);\n",
       "  } else {\n",
       "    var attempts = 0;\n",
       "    var timer = setInterval(function(root) {\n",
       "      if (root.Bokeh !== undefined && root.Bokeh.Panel !== undefined) {\n",
       "        clearInterval(timer);\n",
       "        embed_document(root);\n",
       "      } else if (document.readyState == \"complete\") {\n",
       "        attempts++;\n",
       "        if (attempts > 200) {\n",
       "          clearInterval(timer);\n",
       "          console.log(\"Bokeh: ERROR: Unable to run BokehJS code because BokehJS library is missing\");\n",
       "        }\n",
       "      }\n",
       "    }, 25, root)\n",
       "  }\n",
       "})(window);</script>"
      ],
      "text/plain": [
       ":Overlay\n",
       "   .Tiles.I :Tiles   [x,y]\n",
       "   .Path.I  :Path   [Longitude,Latitude]   (LastTrackdt,location.coordinates.lon,location.coordinates.lat,RouteNo)"
      ]
     },
     "execution_count": 10,
     "metadata": {
      "application/vnd.holoviews_exec.v0+json": {
       "id": "1451"
      }
     },
     "output_type": "execute_result"
    }
   ],
   "source": [
    "traj1=split.trajectories[0]\n",
    "print(traj1.get_length())\n",
    "traj1.hvplot(geo=True, tiles='OSM', width=400, height=600, line_width=5, line_color='red', hover_cols=['LastTrackdt', 'location.coordinates.lon', 'location.coordinates.lat','RouteNo'])"
   ]
  },
  {
   "cell_type": "code",
   "execution_count": null,
   "metadata": {},
   "outputs": [
    {
     "name": "stderr",
     "output_type": "stream",
     "text": [
      "c:\\Users\\dusng\\mambaforge\\lib\\site-packages\\geopandas\\array.py:1406: UserWarning: CRS not set for some of the concatenation inputs. Setting output's CRS as WGS 84 (the single non-null crs provided).\n",
      "  warnings.warn(\n",
      "c:\\Users\\dusng\\mambaforge\\lib\\site-packages\\geopandas\\array.py:1406: UserWarning: CRS not set for some of the concatenation inputs. Setting output's CRS as WGS 84 (the single non-null crs provided).\n",
      "  warnings.warn(\n"
     ]
    },
    {
     "data": {},
     "metadata": {},
     "output_type": "display_data"
    },
    {
     "data": {
      "application/vnd.holoviews_exec.v0+json": "",
      "text/html": [
       "<div id='1578'>\n",
       "  <div class=\"bk-root\" id=\"2b0103e3-151d-44b2-a314-877570dcbb0c\" data-root-id=\"1578\"></div>\n",
       "</div>\n",
       "<script type=\"application/javascript\">(function(root) {\n",
       "  function embed_document(root) {\n",
       "    var docs_json = {\"00dfee9c-daa8-4018-b5a2-d59c5ce96f30\":{\"defs\":[{\"extends\":null,\"module\":null,\"name\":\"ReactiveHTML1\",\"overrides\":[],\"properties\":[]},{\"extends\":null,\"module\":null,\"name\":\"FlexBox1\",\"overrides\":[],\"properties\":[{\"default\":\"flex-start\",\"kind\":null,\"name\":\"align_content\"},{\"default\":\"flex-start\",\"kind\":null,\"name\":\"align_items\"},{\"default\":\"row\",\"kind\":null,\"name\":\"flex_direction\"},{\"default\":\"wrap\",\"kind\":null,\"name\":\"flex_wrap\"},{\"default\":\"flex-start\",\"kind\":null,\"name\":\"justify_content\"}]},{\"extends\":null,\"module\":null,\"name\":\"GridStack1\",\"overrides\":[],\"properties\":[{\"default\":\"warn\",\"kind\":null,\"name\":\"mode\"},{\"default\":null,\"kind\":null,\"name\":\"ncols\"},{\"default\":null,\"kind\":null,\"name\":\"nrows\"},{\"default\":true,\"kind\":null,\"name\":\"allow_resize\"},{\"default\":true,\"kind\":null,\"name\":\"allow_drag\"},{\"default\":[],\"kind\":null,\"name\":\"state\"}]},{\"extends\":null,\"module\":null,\"name\":\"click1\",\"overrides\":[],\"properties\":[{\"default\":\"\",\"kind\":null,\"name\":\"terminal_output\"},{\"default\":\"\",\"kind\":null,\"name\":\"debug_name\"},{\"default\":0,\"kind\":null,\"name\":\"clears\"}]},{\"extends\":null,\"module\":null,\"name\":\"NotificationAreaBase1\",\"overrides\":[],\"properties\":[{\"default\":\"bottom-right\",\"kind\":null,\"name\":\"position\"},{\"default\":0,\"kind\":null,\"name\":\"_clear\"}]},{\"extends\":null,\"module\":null,\"name\":\"NotificationArea1\",\"overrides\":[],\"properties\":[{\"default\":[],\"kind\":null,\"name\":\"notifications\"},{\"default\":\"bottom-right\",\"kind\":null,\"name\":\"position\"},{\"default\":0,\"kind\":null,\"name\":\"_clear\"},{\"default\":[{\"background\":\"#ffc107\",\"icon\":{\"className\":\"fas fa-exclamation-triangle\",\"color\":\"white\",\"tagName\":\"i\"},\"type\":\"warning\"},{\"background\":\"#007bff\",\"icon\":{\"className\":\"fas fa-info-circle\",\"color\":\"white\",\"tagName\":\"i\"},\"type\":\"info\"}],\"kind\":null,\"name\":\"types\"}]},{\"extends\":null,\"module\":null,\"name\":\"Notification\",\"overrides\":[],\"properties\":[{\"default\":null,\"kind\":null,\"name\":\"background\"},{\"default\":3000,\"kind\":null,\"name\":\"duration\"},{\"default\":null,\"kind\":null,\"name\":\"icon\"},{\"default\":\"\",\"kind\":null,\"name\":\"message\"},{\"default\":null,\"kind\":null,\"name\":\"notification_type\"},{\"default\":false,\"kind\":null,\"name\":\"_destroyed\"}]},{\"extends\":null,\"module\":null,\"name\":\"TemplateActions1\",\"overrides\":[],\"properties\":[{\"default\":0,\"kind\":null,\"name\":\"open_modal\"},{\"default\":0,\"kind\":null,\"name\":\"close_modal\"}]},{\"extends\":null,\"module\":null,\"name\":\"MaterialTemplateActions1\",\"overrides\":[],\"properties\":[{\"default\":0,\"kind\":null,\"name\":\"open_modal\"},{\"default\":0,\"kind\":null,\"name\":\"close_modal\"}]}],\"roots\":{\"references\":[{\"attributes\":{\"end\":8144224.682053333,\"min_interval\":5,\"reset_end\":8144224.682053333,\"reset_start\":8110089.203980159,\"start\":8110089.203980159,\"tags\":[[[\"Longitude\",\"Longitude\",null]]]},\"id\":\"1584\",\"type\":\"Range1d\"},{\"attributes\":{\"attribution\":\"&copy; <a href=\\\"https://www.openstreetmap.org/copyright\\\">OpenStreetMap</a> contributors\",\"url\":\"https://c.tile.openstreetmap.org/{Z}/{X}/{Y}.png\"},\"id\":\"1649\",\"type\":\"WMTSTileSource\"},{\"attributes\":{\"margin\":[5,5,5,5],\"name\":\"HSpacer82587\",\"sizing_mode\":\"stretch_width\"},\"id\":\"1579\",\"type\":\"Spacer\"},{\"attributes\":{\"coordinates\":null,\"data_source\":{\"id\":\"1655\"},\"glyph\":{\"id\":\"1658\"},\"group\":null,\"hover_glyph\":null,\"muted_glyph\":{\"id\":\"1660\"},\"nonselection_glyph\":{\"id\":\"1659\"},\"selection_glyph\":{\"id\":\"1667\"},\"view\":{\"id\":\"1662\"}},\"id\":\"1661\",\"type\":\"GlyphRenderer\"},{\"attributes\":{\"line_color\":{\"field\":\"color\",\"transform\":{\"id\":\"1654\"}},\"line_width\":{\"value\":7.0},\"xs\":{\"field\":\"xs\"},\"ys\":{\"field\":\"ys\"}},\"id\":\"1658\",\"type\":\"MultiLine\"},{\"attributes\":{\"children\":[{\"id\":\"1579\"},{\"id\":\"1591\"},{\"id\":\"1677\"}],\"margin\":[0,0,0,0],\"name\":\"Row82583\",\"tags\":[\"embedded\"]},\"id\":\"1578\",\"type\":\"Row\"},{\"attributes\":{\"dimension\":\"lat\"},\"id\":\"1626\",\"type\":\"MercatorTickFormatter\"},{\"attributes\":{},\"id\":\"1609\",\"type\":\"PanTool\"},{\"attributes\":{},\"id\":\"1629\",\"type\":\"AllLabels\"},{\"attributes\":{},\"id\":\"1612\",\"type\":\"ResetTool\"},{\"attributes\":{\"coordinates\":null,\"group\":null,\"level\":\"glyph\",\"tile_source\":{\"id\":\"1649\"}},\"id\":\"1652\",\"type\":\"TileRenderer\"},{\"attributes\":{\"below\":[{\"id\":\"1600\"}],\"center\":[{\"id\":\"1603\"},{\"id\":\"1607\"}],\"frame_height\":700,\"frame_width\":900,\"height\":700,\"left\":[{\"id\":\"1604\"}],\"margin\":[5,5,5,5],\"match_aspect\":true,\"min_border_bottom\":10,\"min_border_left\":10,\"min_border_right\":10,\"min_border_top\":10,\"renderers\":[{\"id\":\"1652\"},{\"id\":\"1661\"}],\"right\":[{\"id\":\"1664\"}],\"sizing_mode\":\"fixed\",\"title\":{\"id\":\"1592\"},\"toolbar\":{\"id\":\"1614\"},\"width\":900,\"x_range\":{\"id\":\"1584\"},\"x_scale\":{\"id\":\"1596\"},\"y_range\":{\"id\":\"1585\"},\"y_scale\":{\"id\":\"1598\"}},\"id\":\"1591\",\"subtype\":\"Figure\",\"type\":\"Plot\"},{\"attributes\":{\"axis_label\":\"y\",\"coordinates\":null,\"formatter\":{\"id\":\"1626\"},\"group\":null,\"major_label_policy\":{\"id\":\"1636\"},\"ticker\":{\"id\":\"1625\"}},\"id\":\"1604\",\"type\":\"LinearAxis\"},{\"attributes\":{},\"id\":\"1656\",\"type\":\"Selection\"},{\"attributes\":{\"margin\":[5,5,5,5],\"name\":\"HSpacer82588\",\"sizing_mode\":\"stretch_width\"},\"id\":\"1677\",\"type\":\"Spacer\"},{\"attributes\":{\"axis\":{\"id\":\"1600\"},\"coordinates\":null,\"grid_line_color\":null,\"group\":null,\"ticker\":null},\"id\":\"1603\",\"type\":\"Grid\"},{\"attributes\":{\"callback\":null,\"renderers\":[{\"id\":\"1661\"}],\"tags\":[\"hv_created\"],\"tooltips\":[[\"speed\",\"@{speed}\"]]},\"id\":\"1588\",\"type\":\"HoverTool\"},{\"attributes\":{},\"id\":\"1672\",\"type\":\"NoOverlap\"},{\"attributes\":{\"line_alpha\":{\"value\":0.1},\"line_color\":{\"field\":\"color\",\"transform\":{\"id\":\"1654\"}},\"line_width\":{\"value\":7.0},\"xs\":{\"field\":\"xs\"},\"ys\":{\"field\":\"ys\"}},\"id\":\"1659\",\"type\":\"MultiLine\"},{\"attributes\":{},\"id\":\"1663\",\"type\":\"BasicTicker\"},{\"attributes\":{},\"id\":\"1608\",\"type\":\"SaveTool\"},{\"attributes\":{\"source\":{\"id\":\"1655\"}},\"id\":\"1662\",\"type\":\"CDSView\"},{\"attributes\":{\"high\":20,\"low\":0,\"palette\":[\"#440154\",\"#440255\",\"#440357\",\"#450558\",\"#45065a\",\"#45085b\",\"#46095c\",\"#460b5e\",\"#460c5f\",\"#460e61\",\"#470f62\",\"#471163\",\"#471265\",\"#471466\",\"#471567\",\"#471669\",\"#47186a\",\"#48196b\",\"#481a6c\",\"#481c6e\",\"#481d6f\",\"#481e70\",\"#482071\",\"#482172\",\"#482273\",\"#482374\",\"#472575\",\"#472676\",\"#472777\",\"#472878\",\"#472a79\",\"#472b7a\",\"#472c7b\",\"#462d7c\",\"#462f7c\",\"#46307d\",\"#46317e\",\"#45327f\",\"#45347f\",\"#453580\",\"#453681\",\"#443781\",\"#443982\",\"#433a83\",\"#433b83\",\"#433c84\",\"#423d84\",\"#423e85\",\"#424085\",\"#414186\",\"#414286\",\"#404387\",\"#404487\",\"#3f4587\",\"#3f4788\",\"#3e4888\",\"#3e4989\",\"#3d4a89\",\"#3d4b89\",\"#3d4c89\",\"#3c4d8a\",\"#3c4e8a\",\"#3b508a\",\"#3b518a\",\"#3a528b\",\"#3a538b\",\"#39548b\",\"#39558b\",\"#38568b\",\"#38578c\",\"#37588c\",\"#37598c\",\"#365a8c\",\"#365b8c\",\"#355c8c\",\"#355d8c\",\"#345e8d\",\"#345f8d\",\"#33608d\",\"#33618d\",\"#32628d\",\"#32638d\",\"#31648d\",\"#31658d\",\"#31668d\",\"#30678d\",\"#30688d\",\"#2f698d\",\"#2f6a8d\",\"#2e6b8e\",\"#2e6c8e\",\"#2e6d8e\",\"#2d6e8e\",\"#2d6f8e\",\"#2c708e\",\"#2c718e\",\"#2c728e\",\"#2b738e\",\"#2b748e\",\"#2a758e\",\"#2a768e\",\"#2a778e\",\"#29788e\",\"#29798e\",\"#287a8e\",\"#287a8e\",\"#287b8e\",\"#277c8e\",\"#277d8e\",\"#277e8e\",\"#267f8e\",\"#26808e\",\"#26818e\",\"#25828e\",\"#25838d\",\"#24848d\",\"#24858d\",\"#24868d\",\"#23878d\",\"#23888d\",\"#23898d\",\"#22898d\",\"#228a8d\",\"#228b8d\",\"#218c8d\",\"#218d8c\",\"#218e8c\",\"#208f8c\",\"#20908c\",\"#20918c\",\"#1f928c\",\"#1f938b\",\"#1f948b\",\"#1f958b\",\"#1f968b\",\"#1e978a\",\"#1e988a\",\"#1e998a\",\"#1e998a\",\"#1e9a89\",\"#1e9b89\",\"#1e9c89\",\"#1e9d88\",\"#1e9e88\",\"#1e9f88\",\"#1ea087\",\"#1fa187\",\"#1fa286\",\"#1fa386\",\"#20a485\",\"#20a585\",\"#21a685\",\"#21a784\",\"#22a784\",\"#23a883\",\"#23a982\",\"#24aa82\",\"#25ab81\",\"#26ac81\",\"#27ad80\",\"#28ae7f\",\"#29af7f\",\"#2ab07e\",\"#2bb17d\",\"#2cb17d\",\"#2eb27c\",\"#2fb37b\",\"#30b47a\",\"#32b57a\",\"#33b679\",\"#35b778\",\"#36b877\",\"#38b976\",\"#39b976\",\"#3bba75\",\"#3dbb74\",\"#3ebc73\",\"#40bd72\",\"#42be71\",\"#44be70\",\"#45bf6f\",\"#47c06e\",\"#49c16d\",\"#4bc26c\",\"#4dc26b\",\"#4fc369\",\"#51c468\",\"#53c567\",\"#55c666\",\"#57c665\",\"#59c764\",\"#5bc862\",\"#5ec961\",\"#60c960\",\"#62ca5f\",\"#64cb5d\",\"#67cc5c\",\"#69cc5b\",\"#6bcd59\",\"#6dce58\",\"#70ce56\",\"#72cf55\",\"#74d054\",\"#77d052\",\"#79d151\",\"#7cd24f\",\"#7ed24e\",\"#81d34c\",\"#83d34b\",\"#86d449\",\"#88d547\",\"#8bd546\",\"#8dd644\",\"#90d643\",\"#92d741\",\"#95d73f\",\"#97d83e\",\"#9ad83c\",\"#9dd93a\",\"#9fd938\",\"#a2da37\",\"#a5da35\",\"#a7db33\",\"#aadb32\",\"#addc30\",\"#afdc2e\",\"#b2dd2c\",\"#b5dd2b\",\"#b7dd29\",\"#bade27\",\"#bdde26\",\"#bfdf24\",\"#c2df22\",\"#c5df21\",\"#c7e01f\",\"#cae01e\",\"#cde01d\",\"#cfe11c\",\"#d2e11b\",\"#d4e11a\",\"#d7e219\",\"#dae218\",\"#dce218\",\"#dfe318\",\"#e1e318\",\"#e4e318\",\"#e7e419\",\"#e9e419\",\"#ece41a\",\"#eee51b\",\"#f1e51c\",\"#f3e51e\",\"#f6e61f\",\"#f8e621\",\"#fae622\",\"#fde724\"]},\"id\":\"1654\",\"type\":\"LinearColorMapper\"},{\"attributes\":{\"active_scroll\":{\"id\":\"1610\"},\"tools\":[{\"id\":\"1588\"},{\"id\":\"1608\"},{\"id\":\"1609\"},{\"id\":\"1610\"},{\"id\":\"1611\"},{\"id\":\"1612\"}]},\"id\":\"1614\",\"type\":\"Toolbar\"},{\"attributes\":{\"coordinates\":null,\"group\":null,\"text_color\":\"black\",\"text_font_size\":\"12pt\"},\"id\":\"1592\",\"type\":\"Title\"},{\"attributes\":{\"dimension\":\"lon\"},\"id\":\"1624\",\"type\":\"MercatorTickFormatter\"},{\"attributes\":{\"bar_line_color\":\"black\",\"color_mapper\":{\"id\":\"1654\"},\"coordinates\":null,\"group\":null,\"label_standoff\":8,\"location\":[0,0],\"major_label_policy\":{\"id\":\"1672\"},\"major_tick_line_color\":\"black\",\"ticker\":{\"id\":\"1663\"}},\"id\":\"1664\",\"type\":\"ColorBar\"},{\"attributes\":{\"dimension\":\"lon\"},\"id\":\"1623\",\"type\":\"MercatorTicker\"},{\"attributes\":{},\"id\":\"1674\",\"type\":\"UnionRenderers\"},{\"attributes\":{\"dimension\":\"lat\"},\"id\":\"1625\",\"type\":\"MercatorTicker\"},{\"attributes\":{\"bottom_units\":\"screen\",\"coordinates\":null,\"fill_alpha\":0.5,\"fill_color\":\"lightgrey\",\"group\":null,\"left_units\":\"screen\",\"level\":\"overlay\",\"line_alpha\":1.0,\"line_color\":\"black\",\"line_dash\":[4,4],\"line_width\":2,\"right_units\":\"screen\",\"syncable\":false,\"top_units\":\"screen\"},\"id\":\"1613\",\"type\":\"BoxAnnotation\"},{\"attributes\":{\"data\":{\"color\":{\"__ndarray__\":\"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\",\"dtype\":\"float64\",\"order\":\"little\",\"shape\":[289]},\"speed\":{\"__ndarray__\":\"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\",\"dtype\":\"float64\",\"order\":\"little\",\"shape\":[289]},\"xs\":[{\"__ndarray__\":\"Yib6xYj8XkGJPj4eevxeQQ==\",\"dtype\":\"float64\",\"order\":\"little\",\"shape\":[2]},{\"__ndarray__\":\"iT4+Hnr8XkFDRz4GbvxeQQ==\",\"dtype\":\"float64\",\"order\":\"little\",\"shape\":[2]},{\"__ndarray__\":\"Q0c+Bm78XkGefeKnZ/xeQQ==\",\"dtype\":\"float64\",\"order\":\"little\",\"shape\":[2]},{\"__ndarray__\":\"nn3ip2f8XkEN5z2YbfxeQQ==\",\"dtype\":\"float64\",\"order\":\"little\",\"shape\":[2]},{\"__ndarray__\":\"Dec9mG38XkF7O5TBcPxeQQ==\",\"dtype\":\"float64\",\"order\":\"little\",\"shape\":[2]},{\"__ndarray__\":\"ezuUwXD8XkGy0owZhfxeQQ==\",\"dtype\":\"float64\",\"order\":\"little\",\"shape\":[2]},{\"__ndarray__\":\"stKMGYX8XkFe15pNjvxeQQ==\",\"dtype\":\"float64\",\"order\":\"little\",\"shape\":[2]},{\"__ndarray__\":\"XteaTY78XkH6/UpPk/xeQQ==\",\"dtype\":\"float64\",\"order\":\"little\",\"shape\":[2]},{\"__ndarray__\":\"+v1KT5P8XkGQs/OhlvxeQQ==\",\"dtype\":\"float64\",\"order\":\"little\",\"shape\":[2]},{\"__ndarray__\":\"kLPzoZb8XkEb3otgmvxeQQ==\",\"dtype\":\"float64\",\"order\":\"little\",\"shape\":[2]},{\"__ndarray__\":\"G96LYJr8XkFKkaGko/xeQQ==\",\"dtype\":\"float64\",\"order\":\"little\",\"shape\":[2]},{\"__ndarray__\":\"SpGhpKP8XkGLP8LzrPxeQQ==\",\"dtype\":\"float64\",\"order\":\"little\",\"shape\":[2]},{\"__ndarray__\":\"iz/C86z8XkFIAIPMzvxeQQ==\",\"dtype\":\"float64\",\"order\":\"little\",\"shape\":[2]},{\"__ndarray__\":\"SACDzM78XkEYWDOC0vxeQQ==\",\"dtype\":\"float64\",\"order\":\"little\",\"shape\":[2]},{\"__ndarray__\":\"GFgzgtL8XkHpM9Y92PxeQQ==\",\"dtype\":\"float64\",\"order\":\"little\",\"shape\":[2]},{\"__ndarray__\":\"6TPWPdj8XkEdjlb84PxeQQ==\",\"dtype\":\"float64\",\"order\":\"little\",\"shape\":[2]},{\"__ndarray__\":\"HY5W/OD8XkEliA4V5fxeQQ==\",\"dtype\":\"float64\",\"order\":\"little\",\"shape\":[2]},{\"__ndarray__\":\"JYgOFeX8XkGLlWcd7PxeQQ==\",\"dtype\":\"float64\",\"order\":\"little\",\"shape\":[2]},{\"__ndarray__\":\"i5VnHez8XkH+/CtS9fxeQQ==\",\"dtype\":\"float64\",\"order\":\"little\",\"shape\":[2]},{\"__ndarray__\":\"/vwrUvX8XkFk/TrJAP1eQQ==\",\"dtype\":\"float64\",\"order\":\"little\",\"shape\":[2]},{\"__ndarray__\":\"ZP06yQD9XkG3impNIv1eQQ==\",\"dtype\":\"float64\",\"order\":\"little\",\"shape\":[2]},{\"__ndarray__\":\"t4pqTSL9XkEjZpRqMP1eQQ==\",\"dtype\":\"float64\",\"order\":\"little\",\"shape\":[2]},{\"__ndarray__\":\"I2aUajD9XkETbt8PQP1eQQ==\",\"dtype\":\"float64\",\"order\":\"little\",\"shape\":[2]},{\"__ndarray__\":\"E27fD0D9XkHQkRYrQP1eQQ==\",\"dtype\":\"float64\",\"order\":\"little\",\"shape\":[2]},{\"__ndarray__\":\"0JEWK0D9XkGJhj+aP/1eQQ==\",\"dtype\":\"float64\",\"order\":\"little\",\"shape\":[2]},{\"__ndarray__\":\"iYY/mj/9XkEuy8WQP/1eQQ==\",\"dtype\":\"float64\",\"order\":\"little\",\"shape\":[2]},{\"__ndarray__\":\"LsvFkD/9XkG7PNi7Of1eQQ==\",\"dtype\":\"float64\",\"order\":\"little\",\"shape\":[2]},{\"__ndarray__\":\"uzzYuzn9XkESSHi7Ov1eQQ==\",\"dtype\":\"float64\",\"order\":\"little\",\"shape\":[2]},{\"__ndarray__\":\"Ekh4uzr9XkHt0GxxP/1eQQ==\",\"dtype\":\"float64\",\"order\":\"little\",\"shape\":[2]},{\"__ndarray__\":\"7dBscT/9XkEa3+a+Qf1eQQ==\",\"dtype\":\"float64\",\"order\":\"little\",\"shape\":[2]},{\"__ndarray__\":\"Gt/mvkH9XkEZOqSmQ/1eQQ==\",\"dtype\":\"float64\",\"order\":\"little\",\"shape\":[2]},{\"__ndarray__\":\"GTqkpkP9XkGl5y8lR/1eQQ==\",\"dtype\":\"float64\",\"order\":\"little\",\"shape\":[2]},{\"__ndarray__\":\"pecvJUf9XkHaTfsuSf1eQQ==\",\"dtype\":\"float64\",\"order\":\"little\",\"shape\":[2]},{\"__ndarray__\":\"2k37Lkn9XkF4GO8CSv1eQQ==\",\"dtype\":\"float64\",\"order\":\"little\",\"shape\":[2]},{\"__ndarray__\":\"eBjvAkr9XkHJtHftTv1eQQ==\",\"dtype\":\"float64\",\"order\":\"little\",\"shape\":[2]},{\"__ndarray__\":\"ybR37U79XkHj2+ywUf1eQQ==\",\"dtype\":\"float64\",\"order\":\"little\",\"shape\":[2]},{\"__ndarray__\":\"49vssFH9XkHQAnzqWf1eQQ==\",\"dtype\":\"float64\",\"order\":\"little\",\"shape\":[2]},{\"__ndarray__\":\"0AJ86ln9XkFUrbbqXP1eQQ==\",\"dtype\":\"float64\",\"order\":\"little\",\"shape\":[2]},{\"__ndarray__\":\"VK226lz9XkH6gLjmYP1eQQ==\",\"dtype\":\"float64\",\"order\":\"little\",\"shape\":[2]},{\"__ndarray__\":\"+oC45mD9XkGppSXZYv1eQQ==\",\"dtype\":\"float64\",\"order\":\"little\",\"shape\":[2]},{\"__ndarray__\":\"qaUl2WL9XkHpSL0oav1eQQ==\",\"dtype\":\"float64\",\"order\":\"little\",\"shape\":[2]},{\"__ndarray__\":\"6Ui9KGr9XkFVWv8kbP1eQQ==\",\"dtype\":\"float64\",\"order\":\"little\",\"shape\":[2]},{\"__ndarray__\":\"VVr/JGz9XkELW7DZb/1eQQ==\",\"dtype\":\"float64\",\"order\":\"little\",\"shape\":[2]},{\"__ndarray__\":\"C1uw2W/9XkH5sNj8cf1eQQ==\",\"dtype\":\"float64\",\"order\":\"little\",\"shape\":[2]},{\"__ndarray__\":\"+bDY/HH9XkF0PkpAe/1eQQ==\",\"dtype\":\"float64\",\"order\":\"little\",\"shape\":[2]},{\"__ndarray__\":\"dD5KQHv9XkFbZVbFff1eQQ==\",\"dtype\":\"float64\",\"order\":\"little\",\"shape\":[2]},{\"__ndarray__\":\"W2VWxX39XkFqQ7T3gf1eQQ==\",\"dtype\":\"float64\",\"order\":\"little\",\"shape\":[2]},{\"__ndarray__\":\"akO094H9XkGeX6/kff1eQQ==\",\"dtype\":\"float64\",\"order\":\"little\",\"shape\":[2]},{\"__ndarray__\":\"nl+v5H39XkGYZgQEe/1eQQ==\",\"dtype\":\"float64\",\"order\":\"little\",\"shape\":[2]},{\"__ndarray__\":\"mGYEBHv9XkHFCy2mc/1eQQ==\",\"dtype\":\"float64\",\"order\":\"little\",\"shape\":[2]},{\"__ndarray__\":\"xQstpnP9XkGM2qk9b/1eQQ==\",\"dtype\":\"float64\",\"order\":\"little\",\"shape\":[2]},{\"__ndarray__\":\"jNqpPW/9XkFZjczuav1eQQ==\",\"dtype\":\"float64\",\"order\":\"little\",\"shape\":[2]},{\"__ndarray__\":\"WY3M7mr9XkGpwg+saf1eQQ==\",\"dtype\":\"float64\",\"order\":\"little\",\"shape\":[2]},{\"__ndarray__\":\"qcIPrGn9XkF3XubbNv5eQQ==\",\"dtype\":\"float64\",\"order\":\"little\",\"shape\":[2]},{\"__ndarray__\":\"d17m2zb+XkGQORRhiv5eQQ==\",\"dtype\":\"float64\",\"order\":\"little\",\"shape\":[2]},{\"__ndarray__\":\"kDkUYYr+XkEMovHHIP9eQQ==\",\"dtype\":\"float64\",\"order\":\"little\",\"shape\":[2]},{\"__ndarray__\":\"DKLxxyD/XkFr07jKN/9eQQ==\",\"dtype\":\"float64\",\"order\":\"little\",\"shape\":[2]},{\"__ndarray__\":\"a9O4yjf/XkFmqxqmeP9eQQ==\",\"dtype\":\"float64\",\"order\":\"little\",\"shape\":[2]},{\"__ndarray__\":\"Zqsapnj/XkGAffkNWwBfQQ==\",\"dtype\":\"float64\",\"order\":\"little\",\"shape\":[2]},{\"__ndarray__\":\"gH35DVsAX0FZ14c9lABfQQ==\",\"dtype\":\"float64\",\"order\":\"little\",\"shape\":[2]},{\"__ndarray__\":\"WdeHPZQAX0E7pyA2jABfQQ==\",\"dtype\":\"float64\",\"order\":\"little\",\"shape\":[2]},{\"__ndarray__\":\"O6cgNowAX0F2YaLIiABfQQ==\",\"dtype\":\"float64\",\"order\":\"little\",\"shape\":[2]},{\"__ndarray__\":\"dmGiyIgAX0EDdF2BsgBfQQ==\",\"dtype\":\"float64\",\"order\":\"little\",\"shape\":[2]},{\"__ndarray__\":\"A3RdgbIAX0HS2gNbygBfQQ==\",\"dtype\":\"float64\",\"order\":\"little\",\"shape\":[2]},{\"__ndarray__\":\"0toDW8oAX0GLTTqo/gBfQQ==\",\"dtype\":\"float64\",\"order\":\"little\",\"shape\":[2]},{\"__ndarray__\":\"i006qP4AX0FK+sqmKgFfQQ==\",\"dtype\":\"float64\",\"order\":\"little\",\"shape\":[2]},{\"__ndarray__\":\"SvrKpioBX0Ecs4myQAFfQQ==\",\"dtype\":\"float64\",\"order\":\"little\",\"shape\":[2]},{\"__ndarray__\":\"HLOJskABX0Hu1KCphAFfQQ==\",\"dtype\":\"float64\",\"order\":\"little\",\"shape\":[2]},{\"__ndarray__\":\"7tSgqYQBX0GPlIrXkgFfQQ==\",\"dtype\":\"float64\",\"order\":\"little\",\"shape\":[2]},{\"__ndarray__\":\"j5SK15IBX0HPuRAymwFfQQ==\",\"dtype\":\"float64\",\"order\":\"little\",\"shape\":[2]},{\"__ndarray__\":\"z7kQMpsBX0FwdhQNpwFfQQ==\",\"dtype\":\"float64\",\"order\":\"little\",\"shape\":[2]},{\"__ndarray__\":\"cHYUDacBX0H1HJ/rrQFfQQ==\",\"dtype\":\"float64\",\"order\":\"little\",\"shape\":[2]},{\"__ndarray__\":\"9Ryf660BX0Fp4kd34QFfQQ==\",\"dtype\":\"float64\",\"order\":\"little\",\"shape\":[2]},{\"__ndarray__\":\"aeJHd+EBX0ETim8eCQJfQQ==\",\"dtype\":\"float64\",\"order\":\"little\",\"shape\":[2]},{\"__ndarray__\":\"E4pvHgkCX0EVBd4pDQJfQQ==\",\"dtype\":\"float64\",\"order\":\"little\",\"shape\":[2]},{\"__ndarray__\":\"FQXeKQ0CX0H/jJ0SEwJfQQ==\",\"dtype\":\"float64\",\"order\":\"little\",\"shape\":[2]},{\"__ndarray__\":\"/4ydEhMCX0FCMlDcHwJfQQ==\",\"dtype\":\"float64\",\"order\":\"little\",\"shape\":[2]},{\"__ndarray__\":\"QjJQ3B8CX0HsOvi8IwJfQQ==\",\"dtype\":\"float64\",\"order\":\"little\",\"shape\":[2]},{\"__ndarray__\":\"7Dr4vCMCX0HhIOpyLAJfQQ==\",\"dtype\":\"float64\",\"order\":\"little\",\"shape\":[2]},{\"__ndarray__\":\"4SDqciwCX0GnJdmYTAJfQQ==\",\"dtype\":\"float64\",\"order\":\"little\",\"shape\":[2]},{\"__ndarray__\":\"pyXZmEwCX0GaocddWQJfQQ==\",\"dtype\":\"float64\",\"order\":\"little\",\"shape\":[2]},{\"__ndarray__\":\"mqHHXVkCX0HdslUpYAJfQQ==\",\"dtype\":\"float64\",\"order\":\"little\",\"shape\":[2]},{\"__ndarray__\":\"3bJVKWACX0GQ6hElYQJfQQ==\",\"dtype\":\"float64\",\"order\":\"little\",\"shape\":[2]},{\"__ndarray__\":\"kOoRJWECX0E9EyasWQJfQQ==\",\"dtype\":\"float64\",\"order\":\"little\",\"shape\":[2]},{\"__ndarray__\":\"PRMmrFkCX0ESO0OXWgJfQQ==\",\"dtype\":\"float64\",\"order\":\"little\",\"shape\":[2]},{\"__ndarray__\":\"EjtDl1oCX0FzvaXbWQJfQQ==\",\"dtype\":\"float64\",\"order\":\"little\",\"shape\":[2]},{\"__ndarray__\":\"c72l21kCX0EJVZmCWQJfQQ==\",\"dtype\":\"float64\",\"order\":\"little\",\"shape\":[2]},{\"__ndarray__\":\"CVWZglkCX0HsTn1eWAJfQQ==\",\"dtype\":\"float64\",\"order\":\"little\",\"shape\":[2]},{\"__ndarray__\":\"7E59XlgCX0Gk5+MwVwJfQQ==\",\"dtype\":\"float64\",\"order\":\"little\",\"shape\":[2]},{\"__ndarray__\":\"pOfjMFcCX0G9AOqhVQJfQQ==\",\"dtype\":\"float64\",\"order\":\"little\",\"shape\":[2]},{\"__ndarray__\":\"vQDqoVUCX0FyH/CqVAJfQQ==\",\"dtype\":\"float64\",\"order\":\"little\",\"shape\":[2]},{\"__ndarray__\":\"ch/wqlQCX0HC4J06VQJfQQ==\",\"dtype\":\"float64\",\"order\":\"little\",\"shape\":[2]},{\"__ndarray__\":\"wuCdOlUCX0GnJ7GpSgJfQQ==\",\"dtype\":\"float64\",\"order\":\"little\",\"shape\":[2]},{\"__ndarray__\":\"pyexqUoCX0Fl5mQzQQJfQQ==\",\"dtype\":\"float64\",\"order\":\"little\",\"shape\":[2]},{\"__ndarray__\":\"ZeZkM0ECX0F1jUBIOwJfQQ==\",\"dtype\":\"float64\",\"order\":\"little\",\"shape\":[2]},{\"__ndarray__\":\"dY1ASDsCX0GPCHwdNgJfQQ==\",\"dtype\":\"float64\",\"order\":\"little\",\"shape\":[2]},{\"__ndarray__\":\"jwh8HTYCX0FeCduZKQJfQQ==\",\"dtype\":\"float64\",\"order\":\"little\",\"shape\":[2]},{\"__ndarray__\":\"XgnbmSkCX0G4u9GyLgJfQQ==\",\"dtype\":\"float64\",\"order\":\"little\",\"shape\":[2]},{\"__ndarray__\":\"uLvRsi4CX0H8yXkrMwJfQQ==\",\"dtype\":\"float64\",\"order\":\"little\",\"shape\":[2]},{\"__ndarray__\":\"/Ml5KzMCX0H9YnH4NwJfQQ==\",\"dtype\":\"float64\",\"order\":\"little\",\"shape\":[2]},{\"__ndarray__\":\"/WJx+DcCX0Fz+neWTAJfQQ==\",\"dtype\":\"float64\",\"order\":\"little\",\"shape\":[2]},{\"__ndarray__\":\"c/p3lkwCX0EkIP+oSwJfQQ==\",\"dtype\":\"float64\",\"order\":\"little\",\"shape\":[2]},{\"__ndarray__\":\"JCD/qEsCX0FpHkpJTAJfQQ==\",\"dtype\":\"float64\",\"order\":\"little\",\"shape\":[2]},{\"__ndarray__\":\"aR5KSUwCX0Hz/FbITAJfQQ==\",\"dtype\":\"float64\",\"order\":\"little\",\"shape\":[2]},{\"__ndarray__\":\"8/xWyEwCX0E1aHZBTQJfQQ==\",\"dtype\":\"float64\",\"order\":\"little\",\"shape\":[2]},{\"__ndarray__\":\"NWh2QU0CX0H/wrR1TQJfQQ==\",\"dtype\":\"float64\",\"order\":\"little\",\"shape\":[2]},{\"__ndarray__\":\"/8K0dU0CX0FhPoFFTgJfQQ==\",\"dtype\":\"float64\",\"order\":\"little\",\"shape\":[2]},{\"__ndarray__\":\"YT6BRU4CX0H1+6FkUQJfQQ==\",\"dtype\":\"float64\",\"order\":\"little\",\"shape\":[2]},{\"__ndarray__\":\"9fuhZFECX0HsLOucUgJfQQ==\",\"dtype\":\"float64\",\"order\":\"little\",\"shape\":[2]},{\"__ndarray__\":\"7CzrnFICX0ERKsMRVAJfQQ==\",\"dtype\":\"float64\",\"order\":\"little\",\"shape\":[2]},{\"__ndarray__\":\"ESrDEVQCX0HDaTgvVgJfQQ==\",\"dtype\":\"float64\",\"order\":\"little\",\"shape\":[2]},{\"__ndarray__\":\"w2k4L1YCX0HPve40WAJfQQ==\",\"dtype\":\"float64\",\"order\":\"little\",\"shape\":[2]},{\"__ndarray__\":\"z73uNFgCX0F0rmuwWAJfQQ==\",\"dtype\":\"float64\",\"order\":\"little\",\"shape\":[2]},{\"__ndarray__\":\"dK5rsFgCX0H2mnpCWQJfQQ==\",\"dtype\":\"float64\",\"order\":\"little\",\"shape\":[2]},{\"__ndarray__\":\"9pp6QlkCX0HJ2GfNWQJfQQ==\",\"dtype\":\"float64\",\"order\":\"little\",\"shape\":[2]},{\"__ndarray__\":\"ydhnzVkCX0HHczerXAJfQQ==\",\"dtype\":\"float64\",\"order\":\"little\",\"shape\":[2]},{\"__ndarray__\":\"x3M3q1wCX0H1RIRLXQJfQQ==\",\"dtype\":\"float64\",\"order\":\"little\",\"shape\":[2]},{\"__ndarray__\":\"9USES10CX0E9022eZAJfQQ==\",\"dtype\":\"float64\",\"order\":\"little\",\"shape\":[2]},{\"__ndarray__\":\"PdNtnmQCX0G+k7yxcQJfQQ==\",\"dtype\":\"float64\",\"order\":\"little\",\"shape\":[2]},{\"__ndarray__\":\"vpO8sXECX0EYg0HZgwJfQQ==\",\"dtype\":\"float64\",\"order\":\"little\",\"shape\":[2]},{\"__ndarray__\":\"GINB2YMCX0HLU/WhiQJfQQ==\",\"dtype\":\"float64\",\"order\":\"little\",\"shape\":[2]},{\"__ndarray__\":\"y1P1oYkCX0H0EnDOmQJfQQ==\",\"dtype\":\"float64\",\"order\":\"little\",\"shape\":[2]},{\"__ndarray__\":\"9BJwzpkCX0E60E39qQJfQQ==\",\"dtype\":\"float64\",\"order\":\"little\",\"shape\":[2]},{\"__ndarray__\":\"OtBN/akCX0FViVlX4AJfQQ==\",\"dtype\":\"float64\",\"order\":\"little\",\"shape\":[2]},{\"__ndarray__\":\"VYlZV+ACX0HfNTOQ8QJfQQ==\",\"dtype\":\"float64\",\"order\":\"little\",\"shape\":[2]},{\"__ndarray__\":\"3zUzkPECX0H/RgOU9AJfQQ==\",\"dtype\":\"float64\",\"order\":\"little\",\"shape\":[2]},{\"__ndarray__\":\"/0YDlPQCX0Fe3V1n9QJfQQ==\",\"dtype\":\"float64\",\"order\":\"little\",\"shape\":[2]},{\"__ndarray__\":\"Xt1dZ/UCX0H0/esC9gJfQQ==\",\"dtype\":\"float64\",\"order\":\"little\",\"shape\":[2]},{\"__ndarray__\":\"9P3rAvYCX0H+kaggAANfQQ==\",\"dtype\":\"float64\",\"order\":\"little\",\"shape\":[2]},{\"__ndarray__\":\"/pGoIAADX0HZIdcVFgNfQQ==\",\"dtype\":\"float64\",\"order\":\"little\",\"shape\":[2]},{\"__ndarray__\":\"2SHXFRYDX0GSUV2kGwNfQQ==\",\"dtype\":\"float64\",\"order\":\"little\",\"shape\":[2]},{\"__ndarray__\":\"klFdpBsDX0H2C6X+JQNfQQ==\",\"dtype\":\"float64\",\"order\":\"little\",\"shape\":[2]},{\"__ndarray__\":\"9gul/iUDX0HtwdgJLANfQQ==\",\"dtype\":\"float64\",\"order\":\"little\",\"shape\":[2]},{\"__ndarray__\":\"7cHYCSwDX0ERfBIeNgNfQQ==\",\"dtype\":\"float64\",\"order\":\"little\",\"shape\":[2]},{\"__ndarray__\":\"EXwSHjYDX0Fn6X1aRwNfQQ==\",\"dtype\":\"float64\",\"order\":\"little\",\"shape\":[2]},{\"__ndarray__\":\"Z+l9WkcDX0E7UbbITgNfQQ==\",\"dtype\":\"float64\",\"order\":\"little\",\"shape\":[2]},{\"__ndarray__\":\"O1G2yE4DX0HZU6HMZQNfQQ==\",\"dtype\":\"float64\",\"order\":\"little\",\"shape\":[2]},{\"__ndarray__\":\"2VOhzGUDX0FFQrulbQNfQQ==\",\"dtype\":\"float64\",\"order\":\"little\",\"shape\":[2]},{\"__ndarray__\":\"RUK7pW0DX0HBs5TLfgNfQQ==\",\"dtype\":\"float64\",\"order\":\"little\",\"shape\":[2]},{\"__ndarray__\":\"wbOUy34DX0EL5zcNkQNfQQ==\",\"dtype\":\"float64\",\"order\":\"little\",\"shape\":[2]},{\"__ndarray__\":\"C+c3DZEDX0HlMR/SmANfQQ==\",\"dtype\":\"float64\",\"order\":\"little\",\"shape\":[2]},{\"__ndarray__\":\"5TEf0pgDX0FB1du/nANfQQ==\",\"dtype\":\"float64\",\"order\":\"little\",\"shape\":[2]},{\"__ndarray__\":\"QdXbv5wDX0GJIv/CqgNfQQ==\",\"dtype\":\"float64\",\"order\":\"little\",\"shape\":[2]},{\"__ndarray__\":\"iSL/wqoDX0HFD+R6sgNfQQ==\",\"dtype\":\"float64\",\"order\":\"little\",\"shape\":[2]},{\"__ndarray__\":\"xQ/kerIDX0GqO8xbuQNfQQ==\",\"dtype\":\"float64\",\"order\":\"little\",\"shape\":[2]},{\"__ndarray__\":\"qjvMW7kDX0HAesX2AgRfQQ==\",\"dtype\":\"float64\",\"order\":\"little\",\"shape\":[2]},{\"__ndarray__\":\"wHrF9gIEX0GA6wxqFwRfQQ==\",\"dtype\":\"float64\",\"order\":\"little\",\"shape\":[2]},{\"__ndarray__\":\"gOsMahcEX0G3sJ1RHQRfQQ==\",\"dtype\":\"float64\",\"order\":\"little\",\"shape\":[2]},{\"__ndarray__\":\"t7CdUR0EX0EW2Vl9JARfQQ==\",\"dtype\":\"float64\",\"order\":\"little\",\"shape\":[2]},{\"__ndarray__\":\"FtlZfSQEX0FlvJnOKgRfQQ==\",\"dtype\":\"float64\",\"order\":\"little\",\"shape\":[2]},{\"__ndarray__\":\"ZbyZzioEX0F4RyeoMwRfQQ==\",\"dtype\":\"float64\",\"order\":\"little\",\"shape\":[2]},{\"__ndarray__\":\"eEcnqDMEX0EQxFL9egRfQQ==\",\"dtype\":\"float64\",\"order\":\"little\",\"shape\":[2]},{\"__ndarray__\":\"EMRS/XoEX0EelP0wlQRfQQ==\",\"dtype\":\"float64\",\"order\":\"little\",\"shape\":[2]},{\"__ndarray__\":\"HpT9MJUEX0EpoVBJpQRfQQ==\",\"dtype\":\"float64\",\"order\":\"little\",\"shape\":[2]},{\"__ndarray__\":\"KaFQSaUEX0G3dnyOtwRfQQ==\",\"dtype\":\"float64\",\"order\":\"little\",\"shape\":[2]},{\"__ndarray__\":\"t3Z8jrcEX0HFI3JTyQRfQQ==\",\"dtype\":\"float64\",\"order\":\"little\",\"shape\":[2]},{\"__ndarray__\":\"xSNyU8kEX0GTM8dO2ARfQQ==\",\"dtype\":\"float64\",\"order\":\"little\",\"shape\":[2]},{\"__ndarray__\":\"kzPHTtgEX0F6np1u2gRfQQ==\",\"dtype\":\"float64\",\"order\":\"little\",\"shape\":[2]},{\"__ndarray__\":\"ep6dbtoEX0Fmh/LC3wRfQQ==\",\"dtype\":\"float64\",\"order\":\"little\",\"shape\":[2]},{\"__ndarray__\":\"Zofywt8EX0HnHQte5ARfQQ==\",\"dtype\":\"float64\",\"order\":\"little\",\"shape\":[2]},{\"__ndarray__\":\"5x0LXuQEX0G+1ntf5wRfQQ==\",\"dtype\":\"float64\",\"order\":\"little\",\"shape\":[2]},{\"__ndarray__\":\"vtZ7X+cEX0FH1UKP7wRfQQ==\",\"dtype\":\"float64\",\"order\":\"little\",\"shape\":[2]},{\"__ndarray__\":\"R9VCj+8EX0Gc95r17QRfQQ==\",\"dtype\":\"float64\",\"order\":\"little\",\"shape\":[2]},{\"__ndarray__\":\"nPea9e0EX0E8clJe7ARfQQ==\",\"dtype\":\"float64\",\"order\":\"little\",\"shape\":[2]},{\"__ndarray__\":\"PHJSXuwEX0FQgI+E6gRfQQ==\",\"dtype\":\"float64\",\"order\":\"little\",\"shape\":[2]},{\"__ndarray__\":\"UICPhOoEX0GbZxGu5QRfQQ==\",\"dtype\":\"float64\",\"order\":\"little\",\"shape\":[2]},{\"__ndarray__\":\"m2cRruUEX0FGIU914wRfQQ==\",\"dtype\":\"float64\",\"order\":\"little\",\"shape\":[2]},{\"__ndarray__\":\"RiFPdeMEX0GjoLb74QRfQQ==\",\"dtype\":\"float64\",\"order\":\"little\",\"shape\":[2]},{\"__ndarray__\":\"o6C2++EEX0HO8uRu4gRfQQ==\",\"dtype\":\"float64\",\"order\":\"little\",\"shape\":[2]},{\"__ndarray__\":\"zvLkbuIEX0EHNWOU4QRfQQ==\",\"dtype\":\"float64\",\"order\":\"little\",\"shape\":[2]},{\"__ndarray__\":\"BzVjlOEEX0EBkaJ83ARfQQ==\",\"dtype\":\"float64\",\"order\":\"little\",\"shape\":[2]},{\"__ndarray__\":\"AZGifNwEX0H9pnIc3ARfQQ==\",\"dtype\":\"float64\",\"order\":\"little\",\"shape\":[2]},{\"__ndarray__\":\"/aZyHNwEX0Gz4HRy4gRfQQ==\",\"dtype\":\"float64\",\"order\":\"little\",\"shape\":[2]},{\"__ndarray__\":\"s+B0cuIEX0EFy1+j5QRfQQ==\",\"dtype\":\"float64\",\"order\":\"little\",\"shape\":[2]},{\"__ndarray__\":\"Bctfo+UEX0HnLWg26ARfQQ==\",\"dtype\":\"float64\",\"order\":\"little\",\"shape\":[2]},{\"__ndarray__\":\"5y1oNugEX0ECTU+46QRfQQ==\",\"dtype\":\"float64\",\"order\":\"little\",\"shape\":[2]},{\"__ndarray__\":\"Ak1PuOkEX0Hrik2A6wRfQQ==\",\"dtype\":\"float64\",\"order\":\"little\",\"shape\":[2]},{\"__ndarray__\":\"64pNgOsEX0Hpnlp66wRfQQ==\",\"dtype\":\"float64\",\"order\":\"little\",\"shape\":[2]},{\"__ndarray__\":\"6Z5aeusEX0E61l/T5gRfQQ==\",\"dtype\":\"float64\",\"order\":\"little\",\"shape\":[2]},{\"__ndarray__\":\"OtZf0+YEX0FGk/Yc4gRfQQ==\",\"dtype\":\"float64\",\"order\":\"little\",\"shape\":[2]},{\"__ndarray__\":\"RpP2HOIEX0F5MbQq3ARfQQ==\",\"dtype\":\"float64\",\"order\":\"little\",\"shape\":[2]},{\"__ndarray__\":\"eTG0KtwEX0EzHHY92QRfQQ==\",\"dtype\":\"float64\",\"order\":\"little\",\"shape\":[2]},{\"__ndarray__\":\"Mxx2PdkEX0G+elZN1QRfQQ==\",\"dtype\":\"float64\",\"order\":\"little\",\"shape\":[2]},{\"__ndarray__\":\"vnpWTdUEX0Hw1RKFxgRfQQ==\",\"dtype\":\"float64\",\"order\":\"little\",\"shape\":[2]},{\"__ndarray__\":\"8NUShcYEX0ErQ4davwRfQQ==\",\"dtype\":\"float64\",\"order\":\"little\",\"shape\":[2]},{\"__ndarray__\":\"K0OHWr8EX0EujBs3uARfQQ==\",\"dtype\":\"float64\",\"order\":\"little\",\"shape\":[2]},{\"__ndarray__\":\"LowbN7gEX0HqD3w4sQRfQQ==\",\"dtype\":\"float64\",\"order\":\"little\",\"shape\":[2]},{\"__ndarray__\":\"6g98OLEEX0EFVS29pARfQQ==\",\"dtype\":\"float64\",\"order\":\"little\",\"shape\":[2]},{\"__ndarray__\":\"BVUtvaQEX0GsabGVlwRfQQ==\",\"dtype\":\"float64\",\"order\":\"little\",\"shape\":[2]},{\"__ndarray__\":\"rGmxlZcEX0GAdPoikwRfQQ==\",\"dtype\":\"float64\",\"order\":\"little\",\"shape\":[2]},{\"__ndarray__\":\"gHT6IpMEX0GBEJTPjwRfQQ==\",\"dtype\":\"float64\",\"order\":\"little\",\"shape\":[2]},{\"__ndarray__\":\"gRCUz48EX0GxJbfoiARfQQ==\",\"dtype\":\"float64\",\"order\":\"little\",\"shape\":[2]},{\"__ndarray__\":\"sSW36IgEX0FQlc/cgwRfQQ==\",\"dtype\":\"float64\",\"order\":\"little\",\"shape\":[2]},{\"__ndarray__\":\"UJXP3IMEX0EGRF8tiwRfQQ==\",\"dtype\":\"float64\",\"order\":\"little\",\"shape\":[2]},{\"__ndarray__\":\"BkRfLYsEX0GyQcF3lARfQQ==\",\"dtype\":\"float64\",\"order\":\"little\",\"shape\":[2]},{\"__ndarray__\":\"skHBd5QEX0ENYaHUlwRfQQ==\",\"dtype\":\"float64\",\"order\":\"little\",\"shape\":[2]},{\"__ndarray__\":\"DWGh1JcEX0HH+ipUmQRfQQ==\",\"dtype\":\"float64\",\"order\":\"little\",\"shape\":[2]},{\"__ndarray__\":\"x/oqVJkEX0E2E6V7pgRfQQ==\",\"dtype\":\"float64\",\"order\":\"little\",\"shape\":[2]},{\"__ndarray__\":\"NhOle6YEX0Fh7tBYuQRfQQ==\",\"dtype\":\"float64\",\"order\":\"little\",\"shape\":[2]},{\"__ndarray__\":\"Ye7QWLkEX0Erx2PrvwRfQQ==\",\"dtype\":\"float64\",\"order\":\"little\",\"shape\":[2]},{\"__ndarray__\":\"K8dj678EX0HS7X8ixgRfQQ==\",\"dtype\":\"float64\",\"order\":\"little\",\"shape\":[2]},{\"__ndarray__\":\"0u1/IsYEX0FoB2PeyQRfQQ==\",\"dtype\":\"float64\",\"order\":\"little\",\"shape\":[2]},{\"__ndarray__\":\"aAdj3skEX0GZCDVR3QRfQQ==\",\"dtype\":\"float64\",\"order\":\"little\",\"shape\":[2]},{\"__ndarray__\":\"mQg1Ud0EX0Gaex6o5QRfQQ==\",\"dtype\":\"float64\",\"order\":\"little\",\"shape\":[2]},{\"__ndarray__\":\"mnseqOUEX0FoDQBD5wRfQQ==\",\"dtype\":\"float64\",\"order\":\"little\",\"shape\":[2]},{\"__ndarray__\":\"aA0AQ+cEX0HPD7nM5wRfQQ==\",\"dtype\":\"float64\",\"order\":\"little\",\"shape\":[2]},{\"__ndarray__\":\"zw+5zOcEX0HHIKEy6gRfQQ==\",\"dtype\":\"float64\",\"order\":\"little\",\"shape\":[2]},{\"__ndarray__\":\"xyChMuoEX0FYpx7r6wRfQQ==\",\"dtype\":\"float64\",\"order\":\"little\",\"shape\":[2]},{\"__ndarray__\":\"WKce6+sEX0FLDbDE6gRfQQ==\",\"dtype\":\"float64\",\"order\":\"little\",\"shape\":[2]},{\"__ndarray__\":\"Sw2wxOoEX0EPcwq56ARfQQ==\",\"dtype\":\"float64\",\"order\":\"little\",\"shape\":[2]},{\"__ndarray__\":\"D3MKuegEX0FSHyTv5wRfQQ==\",\"dtype\":\"float64\",\"order\":\"little\",\"shape\":[2]},{\"__ndarray__\":\"Uh8k7+cEX0EseBib5QRfQQ==\",\"dtype\":\"float64\",\"order\":\"little\",\"shape\":[2]},{\"__ndarray__\":\"LHgYm+UEX0H1V+jD4QRfQQ==\",\"dtype\":\"float64\",\"order\":\"little\",\"shape\":[2]},{\"__ndarray__\":\"9Vfow+EEX0EcQ7Ul3gRfQQ==\",\"dtype\":\"float64\",\"order\":\"little\",\"shape\":[2]},{\"__ndarray__\":\"HEO1Jd4EX0GxVrfQ3gRfQQ==\",\"dtype\":\"float64\",\"order\":\"little\",\"shape\":[2]},{\"__ndarray__\":\"sVa30N4EX0Fklizu4ARfQQ==\",\"dtype\":\"float64\",\"order\":\"little\",\"shape\":[2]},{\"__ndarray__\":\"ZJYs7uAEX0G7vmVl4gRfQQ==\",\"dtype\":\"float64\",\"order\":\"little\",\"shape\":[2]},{\"__ndarray__\":\"u75lZeIEX0EyWrmv4QRfQQ==\",\"dtype\":\"float64\",\"order\":\"little\",\"shape\":[2]},{\"__ndarray__\":\"Mlq5r+EEX0Ed4KCH6QRfQQ==\",\"dtype\":\"float64\",\"order\":\"little\",\"shape\":[2]},{\"__ndarray__\":\"HeCgh+kEX0GtzjS16gRfQQ==\",\"dtype\":\"float64\",\"order\":\"little\",\"shape\":[2]},{\"__ndarray__\":\"rc40teoEX0G15Yu06wRfQQ==\",\"dtype\":\"float64\",\"order\":\"little\",\"shape\":[2]},{\"__ndarray__\":\"teWLtOsEX0HXi1/w7ARfQQ==\",\"dtype\":\"float64\",\"order\":\"little\",\"shape\":[2]},{\"__ndarray__\":\"14tf8OwEX0E/c3UL7wRfQQ==\",\"dtype\":\"float64\",\"order\":\"little\",\"shape\":[2]},{\"__ndarray__\":\"P3N1C+8EX0EuSNLQ8gRfQQ==\",\"dtype\":\"float64\",\"order\":\"little\",\"shape\":[2]},{\"__ndarray__\":\"LkjS0PIEX0FSUROJ8QRfQQ==\",\"dtype\":\"float64\",\"order\":\"little\",\"shape\":[2]},{\"__ndarray__\":\"UlETifEEX0HA4GVw7wRfQQ==\",\"dtype\":\"float64\",\"order\":\"little\",\"shape\":[2]},{\"__ndarray__\":\"wOBlcO8EX0HNSp4L3gRfQQ==\",\"dtype\":\"float64\",\"order\":\"little\",\"shape\":[2]},{\"__ndarray__\":\"zUqeC94EX0E/5JaQ2QRfQQ==\",\"dtype\":\"float64\",\"order\":\"little\",\"shape\":[2]},{\"__ndarray__\":\"P+SWkNkEX0HzlOm/uwRfQQ==\",\"dtype\":\"float64\",\"order\":\"little\",\"shape\":[2]},{\"__ndarray__\":\"85Tpv7sEX0FZShBBtARfQQ==\",\"dtype\":\"float64\",\"order\":\"little\",\"shape\":[2]},{\"__ndarray__\":\"WUoQQbQEX0Ek6bakpQRfQQ==\",\"dtype\":\"float64\",\"order\":\"little\",\"shape\":[2]},{\"__ndarray__\":\"JOm2pKUEX0EoREw2dgRfQQ==\",\"dtype\":\"float64\",\"order\":\"little\",\"shape\":[2]},{\"__ndarray__\":\"KERMNnYEX0FCVCjOXQRfQQ==\",\"dtype\":\"float64\",\"order\":\"little\",\"shape\":[2]},{\"__ndarray__\":\"QlQozl0EX0H1Hq17TQRfQQ==\",\"dtype\":\"float64\",\"order\":\"little\",\"shape\":[2]},{\"__ndarray__\":\"9R6te00EX0GnVScBIARfQQ==\",\"dtype\":\"float64\",\"order\":\"little\",\"shape\":[2]},{\"__ndarray__\":\"p1UnASAEX0HDJm44FQRfQQ==\",\"dtype\":\"float64\",\"order\":\"little\",\"shape\":[2]},{\"__ndarray__\":\"wyZuOBUEX0GLYFdn1gNfQQ==\",\"dtype\":\"float64\",\"order\":\"little\",\"shape\":[2]},{\"__ndarray__\":\"i2BXZ9YDX0FCS6swzANfQQ==\",\"dtype\":\"float64\",\"order\":\"little\",\"shape\":[2]},{\"__ndarray__\":\"QkurMMwDX0FpoXRaygNfQQ==\",\"dtype\":\"float64\",\"order\":\"little\",\"shape\":[2]},{\"__ndarray__\":\"aaF0WsoDX0EvhBVrygNfQQ==\",\"dtype\":\"float64\",\"order\":\"little\",\"shape\":[2]},{\"__ndarray__\":\"L4QVa8oDX0EopiR4ygNfQQ==\",\"dtype\":\"float64\",\"order\":\"little\",\"shape\":[2]},{\"__ndarray__\":\"KKYkeMoDX0HcjNK2zANfQQ==\",\"dtype\":\"float64\",\"order\":\"little\",\"shape\":[2]},{\"__ndarray__\":\"3IzStswDX0EJptT5zQNfQQ==\",\"dtype\":\"float64\",\"order\":\"little\",\"shape\":[2]},{\"__ndarray__\":\"CabU+c0DX0GnRauYywNfQQ==\",\"dtype\":\"float64\",\"order\":\"little\",\"shape\":[2]},{\"__ndarray__\":\"p0WrmMsDX0E2CBzSxwNfQQ==\",\"dtype\":\"float64\",\"order\":\"little\",\"shape\":[2]},{\"__ndarray__\":\"Nggc0scDX0EjqCvKrwNfQQ==\",\"dtype\":\"float64\",\"order\":\"little\",\"shape\":[2]},{\"__ndarray__\":\"I6gryq8DX0FO1L57pQNfQQ==\",\"dtype\":\"float64\",\"order\":\"little\",\"shape\":[2]},{\"__ndarray__\":\"TtS+e6UDX0FLzROcqANfQQ==\",\"dtype\":\"float64\",\"order\":\"little\",\"shape\":[2]},{\"__ndarray__\":\"S80TnKgDX0GRRPU2rwNfQQ==\",\"dtype\":\"float64\",\"order\":\"little\",\"shape\":[2]},{\"__ndarray__\":\"kUT1Nq8DX0FAo6h5rQNfQQ==\",\"dtype\":\"float64\",\"order\":\"little\",\"shape\":[2]},{\"__ndarray__\":\"QKOoea0DX0H2R2MkqwNfQQ==\",\"dtype\":\"float64\",\"order\":\"little\",\"shape\":[2]},{\"__ndarray__\":\"9kdjJKsDX0EFYK7IogNfQQ==\",\"dtype\":\"float64\",\"order\":\"little\",\"shape\":[2]},{\"__ndarray__\":\"BWCuyKIDX0EnIRvcmQNfQQ==\",\"dtype\":\"float64\",\"order\":\"little\",\"shape\":[2]},{\"__ndarray__\":\"JyEb3JkDX0Gu1+PJeANfQQ==\",\"dtype\":\"float64\",\"order\":\"little\",\"shape\":[2]},{\"__ndarray__\":\"rtfjyXgDX0HC60WtXwNfQQ==\",\"dtype\":\"float64\",\"order\":\"little\",\"shape\":[2]},{\"__ndarray__\":\"wutFrV8DX0GQfWstIgNfQQ==\",\"dtype\":\"float64\",\"order\":\"little\",\"shape\":[2]},{\"__ndarray__\":\"kH1rLSIDX0FfcVMkFANfQQ==\",\"dtype\":\"float64\",\"order\":\"little\",\"shape\":[2]},{\"__ndarray__\":\"X3FTJBQDX0GdMubfCgNfQQ==\",\"dtype\":\"float64\",\"order\":\"little\",\"shape\":[2]},{\"__ndarray__\":\"nTLm3woDX0GsSLKK6AJfQQ==\",\"dtype\":\"float64\",\"order\":\"little\",\"shape\":[2]},{\"__ndarray__\":\"rEiyiugCX0FvcDz6qgJfQQ==\",\"dtype\":\"float64\",\"order\":\"little\",\"shape\":[2]},{\"__ndarray__\":\"b3A8+qoCX0HHCpsTSQJfQQ==\",\"dtype\":\"float64\",\"order\":\"little\",\"shape\":[2]},{\"__ndarray__\":\"xwqbE0kCX0EmZ2KWPQJfQQ==\",\"dtype\":\"float64\",\"order\":\"little\",\"shape\":[2]},{\"__ndarray__\":\"Jmdilj0CX0H0vH/xKwJfQQ==\",\"dtype\":\"float64\",\"order\":\"little\",\"shape\":[2]},{\"__ndarray__\":\"9Lx/8SsCX0HC/Ot1RgJfQQ==\",\"dtype\":\"float64\",\"order\":\"little\",\"shape\":[2]},{\"__ndarray__\":\"wvzrdUYCX0HQCh7ITgJfQQ==\",\"dtype\":\"float64\",\"order\":\"little\",\"shape\":[2]},{\"__ndarray__\":\"0AoeyE4CX0FWN7YmXQJfQQ==\",\"dtype\":\"float64\",\"order\":\"little\",\"shape\":[2]},{\"__ndarray__\":\"Vje2Jl0CX0E020r0ewJfQQ==\",\"dtype\":\"float64\",\"order\":\"little\",\"shape\":[2]},{\"__ndarray__\":\"NNtK9HsCX0E2PhvmigJfQQ==\",\"dtype\":\"float64\",\"order\":\"little\",\"shape\":[2]},{\"__ndarray__\":\"Nj4b5ooCX0HEvCPwlQJfQQ==\",\"dtype\":\"float64\",\"order\":\"little\",\"shape\":[2]},{\"__ndarray__\":\"xLwj8JUCX0GLzPU2nwJfQQ==\",\"dtype\":\"float64\",\"order\":\"little\",\"shape\":[2]},{\"__ndarray__\":\"i8z1Np8CX0EmLP9cqQJfQQ==\",\"dtype\":\"float64\",\"order\":\"little\",\"shape\":[2]},{\"__ndarray__\":\"Jiz/XKkCX0FdlREbuQJfQQ==\",\"dtype\":\"float64\",\"order\":\"little\",\"shape\":[2]},{\"__ndarray__\":\"XZURG7kCX0H0PjqrugJfQQ==\",\"dtype\":\"float64\",\"order\":\"little\",\"shape\":[2]},{\"__ndarray__\":\"9D46q7oCX0FUjltnxgJfQQ==\",\"dtype\":\"float64\",\"order\":\"little\",\"shape\":[2]},{\"__ndarray__\":\"VI5bZ8YCX0G1hlnoygJfQQ==\",\"dtype\":\"float64\",\"order\":\"little\",\"shape\":[2]},{\"__ndarray__\":\"tYZZ6MoCX0EKPeu3zQJfQQ==\",\"dtype\":\"float64\",\"order\":\"little\",\"shape\":[2]},{\"__ndarray__\":\"Cj3rt80CX0GWVaDy2AJfQQ==\",\"dtype\":\"float64\",\"order\":\"little\",\"shape\":[2]},{\"__ndarray__\":\"llWg8tgCX0FGsKMT2wJfQQ==\",\"dtype\":\"float64\",\"order\":\"little\",\"shape\":[2]},{\"__ndarray__\":\"RrCjE9sCX0GJr/z13wJfQQ==\",\"dtype\":\"float64\",\"order\":\"little\",\"shape\":[2]},{\"__ndarray__\":\"ia/89d8CX0Ho5C+n6AJfQQ==\",\"dtype\":\"float64\",\"order\":\"little\",\"shape\":[2]},{\"__ndarray__\":\"6OQvp+gCX0F3sGdE6gJfQQ==\",\"dtype\":\"float64\",\"order\":\"little\",\"shape\":[2]},{\"__ndarray__\":\"d7BnROoCX0Fhs8R52wJfQQ==\",\"dtype\":\"float64\",\"order\":\"little\",\"shape\":[2]},{\"__ndarray__\":\"YbPEedsCX0HTuJgA0QJfQQ==\",\"dtype\":\"float64\",\"order\":\"little\",\"shape\":[2]},{\"__ndarray__\":\"07iYANECX0GVCo0cxgJfQQ==\",\"dtype\":\"float64\",\"order\":\"little\",\"shape\":[2]},{\"__ndarray__\":\"lQqNHMYCX0HhUdrixgJfQQ==\",\"dtype\":\"float64\",\"order\":\"little\",\"shape\":[2]},{\"__ndarray__\":\"4VHa4sYCX0FUj2mpygJfQQ==\",\"dtype\":\"float64\",\"order\":\"little\",\"shape\":[2]},{\"__ndarray__\":\"VI9pqcoCX0Huv2mIzQJfQQ==\",\"dtype\":\"float64\",\"order\":\"little\",\"shape\":[2]},{\"__ndarray__\":\"7r9piM0CX0Fn2APvzgJfQQ==\",\"dtype\":\"float64\",\"order\":\"little\",\"shape\":[2]},{\"__ndarray__\":\"Z9gD784CX0HDDuwD0wJfQQ==\",\"dtype\":\"float64\",\"order\":\"little\",\"shape\":[2]}],\"ys\":[{\"__ndarray__\":\"YY6aDLutQEEFijesrK1AQQ==\",\"dtype\":\"float64\",\"order\":\"little\",\"shape\":[2]},{\"__ndarray__\":\"BYo3rKytQEGF1gBqoq1AQQ==\",\"dtype\":\"float64\",\"order\":\"little\",\"shape\":[2]},{\"__ndarray__\":\"hdYAaqKtQEHBECIAka1AQQ==\",\"dtype\":\"float64\",\"order\":\"little\",\"shape\":[2]},{\"__ndarray__\":\"wRAiAJGtQEHMs/q2bq1AQQ==\",\"dtype\":\"float64\",\"order\":\"little\",\"shape\":[2]},{\"__ndarray__\":\"zLP6tm6tQEGZRgcLXK1AQQ==\",\"dtype\":\"float64\",\"order\":\"little\",\"shape\":[2]},{\"__ndarray__\":\"mUYHC1ytQEFt7Th956xAQQ==\",\"dtype\":\"float64\",\"order\":\"little\",\"shape\":[2]},{\"__ndarray__\":\"be04feesQEHUce9LtqxAQQ==\",\"dtype\":\"float64\",\"order\":\"little\",\"shape\":[2]},{\"__ndarray__\":\"1HHvS7asQEFE4/lwl6xAQQ==\",\"dtype\":\"float64\",\"order\":\"little\",\"shape\":[2]},{\"__ndarray__\":\"ROP5cJesQEGjQFBRiKxAQQ==\",\"dtype\":\"float64\",\"order\":\"little\",\"shape\":[2]},{\"__ndarray__\":\"o0BQUYisQEFlsV2NcqxAQQ==\",\"dtype\":\"float64\",\"order\":\"little\",\"shape\":[2]},{\"__ndarray__\":\"ZbFdjXKsQEEzmm4ZR6xAQQ==\",\"dtype\":\"float64\",\"order\":\"little\",\"shape\":[2]},{\"__ndarray__\":\"M5puGUesQEEJDiwME6xAQQ==\",\"dtype\":\"float64\",\"order\":\"little\",\"shape\":[2]},{\"__ndarray__\":\"CQ4sDBOsQEHHw/xtYqtAQQ==\",\"dtype\":\"float64\",\"order\":\"little\",\"shape\":[2]},{\"__ndarray__\":\"x8P8bWKrQEENSVWWUatAQQ==\",\"dtype\":\"float64\",\"order\":\"little\",\"shape\":[2]},{\"__ndarray__\":\"DUlVllGrQEHG2GKOMqtAQQ==\",\"dtype\":\"float64\",\"order\":\"little\",\"shape\":[2]},{\"__ndarray__\":\"xthijjKrQEECV8AoBatAQQ==\",\"dtype\":\"float64\",\"order\":\"little\",\"shape\":[2]},{\"__ndarray__\":\"AlfAKAWrQEGIRavy7KpAQQ==\",\"dtype\":\"float64\",\"order\":\"little\",\"shape\":[2]},{\"__ndarray__\":\"iEWr8uyqQEHZTLfMyapAQQ==\",\"dtype\":\"float64\",\"order\":\"little\",\"shape\":[2]},{\"__ndarray__\":\"2Uy3zMmqQEHtmiNUnqpAQQ==\",\"dtype\":\"float64\",\"order\":\"little\",\"shape\":[2]},{\"__ndarray__\":\"7ZojVJ6qQEGoP8f+cqpAQQ==\",\"dtype\":\"float64\",\"order\":\"little\",\"shape\":[2]},{\"__ndarray__\":\"qD/H/nKqQEGKddSICapAQQ==\",\"dtype\":\"float64\",\"order\":\"little\",\"shape\":[2]},{\"__ndarray__\":\"inXUiAmqQEG/7l0F3KlAQQ==\",\"dtype\":\"float64\",\"order\":\"little\",\"shape\":[2]},{\"__ndarray__\":\"v+5dBdypQEGTiBBBV6lAQQ==\",\"dtype\":\"float64\",\"order\":\"little\",\"shape\":[2]},{\"__ndarray__\":\"k4gQQVepQEGDMFsQ9KhAQQ==\",\"dtype\":\"float64\",\"order\":\"little\",\"shape\":[2]},{\"__ndarray__\":\"gzBbEPSoQEGozXZDyahAQQ==\",\"dtype\":\"float64\",\"order\":\"little\",\"shape\":[2]},{\"__ndarray__\":\"qM12Q8moQEHGhBoKoqhAQQ==\",\"dtype\":\"float64\",\"order\":\"little\",\"shape\":[2]},{\"__ndarray__\":\"xoQaCqKoQEGVNF5a86dAQQ==\",\"dtype\":\"float64\",\"order\":\"little\",\"shape\":[2]},{\"__ndarray__\":\"lTReWvOnQEHWRq1B3adAQQ==\",\"dtype\":\"float64\",\"order\":\"little\",\"shape\":[2]},{\"__ndarray__\":\"1katQd2nQEHQGVIRfqdAQQ==\",\"dtype\":\"float64\",\"order\":\"little\",\"shape\":[2]},{\"__ndarray__\":\"0BlSEX6nQEHZoA1iSKdAQQ==\",\"dtype\":\"float64\",\"order\":\"little\",\"shape\":[2]},{\"__ndarray__\":\"2aANYkinQEHpd7wMLadAQQ==\",\"dtype\":\"float64\",\"order\":\"little\",\"shape\":[2]},{\"__ndarray__\":\"6Xe8DC2nQEF8wMG6DqdAQQ==\",\"dtype\":\"float64\",\"order\":\"little\",\"shape\":[2]},{\"__ndarray__\":\"fMDBug6nQEHDb6bL9qZAQQ==\",\"dtype\":\"float64\",\"order\":\"little\",\"shape\":[2]},{\"__ndarray__\":\"w2+my/amQEG0IZf63qZAQQ==\",\"dtype\":\"float64\",\"order\":\"little\",\"shape\":[2]},{\"__ndarray__\":\"tCGX+t6mQEHTbPNuhaZAQQ==\",\"dtype\":\"float64\",\"order\":\"little\",\"shape\":[2]},{\"__ndarray__\":\"02zzboWmQEEEywppSKZAQQ==\",\"dtype\":\"float64\",\"order\":\"little\",\"shape\":[2]},{\"__ndarray__\":\"BMsKaUimQEEktReajaVAQQ==\",\"dtype\":\"float64\",\"order\":\"little\",\"shape\":[2]},{\"__ndarray__\":\"JLUXmo2lQEFQy/08VqVAQQ==\",\"dtype\":\"float64\",\"order\":\"little\",\"shape\":[2]},{\"__ndarray__\":\"UMv9PFalQEEa4lNmF6VAQQ==\",\"dtype\":\"float64\",\"order\":\"little\",\"shape\":[2]},{\"__ndarray__\":\"GuJTZhelQEEq/6oW86RAQQ==\",\"dtype\":\"float64\",\"order\":\"little\",\"shape\":[2]},{\"__ndarray__\":\"Kv+qFvOkQEFVACzecqRAQQ==\",\"dtype\":\"float64\",\"order\":\"little\",\"shape\":[2]},{\"__ndarray__\":\"VQAs3nKkQEEypuAIVqRAQQ==\",\"dtype\":\"float64\",\"order\":\"little\",\"shape\":[2]},{\"__ndarray__\":\"MqbgCFakQEFEC+aj7aNAQQ==\",\"dtype\":\"float64\",\"order\":\"little\",\"shape\":[2]},{\"__ndarray__\":\"RAvmo+2jQEErx0Fov6NAQQ==\",\"dtype\":\"float64\",\"order\":\"little\",\"shape\":[2]},{\"__ndarray__\":\"K8dBaL+jQEHxbWELO6NAQQ==\",\"dtype\":\"float64\",\"order\":\"little\",\"shape\":[2]},{\"__ndarray__\":\"8W1hCzujQEGxcX2QGaNAQQ==\",\"dtype\":\"float64\",\"order\":\"little\",\"shape\":[2]},{\"__ndarray__\":\"sXF9kBmjQEGH0ejYuKJAQQ==\",\"dtype\":\"float64\",\"order\":\"little\",\"shape\":[2]},{\"__ndarray__\":\"h9Ho2LiiQEEp596BnaJAQQ==\",\"dtype\":\"float64\",\"order\":\"little\",\"shape\":[2]},{\"__ndarray__\":\"KefegZ2iQEFuWE73hKJAQQ==\",\"dtype\":\"float64\",\"order\":\"little\",\"shape\":[2]},{\"__ndarray__\":\"blhO94SiQEEr1EhgFaJAQQ==\",\"dtype\":\"float64\",\"order\":\"little\",\"shape\":[2]},{\"__ndarray__\":\"K9RIYBWiQEG2pM789KFAQQ==\",\"dtype\":\"float64\",\"order\":\"little\",\"shape\":[2]},{\"__ndarray__\":\"tqTO/PShQEH1WVgV0qFAQQ==\",\"dtype\":\"float64\",\"order\":\"little\",\"shape\":[2]},{\"__ndarray__\":\"9VlYFdKhQEG1fC99wKFAQQ==\",\"dtype\":\"float64\",\"order\":\"little\",\"shape\":[2]},{\"__ndarray__\":\"tXwvfcChQEGQTW3PYqFAQQ==\",\"dtype\":\"float64\",\"order\":\"little\",\"shape\":[2]},{\"__ndarray__\":\"kE1tz2KhQEG++lVhRqFAQQ==\",\"dtype\":\"float64\",\"order\":\"little\",\"shape\":[2]},{\"__ndarray__\":\"vvpVYUahQEFvI/LVEqFAQQ==\",\"dtype\":\"float64\",\"order\":\"little\",\"shape\":[2]},{\"__ndarray__\":\"byPy1RKhQEHUDQB/CqFAQQ==\",\"dtype\":\"float64\",\"order\":\"little\",\"shape\":[2]},{\"__ndarray__\":\"1A0AfwqhQEE/qwhE9KBAQQ==\",\"dtype\":\"float64\",\"order\":\"little\",\"shape\":[2]},{\"__ndarray__\":\"P6sIRPSgQEEfYW7PGaFAQQ==\",\"dtype\":\"float64\",\"order\":\"little\",\"shape\":[2]},{\"__ndarray__\":\"H2FuzxmhQEFRyBnJt6FAQQ==\",\"dtype\":\"float64\",\"order\":\"little\",\"shape\":[2]},{\"__ndarray__\":\"UcgZybehQEHgQNbY0aFAQQ==\",\"dtype\":\"float64\",\"order\":\"little\",\"shape\":[2]},{\"__ndarray__\":\"4EDW2NGhQEHyaBX5AKJAQQ==\",\"dtype\":\"float64\",\"order\":\"little\",\"shape\":[2]},{\"__ndarray__\":\"8mgV+QCiQEFcd1rgXaJAQQ==\",\"dtype\":\"float64\",\"order\":\"little\",\"shape\":[2]},{\"__ndarray__\":\"XHda4F2iQEGPsfNwkKJAQQ==\",\"dtype\":\"float64\",\"order\":\"little\",\"shape\":[2]},{\"__ndarray__\":\"j7HzcJCiQEFvRHfhfKJAQQ==\",\"dtype\":\"float64\",\"order\":\"little\",\"shape\":[2]},{\"__ndarray__\":\"b0R34XyiQEFh45xYO6JAQQ==\",\"dtype\":\"float64\",\"order\":\"little\",\"shape\":[2]},{\"__ndarray__\":\"YeOcWDuiQEGrpYvKEaJAQQ==\",\"dtype\":\"float64\",\"order\":\"little\",\"shape\":[2]},{\"__ndarray__\":\"q6WLyhGiQEE466szmKFAQQ==\",\"dtype\":\"float64\",\"order\":\"little\",\"shape\":[2]},{\"__ndarray__\":\"OOurM5ihQEEeG5zyf6FAQQ==\",\"dtype\":\"float64\",\"order\":\"little\",\"shape\":[2]},{\"__ndarray__\":\"Hhuc8n+hQEEIOpK2caFAQQ==\",\"dtype\":\"float64\",\"order\":\"little\",\"shape\":[2]},{\"__ndarray__\":\"CDqStnGhQEF4rVE3UaFAQQ==\",\"dtype\":\"float64\",\"order\":\"little\",\"shape\":[2]},{\"__ndarray__\":\"eK1RN1GhQEHMcFobM6FAQQ==\",\"dtype\":\"float64\",\"order\":\"little\",\"shape\":[2]},{\"__ndarray__\":\"zHBaGzOhQEGNCtHsEqBAQQ==\",\"dtype\":\"float64\",\"order\":\"little\",\"shape\":[2]},{\"__ndarray__\":\"jQrR7BKgQEEmCW93q59AQQ==\",\"dtype\":\"float64\",\"order\":\"little\",\"shape\":[2]},{\"__ndarray__\":\"Jglvd6ufQEGlowarn59AQQ==\",\"dtype\":\"float64\",\"order\":\"little\",\"shape\":[2]},{\"__ndarray__\":\"paMGq5+fQEH2ctRojp9AQQ==\",\"dtype\":\"float64\",\"order\":\"little\",\"shape\":[2]},{\"__ndarray__\":\"9nLUaI6fQEFbUOCAbp9AQQ==\",\"dtype\":\"float64\",\"order\":\"little\",\"shape\":[2]},{\"__ndarray__\":\"W1DggG6fQEH3urwBZp9AQQ==\",\"dtype\":\"float64\",\"order\":\"little\",\"shape\":[2]},{\"__ndarray__\":\"97q8AWafQEF4vP2OTp9AQQ==\",\"dtype\":\"float64\",\"order\":\"little\",\"shape\":[2]},{\"__ndarray__\":\"eLz9jk6fQEE5o8aB7Z5AQQ==\",\"dtype\":\"float64\",\"order\":\"little\",\"shape\":[2]},{\"__ndarray__\":\"OaPGge2eQEG1iQbZw55AQQ==\",\"dtype\":\"float64\",\"order\":\"little\",\"shape\":[2]},{\"__ndarray__\":\"tYkG2cOeQEFEEvdai55AQQ==\",\"dtype\":\"float64\",\"order\":\"little\",\"shape\":[2]},{\"__ndarray__\":\"RBL3WoueQEGJi+jNa55AQQ==\",\"dtype\":\"float64\",\"order\":\"little\",\"shape\":[2]},{\"__ndarray__\":\"iYvozWueQEHSW04wSZ5AQQ==\",\"dtype\":\"float64\",\"order\":\"little\",\"shape\":[2]},{\"__ndarray__\":\"0ltOMEmeQEH477WuwZ1AQQ==\",\"dtype\":\"float64\",\"order\":\"little\",\"shape\":[2]},{\"__ndarray__\":\"+O+1rsGdQEEXBLK+qZ1AQQ==\",\"dtype\":\"float64\",\"order\":\"little\",\"shape\":[2]},{\"__ndarray__\":\"FwSyvqmdQEFCYbSNkp1AQQ==\",\"dtype\":\"float64\",\"order\":\"little\",\"shape\":[2]},{\"__ndarray__\":\"QmG0jZKdQEEr8lXlaJ1AQQ==\",\"dtype\":\"float64\",\"order\":\"little\",\"shape\":[2]},{\"__ndarray__\":\"K/JV5WidQEHWieKGRp1AQQ==\",\"dtype\":\"float64\",\"order\":\"little\",\"shape\":[2]},{\"__ndarray__\":\"1onihkadQEH3pNE/7ZxAQQ==\",\"dtype\":\"float64\",\"order\":\"little\",\"shape\":[2]},{\"__ndarray__\":\"96TRP+2cQEGo8okQ1JxAQQ==\",\"dtype\":\"float64\",\"order\":\"little\",\"shape\":[2]},{\"__ndarray__\":\"qPKJENScQEEqVJE5vJxAQQ==\",\"dtype\":\"float64\",\"order\":\"little\",\"shape\":[2]},{\"__ndarray__\":\"KlSRObycQEF/nW6dTZxAQQ==\",\"dtype\":\"float64\",\"order\":\"little\",\"shape\":[2]},{\"__ndarray__\":\"f51unU2cQEGtTWIuMpxAQQ==\",\"dtype\":\"float64\",\"order\":\"little\",\"shape\":[2]},{\"__ndarray__\":\"rU1iLjKcQEFF84qbH5xAQQ==\",\"dtype\":\"float64\",\"order\":\"little\",\"shape\":[2]},{\"__ndarray__\":\"RfOKmx+cQEHjt4UjEZxAQQ==\",\"dtype\":\"float64\",\"order\":\"little\",\"shape\":[2]},{\"__ndarray__\":\"47eFIxGcQEFxqZFjqptAQQ==\",\"dtype\":\"float64\",\"order\":\"little\",\"shape\":[2]},{\"__ndarray__\":\"camRY6qbQEF28czMlJtAQQ==\",\"dtype\":\"float64\",\"order\":\"little\",\"shape\":[2]},{\"__ndarray__\":\"dvHMzJSbQEHw6uxshJtAQQ==\",\"dtype\":\"float64\",\"order\":\"little\",\"shape\":[2]},{\"__ndarray__\":\"8OrsbISbQEEHPONAcZtAQQ==\",\"dtype\":\"float64\",\"order\":\"little\",\"shape\":[2]},{\"__ndarray__\":\"BzzjQHGbQEGR7smqHZtAQQ==\",\"dtype\":\"float64\",\"order\":\"little\",\"shape\":[2]},{\"__ndarray__\":\"ke7Jqh2bQEGkNMx75JpAQQ==\",\"dtype\":\"float64\",\"order\":\"little\",\"shape\":[2]},{\"__ndarray__\":\"pDTMe+SaQEHtQKF9zZpAQQ==\",\"dtype\":\"float64\",\"order\":\"little\",\"shape\":[2]},{\"__ndarray__\":\"7UChfc2aQEFiae0svZpAQQ==\",\"dtype\":\"float64\",\"order\":\"little\",\"shape\":[2]},{\"__ndarray__\":\"YmntLL2aQEHEKCfwgJpAQQ==\",\"dtype\":\"float64\",\"order\":\"little\",\"shape\":[2]},{\"__ndarray__\":\"xCgn8ICaQEGGAV2cc5pAQQ==\",\"dtype\":\"float64\",\"order\":\"little\",\"shape\":[2]},{\"__ndarray__\":\"hgFdnHOaQEH+q0ZoNZpAQQ==\",\"dtype\":\"float64\",\"order\":\"little\",\"shape\":[2]},{\"__ndarray__\":\"/qtGaDWaQEG5VVTW+JlAQQ==\",\"dtype\":\"float64\",\"order\":\"little\",\"shape\":[2]},{\"__ndarray__\":\"uVVU1viZQEEdlwgU4ZlAQQ==\",\"dtype\":\"float64\",\"order\":\"little\",\"shape\":[2]},{\"__ndarray__\":\"HZcIFOGZQEGNn25Jx5lAQQ==\",\"dtype\":\"float64\",\"order\":\"little\",\"shape\":[2]},{\"__ndarray__\":\"jZ9uSceZQEF/CH6/pplAQQ==\",\"dtype\":\"float64\",\"order\":\"little\",\"shape\":[2]},{\"__ndarray__\":\"fwh+v6aZQEE9+xV+gJlAQQ==\",\"dtype\":\"float64\",\"order\":\"little\",\"shape\":[2]},{\"__ndarray__\":\"PfsVfoCZQEFD/JOwa5lAQQ==\",\"dtype\":\"float64\",\"order\":\"little\",\"shape\":[2]},{\"__ndarray__\":\"Q/yTsGuZQEHN08khUZlAQQ==\",\"dtype\":\"float64\",\"order\":\"little\",\"shape\":[2]},{\"__ndarray__\":\"zdPJIVGZQEEBmdi2LJlAQQ==\",\"dtype\":\"float64\",\"order\":\"little\",\"shape\":[2]},{\"__ndarray__\":\"AZnYtiyZQEE4MjUC9phAQQ==\",\"dtype\":\"float64\",\"order\":\"little\",\"shape\":[2]},{\"__ndarray__\":\"ODI1AvaYQEGldfym45hAQQ==\",\"dtype\":\"float64\",\"order\":\"little\",\"shape\":[2]},{\"__ndarray__\":\"pXX8puOYQEHDWweulZhAQQ==\",\"dtype\":\"float64\",\"order\":\"little\",\"shape\":[2]},{\"__ndarray__\":\"w1sHrpWYQEFuxWlXUJhAQQ==\",\"dtype\":\"float64\",\"order\":\"little\",\"shape\":[2]},{\"__ndarray__\":\"bsVpV1CYQEHnlC4uBphAQQ==\",\"dtype\":\"float64\",\"order\":\"little\",\"shape\":[2]},{\"__ndarray__\":\"55QuLgaYQEGSu9lS85dAQQ==\",\"dtype\":\"float64\",\"order\":\"little\",\"shape\":[2]},{\"__ndarray__\":\"krvZUvOXQEHdpb+HtpdAQQ==\",\"dtype\":\"float64\",\"order\":\"little\",\"shape\":[2]},{\"__ndarray__\":\"3aW/h7aXQEHkyJQTiJdAQQ==\",\"dtype\":\"float64\",\"order\":\"little\",\"shape\":[2]},{\"__ndarray__\":\"5MiUE4iXQEGm3k7l+JZAQQ==\",\"dtype\":\"float64\",\"order\":\"little\",\"shape\":[2]},{\"__ndarray__\":\"pt5O5fiWQEHclx/aw5ZAQQ==\",\"dtype\":\"float64\",\"order\":\"little\",\"shape\":[2]},{\"__ndarray__\":\"3Jcf2sOWQEEs6N6fpZZAQQ==\",\"dtype\":\"float64\",\"order\":\"little\",\"shape\":[2]},{\"__ndarray__\":\"LOjen6WWQEEpRyUTlJZAQQ==\",\"dtype\":\"float64\",\"order\":\"little\",\"shape\":[2]},{\"__ndarray__\":\"KUclE5SWQEHw7BjqhpZAQQ==\",\"dtype\":\"float64\",\"order\":\"little\",\"shape\":[2]},{\"__ndarray__\":\"8OwY6oaWQEGVhI72PJZAQQ==\",\"dtype\":\"float64\",\"order\":\"little\",\"shape\":[2]},{\"__ndarray__\":\"lYSO9jyWQEFNADQP4JVAQQ==\",\"dtype\":\"float64\",\"order\":\"little\",\"shape\":[2]},{\"__ndarray__\":\"TQA0D+CVQEHQtzRFzJVAQQ==\",\"dtype\":\"float64\",\"order\":\"little\",\"shape\":[2]},{\"__ndarray__\":\"0Lc0RcyVQEEwC1ZBrJVAQQ==\",\"dtype\":\"float64\",\"order\":\"little\",\"shape\":[2]},{\"__ndarray__\":\"MAtWQayVQEFSJNdOjJVAQQ==\",\"dtype\":\"float64\",\"order\":\"little\",\"shape\":[2]},{\"__ndarray__\":\"UiTXToyVQEHhfMUWZ5VAQQ==\",\"dtype\":\"float64\",\"order\":\"little\",\"shape\":[2]},{\"__ndarray__\":\"4XzFFmeVQEHqBZrZKpVAQQ==\",\"dtype\":\"float64\",\"order\":\"little\",\"shape\":[2]},{\"__ndarray__\":\"6gWa2SqVQEHK0tFRDZVAQQ==\",\"dtype\":\"float64\",\"order\":\"little\",\"shape\":[2]},{\"__ndarray__\":\"ytLRUQ2VQEFyUH+8vpRAQQ==\",\"dtype\":\"float64\",\"order\":\"little\",\"shape\":[2]},{\"__ndarray__\":\"clB/vL6UQEHPr+3SrJRAQQ==\",\"dtype\":\"float64\",\"order\":\"little\",\"shape\":[2]},{\"__ndarray__\":\"z6/t0qyUQEGLnIJsf5RAQQ==\",\"dtype\":\"float64\",\"order\":\"little\",\"shape\":[2]},{\"__ndarray__\":\"i5yCbH+UQEGuCxeHTZRAQQ==\",\"dtype\":\"float64\",\"order\":\"little\",\"shape\":[2]},{\"__ndarray__\":\"rgsXh02UQEFfU39qM5RAQQ==\",\"dtype\":\"float64\",\"order\":\"little\",\"shape\":[2]},{\"__ndarray__\":\"X1N/ajOUQEEMvJ6XIZRAQQ==\",\"dtype\":\"float64\",\"order\":\"little\",\"shape\":[2]},{\"__ndarray__\":\"DLyelyGUQEHG5cD46pNAQQ==\",\"dtype\":\"float64\",\"order\":\"little\",\"shape\":[2]},{\"__ndarray__\":\"xuXA+OqTQEHOZqy0zJNAQQ==\",\"dtype\":\"float64\",\"order\":\"little\",\"shape\":[2]},{\"__ndarray__\":\"zmastMyTQEEdQKVktZNAQQ==\",\"dtype\":\"float64\",\"order\":\"little\",\"shape\":[2]},{\"__ndarray__\":\"HUClZLWTQEFgu7kuR5NAQQ==\",\"dtype\":\"float64\",\"order\":\"little\",\"shape\":[2]},{\"__ndarray__\":\"YLu5LkeTQEGcQFqhJ5NAQQ==\",\"dtype\":\"float64\",\"order\":\"little\",\"shape\":[2]},{\"__ndarray__\":\"nEBaoSeTQEGKXdlbHZNAQQ==\",\"dtype\":\"float64\",\"order\":\"little\",\"shape\":[2]},{\"__ndarray__\":\"il3ZWx2TQEFYCX5jEZNAQQ==\",\"dtype\":\"float64\",\"order\":\"little\",\"shape\":[2]},{\"__ndarray__\":\"WAl+YxGTQEGDsP4dB5NAQQ==\",\"dtype\":\"float64\",\"order\":\"little\",\"shape\":[2]},{\"__ndarray__\":\"g7D+HQeTQEEjZ7Zb+ZJAQQ==\",\"dtype\":\"float64\",\"order\":\"little\",\"shape\":[2]},{\"__ndarray__\":\"I2e2W/mSQEET1E0hOZNAQQ==\",\"dtype\":\"float64\",\"order\":\"little\",\"shape\":[2]},{\"__ndarray__\":\"E9RNITmTQEHMH01VW5NAQQ==\",\"dtype\":\"float64\",\"order\":\"little\",\"shape\":[2]},{\"__ndarray__\":\"zB9NVVuTQEFY9qWWbZNAQQ==\",\"dtype\":\"float64\",\"order\":\"little\",\"shape\":[2]},{\"__ndarray__\":\"WPallm2TQEE0O/m8gJNAQQ==\",\"dtype\":\"float64\",\"order\":\"little\",\"shape\":[2]},{\"__ndarray__\":\"NDv5vICTQEHReEgslZNAQQ==\",\"dtype\":\"float64\",\"order\":\"little\",\"shape\":[2]},{\"__ndarray__\":\"0XhILJWTQEFS/qP/rZNAQQ==\",\"dtype\":\"float64\",\"order\":\"little\",\"shape\":[2]},{\"__ndarray__\":\"Uv6j/62TQEES8YATv5NAQQ==\",\"dtype\":\"float64\",\"order\":\"little\",\"shape\":[2]},{\"__ndarray__\":\"EvGAE7+TQEGeQU0D5pNAQQ==\",\"dtype\":\"float64\",\"order\":\"little\",\"shape\":[2]},{\"__ndarray__\":\"nkFNA+aTQEHUfESNA5RAQQ==\",\"dtype\":\"float64\",\"order\":\"little\",\"shape\":[2]},{\"__ndarray__\":\"1HxEjQOUQEGdL2vNEpRAQQ==\",\"dtype\":\"float64\",\"order\":\"little\",\"shape\":[2]},{\"__ndarray__\":\"nS9rzRKUQEHWzZE1tJRAQQ==\",\"dtype\":\"float64\",\"order\":\"little\",\"shape\":[2]},{\"__ndarray__\":\"1s2RNbSUQEHgohpNyJRAQQ==\",\"dtype\":\"float64\",\"order\":\"little\",\"shape\":[2]},{\"__ndarray__\":\"4KIaTciUQEFpOPyK6ZRAQQ==\",\"dtype\":\"float64\",\"order\":\"little\",\"shape\":[2]},{\"__ndarray__\":\"aTj8iumUQEF0clIpGJVAQQ==\",\"dtype\":\"float64\",\"order\":\"little\",\"shape\":[2]},{\"__ndarray__\":\"dHJSKRiVQEHQaR8FZ5VAQQ==\",\"dtype\":\"float64\",\"order\":\"little\",\"shape\":[2]},{\"__ndarray__\":\"0GkfBWeVQEGxDP9xepVAQQ==\",\"dtype\":\"float64\",\"order\":\"little\",\"shape\":[2]},{\"__ndarray__\":\"sQz/cXqVQEEhhztDsJVAQQ==\",\"dtype\":\"float64\",\"order\":\"little\",\"shape\":[2]},{\"__ndarray__\":\"IYc7Q7CVQEHctwZPy5VAQQ==\",\"dtype\":\"float64\",\"order\":\"little\",\"shape\":[2]},{\"__ndarray__\":\"3LcGT8uVQEHd+kph3pVAQQ==\",\"dtype\":\"float64\",\"order\":\"little\",\"shape\":[2]},{\"__ndarray__\":\"3fpKYd6VQEElR4ZARZZAQQ==\",\"dtype\":\"float64\",\"order\":\"little\",\"shape\":[2]},{\"__ndarray__\":\"JUeGQEWWQEGayROfVJZAQQ==\",\"dtype\":\"float64\",\"order\":\"little\",\"shape\":[2]},{\"__ndarray__\":\"mskTn1SWQEEk6qVIipZAQQ==\",\"dtype\":\"float64\",\"order\":\"little\",\"shape\":[2]},{\"__ndarray__\":\"JOqlSIqWQEFNX2DhsZZAQQ==\",\"dtype\":\"float64\",\"order\":\"little\",\"shape\":[2]},{\"__ndarray__\":\"TV9g4bGWQEGZ0EN935ZAQQ==\",\"dtype\":\"float64\",\"order\":\"little\",\"shape\":[2]},{\"__ndarray__\":\"mdBDfd+WQEGw92d5/pZAQQ==\",\"dtype\":\"float64\",\"order\":\"little\",\"shape\":[2]},{\"__ndarray__\":\"sPdnef6WQEFoVwkRKJdAQQ==\",\"dtype\":\"float64\",\"order\":\"little\",\"shape\":[2]},{\"__ndarray__\":\"aFcJESiXQEGmUupxPJdAQQ==\",\"dtype\":\"float64\",\"order\":\"little\",\"shape\":[2]},{\"__ndarray__\":\"plLqcTyXQEGUcTCog5dAQQ==\",\"dtype\":\"float64\",\"order\":\"little\",\"shape\":[2]},{\"__ndarray__\":\"lHEwqIOXQEGVHZLwv5dAQQ==\",\"dtype\":\"float64\",\"order\":\"little\",\"shape\":[2]},{\"__ndarray__\":\"lR2S8L+XQEGApLJCB5hAQQ==\",\"dtype\":\"float64\",\"order\":\"little\",\"shape\":[2]},{\"__ndarray__\":\"gKSyQgeYQEHrsZjXKZhAQQ==\",\"dtype\":\"float64\",\"order\":\"little\",\"shape\":[2]},{\"__ndarray__\":\"67GY1ymYQEETJheqVZhAQQ==\",\"dtype\":\"float64\",\"order\":\"little\",\"shape\":[2]},{\"__ndarray__\":\"EyYXqlWYQEEc6u5f/ZhAQQ==\",\"dtype\":\"float64\",\"order\":\"little\",\"shape\":[2]},{\"__ndarray__\":\"HOruX/2YQEEXqFzSR5lAQQ==\",\"dtype\":\"float64\",\"order\":\"little\",\"shape\":[2]},{\"__ndarray__\":\"F6hc0keZQEGKjmGNhplAQQ==\",\"dtype\":\"float64\",\"order\":\"little\",\"shape\":[2]},{\"__ndarray__\":\"io5hjYaZQEFzO+/muplAQQ==\",\"dtype\":\"float64\",\"order\":\"little\",\"shape\":[2]},{\"__ndarray__\":\"czvv5rqZQEHVXURoH5pAQQ==\",\"dtype\":\"float64\",\"order\":\"little\",\"shape\":[2]},{\"__ndarray__\":\"1V1EaB+aQEHIV2BVrZpAQQ==\",\"dtype\":\"float64\",\"order\":\"little\",\"shape\":[2]},{\"__ndarray__\":\"yFdgVa2aQEFUuNsKz5pAQQ==\",\"dtype\":\"float64\",\"order\":\"little\",\"shape\":[2]},{\"__ndarray__\":\"VLjbCs+aQEFX4zxK4JpAQQ==\",\"dtype\":\"float64\",\"order\":\"little\",\"shape\":[2]},{\"__ndarray__\":\"V+M8SuCaQEGrJ2e7AJtAQQ==\",\"dtype\":\"float64\",\"order\":\"little\",\"shape\":[2]},{\"__ndarray__\":\"qydnuwCbQEE8v/7YH5tAQQ==\",\"dtype\":\"float64\",\"order\":\"little\",\"shape\":[2]},{\"__ndarray__\":\"PL/+2B+bQEF/35Ic+ppAQQ==\",\"dtype\":\"float64\",\"order\":\"little\",\"shape\":[2]},{\"__ndarray__\":\"f9+SHPqaQEF8tcfNx5pAQQ==\",\"dtype\":\"float64\",\"order\":\"little\",\"shape\":[2]},{\"__ndarray__\":\"fLXHzceaQEE//QR0rppAQQ==\",\"dtype\":\"float64\",\"order\":\"little\",\"shape\":[2]},{\"__ndarray__\":\"P/0EdK6aQEEHQcU+nZpAQQ==\",\"dtype\":\"float64\",\"order\":\"little\",\"shape\":[2]},{\"__ndarray__\":\"B0HFPp2aQEEUKWq1DZpAQQ==\",\"dtype\":\"float64\",\"order\":\"little\",\"shape\":[2]},{\"__ndarray__\":\"FClqtQ2aQEFaqvpOfJlAQQ==\",\"dtype\":\"float64\",\"order\":\"little\",\"shape\":[2]},{\"__ndarray__\":\"Wqr6TnyZQEGXk6t0RplAQQ==\",\"dtype\":\"float64\",\"order\":\"little\",\"shape\":[2]},{\"__ndarray__\":\"l5OrdEaZQEE6CwinBJlAQQ==\",\"dtype\":\"float64\",\"order\":\"little\",\"shape\":[2]},{\"__ndarray__\":\"OgsIpwSZQEF+ndvw2phAQQ==\",\"dtype\":\"float64\",\"order\":\"little\",\"shape\":[2]},{\"__ndarray__\":\"fp3b8NqYQEE9q6zLBJhAQQ==\",\"dtype\":\"float64\",\"order\":\"little\",\"shape\":[2]},{\"__ndarray__\":\"PausywSYQEHrMsDnoJdAQQ==\",\"dtype\":\"float64\",\"order\":\"little\",\"shape\":[2]},{\"__ndarray__\":\"6zLA56CXQEFApvqAgJdAQQ==\",\"dtype\":\"float64\",\"order\":\"little\",\"shape\":[2]},{\"__ndarray__\":\"QKb6gICXQEEMUOJKcZdAQQ==\",\"dtype\":\"float64\",\"order\":\"little\",\"shape\":[2]},{\"__ndarray__\":\"DFDiSnGXQEEhOmuVTpdAQQ==\",\"dtype\":\"float64\",\"order\":\"little\",\"shape\":[2]},{\"__ndarray__\":\"ITprlU6XQEG8BczaNZdAQQ==\",\"dtype\":\"float64\",\"order\":\"little\",\"shape\":[2]},{\"__ndarray__\":\"vAXM2jWXQEFSZF/ODpdAQQ==\",\"dtype\":\"float64\",\"order\":\"little\",\"shape\":[2]},{\"__ndarray__\":\"UmRfzg6XQEGZrLE/4pZAQQ==\",\"dtype\":\"float64\",\"order\":\"little\",\"shape\":[2]},{\"__ndarray__\":\"mayxP+KWQEF8cfti0ZZAQQ==\",\"dtype\":\"float64\",\"order\":\"little\",\"shape\":[2]},{\"__ndarray__\":\"fHH7YtGWQEEewKuwr5ZAQQ==\",\"dtype\":\"float64\",\"order\":\"little\",\"shape\":[2]},{\"__ndarray__\":\"HsCrsK+WQEEjwFhpf5ZAQQ==\",\"dtype\":\"float64\",\"order\":\"little\",\"shape\":[2]},{\"__ndarray__\":\"I8BYaX+WQEF5nHp6XJZAQQ==\",\"dtype\":\"float64\",\"order\":\"little\",\"shape\":[2]},{\"__ndarray__\":\"eZx6elyWQEEORdzIGJZAQQ==\",\"dtype\":\"float64\",\"order\":\"little\",\"shape\":[2]},{\"__ndarray__\":\"DkXcyBiWQEETNAEi7pVAQQ==\",\"dtype\":\"float64\",\"order\":\"little\",\"shape\":[2]},{\"__ndarray__\":\"EzQBIu6VQEEQuNaQ0pVAQQ==\",\"dtype\":\"float64\",\"order\":\"little\",\"shape\":[2]},{\"__ndarray__\":\"ELjWkNKVQEGBs8psopVAQQ==\",\"dtype\":\"float64\",\"order\":\"little\",\"shape\":[2]},{\"__ndarray__\":\"gbPKbKKVQEFq9x2IS5VAQQ==\",\"dtype\":\"float64\",\"order\":\"little\",\"shape\":[2]},{\"__ndarray__\":\"avcdiEuVQEGRHSOHIJVAQQ==\",\"dtype\":\"float64\",\"order\":\"little\",\"shape\":[2]},{\"__ndarray__\":\"kR0jhyCVQEGCDoDeAZVAQQ==\",\"dtype\":\"float64\",\"order\":\"little\",\"shape\":[2]},{\"__ndarray__\":\"gg6A3gGVQEE+hLtY45RAQQ==\",\"dtype\":\"float64\",\"order\":\"little\",\"shape\":[2]},{\"__ndarray__\":\"PoS7WOOUQEEUCyTPupRAQQ==\",\"dtype\":\"float64\",\"order\":\"little\",\"shape\":[2]},{\"__ndarray__\":\"FAskz7qUQEFP2EhffZRAQQ==\",\"dtype\":\"float64\",\"order\":\"little\",\"shape\":[2]},{\"__ndarray__\":\"T9hIX32UQEGd0dkPYpRAQQ==\",\"dtype\":\"float64\",\"order\":\"little\",\"shape\":[2]},{\"__ndarray__\":\"ndHZD2KUQEGLTbE2TZRAQQ==\",\"dtype\":\"float64\",\"order\":\"little\",\"shape\":[2]},{\"__ndarray__\":\"i02xNk2UQEF6QpEO3ZNAQQ==\",\"dtype\":\"float64\",\"order\":\"little\",\"shape\":[2]},{\"__ndarray__\":\"ekKRDt2TQEFYZhCwtZNAQQ==\",\"dtype\":\"float64\",\"order\":\"little\",\"shape\":[2]},{\"__ndarray__\":\"WGYQsLWTQEHjPFahhpNAQQ==\",\"dtype\":\"float64\",\"order\":\"little\",\"shape\":[2]},{\"__ndarray__\":\"4zxWoYaTQEE3wIVXfpNAQQ==\",\"dtype\":\"float64\",\"order\":\"little\",\"shape\":[2]},{\"__ndarray__\":\"N8CFV36TQEH+ZGfTbpNAQQ==\",\"dtype\":\"float64\",\"order\":\"little\",\"shape\":[2]},{\"__ndarray__\":\"/mRn026TQEETxy55LZNAQQ==\",\"dtype\":\"float64\",\"order\":\"little\",\"shape\":[2]},{\"__ndarray__\":\"E8cueS2TQEHEL9Ga85JAQQ==\",\"dtype\":\"float64\",\"order\":\"little\",\"shape\":[2]},{\"__ndarray__\":\"xC/RmvOSQEGHEs4ryJJAQQ==\",\"dtype\":\"float64\",\"order\":\"little\",\"shape\":[2]},{\"__ndarray__\":\"hxLOK8iSQEGWsy+nQ5JAQQ==\",\"dtype\":\"float64\",\"order\":\"little\",\"shape\":[2]},{\"__ndarray__\":\"lrMvp0OSQEE89pVuD5JAQQ==\",\"dtype\":\"float64\",\"order\":\"little\",\"shape\":[2]},{\"__ndarray__\":\"PPaVbg+SQEGy9PC9TpFAQQ==\",\"dtype\":\"float64\",\"order\":\"little\",\"shape\":[2]},{\"__ndarray__\":\"svTwvU6RQEENZoXhF5FAQQ==\",\"dtype\":\"float64\",\"order\":\"little\",\"shape\":[2]},{\"__ndarray__\":\"DWaF4ReRQEFREw9CsZBAQQ==\",\"dtype\":\"float64\",\"order\":\"little\",\"shape\":[2]},{\"__ndarray__\":\"URMPQrGQQEEAe3Xnl5BAQQ==\",\"dtype\":\"float64\",\"order\":\"little\",\"shape\":[2]},{\"__ndarray__\":\"AHt155eQQEEo9looZZBAQQ==\",\"dtype\":\"float64\",\"order\":\"little\",\"shape\":[2]},{\"__ndarray__\":\"KPZaKGWQQEEeMCCQNJBAQQ==\",\"dtype\":\"float64\",\"order\":\"little\",\"shape\":[2]},{\"__ndarray__\":\"HjAgkDSQQEGlPC2hbo9AQQ==\",\"dtype\":\"float64\",\"order\":\"little\",\"shape\":[2]},{\"__ndarray__\":\"pTwtoW6PQEEH1RTMD49AQQ==\",\"dtype\":\"float64\",\"order\":\"little\",\"shape\":[2]},{\"__ndarray__\":\"B9UUzA+PQEHzq93Y3I5AQQ==\",\"dtype\":\"float64\",\"order\":\"little\",\"shape\":[2]},{\"__ndarray__\":\"86vd2NyOQEFfxyupgo5AQQ==\",\"dtype\":\"float64\",\"order\":\"little\",\"shape\":[2]},{\"__ndarray__\":\"X8crqYKOQEHuGPx9o41AQQ==\",\"dtype\":\"float64\",\"order\":\"little\",\"shape\":[2]},{\"__ndarray__\":\"7hj8faONQEEcihJ1UI1AQQ==\",\"dtype\":\"float64\",\"order\":\"little\",\"shape\":[2]},{\"__ndarray__\":\"HIoSdVCNQEH4eH42sYxAQQ==\",\"dtype\":\"float64\",\"order\":\"little\",\"shape\":[2]},{\"__ndarray__\":\"+Hh+NrGMQEETb+TSaYxAQQ==\",\"dtype\":\"float64\",\"order\":\"little\",\"shape\":[2]},{\"__ndarray__\":\"E2/k0mmMQEH6MQd/I4xAQQ==\",\"dtype\":\"float64\",\"order\":\"little\",\"shape\":[2]},{\"__ndarray__\":\"+jEHfyOMQEFvdeRQi4tAQQ==\",\"dtype\":\"float64\",\"order\":\"little\",\"shape\":[2]},{\"__ndarray__\":\"b3XkUIuLQEEtMSlnYYtAQQ==\",\"dtype\":\"float64\",\"order\":\"little\",\"shape\":[2]},{\"__ndarray__\":\"LTEpZ2GLQEEvG4jdvIpAQQ==\",\"dtype\":\"float64\",\"order\":\"little\",\"shape\":[2]},{\"__ndarray__\":\"LxuI3byKQEGYhsSQc4pAQQ==\",\"dtype\":\"float64\",\"order\":\"little\",\"shape\":[2]},{\"__ndarray__\":\"mIbEkHOKQEHn/6gIXYpAQQ==\",\"dtype\":\"float64\",\"order\":\"little\",\"shape\":[2]},{\"__ndarray__\":\"5/+oCF2KQEHVjbIXZIpAQQ==\",\"dtype\":\"float64\",\"order\":\"little\",\"shape\":[2]},{\"__ndarray__\":\"1Y2yF2SKQEEy/ZCXaopAQQ==\",\"dtype\":\"float64\",\"order\":\"little\",\"shape\":[2]},{\"__ndarray__\":\"Mv2Ql2qKQEELlGdzg4pAQQ==\",\"dtype\":\"float64\",\"order\":\"little\",\"shape\":[2]},{\"__ndarray__\":\"C5Rnc4OKQEHnyTSHrIpAQQ==\",\"dtype\":\"float64\",\"order\":\"little\",\"shape\":[2]},{\"__ndarray__\":\"58k0h6yKQEGcYzUM3YpAQQ==\",\"dtype\":\"float64\",\"order\":\"little\",\"shape\":[2]},{\"__ndarray__\":\"nGM1DN2KQEHEyl5F4opAQQ==\",\"dtype\":\"float64\",\"order\":\"little\",\"shape\":[2]},{\"__ndarray__\":\"xMpeReKKQEF5E8MxnopAQQ==\",\"dtype\":\"float64\",\"order\":\"little\",\"shape\":[2]},{\"__ndarray__\":\"eRPDMZ6KQEGWVfxzAIpAQQ==\",\"dtype\":\"float64\",\"order\":\"little\",\"shape\":[2]},{\"__ndarray__\":\"llX8cwCKQEE0UAEM04lAQQ==\",\"dtype\":\"float64\",\"order\":\"little\",\"shape\":[2]},{\"__ndarray__\":\"NFABDNOJQEHYtFSPh4lAQQ==\",\"dtype\":\"float64\",\"order\":\"little\",\"shape\":[2]},{\"__ndarray__\":\"2LRUj4eJQEE8GyfE44hAQQ==\",\"dtype\":\"float64\",\"order\":\"little\",\"shape\":[2]},{\"__ndarray__\":\"PBsnxOOIQEEh/1JHj4hAQQ==\",\"dtype\":\"float64\",\"order\":\"little\",\"shape\":[2]},{\"__ndarray__\":\"If9SR4+IQEGPL/BbT4hAQQ==\",\"dtype\":\"float64\",\"order\":\"little\",\"shape\":[2]},{\"__ndarray__\":\"jy/wW0+IQEGrnWCbHohAQQ==\",\"dtype\":\"float64\",\"order\":\"little\",\"shape\":[2]},{\"__ndarray__\":\"q51gmx6IQEHCtLHa5YdAQQ==\",\"dtype\":\"float64\",\"order\":\"little\",\"shape\":[2]},{\"__ndarray__\":\"wrSx2uWHQEEoTxJGM4dAQQ==\",\"dtype\":\"float64\",\"order\":\"little\",\"shape\":[2]},{\"__ndarray__\":\"KE8SRjOHQEHTGJgnHIdAQQ==\",\"dtype\":\"float64\",\"order\":\"little\",\"shape\":[2]},{\"__ndarray__\":\"0xiYJxyHQEESh9ShhIZAQQ==\",\"dtype\":\"float64\",\"order\":\"little\",\"shape\":[2]},{\"__ndarray__\":\"EofUoYSGQEHBa+cmSIZAQQ==\",\"dtype\":\"float64\",\"order\":\"little\",\"shape\":[2]},{\"__ndarray__\":\"wWvnJkiGQEGIeeAQJIZAQQ==\",\"dtype\":\"float64\",\"order\":\"little\",\"shape\":[2]},{\"__ndarray__\":\"iHngECSGQEFw9xMylYVAQQ==\",\"dtype\":\"float64\",\"order\":\"little\",\"shape\":[2]},{\"__ndarray__\":\"cPcTMpWFQEHYJjGGeoVAQQ==\",\"dtype\":\"float64\",\"order\":\"little\",\"shape\":[2]},{\"__ndarray__\":\"2CYxhnqFQEGLo2CNO4VAQQ==\",\"dtype\":\"float64\",\"order\":\"little\",\"shape\":[2]},{\"__ndarray__\":\"i6NgjTuFQEGuq3vw0oRAQQ==\",\"dtype\":\"float64\",\"order\":\"little\",\"shape\":[2]},{\"__ndarray__\":\"rqt78NKEQEESVDVUuYRAQQ==\",\"dtype\":\"float64\",\"order\":\"little\",\"shape\":[2]},{\"__ndarray__\":\"ElQ1VLmEQEHBQLcHUIRAQQ==\",\"dtype\":\"float64\",\"order\":\"little\",\"shape\":[2]},{\"__ndarray__\":\"wUC3B1CEQEGJfnD4F4RAQQ==\",\"dtype\":\"float64\",\"order\":\"little\",\"shape\":[2]},{\"__ndarray__\":\"iX5w+BeEQEGFpHKrq4NAQQ==\",\"dtype\":\"float64\",\"order\":\"little\",\"shape\":[2]},{\"__ndarray__\":\"haRyq6uDQEEesSZgm4NAQQ==\",\"dtype\":\"float64\",\"order\":\"little\",\"shape\":[2]},{\"__ndarray__\":\"HrEmYJuDQEHdGX/SP4NAQQ==\",\"dtype\":\"float64\",\"order\":\"little\",\"shape\":[2]},{\"__ndarray__\":\"3Rl/0j+DQEGL7Urh/YJAQQ==\",\"dtype\":\"float64\",\"order\":\"little\",\"shape\":[2]},{\"__ndarray__\":\"i+1K4f2CQEGMSc3o3YJAQQ==\",\"dtype\":\"float64\",\"order\":\"little\",\"shape\":[2]},{\"__ndarray__\":\"jEnN6N2CQEE9lweChIJAQQ==\",\"dtype\":\"float64\",\"order\":\"little\",\"shape\":[2]}]},\"selected\":{\"id\":\"1656\"},\"selection_policy\":{\"id\":\"1674\"}},\"id\":\"1655\",\"type\":\"ColumnDataSource\"},{\"attributes\":{\"zoom_on_axis\":false},\"id\":\"1610\",\"type\":\"WheelZoomTool\"},{\"attributes\":{},\"id\":\"1636\",\"type\":\"AllLabels\"},{\"attributes\":{\"axis\":{\"id\":\"1604\"},\"coordinates\":null,\"dimension\":1,\"grid_line_color\":null,\"group\":null,\"ticker\":null},\"id\":\"1607\",\"type\":\"Grid\"},{\"attributes\":{\"axis_label\":\"x\",\"coordinates\":null,\"formatter\":{\"id\":\"1624\"},\"group\":null,\"major_label_policy\":{\"id\":\"1629\"},\"ticker\":{\"id\":\"1623\"}},\"id\":\"1600\",\"type\":\"LinearAxis\"},{\"attributes\":{},\"id\":\"1596\",\"type\":\"LinearScale\"},{\"attributes\":{},\"id\":\"1598\",\"type\":\"LinearScale\"},{\"attributes\":{\"line_alpha\":{\"value\":1.0},\"line_cap\":{\"value\":\"butt\"},\"line_color\":{\"field\":\"color\",\"transform\":{\"id\":\"1654\"}},\"line_dash\":{\"value\":[]},\"line_dash_offset\":{\"value\":0},\"line_join\":{\"value\":\"bevel\"},\"line_width\":{\"value\":7.0},\"xs\":{\"field\":\"xs\"},\"ys\":{\"field\":\"ys\"}},\"id\":\"1667\",\"type\":\"MultiLine\"},{\"attributes\":{\"end\":2188314.4652341083,\"min_interval\":5,\"reset_end\":2188314.4652341083,\"reset_start\":2161764.648954972,\"start\":2161764.648954972,\"tags\":[[[\"Latitude\",\"Latitude\",null]]]},\"id\":\"1585\",\"type\":\"Range1d\"},{\"attributes\":{\"match_aspect\":true,\"overlay\":{\"id\":\"1613\"}},\"id\":\"1611\",\"type\":\"BoxZoomTool\"},{\"attributes\":{\"line_alpha\":{\"value\":0.2},\"line_color\":{\"field\":\"color\",\"transform\":{\"id\":\"1654\"}},\"line_width\":{\"value\":7.0},\"xs\":{\"field\":\"xs\"},\"ys\":{\"field\":\"ys\"}},\"id\":\"1660\",\"type\":\"MultiLine\"}],\"root_ids\":[\"1578\"]},\"title\":\"Bokeh Application\",\"version\":\"2.4.3\"}};\n",
       "    var render_items = [{\"docid\":\"00dfee9c-daa8-4018-b5a2-d59c5ce96f30\",\"root_ids\":[\"1578\"],\"roots\":{\"1578\":\"2b0103e3-151d-44b2-a314-877570dcbb0c\"}}];\n",
       "    root.Bokeh.embed.embed_items_notebook(docs_json, render_items);\n",
       "    for (const render_item of render_items) {\n",
       "      for (const root_id of render_item.root_ids) {\n",
       "\tconst id_el = document.getElementById(root_id)\n",
       "\tif (id_el.children.length && (id_el.children[0].className === 'bk-root')) {\n",
       "\t  const root_el = id_el.children[0]\n",
       "\t  root_el.id = root_el.id + '-rendered'\n",
       "\t}\n",
       "      }\n",
       "    }\n",
       "  }\n",
       "  if (root.Bokeh !== undefined && root.Bokeh.Panel !== undefined) {\n",
       "    embed_document(root);\n",
       "  } else {\n",
       "    var attempts = 0;\n",
       "    var timer = setInterval(function(root) {\n",
       "      if (root.Bokeh !== undefined && root.Bokeh.Panel !== undefined) {\n",
       "        clearInterval(timer);\n",
       "        embed_document(root);\n",
       "      } else if (document.readyState == \"complete\") {\n",
       "        attempts++;\n",
       "        if (attempts > 200) {\n",
       "          clearInterval(timer);\n",
       "          console.log(\"Bokeh: ERROR: Unable to run BokehJS code because BokehJS library is missing\");\n",
       "        }\n",
       "      }\n",
       "    }, 25, root)\n",
       "  }\n",
       "})(window);</script>"
      ],
      "text/plain": [
       ":Overlay\n",
       "   .Tiles.I :Tiles   [x,y]\n",
       "   .Path.I  :Path   [Longitude,Latitude]   (speed)"
      ]
     },
     "execution_count": 11,
     "metadata": {
      "application/vnd.holoviews_exec.v0+json": {
       "id": "1578"
      }
     },
     "output_type": "execute_result"
    }
   ],
   "source": [
    "traj1.add_speed(overwrite=True)\n",
    "traj1.hvplot(c='speed', clim=(0,20), line_width=7.0, tiles='OSM', cmap='Viridis', colorbar=True)"
   ]
  },
  {
   "cell_type": "code",
   "execution_count": null,
   "metadata": {},
   "outputs": [
    {
     "name": "stdout",
     "output_type": "stream",
     "text": [
      "1463.5592961812677\n",
      "6222.367132459758\n",
      "8985.74812123202\n",
      "1382.4208351317136\n",
      "1074.5536976610424\n",
      "12865.963069550755\n",
      "186.17679543364514\n",
      "19987.41431857497\n",
      "21521.32880050476\n",
      "21207.65582132666\n",
      "23477.44458099107\n",
      "408.3440136826673\n",
      "7942.184719006034\n",
      "1093.594612699962\n",
      "6096.00955927868\n",
      "206.16389633221905\n",
      "5301.163475574196\n",
      "2960.594181099634\n",
      "3073.4896115572087\n",
      "10447.898042532015\n",
      "258.34613893258677\n",
      "23105.633412006595\n",
      "6142.501201047389\n",
      "27501.691104242112\n",
      "21949.185081165055\n",
      "586.3024619251522\n",
      "9450.330644538777\n",
      "4629.655749022593\n",
      "12539.232850342862\n",
      "8465.13242478714\n",
      "6468.5595683405845\n",
      "109.40273986241405\n",
      "187.41916027952084\n",
      "31210.45621789293\n",
      "15726.824479055153\n",
      "7692.866044802528\n",
      "7702.223565227445\n",
      "30786.92680771323\n",
      "244.64110782421878\n",
      "3223.46331409982\n",
      "15297.874259396302\n",
      "13607.092839384271\n",
      "29114.282022271807\n",
      "30672.831930554086\n",
      "285.76234896252566\n",
      "17083.761822301356\n",
      "6165.833535370672\n",
      "5966.250249991393\n",
      "13620.111945453784\n",
      "8268.85671811112\n",
      "10122.249806597789\n",
      "44.8763028734917\n",
      "292.5332181203148\n",
      "28526.80563982588\n",
      "7877.423865174294\n",
      "7613.537707852291\n",
      "15617.26405612238\n",
      "7951.152462258551\n",
      "7612.958809651649\n",
      "7810.457062273545\n",
      "7608.079023878753\n",
      "8477.643561462855\n",
      "101.33620355355028\n",
      "172.59842676913965\n",
      "53863.16760089298\n",
      "16062.728114613969\n",
      "56996.57230416304\n"
     ]
    }
   ],
   "source": [
    "for traj in split.trajectories:\n",
    "    # if traj.get_length() > 100:\n",
    "    #     print(traj.get_length())\n",
    "    print(traj.get_length())"
   ]
  },
  {
   "cell_type": "code",
   "execution_count": null,
   "metadata": {},
   "outputs": [
    {
     "name": "stderr",
     "output_type": "stream",
     "text": [
      "c:\\Users\\dusng\\mambaforge\\lib\\site-packages\\geopandas\\array.py:1406: UserWarning: CRS not set for some of the concatenation inputs. Setting output's CRS as WGS 84 (the single non-null crs provided).\n",
      "  warnings.warn(\n"
     ]
    }
   ],
   "source": [
    "# my_traj.add_speed(overwrite=True, name='newspeed')\n",
    "save_file=my_traj.to_line_gdf()\n",
    "\n",
    "save_file.to_csv('189.csv')"
   ]
  },
  {
   "cell_type": "code",
   "execution_count": 9,
   "metadata": {},
   "outputs": [],
   "source": [
    "saved_file=save_file.loc[save_file['newspeed'] != 0]\n",
    "saved_file.to_file(\"bus_locationsq.geojson\", driver='GeoJSON')"
   ]
  },
  {
   "cell_type": "code",
   "execution_count": 34,
   "metadata": {},
   "outputs": [
    {
     "name": "stderr",
     "output_type": "stream",
     "text": [
      "C:\\Users\\dusng\\AppData\\Local\\Temp\\ipykernel_3364\\2258611513.py:30: SettingWithCopyWarning: \n",
      "A value is trying to be set on a copy of a slice from a DataFrame\n",
      "\n",
      "See the caveats in the documentation: https://pandas.pydata.org/pandas-docs/stable/user_guide/indexing.html#returning-a-view-versus-a-copy\n",
      "  df['location.coordinates.lon'][i]=df1['location'][i]['coordinates'][0]\n",
      "C:\\Users\\dusng\\AppData\\Local\\Temp\\ipykernel_3364\\2258611513.py:31: SettingWithCopyWarning: \n",
      "A value is trying to be set on a copy of a slice from a DataFrame\n",
      "\n",
      "See the caveats in the documentation: https://pandas.pydata.org/pandas-docs/stable/user_guide/indexing.html#returning-a-view-versus-a-copy\n",
      "  df['location.coordinates.lat'][i]=df1['location'][i]['coordinates'][1]\n",
      "c:\\Users\\dusng\\mambaforge\\lib\\site-packages\\geopandas\\array.py:1406: UserWarning: CRS not set for some of the concatenation inputs. Setting output's CRS as WGS 84 (the single non-null crs provided).\n",
      "  warnings.warn(\n",
      "c:\\Users\\dusng\\mambaforge\\lib\\site-packages\\geopandas\\array.py:1406: UserWarning: CRS not set for some of the concatenation inputs. Setting output's CRS as WGS 84 (the single non-null crs provided).\n",
      "  warnings.warn(\n"
     ]
    },
    {
     "name": "stdout",
     "output_type": "stream",
     "text": [
      "265\n"
     ]
    },
    {
     "name": "stderr",
     "output_type": "stream",
     "text": [
      "C:\\Users\\dusng\\AppData\\Local\\Temp\\ipykernel_3364\\2258611513.py:30: SettingWithCopyWarning: \n",
      "A value is trying to be set on a copy of a slice from a DataFrame\n",
      "\n",
      "See the caveats in the documentation: https://pandas.pydata.org/pandas-docs/stable/user_guide/indexing.html#returning-a-view-versus-a-copy\n",
      "  df['location.coordinates.lon'][i]=df1['location'][i]['coordinates'][0]\n",
      "C:\\Users\\dusng\\AppData\\Local\\Temp\\ipykernel_3364\\2258611513.py:31: SettingWithCopyWarning: \n",
      "A value is trying to be set on a copy of a slice from a DataFrame\n",
      "\n",
      "See the caveats in the documentation: https://pandas.pydata.org/pandas-docs/stable/user_guide/indexing.html#returning-a-view-versus-a-copy\n",
      "  df['location.coordinates.lat'][i]=df1['location'][i]['coordinates'][1]\n",
      "c:\\Users\\dusng\\mambaforge\\lib\\site-packages\\geopandas\\array.py:1406: UserWarning: CRS not set for some of the concatenation inputs. Setting output's CRS as WGS 84 (the single non-null crs provided).\n",
      "  warnings.warn(\n",
      "c:\\Users\\dusng\\mambaforge\\lib\\site-packages\\geopandas\\array.py:1406: UserWarning: CRS not set for some of the concatenation inputs. Setting output's CRS as WGS 84 (the single non-null crs provided).\n",
      "  warnings.warn(\n"
     ]
    },
    {
     "name": "stdout",
     "output_type": "stream",
     "text": [
      "214\n"
     ]
    },
    {
     "name": "stderr",
     "output_type": "stream",
     "text": [
      "C:\\Users\\dusng\\AppData\\Local\\Temp\\ipykernel_3364\\2258611513.py:30: SettingWithCopyWarning: \n",
      "A value is trying to be set on a copy of a slice from a DataFrame\n",
      "\n",
      "See the caveats in the documentation: https://pandas.pydata.org/pandas-docs/stable/user_guide/indexing.html#returning-a-view-versus-a-copy\n",
      "  df['location.coordinates.lon'][i]=df1['location'][i]['coordinates'][0]\n",
      "C:\\Users\\dusng\\AppData\\Local\\Temp\\ipykernel_3364\\2258611513.py:31: SettingWithCopyWarning: \n",
      "A value is trying to be set on a copy of a slice from a DataFrame\n",
      "\n",
      "See the caveats in the documentation: https://pandas.pydata.org/pandas-docs/stable/user_guide/indexing.html#returning-a-view-versus-a-copy\n",
      "  df['location.coordinates.lat'][i]=df1['location'][i]['coordinates'][1]\n",
      "c:\\Users\\dusng\\mambaforge\\lib\\site-packages\\geopandas\\array.py:1406: UserWarning: CRS not set for some of the concatenation inputs. Setting output's CRS as WGS 84 (the single non-null crs provided).\n",
      "  warnings.warn(\n",
      "c:\\Users\\dusng\\mambaforge\\lib\\site-packages\\geopandas\\array.py:1406: UserWarning: CRS not set for some of the concatenation inputs. Setting output's CRS as WGS 84 (the single non-null crs provided).\n",
      "  warnings.warn(\n"
     ]
    },
    {
     "name": "stdout",
     "output_type": "stream",
     "text": [
      "63\n"
     ]
    },
    {
     "name": "stderr",
     "output_type": "stream",
     "text": [
      "C:\\Users\\dusng\\AppData\\Local\\Temp\\ipykernel_3364\\2258611513.py:30: SettingWithCopyWarning: \n",
      "A value is trying to be set on a copy of a slice from a DataFrame\n",
      "\n",
      "See the caveats in the documentation: https://pandas.pydata.org/pandas-docs/stable/user_guide/indexing.html#returning-a-view-versus-a-copy\n",
      "  df['location.coordinates.lon'][i]=df1['location'][i]['coordinates'][0]\n",
      "C:\\Users\\dusng\\AppData\\Local\\Temp\\ipykernel_3364\\2258611513.py:31: SettingWithCopyWarning: \n",
      "A value is trying to be set on a copy of a slice from a DataFrame\n",
      "\n",
      "See the caveats in the documentation: https://pandas.pydata.org/pandas-docs/stable/user_guide/indexing.html#returning-a-view-versus-a-copy\n",
      "  df['location.coordinates.lat'][i]=df1['location'][i]['coordinates'][1]\n",
      "c:\\Users\\dusng\\mambaforge\\lib\\site-packages\\geopandas\\array.py:1406: UserWarning: CRS not set for some of the concatenation inputs. Setting output's CRS as WGS 84 (the single non-null crs provided).\n",
      "  warnings.warn(\n",
      "c:\\Users\\dusng\\mambaforge\\lib\\site-packages\\geopandas\\array.py:1406: UserWarning: CRS not set for some of the concatenation inputs. Setting output's CRS as WGS 84 (the single non-null crs provided).\n",
      "  warnings.warn(\n"
     ]
    },
    {
     "name": "stdout",
     "output_type": "stream",
     "text": [
      "93\n"
     ]
    },
    {
     "name": "stderr",
     "output_type": "stream",
     "text": [
      "C:\\Users\\dusng\\AppData\\Local\\Temp\\ipykernel_3364\\2258611513.py:30: SettingWithCopyWarning: \n",
      "A value is trying to be set on a copy of a slice from a DataFrame\n",
      "\n",
      "See the caveats in the documentation: https://pandas.pydata.org/pandas-docs/stable/user_guide/indexing.html#returning-a-view-versus-a-copy\n",
      "  df['location.coordinates.lon'][i]=df1['location'][i]['coordinates'][0]\n",
      "C:\\Users\\dusng\\AppData\\Local\\Temp\\ipykernel_3364\\2258611513.py:31: SettingWithCopyWarning: \n",
      "A value is trying to be set on a copy of a slice from a DataFrame\n",
      "\n",
      "See the caveats in the documentation: https://pandas.pydata.org/pandas-docs/stable/user_guide/indexing.html#returning-a-view-versus-a-copy\n",
      "  df['location.coordinates.lat'][i]=df1['location'][i]['coordinates'][1]\n",
      "c:\\Users\\dusng\\mambaforge\\lib\\site-packages\\geopandas\\array.py:1406: UserWarning: CRS not set for some of the concatenation inputs. Setting output's CRS as WGS 84 (the single non-null crs provided).\n",
      "  warnings.warn(\n",
      "c:\\Users\\dusng\\mambaforge\\lib\\site-packages\\geopandas\\array.py:1406: UserWarning: CRS not set for some of the concatenation inputs. Setting output's CRS as WGS 84 (the single non-null crs provided).\n",
      "  warnings.warn(\n"
     ]
    },
    {
     "name": "stdout",
     "output_type": "stream",
     "text": [
      "104\n"
     ]
    },
    {
     "name": "stderr",
     "output_type": "stream",
     "text": [
      "C:\\Users\\dusng\\AppData\\Local\\Temp\\ipykernel_3364\\2258611513.py:30: SettingWithCopyWarning: \n",
      "A value is trying to be set on a copy of a slice from a DataFrame\n",
      "\n",
      "See the caveats in the documentation: https://pandas.pydata.org/pandas-docs/stable/user_guide/indexing.html#returning-a-view-versus-a-copy\n",
      "  df['location.coordinates.lon'][i]=df1['location'][i]['coordinates'][0]\n",
      "C:\\Users\\dusng\\AppData\\Local\\Temp\\ipykernel_3364\\2258611513.py:31: SettingWithCopyWarning: \n",
      "A value is trying to be set on a copy of a slice from a DataFrame\n",
      "\n",
      "See the caveats in the documentation: https://pandas.pydata.org/pandas-docs/stable/user_guide/indexing.html#returning-a-view-versus-a-copy\n",
      "  df['location.coordinates.lat'][i]=df1['location'][i]['coordinates'][1]\n",
      "c:\\Users\\dusng\\mambaforge\\lib\\site-packages\\geopandas\\array.py:1406: UserWarning: CRS not set for some of the concatenation inputs. Setting output's CRS as WGS 84 (the single non-null crs provided).\n",
      "  warnings.warn(\n",
      "c:\\Users\\dusng\\mambaforge\\lib\\site-packages\\geopandas\\array.py:1406: UserWarning: CRS not set for some of the concatenation inputs. Setting output's CRS as WGS 84 (the single non-null crs provided).\n",
      "  warnings.warn(\n"
     ]
    },
    {
     "name": "stdout",
     "output_type": "stream",
     "text": [
      "392\n",
      "129\n"
     ]
    },
    {
     "name": "stderr",
     "output_type": "stream",
     "text": [
      "C:\\Users\\dusng\\AppData\\Local\\Temp\\ipykernel_3364\\2258611513.py:30: SettingWithCopyWarning: \n",
      "A value is trying to be set on a copy of a slice from a DataFrame\n",
      "\n",
      "See the caveats in the documentation: https://pandas.pydata.org/pandas-docs/stable/user_guide/indexing.html#returning-a-view-versus-a-copy\n",
      "  df['location.coordinates.lon'][i]=df1['location'][i]['coordinates'][0]\n",
      "C:\\Users\\dusng\\AppData\\Local\\Temp\\ipykernel_3364\\2258611513.py:31: SettingWithCopyWarning: \n",
      "A value is trying to be set on a copy of a slice from a DataFrame\n",
      "\n",
      "See the caveats in the documentation: https://pandas.pydata.org/pandas-docs/stable/user_guide/indexing.html#returning-a-view-versus-a-copy\n",
      "  df['location.coordinates.lat'][i]=df1['location'][i]['coordinates'][1]\n",
      "c:\\Users\\dusng\\mambaforge\\lib\\site-packages\\geopandas\\array.py:1406: UserWarning: CRS not set for some of the concatenation inputs. Setting output's CRS as WGS 84 (the single non-null crs provided).\n",
      "  warnings.warn(\n",
      "c:\\Users\\dusng\\mambaforge\\lib\\site-packages\\geopandas\\array.py:1406: UserWarning: CRS not set for some of the concatenation inputs. Setting output's CRS as WGS 84 (the single non-null crs provided).\n",
      "  warnings.warn(\n",
      "C:\\Users\\dusng\\AppData\\Local\\Temp\\ipykernel_3364\\2258611513.py:30: SettingWithCopyWarning: \n",
      "A value is trying to be set on a copy of a slice from a DataFrame\n",
      "\n",
      "See the caveats in the documentation: https://pandas.pydata.org/pandas-docs/stable/user_guide/indexing.html#returning-a-view-versus-a-copy\n",
      "  df['location.coordinates.lon'][i]=df1['location'][i]['coordinates'][0]\n",
      "C:\\Users\\dusng\\AppData\\Local\\Temp\\ipykernel_3364\\2258611513.py:31: SettingWithCopyWarning: \n",
      "A value is trying to be set on a copy of a slice from a DataFrame\n",
      "\n",
      "See the caveats in the documentation: https://pandas.pydata.org/pandas-docs/stable/user_guide/indexing.html#returning-a-view-versus-a-copy\n",
      "  df['location.coordinates.lat'][i]=df1['location'][i]['coordinates'][1]\n",
      "c:\\Users\\dusng\\mambaforge\\lib\\site-packages\\geopandas\\array.py:1406: UserWarning: CRS not set for some of the concatenation inputs. Setting output's CRS as WGS 84 (the single non-null crs provided).\n",
      "  warnings.warn(\n",
      "c:\\Users\\dusng\\mambaforge\\lib\\site-packages\\geopandas\\array.py:1406: UserWarning: CRS not set for some of the concatenation inputs. Setting output's CRS as WGS 84 (the single non-null crs provided).\n",
      "  warnings.warn(\n"
     ]
    },
    {
     "name": "stdout",
     "output_type": "stream",
     "text": [
      "43\n"
     ]
    },
    {
     "name": "stderr",
     "output_type": "stream",
     "text": [
      "C:\\Users\\dusng\\AppData\\Local\\Temp\\ipykernel_3364\\2258611513.py:30: SettingWithCopyWarning: \n",
      "A value is trying to be set on a copy of a slice from a DataFrame\n",
      "\n",
      "See the caveats in the documentation: https://pandas.pydata.org/pandas-docs/stable/user_guide/indexing.html#returning-a-view-versus-a-copy\n",
      "  df['location.coordinates.lon'][i]=df1['location'][i]['coordinates'][0]\n",
      "C:\\Users\\dusng\\AppData\\Local\\Temp\\ipykernel_3364\\2258611513.py:31: SettingWithCopyWarning: \n",
      "A value is trying to be set on a copy of a slice from a DataFrame\n",
      "\n",
      "See the caveats in the documentation: https://pandas.pydata.org/pandas-docs/stable/user_guide/indexing.html#returning-a-view-versus-a-copy\n",
      "  df['location.coordinates.lat'][i]=df1['location'][i]['coordinates'][1]\n",
      "c:\\Users\\dusng\\mambaforge\\lib\\site-packages\\geopandas\\array.py:1406: UserWarning: CRS not set for some of the concatenation inputs. Setting output's CRS as WGS 84 (the single non-null crs provided).\n",
      "  warnings.warn(\n",
      "c:\\Users\\dusng\\mambaforge\\lib\\site-packages\\geopandas\\array.py:1406: UserWarning: CRS not set for some of the concatenation inputs. Setting output's CRS as WGS 84 (the single non-null crs provided).\n",
      "  warnings.warn(\n"
     ]
    },
    {
     "name": "stdout",
     "output_type": "stream",
     "text": [
      "74\n"
     ]
    },
    {
     "name": "stderr",
     "output_type": "stream",
     "text": [
      "C:\\Users\\dusng\\AppData\\Local\\Temp\\ipykernel_3364\\2258611513.py:30: SettingWithCopyWarning: \n",
      "A value is trying to be set on a copy of a slice from a DataFrame\n",
      "\n",
      "See the caveats in the documentation: https://pandas.pydata.org/pandas-docs/stable/user_guide/indexing.html#returning-a-view-versus-a-copy\n",
      "  df['location.coordinates.lon'][i]=df1['location'][i]['coordinates'][0]\n",
      "C:\\Users\\dusng\\AppData\\Local\\Temp\\ipykernel_3364\\2258611513.py:31: SettingWithCopyWarning: \n",
      "A value is trying to be set on a copy of a slice from a DataFrame\n",
      "\n",
      "See the caveats in the documentation: https://pandas.pydata.org/pandas-docs/stable/user_guide/indexing.html#returning-a-view-versus-a-copy\n",
      "  df['location.coordinates.lat'][i]=df1['location'][i]['coordinates'][1]\n",
      "c:\\Users\\dusng\\mambaforge\\lib\\site-packages\\geopandas\\array.py:1406: UserWarning: CRS not set for some of the concatenation inputs. Setting output's CRS as WGS 84 (the single non-null crs provided).\n",
      "  warnings.warn(\n",
      "c:\\Users\\dusng\\mambaforge\\lib\\site-packages\\geopandas\\array.py:1406: UserWarning: CRS not set for some of the concatenation inputs. Setting output's CRS as WGS 84 (the single non-null crs provided).\n",
      "  warnings.warn(\n"
     ]
    },
    {
     "name": "stdout",
     "output_type": "stream",
     "text": [
      "92\n"
     ]
    },
    {
     "name": "stderr",
     "output_type": "stream",
     "text": [
      "C:\\Users\\dusng\\AppData\\Local\\Temp\\ipykernel_3364\\2258611513.py:30: SettingWithCopyWarning: \n",
      "A value is trying to be set on a copy of a slice from a DataFrame\n",
      "\n",
      "See the caveats in the documentation: https://pandas.pydata.org/pandas-docs/stable/user_guide/indexing.html#returning-a-view-versus-a-copy\n",
      "  df['location.coordinates.lon'][i]=df1['location'][i]['coordinates'][0]\n",
      "C:\\Users\\dusng\\AppData\\Local\\Temp\\ipykernel_3364\\2258611513.py:31: SettingWithCopyWarning: \n",
      "A value is trying to be set on a copy of a slice from a DataFrame\n",
      "\n",
      "See the caveats in the documentation: https://pandas.pydata.org/pandas-docs/stable/user_guide/indexing.html#returning-a-view-versus-a-copy\n",
      "  df['location.coordinates.lat'][i]=df1['location'][i]['coordinates'][1]\n",
      "c:\\Users\\dusng\\mambaforge\\lib\\site-packages\\geopandas\\array.py:1406: UserWarning: CRS not set for some of the concatenation inputs. Setting output's CRS as WGS 84 (the single non-null crs provided).\n",
      "  warnings.warn(\n",
      "c:\\Users\\dusng\\mambaforge\\lib\\site-packages\\geopandas\\array.py:1406: UserWarning: CRS not set for some of the concatenation inputs. Setting output's CRS as WGS 84 (the single non-null crs provided).\n",
      "  warnings.warn(\n"
     ]
    },
    {
     "name": "stdout",
     "output_type": "stream",
     "text": [
      "41\n"
     ]
    },
    {
     "name": "stderr",
     "output_type": "stream",
     "text": [
      "C:\\Users\\dusng\\AppData\\Local\\Temp\\ipykernel_3364\\2258611513.py:30: SettingWithCopyWarning: \n",
      "A value is trying to be set on a copy of a slice from a DataFrame\n",
      "\n",
      "See the caveats in the documentation: https://pandas.pydata.org/pandas-docs/stable/user_guide/indexing.html#returning-a-view-versus-a-copy\n",
      "  df['location.coordinates.lon'][i]=df1['location'][i]['coordinates'][0]\n",
      "C:\\Users\\dusng\\AppData\\Local\\Temp\\ipykernel_3364\\2258611513.py:31: SettingWithCopyWarning: \n",
      "A value is trying to be set on a copy of a slice from a DataFrame\n",
      "\n",
      "See the caveats in the documentation: https://pandas.pydata.org/pandas-docs/stable/user_guide/indexing.html#returning-a-view-versus-a-copy\n",
      "  df['location.coordinates.lat'][i]=df1['location'][i]['coordinates'][1]\n",
      "c:\\Users\\dusng\\mambaforge\\lib\\site-packages\\geopandas\\array.py:1406: UserWarning: CRS not set for some of the concatenation inputs. Setting output's CRS as WGS 84 (the single non-null crs provided).\n",
      "  warnings.warn(\n",
      "c:\\Users\\dusng\\mambaforge\\lib\\site-packages\\geopandas\\array.py:1406: UserWarning: CRS not set for some of the concatenation inputs. Setting output's CRS as WGS 84 (the single non-null crs provided).\n",
      "  warnings.warn(\n"
     ]
    },
    {
     "name": "stdout",
     "output_type": "stream",
     "text": [
      "53\n"
     ]
    },
    {
     "name": "stderr",
     "output_type": "stream",
     "text": [
      "C:\\Users\\dusng\\AppData\\Local\\Temp\\ipykernel_3364\\2258611513.py:30: SettingWithCopyWarning: \n",
      "A value is trying to be set on a copy of a slice from a DataFrame\n",
      "\n",
      "See the caveats in the documentation: https://pandas.pydata.org/pandas-docs/stable/user_guide/indexing.html#returning-a-view-versus-a-copy\n",
      "  df['location.coordinates.lon'][i]=df1['location'][i]['coordinates'][0]\n",
      "C:\\Users\\dusng\\AppData\\Local\\Temp\\ipykernel_3364\\2258611513.py:31: SettingWithCopyWarning: \n",
      "A value is trying to be set on a copy of a slice from a DataFrame\n",
      "\n",
      "See the caveats in the documentation: https://pandas.pydata.org/pandas-docs/stable/user_guide/indexing.html#returning-a-view-versus-a-copy\n",
      "  df['location.coordinates.lat'][i]=df1['location'][i]['coordinates'][1]\n",
      "c:\\Users\\dusng\\mambaforge\\lib\\site-packages\\geopandas\\array.py:1406: UserWarning: CRS not set for some of the concatenation inputs. Setting output's CRS as WGS 84 (the single non-null crs provided).\n",
      "  warnings.warn(\n",
      "c:\\Users\\dusng\\mambaforge\\lib\\site-packages\\geopandas\\array.py:1406: UserWarning: CRS not set for some of the concatenation inputs. Setting output's CRS as WGS 84 (the single non-null crs provided).\n",
      "  warnings.warn(\n"
     ]
    },
    {
     "name": "stdout",
     "output_type": "stream",
     "text": [
      "190\n"
     ]
    },
    {
     "name": "stderr",
     "output_type": "stream",
     "text": [
      "C:\\Users\\dusng\\AppData\\Local\\Temp\\ipykernel_3364\\2258611513.py:30: SettingWithCopyWarning: \n",
      "A value is trying to be set on a copy of a slice from a DataFrame\n",
      "\n",
      "See the caveats in the documentation: https://pandas.pydata.org/pandas-docs/stable/user_guide/indexing.html#returning-a-view-versus-a-copy\n",
      "  df['location.coordinates.lon'][i]=df1['location'][i]['coordinates'][0]\n",
      "C:\\Users\\dusng\\AppData\\Local\\Temp\\ipykernel_3364\\2258611513.py:31: SettingWithCopyWarning: \n",
      "A value is trying to be set on a copy of a slice from a DataFrame\n",
      "\n",
      "See the caveats in the documentation: https://pandas.pydata.org/pandas-docs/stable/user_guide/indexing.html#returning-a-view-versus-a-copy\n",
      "  df['location.coordinates.lat'][i]=df1['location'][i]['coordinates'][1]\n",
      "c:\\Users\\dusng\\mambaforge\\lib\\site-packages\\geopandas\\array.py:1406: UserWarning: CRS not set for some of the concatenation inputs. Setting output's CRS as WGS 84 (the single non-null crs provided).\n",
      "  warnings.warn(\n",
      "c:\\Users\\dusng\\mambaforge\\lib\\site-packages\\geopandas\\array.py:1406: UserWarning: CRS not set for some of the concatenation inputs. Setting output's CRS as WGS 84 (the single non-null crs provided).\n",
      "  warnings.warn(\n"
     ]
    },
    {
     "name": "stdout",
     "output_type": "stream",
     "text": [
      "111\n"
     ]
    },
    {
     "name": "stderr",
     "output_type": "stream",
     "text": [
      "C:\\Users\\dusng\\AppData\\Local\\Temp\\ipykernel_3364\\2258611513.py:30: SettingWithCopyWarning: \n",
      "A value is trying to be set on a copy of a slice from a DataFrame\n",
      "\n",
      "See the caveats in the documentation: https://pandas.pydata.org/pandas-docs/stable/user_guide/indexing.html#returning-a-view-versus-a-copy\n",
      "  df['location.coordinates.lon'][i]=df1['location'][i]['coordinates'][0]\n",
      "C:\\Users\\dusng\\AppData\\Local\\Temp\\ipykernel_3364\\2258611513.py:31: SettingWithCopyWarning: \n",
      "A value is trying to be set on a copy of a slice from a DataFrame\n",
      "\n",
      "See the caveats in the documentation: https://pandas.pydata.org/pandas-docs/stable/user_guide/indexing.html#returning-a-view-versus-a-copy\n",
      "  df['location.coordinates.lat'][i]=df1['location'][i]['coordinates'][1]\n",
      "c:\\Users\\dusng\\mambaforge\\lib\\site-packages\\geopandas\\array.py:1406: UserWarning: CRS not set for some of the concatenation inputs. Setting output's CRS as WGS 84 (the single non-null crs provided).\n",
      "  warnings.warn(\n",
      "c:\\Users\\dusng\\mambaforge\\lib\\site-packages\\geopandas\\array.py:1406: UserWarning: CRS not set for some of the concatenation inputs. Setting output's CRS as WGS 84 (the single non-null crs provided).\n",
      "  warnings.warn(\n"
     ]
    },
    {
     "name": "stdout",
     "output_type": "stream",
     "text": [
      "91\n"
     ]
    },
    {
     "name": "stderr",
     "output_type": "stream",
     "text": [
      "C:\\Users\\dusng\\AppData\\Local\\Temp\\ipykernel_3364\\2258611513.py:30: SettingWithCopyWarning: \n",
      "A value is trying to be set on a copy of a slice from a DataFrame\n",
      "\n",
      "See the caveats in the documentation: https://pandas.pydata.org/pandas-docs/stable/user_guide/indexing.html#returning-a-view-versus-a-copy\n",
      "  df['location.coordinates.lon'][i]=df1['location'][i]['coordinates'][0]\n",
      "C:\\Users\\dusng\\AppData\\Local\\Temp\\ipykernel_3364\\2258611513.py:31: SettingWithCopyWarning: \n",
      "A value is trying to be set on a copy of a slice from a DataFrame\n",
      "\n",
      "See the caveats in the documentation: https://pandas.pydata.org/pandas-docs/stable/user_guide/indexing.html#returning-a-view-versus-a-copy\n",
      "  df['location.coordinates.lat'][i]=df1['location'][i]['coordinates'][1]\n",
      "c:\\Users\\dusng\\mambaforge\\lib\\site-packages\\geopandas\\array.py:1406: UserWarning: CRS not set for some of the concatenation inputs. Setting output's CRS as WGS 84 (the single non-null crs provided).\n",
      "  warnings.warn(\n",
      "c:\\Users\\dusng\\mambaforge\\lib\\site-packages\\geopandas\\array.py:1406: UserWarning: CRS not set for some of the concatenation inputs. Setting output's CRS as WGS 84 (the single non-null crs provided).\n",
      "  warnings.warn(\n"
     ]
    },
    {
     "name": "stdout",
     "output_type": "stream",
     "text": [
      "83\n"
     ]
    },
    {
     "name": "stderr",
     "output_type": "stream",
     "text": [
      "C:\\Users\\dusng\\AppData\\Local\\Temp\\ipykernel_3364\\2258611513.py:30: SettingWithCopyWarning: \n",
      "A value is trying to be set on a copy of a slice from a DataFrame\n",
      "\n",
      "See the caveats in the documentation: https://pandas.pydata.org/pandas-docs/stable/user_guide/indexing.html#returning-a-view-versus-a-copy\n",
      "  df['location.coordinates.lon'][i]=df1['location'][i]['coordinates'][0]\n",
      "C:\\Users\\dusng\\AppData\\Local\\Temp\\ipykernel_3364\\2258611513.py:31: SettingWithCopyWarning: \n",
      "A value is trying to be set on a copy of a slice from a DataFrame\n",
      "\n",
      "See the caveats in the documentation: https://pandas.pydata.org/pandas-docs/stable/user_guide/indexing.html#returning-a-view-versus-a-copy\n",
      "  df['location.coordinates.lat'][i]=df1['location'][i]['coordinates'][1]\n",
      "c:\\Users\\dusng\\mambaforge\\lib\\site-packages\\geopandas\\array.py:1406: UserWarning: CRS not set for some of the concatenation inputs. Setting output's CRS as WGS 84 (the single non-null crs provided).\n",
      "  warnings.warn(\n",
      "c:\\Users\\dusng\\mambaforge\\lib\\site-packages\\geopandas\\array.py:1406: UserWarning: CRS not set for some of the concatenation inputs. Setting output's CRS as WGS 84 (the single non-null crs provided).\n",
      "  warnings.warn(\n"
     ]
    },
    {
     "name": "stdout",
     "output_type": "stream",
     "text": [
      "185\n"
     ]
    },
    {
     "name": "stderr",
     "output_type": "stream",
     "text": [
      "C:\\Users\\dusng\\AppData\\Local\\Temp\\ipykernel_3364\\2258611513.py:30: SettingWithCopyWarning: \n",
      "A value is trying to be set on a copy of a slice from a DataFrame\n",
      "\n",
      "See the caveats in the documentation: https://pandas.pydata.org/pandas-docs/stable/user_guide/indexing.html#returning-a-view-versus-a-copy\n",
      "  df['location.coordinates.lon'][i]=df1['location'][i]['coordinates'][0]\n",
      "C:\\Users\\dusng\\AppData\\Local\\Temp\\ipykernel_3364\\2258611513.py:31: SettingWithCopyWarning: \n",
      "A value is trying to be set on a copy of a slice from a DataFrame\n",
      "\n",
      "See the caveats in the documentation: https://pandas.pydata.org/pandas-docs/stable/user_guide/indexing.html#returning-a-view-versus-a-copy\n",
      "  df['location.coordinates.lat'][i]=df1['location'][i]['coordinates'][1]\n",
      "c:\\Users\\dusng\\mambaforge\\lib\\site-packages\\geopandas\\array.py:1406: UserWarning: CRS not set for some of the concatenation inputs. Setting output's CRS as WGS 84 (the single non-null crs provided).\n",
      "  warnings.warn(\n",
      "c:\\Users\\dusng\\mambaforge\\lib\\site-packages\\geopandas\\array.py:1406: UserWarning: CRS not set for some of the concatenation inputs. Setting output's CRS as WGS 84 (the single non-null crs provided).\n",
      "  warnings.warn(\n"
     ]
    },
    {
     "name": "stdout",
     "output_type": "stream",
     "text": [
      "226\n",
      "81\n"
     ]
    },
    {
     "name": "stderr",
     "output_type": "stream",
     "text": [
      "C:\\Users\\dusng\\AppData\\Local\\Temp\\ipykernel_3364\\2258611513.py:30: SettingWithCopyWarning: \n",
      "A value is trying to be set on a copy of a slice from a DataFrame\n",
      "\n",
      "See the caveats in the documentation: https://pandas.pydata.org/pandas-docs/stable/user_guide/indexing.html#returning-a-view-versus-a-copy\n",
      "  df['location.coordinates.lon'][i]=df1['location'][i]['coordinates'][0]\n",
      "C:\\Users\\dusng\\AppData\\Local\\Temp\\ipykernel_3364\\2258611513.py:31: SettingWithCopyWarning: \n",
      "A value is trying to be set on a copy of a slice from a DataFrame\n",
      "\n",
      "See the caveats in the documentation: https://pandas.pydata.org/pandas-docs/stable/user_guide/indexing.html#returning-a-view-versus-a-copy\n",
      "  df['location.coordinates.lat'][i]=df1['location'][i]['coordinates'][1]\n",
      "c:\\Users\\dusng\\mambaforge\\lib\\site-packages\\geopandas\\array.py:1406: UserWarning: CRS not set for some of the concatenation inputs. Setting output's CRS as WGS 84 (the single non-null crs provided).\n",
      "  warnings.warn(\n",
      "c:\\Users\\dusng\\mambaforge\\lib\\site-packages\\geopandas\\array.py:1406: UserWarning: CRS not set for some of the concatenation inputs. Setting output's CRS as WGS 84 (the single non-null crs provided).\n",
      "  warnings.warn(\n",
      "C:\\Users\\dusng\\AppData\\Local\\Temp\\ipykernel_3364\\2258611513.py:30: SettingWithCopyWarning: \n",
      "A value is trying to be set on a copy of a slice from a DataFrame\n",
      "\n",
      "See the caveats in the documentation: https://pandas.pydata.org/pandas-docs/stable/user_guide/indexing.html#returning-a-view-versus-a-copy\n",
      "  df['location.coordinates.lon'][i]=df1['location'][i]['coordinates'][0]\n",
      "C:\\Users\\dusng\\AppData\\Local\\Temp\\ipykernel_3364\\2258611513.py:31: SettingWithCopyWarning: \n",
      "A value is trying to be set on a copy of a slice from a DataFrame\n",
      "\n",
      "See the caveats in the documentation: https://pandas.pydata.org/pandas-docs/stable/user_guide/indexing.html#returning-a-view-versus-a-copy\n",
      "  df['location.coordinates.lat'][i]=df1['location'][i]['coordinates'][1]\n",
      "c:\\Users\\dusng\\mambaforge\\lib\\site-packages\\geopandas\\array.py:1406: UserWarning: CRS not set for some of the concatenation inputs. Setting output's CRS as WGS 84 (the single non-null crs provided).\n",
      "  warnings.warn(\n",
      "c:\\Users\\dusng\\mambaforge\\lib\\site-packages\\geopandas\\array.py:1406: UserWarning: CRS not set for some of the concatenation inputs. Setting output's CRS as WGS 84 (the single non-null crs provided).\n",
      "  warnings.warn(\n"
     ]
    },
    {
     "name": "stdout",
     "output_type": "stream",
     "text": [
      "274\n"
     ]
    },
    {
     "name": "stderr",
     "output_type": "stream",
     "text": [
      "C:\\Users\\dusng\\AppData\\Local\\Temp\\ipykernel_3364\\2258611513.py:30: SettingWithCopyWarning: \n",
      "A value is trying to be set on a copy of a slice from a DataFrame\n",
      "\n",
      "See the caveats in the documentation: https://pandas.pydata.org/pandas-docs/stable/user_guide/indexing.html#returning-a-view-versus-a-copy\n",
      "  df['location.coordinates.lon'][i]=df1['location'][i]['coordinates'][0]\n",
      "C:\\Users\\dusng\\AppData\\Local\\Temp\\ipykernel_3364\\2258611513.py:31: SettingWithCopyWarning: \n",
      "A value is trying to be set on a copy of a slice from a DataFrame\n",
      "\n",
      "See the caveats in the documentation: https://pandas.pydata.org/pandas-docs/stable/user_guide/indexing.html#returning-a-view-versus-a-copy\n",
      "  df['location.coordinates.lat'][i]=df1['location'][i]['coordinates'][1]\n",
      "c:\\Users\\dusng\\mambaforge\\lib\\site-packages\\geopandas\\array.py:1406: UserWarning: CRS not set for some of the concatenation inputs. Setting output's CRS as WGS 84 (the single non-null crs provided).\n",
      "  warnings.warn(\n",
      "c:\\Users\\dusng\\mambaforge\\lib\\site-packages\\geopandas\\array.py:1406: UserWarning: CRS not set for some of the concatenation inputs. Setting output's CRS as WGS 84 (the single non-null crs provided).\n",
      "  warnings.warn(\n"
     ]
    },
    {
     "name": "stdout",
     "output_type": "stream",
     "text": [
      "47\n"
     ]
    },
    {
     "name": "stderr",
     "output_type": "stream",
     "text": [
      "C:\\Users\\dusng\\AppData\\Local\\Temp\\ipykernel_3364\\2258611513.py:30: SettingWithCopyWarning: \n",
      "A value is trying to be set on a copy of a slice from a DataFrame\n",
      "\n",
      "See the caveats in the documentation: https://pandas.pydata.org/pandas-docs/stable/user_guide/indexing.html#returning-a-view-versus-a-copy\n",
      "  df['location.coordinates.lon'][i]=df1['location'][i]['coordinates'][0]\n",
      "C:\\Users\\dusng\\AppData\\Local\\Temp\\ipykernel_3364\\2258611513.py:31: SettingWithCopyWarning: \n",
      "A value is trying to be set on a copy of a slice from a DataFrame\n",
      "\n",
      "See the caveats in the documentation: https://pandas.pydata.org/pandas-docs/stable/user_guide/indexing.html#returning-a-view-versus-a-copy\n",
      "  df['location.coordinates.lat'][i]=df1['location'][i]['coordinates'][1]\n",
      "c:\\Users\\dusng\\mambaforge\\lib\\site-packages\\geopandas\\array.py:1406: UserWarning: CRS not set for some of the concatenation inputs. Setting output's CRS as WGS 84 (the single non-null crs provided).\n",
      "  warnings.warn(\n",
      "c:\\Users\\dusng\\mambaforge\\lib\\site-packages\\geopandas\\array.py:1406: UserWarning: CRS not set for some of the concatenation inputs. Setting output's CRS as WGS 84 (the single non-null crs provided).\n",
      "  warnings.warn(\n"
     ]
    },
    {
     "name": "stdout",
     "output_type": "stream",
     "text": [
      "197\n"
     ]
    },
    {
     "name": "stderr",
     "output_type": "stream",
     "text": [
      "C:\\Users\\dusng\\AppData\\Local\\Temp\\ipykernel_3364\\2258611513.py:30: SettingWithCopyWarning: \n",
      "A value is trying to be set on a copy of a slice from a DataFrame\n",
      "\n",
      "See the caveats in the documentation: https://pandas.pydata.org/pandas-docs/stable/user_guide/indexing.html#returning-a-view-versus-a-copy\n",
      "  df['location.coordinates.lon'][i]=df1['location'][i]['coordinates'][0]\n",
      "C:\\Users\\dusng\\AppData\\Local\\Temp\\ipykernel_3364\\2258611513.py:31: SettingWithCopyWarning: \n",
      "A value is trying to be set on a copy of a slice from a DataFrame\n",
      "\n",
      "See the caveats in the documentation: https://pandas.pydata.org/pandas-docs/stable/user_guide/indexing.html#returning-a-view-versus-a-copy\n",
      "  df['location.coordinates.lat'][i]=df1['location'][i]['coordinates'][1]\n",
      "c:\\Users\\dusng\\mambaforge\\lib\\site-packages\\geopandas\\array.py:1406: UserWarning: CRS not set for some of the concatenation inputs. Setting output's CRS as WGS 84 (the single non-null crs provided).\n",
      "  warnings.warn(\n",
      "c:\\Users\\dusng\\mambaforge\\lib\\site-packages\\geopandas\\array.py:1406: UserWarning: CRS not set for some of the concatenation inputs. Setting output's CRS as WGS 84 (the single non-null crs provided).\n",
      "  warnings.warn(\n"
     ]
    },
    {
     "name": "stdout",
     "output_type": "stream",
     "text": [
      "103\n"
     ]
    },
    {
     "name": "stderr",
     "output_type": "stream",
     "text": [
      "C:\\Users\\dusng\\AppData\\Local\\Temp\\ipykernel_3364\\2258611513.py:30: SettingWithCopyWarning: \n",
      "A value is trying to be set on a copy of a slice from a DataFrame\n",
      "\n",
      "See the caveats in the documentation: https://pandas.pydata.org/pandas-docs/stable/user_guide/indexing.html#returning-a-view-versus-a-copy\n",
      "  df['location.coordinates.lon'][i]=df1['location'][i]['coordinates'][0]\n",
      "C:\\Users\\dusng\\AppData\\Local\\Temp\\ipykernel_3364\\2258611513.py:31: SettingWithCopyWarning: \n",
      "A value is trying to be set on a copy of a slice from a DataFrame\n",
      "\n",
      "See the caveats in the documentation: https://pandas.pydata.org/pandas-docs/stable/user_guide/indexing.html#returning-a-view-versus-a-copy\n",
      "  df['location.coordinates.lat'][i]=df1['location'][i]['coordinates'][1]\n",
      "c:\\Users\\dusng\\mambaforge\\lib\\site-packages\\geopandas\\array.py:1406: UserWarning: CRS not set for some of the concatenation inputs. Setting output's CRS as WGS 84 (the single non-null crs provided).\n",
      "  warnings.warn(\n",
      "c:\\Users\\dusng\\mambaforge\\lib\\site-packages\\geopandas\\array.py:1406: UserWarning: CRS not set for some of the concatenation inputs. Setting output's CRS as WGS 84 (the single non-null crs provided).\n",
      "  warnings.warn(\n"
     ]
    },
    {
     "name": "stdout",
     "output_type": "stream",
     "text": [
      "139\n",
      "114\n"
     ]
    },
    {
     "name": "stderr",
     "output_type": "stream",
     "text": [
      "C:\\Users\\dusng\\AppData\\Local\\Temp\\ipykernel_3364\\2258611513.py:30: SettingWithCopyWarning: \n",
      "A value is trying to be set on a copy of a slice from a DataFrame\n",
      "\n",
      "See the caveats in the documentation: https://pandas.pydata.org/pandas-docs/stable/user_guide/indexing.html#returning-a-view-versus-a-copy\n",
      "  df['location.coordinates.lon'][i]=df1['location'][i]['coordinates'][0]\n",
      "C:\\Users\\dusng\\AppData\\Local\\Temp\\ipykernel_3364\\2258611513.py:31: SettingWithCopyWarning: \n",
      "A value is trying to be set on a copy of a slice from a DataFrame\n",
      "\n",
      "See the caveats in the documentation: https://pandas.pydata.org/pandas-docs/stable/user_guide/indexing.html#returning-a-view-versus-a-copy\n",
      "  df['location.coordinates.lat'][i]=df1['location'][i]['coordinates'][1]\n",
      "c:\\Users\\dusng\\mambaforge\\lib\\site-packages\\geopandas\\array.py:1406: UserWarning: CRS not set for some of the concatenation inputs. Setting output's CRS as WGS 84 (the single non-null crs provided).\n",
      "  warnings.warn(\n",
      "c:\\Users\\dusng\\mambaforge\\lib\\site-packages\\geopandas\\array.py:1406: UserWarning: CRS not set for some of the concatenation inputs. Setting output's CRS as WGS 84 (the single non-null crs provided).\n",
      "  warnings.warn(\n",
      "C:\\Users\\dusng\\AppData\\Local\\Temp\\ipykernel_3364\\2258611513.py:30: SettingWithCopyWarning: \n",
      "A value is trying to be set on a copy of a slice from a DataFrame\n",
      "\n",
      "See the caveats in the documentation: https://pandas.pydata.org/pandas-docs/stable/user_guide/indexing.html#returning-a-view-versus-a-copy\n",
      "  df['location.coordinates.lon'][i]=df1['location'][i]['coordinates'][0]\n",
      "C:\\Users\\dusng\\AppData\\Local\\Temp\\ipykernel_3364\\2258611513.py:31: SettingWithCopyWarning: \n",
      "A value is trying to be set on a copy of a slice from a DataFrame\n",
      "\n",
      "See the caveats in the documentation: https://pandas.pydata.org/pandas-docs/stable/user_guide/indexing.html#returning-a-view-versus-a-copy\n",
      "  df['location.coordinates.lat'][i]=df1['location'][i]['coordinates'][1]\n",
      "c:\\Users\\dusng\\mambaforge\\lib\\site-packages\\geopandas\\array.py:1406: UserWarning: CRS not set for some of the concatenation inputs. Setting output's CRS as WGS 84 (the single non-null crs provided).\n",
      "  warnings.warn(\n",
      "c:\\Users\\dusng\\mambaforge\\lib\\site-packages\\geopandas\\array.py:1406: UserWarning: CRS not set for some of the concatenation inputs. Setting output's CRS as WGS 84 (the single non-null crs provided).\n",
      "  warnings.warn(\n"
     ]
    },
    {
     "name": "stdout",
     "output_type": "stream",
     "text": [
      "88\n"
     ]
    },
    {
     "name": "stderr",
     "output_type": "stream",
     "text": [
      "C:\\Users\\dusng\\AppData\\Local\\Temp\\ipykernel_3364\\2258611513.py:30: SettingWithCopyWarning: \n",
      "A value is trying to be set on a copy of a slice from a DataFrame\n",
      "\n",
      "See the caveats in the documentation: https://pandas.pydata.org/pandas-docs/stable/user_guide/indexing.html#returning-a-view-versus-a-copy\n",
      "  df['location.coordinates.lon'][i]=df1['location'][i]['coordinates'][0]\n",
      "C:\\Users\\dusng\\AppData\\Local\\Temp\\ipykernel_3364\\2258611513.py:31: SettingWithCopyWarning: \n",
      "A value is trying to be set on a copy of a slice from a DataFrame\n",
      "\n",
      "See the caveats in the documentation: https://pandas.pydata.org/pandas-docs/stable/user_guide/indexing.html#returning-a-view-versus-a-copy\n",
      "  df['location.coordinates.lat'][i]=df1['location'][i]['coordinates'][1]\n",
      "c:\\Users\\dusng\\mambaforge\\lib\\site-packages\\geopandas\\array.py:1406: UserWarning: CRS not set for some of the concatenation inputs. Setting output's CRS as WGS 84 (the single non-null crs provided).\n",
      "  warnings.warn(\n",
      "c:\\Users\\dusng\\mambaforge\\lib\\site-packages\\geopandas\\array.py:1406: UserWarning: CRS not set for some of the concatenation inputs. Setting output's CRS as WGS 84 (the single non-null crs provided).\n",
      "  warnings.warn(\n"
     ]
    },
    {
     "name": "stdout",
     "output_type": "stream",
     "text": [
      "14\n",
      "141\n"
     ]
    },
    {
     "name": "stderr",
     "output_type": "stream",
     "text": [
      "C:\\Users\\dusng\\AppData\\Local\\Temp\\ipykernel_3364\\2258611513.py:30: SettingWithCopyWarning: \n",
      "A value is trying to be set on a copy of a slice from a DataFrame\n",
      "\n",
      "See the caveats in the documentation: https://pandas.pydata.org/pandas-docs/stable/user_guide/indexing.html#returning-a-view-versus-a-copy\n",
      "  df['location.coordinates.lon'][i]=df1['location'][i]['coordinates'][0]\n",
      "C:\\Users\\dusng\\AppData\\Local\\Temp\\ipykernel_3364\\2258611513.py:31: SettingWithCopyWarning: \n",
      "A value is trying to be set on a copy of a slice from a DataFrame\n",
      "\n",
      "See the caveats in the documentation: https://pandas.pydata.org/pandas-docs/stable/user_guide/indexing.html#returning-a-view-versus-a-copy\n",
      "  df['location.coordinates.lat'][i]=df1['location'][i]['coordinates'][1]\n",
      "c:\\Users\\dusng\\mambaforge\\lib\\site-packages\\geopandas\\array.py:1406: UserWarning: CRS not set for some of the concatenation inputs. Setting output's CRS as WGS 84 (the single non-null crs provided).\n",
      "  warnings.warn(\n",
      "c:\\Users\\dusng\\mambaforge\\lib\\site-packages\\geopandas\\array.py:1406: UserWarning: CRS not set for some of the concatenation inputs. Setting output's CRS as WGS 84 (the single non-null crs provided).\n",
      "  warnings.warn(\n",
      "C:\\Users\\dusng\\AppData\\Local\\Temp\\ipykernel_3364\\2258611513.py:30: SettingWithCopyWarning: \n",
      "A value is trying to be set on a copy of a slice from a DataFrame\n",
      "\n",
      "See the caveats in the documentation: https://pandas.pydata.org/pandas-docs/stable/user_guide/indexing.html#returning-a-view-versus-a-copy\n",
      "  df['location.coordinates.lon'][i]=df1['location'][i]['coordinates'][0]\n",
      "C:\\Users\\dusng\\AppData\\Local\\Temp\\ipykernel_3364\\2258611513.py:31: SettingWithCopyWarning: \n",
      "A value is trying to be set on a copy of a slice from a DataFrame\n",
      "\n",
      "See the caveats in the documentation: https://pandas.pydata.org/pandas-docs/stable/user_guide/indexing.html#returning-a-view-versus-a-copy\n",
      "  df['location.coordinates.lat'][i]=df1['location'][i]['coordinates'][1]\n",
      "c:\\Users\\dusng\\mambaforge\\lib\\site-packages\\geopandas\\array.py:1406: UserWarning: CRS not set for some of the concatenation inputs. Setting output's CRS as WGS 84 (the single non-null crs provided).\n",
      "  warnings.warn(\n",
      "c:\\Users\\dusng\\mambaforge\\lib\\site-packages\\geopandas\\array.py:1406: UserWarning: CRS not set for some of the concatenation inputs. Setting output's CRS as WGS 84 (the single non-null crs provided).\n",
      "  warnings.warn(\n"
     ]
    },
    {
     "name": "stdout",
     "output_type": "stream",
     "text": [
      "389\n"
     ]
    },
    {
     "name": "stderr",
     "output_type": "stream",
     "text": [
      "C:\\Users\\dusng\\AppData\\Local\\Temp\\ipykernel_3364\\2258611513.py:30: SettingWithCopyWarning: \n",
      "A value is trying to be set on a copy of a slice from a DataFrame\n",
      "\n",
      "See the caveats in the documentation: https://pandas.pydata.org/pandas-docs/stable/user_guide/indexing.html#returning-a-view-versus-a-copy\n",
      "  df['location.coordinates.lon'][i]=df1['location'][i]['coordinates'][0]\n",
      "C:\\Users\\dusng\\AppData\\Local\\Temp\\ipykernel_3364\\2258611513.py:31: SettingWithCopyWarning: \n",
      "A value is trying to be set on a copy of a slice from a DataFrame\n",
      "\n",
      "See the caveats in the documentation: https://pandas.pydata.org/pandas-docs/stable/user_guide/indexing.html#returning-a-view-versus-a-copy\n",
      "  df['location.coordinates.lat'][i]=df1['location'][i]['coordinates'][1]\n",
      "c:\\Users\\dusng\\mambaforge\\lib\\site-packages\\geopandas\\array.py:1406: UserWarning: CRS not set for some of the concatenation inputs. Setting output's CRS as WGS 84 (the single non-null crs provided).\n",
      "  warnings.warn(\n",
      "c:\\Users\\dusng\\mambaforge\\lib\\site-packages\\geopandas\\array.py:1406: UserWarning: CRS not set for some of the concatenation inputs. Setting output's CRS as WGS 84 (the single non-null crs provided).\n",
      "  warnings.warn(\n"
     ]
    },
    {
     "name": "stdout",
     "output_type": "stream",
     "text": [
      "108\n"
     ]
    },
    {
     "name": "stderr",
     "output_type": "stream",
     "text": [
      "C:\\Users\\dusng\\AppData\\Local\\Temp\\ipykernel_3364\\2258611513.py:30: SettingWithCopyWarning: \n",
      "A value is trying to be set on a copy of a slice from a DataFrame\n",
      "\n",
      "See the caveats in the documentation: https://pandas.pydata.org/pandas-docs/stable/user_guide/indexing.html#returning-a-view-versus-a-copy\n",
      "  df['location.coordinates.lon'][i]=df1['location'][i]['coordinates'][0]\n",
      "C:\\Users\\dusng\\AppData\\Local\\Temp\\ipykernel_3364\\2258611513.py:31: SettingWithCopyWarning: \n",
      "A value is trying to be set on a copy of a slice from a DataFrame\n",
      "\n",
      "See the caveats in the documentation: https://pandas.pydata.org/pandas-docs/stable/user_guide/indexing.html#returning-a-view-versus-a-copy\n",
      "  df['location.coordinates.lat'][i]=df1['location'][i]['coordinates'][1]\n",
      "c:\\Users\\dusng\\mambaforge\\lib\\site-packages\\geopandas\\array.py:1406: UserWarning: CRS not set for some of the concatenation inputs. Setting output's CRS as WGS 84 (the single non-null crs provided).\n",
      "  warnings.warn(\n",
      "c:\\Users\\dusng\\mambaforge\\lib\\site-packages\\geopandas\\array.py:1406: UserWarning: CRS not set for some of the concatenation inputs. Setting output's CRS as WGS 84 (the single non-null crs provided).\n",
      "  warnings.warn(\n"
     ]
    },
    {
     "name": "stdout",
     "output_type": "stream",
     "text": [
      "100\n"
     ]
    },
    {
     "name": "stderr",
     "output_type": "stream",
     "text": [
      "C:\\Users\\dusng\\AppData\\Local\\Temp\\ipykernel_3364\\2258611513.py:30: SettingWithCopyWarning: \n",
      "A value is trying to be set on a copy of a slice from a DataFrame\n",
      "\n",
      "See the caveats in the documentation: https://pandas.pydata.org/pandas-docs/stable/user_guide/indexing.html#returning-a-view-versus-a-copy\n",
      "  df['location.coordinates.lon'][i]=df1['location'][i]['coordinates'][0]\n",
      "C:\\Users\\dusng\\AppData\\Local\\Temp\\ipykernel_3364\\2258611513.py:31: SettingWithCopyWarning: \n",
      "A value is trying to be set on a copy of a slice from a DataFrame\n",
      "\n",
      "See the caveats in the documentation: https://pandas.pydata.org/pandas-docs/stable/user_guide/indexing.html#returning-a-view-versus-a-copy\n",
      "  df['location.coordinates.lat'][i]=df1['location'][i]['coordinates'][1]\n",
      "c:\\Users\\dusng\\mambaforge\\lib\\site-packages\\geopandas\\array.py:1406: UserWarning: CRS not set for some of the concatenation inputs. Setting output's CRS as WGS 84 (the single non-null crs provided).\n",
      "  warnings.warn(\n",
      "c:\\Users\\dusng\\mambaforge\\lib\\site-packages\\geopandas\\array.py:1406: UserWarning: CRS not set for some of the concatenation inputs. Setting output's CRS as WGS 84 (the single non-null crs provided).\n",
      "  warnings.warn(\n"
     ]
    },
    {
     "name": "stdout",
     "output_type": "stream",
     "text": [
      "397\n"
     ]
    },
    {
     "name": "stderr",
     "output_type": "stream",
     "text": [
      "C:\\Users\\dusng\\AppData\\Local\\Temp\\ipykernel_3364\\2258611513.py:30: SettingWithCopyWarning: \n",
      "A value is trying to be set on a copy of a slice from a DataFrame\n",
      "\n",
      "See the caveats in the documentation: https://pandas.pydata.org/pandas-docs/stable/user_guide/indexing.html#returning-a-view-versus-a-copy\n",
      "  df['location.coordinates.lon'][i]=df1['location'][i]['coordinates'][0]\n",
      "C:\\Users\\dusng\\AppData\\Local\\Temp\\ipykernel_3364\\2258611513.py:31: SettingWithCopyWarning: \n",
      "A value is trying to be set on a copy of a slice from a DataFrame\n",
      "\n",
      "See the caveats in the documentation: https://pandas.pydata.org/pandas-docs/stable/user_guide/indexing.html#returning-a-view-versus-a-copy\n",
      "  df['location.coordinates.lat'][i]=df1['location'][i]['coordinates'][1]\n",
      "c:\\Users\\dusng\\mambaforge\\lib\\site-packages\\geopandas\\array.py:1406: UserWarning: CRS not set for some of the concatenation inputs. Setting output's CRS as WGS 84 (the single non-null crs provided).\n",
      "  warnings.warn(\n",
      "c:\\Users\\dusng\\mambaforge\\lib\\site-packages\\geopandas\\array.py:1406: UserWarning: CRS not set for some of the concatenation inputs. Setting output's CRS as WGS 84 (the single non-null crs provided).\n",
      "  warnings.warn(\n"
     ]
    },
    {
     "name": "stdout",
     "output_type": "stream",
     "text": [
      "155\n"
     ]
    },
    {
     "name": "stderr",
     "output_type": "stream",
     "text": [
      "C:\\Users\\dusng\\AppData\\Local\\Temp\\ipykernel_3364\\2258611513.py:30: SettingWithCopyWarning: \n",
      "A value is trying to be set on a copy of a slice from a DataFrame\n",
      "\n",
      "See the caveats in the documentation: https://pandas.pydata.org/pandas-docs/stable/user_guide/indexing.html#returning-a-view-versus-a-copy\n",
      "  df['location.coordinates.lon'][i]=df1['location'][i]['coordinates'][0]\n",
      "C:\\Users\\dusng\\AppData\\Local\\Temp\\ipykernel_3364\\2258611513.py:31: SettingWithCopyWarning: \n",
      "A value is trying to be set on a copy of a slice from a DataFrame\n",
      "\n",
      "See the caveats in the documentation: https://pandas.pydata.org/pandas-docs/stable/user_guide/indexing.html#returning-a-view-versus-a-copy\n",
      "  df['location.coordinates.lat'][i]=df1['location'][i]['coordinates'][1]\n",
      "c:\\Users\\dusng\\mambaforge\\lib\\site-packages\\geopandas\\array.py:1406: UserWarning: CRS not set for some of the concatenation inputs. Setting output's CRS as WGS 84 (the single non-null crs provided).\n",
      "  warnings.warn(\n",
      "c:\\Users\\dusng\\mambaforge\\lib\\site-packages\\geopandas\\array.py:1406: UserWarning: CRS not set for some of the concatenation inputs. Setting output's CRS as WGS 84 (the single non-null crs provided).\n",
      "  warnings.warn(\n"
     ]
    },
    {
     "name": "stdout",
     "output_type": "stream",
     "text": [
      "71\n"
     ]
    },
    {
     "name": "stderr",
     "output_type": "stream",
     "text": [
      "C:\\Users\\dusng\\AppData\\Local\\Temp\\ipykernel_3364\\2258611513.py:30: SettingWithCopyWarning: \n",
      "A value is trying to be set on a copy of a slice from a DataFrame\n",
      "\n",
      "See the caveats in the documentation: https://pandas.pydata.org/pandas-docs/stable/user_guide/indexing.html#returning-a-view-versus-a-copy\n",
      "  df['location.coordinates.lon'][i]=df1['location'][i]['coordinates'][0]\n",
      "C:\\Users\\dusng\\AppData\\Local\\Temp\\ipykernel_3364\\2258611513.py:31: SettingWithCopyWarning: \n",
      "A value is trying to be set on a copy of a slice from a DataFrame\n",
      "\n",
      "See the caveats in the documentation: https://pandas.pydata.org/pandas-docs/stable/user_guide/indexing.html#returning-a-view-versus-a-copy\n",
      "  df['location.coordinates.lat'][i]=df1['location'][i]['coordinates'][1]\n",
      "c:\\Users\\dusng\\mambaforge\\lib\\site-packages\\geopandas\\array.py:1406: UserWarning: CRS not set for some of the concatenation inputs. Setting output's CRS as WGS 84 (the single non-null crs provided).\n",
      "  warnings.warn(\n",
      "c:\\Users\\dusng\\mambaforge\\lib\\site-packages\\geopandas\\array.py:1406: UserWarning: CRS not set for some of the concatenation inputs. Setting output's CRS as WGS 84 (the single non-null crs provided).\n",
      "  warnings.warn(\n"
     ]
    },
    {
     "name": "stdout",
     "output_type": "stream",
     "text": [
      "36\n"
     ]
    },
    {
     "name": "stderr",
     "output_type": "stream",
     "text": [
      "C:\\Users\\dusng\\AppData\\Local\\Temp\\ipykernel_3364\\2258611513.py:30: SettingWithCopyWarning: \n",
      "A value is trying to be set on a copy of a slice from a DataFrame\n",
      "\n",
      "See the caveats in the documentation: https://pandas.pydata.org/pandas-docs/stable/user_guide/indexing.html#returning-a-view-versus-a-copy\n",
      "  df['location.coordinates.lon'][i]=df1['location'][i]['coordinates'][0]\n",
      "C:\\Users\\dusng\\AppData\\Local\\Temp\\ipykernel_3364\\2258611513.py:31: SettingWithCopyWarning: \n",
      "A value is trying to be set on a copy of a slice from a DataFrame\n",
      "\n",
      "See the caveats in the documentation: https://pandas.pydata.org/pandas-docs/stable/user_guide/indexing.html#returning-a-view-versus-a-copy\n",
      "  df['location.coordinates.lat'][i]=df1['location'][i]['coordinates'][1]\n",
      "c:\\Users\\dusng\\mambaforge\\lib\\site-packages\\geopandas\\array.py:1406: UserWarning: CRS not set for some of the concatenation inputs. Setting output's CRS as WGS 84 (the single non-null crs provided).\n",
      "  warnings.warn(\n",
      "c:\\Users\\dusng\\mambaforge\\lib\\site-packages\\geopandas\\array.py:1406: UserWarning: CRS not set for some of the concatenation inputs. Setting output's CRS as WGS 84 (the single non-null crs provided).\n",
      "  warnings.warn(\n"
     ]
    },
    {
     "name": "stdout",
     "output_type": "stream",
     "text": [
      "154\n"
     ]
    },
    {
     "name": "stderr",
     "output_type": "stream",
     "text": [
      "C:\\Users\\dusng\\AppData\\Local\\Temp\\ipykernel_3364\\2258611513.py:30: SettingWithCopyWarning: \n",
      "A value is trying to be set on a copy of a slice from a DataFrame\n",
      "\n",
      "See the caveats in the documentation: https://pandas.pydata.org/pandas-docs/stable/user_guide/indexing.html#returning-a-view-versus-a-copy\n",
      "  df['location.coordinates.lon'][i]=df1['location'][i]['coordinates'][0]\n",
      "C:\\Users\\dusng\\AppData\\Local\\Temp\\ipykernel_3364\\2258611513.py:31: SettingWithCopyWarning: \n",
      "A value is trying to be set on a copy of a slice from a DataFrame\n",
      "\n",
      "See the caveats in the documentation: https://pandas.pydata.org/pandas-docs/stable/user_guide/indexing.html#returning-a-view-versus-a-copy\n",
      "  df['location.coordinates.lat'][i]=df1['location'][i]['coordinates'][1]\n",
      "c:\\Users\\dusng\\mambaforge\\lib\\site-packages\\geopandas\\array.py:1406: UserWarning: CRS not set for some of the concatenation inputs. Setting output's CRS as WGS 84 (the single non-null crs provided).\n",
      "  warnings.warn(\n",
      "c:\\Users\\dusng\\mambaforge\\lib\\site-packages\\geopandas\\array.py:1406: UserWarning: CRS not set for some of the concatenation inputs. Setting output's CRS as WGS 84 (the single non-null crs provided).\n",
      "  warnings.warn(\n"
     ]
    },
    {
     "name": "stdout",
     "output_type": "stream",
     "text": [
      "128\n"
     ]
    },
    {
     "name": "stderr",
     "output_type": "stream",
     "text": [
      "C:\\Users\\dusng\\AppData\\Local\\Temp\\ipykernel_3364\\2258611513.py:30: SettingWithCopyWarning: \n",
      "A value is trying to be set on a copy of a slice from a DataFrame\n",
      "\n",
      "See the caveats in the documentation: https://pandas.pydata.org/pandas-docs/stable/user_guide/indexing.html#returning-a-view-versus-a-copy\n",
      "  df['location.coordinates.lon'][i]=df1['location'][i]['coordinates'][0]\n",
      "C:\\Users\\dusng\\AppData\\Local\\Temp\\ipykernel_3364\\2258611513.py:31: SettingWithCopyWarning: \n",
      "A value is trying to be set on a copy of a slice from a DataFrame\n",
      "\n",
      "See the caveats in the documentation: https://pandas.pydata.org/pandas-docs/stable/user_guide/indexing.html#returning-a-view-versus-a-copy\n",
      "  df['location.coordinates.lat'][i]=df1['location'][i]['coordinates'][1]\n",
      "c:\\Users\\dusng\\mambaforge\\lib\\site-packages\\geopandas\\array.py:1406: UserWarning: CRS not set for some of the concatenation inputs. Setting output's CRS as WGS 84 (the single non-null crs provided).\n",
      "  warnings.warn(\n",
      "c:\\Users\\dusng\\mambaforge\\lib\\site-packages\\geopandas\\array.py:1406: UserWarning: CRS not set for some of the concatenation inputs. Setting output's CRS as WGS 84 (the single non-null crs provided).\n",
      "  warnings.warn(\n"
     ]
    },
    {
     "name": "stdout",
     "output_type": "stream",
     "text": [
      "183\n"
     ]
    },
    {
     "name": "stderr",
     "output_type": "stream",
     "text": [
      "C:\\Users\\dusng\\AppData\\Local\\Temp\\ipykernel_3364\\2258611513.py:30: SettingWithCopyWarning: \n",
      "A value is trying to be set on a copy of a slice from a DataFrame\n",
      "\n",
      "See the caveats in the documentation: https://pandas.pydata.org/pandas-docs/stable/user_guide/indexing.html#returning-a-view-versus-a-copy\n",
      "  df['location.coordinates.lon'][i]=df1['location'][i]['coordinates'][0]\n",
      "C:\\Users\\dusng\\AppData\\Local\\Temp\\ipykernel_3364\\2258611513.py:31: SettingWithCopyWarning: \n",
      "A value is trying to be set on a copy of a slice from a DataFrame\n",
      "\n",
      "See the caveats in the documentation: https://pandas.pydata.org/pandas-docs/stable/user_guide/indexing.html#returning-a-view-versus-a-copy\n",
      "  df['location.coordinates.lat'][i]=df1['location'][i]['coordinates'][1]\n",
      "c:\\Users\\dusng\\mambaforge\\lib\\site-packages\\geopandas\\array.py:1406: UserWarning: CRS not set for some of the concatenation inputs. Setting output's CRS as WGS 84 (the single non-null crs provided).\n",
      "  warnings.warn(\n",
      "c:\\Users\\dusng\\mambaforge\\lib\\site-packages\\geopandas\\array.py:1406: UserWarning: CRS not set for some of the concatenation inputs. Setting output's CRS as WGS 84 (the single non-null crs provided).\n",
      "  warnings.warn(\n"
     ]
    },
    {
     "name": "stdout",
     "output_type": "stream",
     "text": [
      "102\n"
     ]
    },
    {
     "name": "stderr",
     "output_type": "stream",
     "text": [
      "C:\\Users\\dusng\\AppData\\Local\\Temp\\ipykernel_3364\\2258611513.py:30: SettingWithCopyWarning: \n",
      "A value is trying to be set on a copy of a slice from a DataFrame\n",
      "\n",
      "See the caveats in the documentation: https://pandas.pydata.org/pandas-docs/stable/user_guide/indexing.html#returning-a-view-versus-a-copy\n",
      "  df['location.coordinates.lon'][i]=df1['location'][i]['coordinates'][0]\n",
      "C:\\Users\\dusng\\AppData\\Local\\Temp\\ipykernel_3364\\2258611513.py:31: SettingWithCopyWarning: \n",
      "A value is trying to be set on a copy of a slice from a DataFrame\n",
      "\n",
      "See the caveats in the documentation: https://pandas.pydata.org/pandas-docs/stable/user_guide/indexing.html#returning-a-view-versus-a-copy\n",
      "  df['location.coordinates.lat'][i]=df1['location'][i]['coordinates'][1]\n",
      "c:\\Users\\dusng\\mambaforge\\lib\\site-packages\\geopandas\\array.py:1406: UserWarning: CRS not set for some of the concatenation inputs. Setting output's CRS as WGS 84 (the single non-null crs provided).\n",
      "  warnings.warn(\n",
      "c:\\Users\\dusng\\mambaforge\\lib\\site-packages\\geopandas\\array.py:1406: UserWarning: CRS not set for some of the concatenation inputs. Setting output's CRS as WGS 84 (the single non-null crs provided).\n",
      "  warnings.warn(\n"
     ]
    },
    {
     "name": "stdout",
     "output_type": "stream",
     "text": [
      "78\n"
     ]
    },
    {
     "name": "stderr",
     "output_type": "stream",
     "text": [
      "C:\\Users\\dusng\\AppData\\Local\\Temp\\ipykernel_3364\\2258611513.py:30: SettingWithCopyWarning: \n",
      "A value is trying to be set on a copy of a slice from a DataFrame\n",
      "\n",
      "See the caveats in the documentation: https://pandas.pydata.org/pandas-docs/stable/user_guide/indexing.html#returning-a-view-versus-a-copy\n",
      "  df['location.coordinates.lon'][i]=df1['location'][i]['coordinates'][0]\n",
      "C:\\Users\\dusng\\AppData\\Local\\Temp\\ipykernel_3364\\2258611513.py:31: SettingWithCopyWarning: \n",
      "A value is trying to be set on a copy of a slice from a DataFrame\n",
      "\n",
      "See the caveats in the documentation: https://pandas.pydata.org/pandas-docs/stable/user_guide/indexing.html#returning-a-view-versus-a-copy\n",
      "  df['location.coordinates.lat'][i]=df1['location'][i]['coordinates'][1]\n",
      "c:\\Users\\dusng\\mambaforge\\lib\\site-packages\\geopandas\\array.py:1406: UserWarning: CRS not set for some of the concatenation inputs. Setting output's CRS as WGS 84 (the single non-null crs provided).\n",
      "  warnings.warn(\n",
      "c:\\Users\\dusng\\mambaforge\\lib\\site-packages\\geopandas\\array.py:1406: UserWarning: CRS not set for some of the concatenation inputs. Setting output's CRS as WGS 84 (the single non-null crs provided).\n",
      "  warnings.warn(\n"
     ]
    },
    {
     "name": "stdout",
     "output_type": "stream",
     "text": [
      "135\n"
     ]
    },
    {
     "name": "stderr",
     "output_type": "stream",
     "text": [
      "C:\\Users\\dusng\\AppData\\Local\\Temp\\ipykernel_3364\\2258611513.py:30: SettingWithCopyWarning: \n",
      "A value is trying to be set on a copy of a slice from a DataFrame\n",
      "\n",
      "See the caveats in the documentation: https://pandas.pydata.org/pandas-docs/stable/user_guide/indexing.html#returning-a-view-versus-a-copy\n",
      "  df['location.coordinates.lon'][i]=df1['location'][i]['coordinates'][0]\n",
      "C:\\Users\\dusng\\AppData\\Local\\Temp\\ipykernel_3364\\2258611513.py:31: SettingWithCopyWarning: \n",
      "A value is trying to be set on a copy of a slice from a DataFrame\n",
      "\n",
      "See the caveats in the documentation: https://pandas.pydata.org/pandas-docs/stable/user_guide/indexing.html#returning-a-view-versus-a-copy\n",
      "  df['location.coordinates.lat'][i]=df1['location'][i]['coordinates'][1]\n",
      "c:\\Users\\dusng\\mambaforge\\lib\\site-packages\\geopandas\\array.py:1406: UserWarning: CRS not set for some of the concatenation inputs. Setting output's CRS as WGS 84 (the single non-null crs provided).\n",
      "  warnings.warn(\n",
      "c:\\Users\\dusng\\mambaforge\\lib\\site-packages\\geopandas\\array.py:1406: UserWarning: CRS not set for some of the concatenation inputs. Setting output's CRS as WGS 84 (the single non-null crs provided).\n",
      "  warnings.warn(\n"
     ]
    },
    {
     "name": "stdout",
     "output_type": "stream",
     "text": [
      "49\n"
     ]
    },
    {
     "name": "stderr",
     "output_type": "stream",
     "text": [
      "C:\\Users\\dusng\\AppData\\Local\\Temp\\ipykernel_3364\\2258611513.py:30: SettingWithCopyWarning: \n",
      "A value is trying to be set on a copy of a slice from a DataFrame\n",
      "\n",
      "See the caveats in the documentation: https://pandas.pydata.org/pandas-docs/stable/user_guide/indexing.html#returning-a-view-versus-a-copy\n",
      "  df['location.coordinates.lon'][i]=df1['location'][i]['coordinates'][0]\n",
      "C:\\Users\\dusng\\AppData\\Local\\Temp\\ipykernel_3364\\2258611513.py:31: SettingWithCopyWarning: \n",
      "A value is trying to be set on a copy of a slice from a DataFrame\n",
      "\n",
      "See the caveats in the documentation: https://pandas.pydata.org/pandas-docs/stable/user_guide/indexing.html#returning-a-view-versus-a-copy\n",
      "  df['location.coordinates.lat'][i]=df1['location'][i]['coordinates'][1]\n",
      "c:\\Users\\dusng\\mambaforge\\lib\\site-packages\\geopandas\\array.py:1406: UserWarning: CRS not set for some of the concatenation inputs. Setting output's CRS as WGS 84 (the single non-null crs provided).\n",
      "  warnings.warn(\n",
      "c:\\Users\\dusng\\mambaforge\\lib\\site-packages\\geopandas\\array.py:1406: UserWarning: CRS not set for some of the concatenation inputs. Setting output's CRS as WGS 84 (the single non-null crs provided).\n",
      "  warnings.warn(\n"
     ]
    },
    {
     "name": "stdout",
     "output_type": "stream",
     "text": [
      "242\n"
     ]
    },
    {
     "name": "stderr",
     "output_type": "stream",
     "text": [
      "C:\\Users\\dusng\\AppData\\Local\\Temp\\ipykernel_3364\\2258611513.py:30: SettingWithCopyWarning: \n",
      "A value is trying to be set on a copy of a slice from a DataFrame\n",
      "\n",
      "See the caveats in the documentation: https://pandas.pydata.org/pandas-docs/stable/user_guide/indexing.html#returning-a-view-versus-a-copy\n",
      "  df['location.coordinates.lon'][i]=df1['location'][i]['coordinates'][0]\n",
      "C:\\Users\\dusng\\AppData\\Local\\Temp\\ipykernel_3364\\2258611513.py:31: SettingWithCopyWarning: \n",
      "A value is trying to be set on a copy of a slice from a DataFrame\n",
      "\n",
      "See the caveats in the documentation: https://pandas.pydata.org/pandas-docs/stable/user_guide/indexing.html#returning-a-view-versus-a-copy\n",
      "  df['location.coordinates.lat'][i]=df1['location'][i]['coordinates'][1]\n",
      "c:\\Users\\dusng\\mambaforge\\lib\\site-packages\\geopandas\\array.py:1406: UserWarning: CRS not set for some of the concatenation inputs. Setting output's CRS as WGS 84 (the single non-null crs provided).\n",
      "  warnings.warn(\n",
      "c:\\Users\\dusng\\mambaforge\\lib\\site-packages\\geopandas\\array.py:1406: UserWarning: CRS not set for some of the concatenation inputs. Setting output's CRS as WGS 84 (the single non-null crs provided).\n",
      "  warnings.warn(\n"
     ]
    },
    {
     "name": "stdout",
     "output_type": "stream",
     "text": [
      "175\n"
     ]
    },
    {
     "name": "stderr",
     "output_type": "stream",
     "text": [
      "C:\\Users\\dusng\\AppData\\Local\\Temp\\ipykernel_3364\\2258611513.py:30: SettingWithCopyWarning: \n",
      "A value is trying to be set on a copy of a slice from a DataFrame\n",
      "\n",
      "See the caveats in the documentation: https://pandas.pydata.org/pandas-docs/stable/user_guide/indexing.html#returning-a-view-versus-a-copy\n",
      "  df['location.coordinates.lon'][i]=df1['location'][i]['coordinates'][0]\n",
      "C:\\Users\\dusng\\AppData\\Local\\Temp\\ipykernel_3364\\2258611513.py:31: SettingWithCopyWarning: \n",
      "A value is trying to be set on a copy of a slice from a DataFrame\n",
      "\n",
      "See the caveats in the documentation: https://pandas.pydata.org/pandas-docs/stable/user_guide/indexing.html#returning-a-view-versus-a-copy\n",
      "  df['location.coordinates.lat'][i]=df1['location'][i]['coordinates'][1]\n",
      "c:\\Users\\dusng\\mambaforge\\lib\\site-packages\\geopandas\\array.py:1406: UserWarning: CRS not set for some of the concatenation inputs. Setting output's CRS as WGS 84 (the single non-null crs provided).\n",
      "  warnings.warn(\n",
      "c:\\Users\\dusng\\mambaforge\\lib\\site-packages\\geopandas\\array.py:1406: UserWarning: CRS not set for some of the concatenation inputs. Setting output's CRS as WGS 84 (the single non-null crs provided).\n",
      "  warnings.warn(\n"
     ]
    },
    {
     "name": "stdout",
     "output_type": "stream",
     "text": [
      "158\n"
     ]
    },
    {
     "name": "stderr",
     "output_type": "stream",
     "text": [
      "C:\\Users\\dusng\\AppData\\Local\\Temp\\ipykernel_3364\\2258611513.py:30: SettingWithCopyWarning: \n",
      "A value is trying to be set on a copy of a slice from a DataFrame\n",
      "\n",
      "See the caveats in the documentation: https://pandas.pydata.org/pandas-docs/stable/user_guide/indexing.html#returning-a-view-versus-a-copy\n",
      "  df['location.coordinates.lon'][i]=df1['location'][i]['coordinates'][0]\n",
      "C:\\Users\\dusng\\AppData\\Local\\Temp\\ipykernel_3364\\2258611513.py:31: SettingWithCopyWarning: \n",
      "A value is trying to be set on a copy of a slice from a DataFrame\n",
      "\n",
      "See the caveats in the documentation: https://pandas.pydata.org/pandas-docs/stable/user_guide/indexing.html#returning-a-view-versus-a-copy\n",
      "  df['location.coordinates.lat'][i]=df1['location'][i]['coordinates'][1]\n",
      "c:\\Users\\dusng\\mambaforge\\lib\\site-packages\\geopandas\\array.py:1406: UserWarning: CRS not set for some of the concatenation inputs. Setting output's CRS as WGS 84 (the single non-null crs provided).\n",
      "  warnings.warn(\n",
      "c:\\Users\\dusng\\mambaforge\\lib\\site-packages\\geopandas\\array.py:1406: UserWarning: CRS not set for some of the concatenation inputs. Setting output's CRS as WGS 84 (the single non-null crs provided).\n",
      "  warnings.warn(\n"
     ]
    },
    {
     "name": "stdout",
     "output_type": "stream",
     "text": [
      "170\n"
     ]
    },
    {
     "name": "stderr",
     "output_type": "stream",
     "text": [
      "C:\\Users\\dusng\\AppData\\Local\\Temp\\ipykernel_3364\\2258611513.py:30: SettingWithCopyWarning: \n",
      "A value is trying to be set on a copy of a slice from a DataFrame\n",
      "\n",
      "See the caveats in the documentation: https://pandas.pydata.org/pandas-docs/stable/user_guide/indexing.html#returning-a-view-versus-a-copy\n",
      "  df['location.coordinates.lon'][i]=df1['location'][i]['coordinates'][0]\n",
      "C:\\Users\\dusng\\AppData\\Local\\Temp\\ipykernel_3364\\2258611513.py:31: SettingWithCopyWarning: \n",
      "A value is trying to be set on a copy of a slice from a DataFrame\n",
      "\n",
      "See the caveats in the documentation: https://pandas.pydata.org/pandas-docs/stable/user_guide/indexing.html#returning-a-view-versus-a-copy\n",
      "  df['location.coordinates.lat'][i]=df1['location'][i]['coordinates'][1]\n",
      "c:\\Users\\dusng\\mambaforge\\lib\\site-packages\\geopandas\\array.py:1406: UserWarning: CRS not set for some of the concatenation inputs. Setting output's CRS as WGS 84 (the single non-null crs provided).\n",
      "  warnings.warn(\n",
      "c:\\Users\\dusng\\mambaforge\\lib\\site-packages\\geopandas\\array.py:1406: UserWarning: CRS not set for some of the concatenation inputs. Setting output's CRS as WGS 84 (the single non-null crs provided).\n",
      "  warnings.warn(\n"
     ]
    },
    {
     "name": "stdout",
     "output_type": "stream",
     "text": [
      "52\n"
     ]
    },
    {
     "name": "stderr",
     "output_type": "stream",
     "text": [
      "C:\\Users\\dusng\\AppData\\Local\\Temp\\ipykernel_3364\\2258611513.py:30: SettingWithCopyWarning: \n",
      "A value is trying to be set on a copy of a slice from a DataFrame\n",
      "\n",
      "See the caveats in the documentation: https://pandas.pydata.org/pandas-docs/stable/user_guide/indexing.html#returning-a-view-versus-a-copy\n",
      "  df['location.coordinates.lon'][i]=df1['location'][i]['coordinates'][0]\n",
      "C:\\Users\\dusng\\AppData\\Local\\Temp\\ipykernel_3364\\2258611513.py:31: SettingWithCopyWarning: \n",
      "A value is trying to be set on a copy of a slice from a DataFrame\n",
      "\n",
      "See the caveats in the documentation: https://pandas.pydata.org/pandas-docs/stable/user_guide/indexing.html#returning-a-view-versus-a-copy\n",
      "  df['location.coordinates.lat'][i]=df1['location'][i]['coordinates'][1]\n",
      "c:\\Users\\dusng\\mambaforge\\lib\\site-packages\\geopandas\\array.py:1406: UserWarning: CRS not set for some of the concatenation inputs. Setting output's CRS as WGS 84 (the single non-null crs provided).\n",
      "  warnings.warn(\n",
      "c:\\Users\\dusng\\mambaforge\\lib\\site-packages\\geopandas\\array.py:1406: UserWarning: CRS not set for some of the concatenation inputs. Setting output's CRS as WGS 84 (the single non-null crs provided).\n",
      "  warnings.warn(\n"
     ]
    },
    {
     "name": "stdout",
     "output_type": "stream",
     "text": [
      "184\n"
     ]
    },
    {
     "name": "stderr",
     "output_type": "stream",
     "text": [
      "C:\\Users\\dusng\\AppData\\Local\\Temp\\ipykernel_3364\\2258611513.py:30: SettingWithCopyWarning: \n",
      "A value is trying to be set on a copy of a slice from a DataFrame\n",
      "\n",
      "See the caveats in the documentation: https://pandas.pydata.org/pandas-docs/stable/user_guide/indexing.html#returning-a-view-versus-a-copy\n",
      "  df['location.coordinates.lon'][i]=df1['location'][i]['coordinates'][0]\n",
      "C:\\Users\\dusng\\AppData\\Local\\Temp\\ipykernel_3364\\2258611513.py:31: SettingWithCopyWarning: \n",
      "A value is trying to be set on a copy of a slice from a DataFrame\n",
      "\n",
      "See the caveats in the documentation: https://pandas.pydata.org/pandas-docs/stable/user_guide/indexing.html#returning-a-view-versus-a-copy\n",
      "  df['location.coordinates.lat'][i]=df1['location'][i]['coordinates'][1]\n",
      "c:\\Users\\dusng\\mambaforge\\lib\\site-packages\\geopandas\\array.py:1406: UserWarning: CRS not set for some of the concatenation inputs. Setting output's CRS as WGS 84 (the single non-null crs provided).\n",
      "  warnings.warn(\n",
      "c:\\Users\\dusng\\mambaforge\\lib\\site-packages\\geopandas\\array.py:1406: UserWarning: CRS not set for some of the concatenation inputs. Setting output's CRS as WGS 84 (the single non-null crs provided).\n",
      "  warnings.warn(\n"
     ]
    },
    {
     "name": "stdout",
     "output_type": "stream",
     "text": [
      "177\n"
     ]
    },
    {
     "name": "stderr",
     "output_type": "stream",
     "text": [
      "C:\\Users\\dusng\\AppData\\Local\\Temp\\ipykernel_3364\\2258611513.py:30: SettingWithCopyWarning: \n",
      "A value is trying to be set on a copy of a slice from a DataFrame\n",
      "\n",
      "See the caveats in the documentation: https://pandas.pydata.org/pandas-docs/stable/user_guide/indexing.html#returning-a-view-versus-a-copy\n",
      "  df['location.coordinates.lon'][i]=df1['location'][i]['coordinates'][0]\n",
      "C:\\Users\\dusng\\AppData\\Local\\Temp\\ipykernel_3364\\2258611513.py:31: SettingWithCopyWarning: \n",
      "A value is trying to be set on a copy of a slice from a DataFrame\n",
      "\n",
      "See the caveats in the documentation: https://pandas.pydata.org/pandas-docs/stable/user_guide/indexing.html#returning-a-view-versus-a-copy\n",
      "  df['location.coordinates.lat'][i]=df1['location'][i]['coordinates'][1]\n",
      "c:\\Users\\dusng\\mambaforge\\lib\\site-packages\\geopandas\\array.py:1406: UserWarning: CRS not set for some of the concatenation inputs. Setting output's CRS as WGS 84 (the single non-null crs provided).\n",
      "  warnings.warn(\n",
      "c:\\Users\\dusng\\mambaforge\\lib\\site-packages\\geopandas\\array.py:1406: UserWarning: CRS not set for some of the concatenation inputs. Setting output's CRS as WGS 84 (the single non-null crs provided).\n",
      "  warnings.warn(\n"
     ]
    },
    {
     "name": "stdout",
     "output_type": "stream",
     "text": [
      "192\n"
     ]
    },
    {
     "name": "stderr",
     "output_type": "stream",
     "text": [
      "C:\\Users\\dusng\\AppData\\Local\\Temp\\ipykernel_3364\\2258611513.py:30: SettingWithCopyWarning: \n",
      "A value is trying to be set on a copy of a slice from a DataFrame\n",
      "\n",
      "See the caveats in the documentation: https://pandas.pydata.org/pandas-docs/stable/user_guide/indexing.html#returning-a-view-versus-a-copy\n",
      "  df['location.coordinates.lon'][i]=df1['location'][i]['coordinates'][0]\n",
      "C:\\Users\\dusng\\AppData\\Local\\Temp\\ipykernel_3364\\2258611513.py:31: SettingWithCopyWarning: \n",
      "A value is trying to be set on a copy of a slice from a DataFrame\n",
      "\n",
      "See the caveats in the documentation: https://pandas.pydata.org/pandas-docs/stable/user_guide/indexing.html#returning-a-view-versus-a-copy\n",
      "  df['location.coordinates.lat'][i]=df1['location'][i]['coordinates'][1]\n",
      "c:\\Users\\dusng\\mambaforge\\lib\\site-packages\\geopandas\\array.py:1406: UserWarning: CRS not set for some of the concatenation inputs. Setting output's CRS as WGS 84 (the single non-null crs provided).\n",
      "  warnings.warn(\n",
      "c:\\Users\\dusng\\mambaforge\\lib\\site-packages\\geopandas\\array.py:1406: UserWarning: CRS not set for some of the concatenation inputs. Setting output's CRS as WGS 84 (the single non-null crs provided).\n",
      "  warnings.warn(\n"
     ]
    },
    {
     "name": "stdout",
     "output_type": "stream",
     "text": [
      "199\n"
     ]
    },
    {
     "name": "stderr",
     "output_type": "stream",
     "text": [
      "C:\\Users\\dusng\\AppData\\Local\\Temp\\ipykernel_3364\\2258611513.py:30: SettingWithCopyWarning: \n",
      "A value is trying to be set on a copy of a slice from a DataFrame\n",
      "\n",
      "See the caveats in the documentation: https://pandas.pydata.org/pandas-docs/stable/user_guide/indexing.html#returning-a-view-versus-a-copy\n",
      "  df['location.coordinates.lon'][i]=df1['location'][i]['coordinates'][0]\n",
      "C:\\Users\\dusng\\AppData\\Local\\Temp\\ipykernel_3364\\2258611513.py:31: SettingWithCopyWarning: \n",
      "A value is trying to be set on a copy of a slice from a DataFrame\n",
      "\n",
      "See the caveats in the documentation: https://pandas.pydata.org/pandas-docs/stable/user_guide/indexing.html#returning-a-view-versus-a-copy\n",
      "  df['location.coordinates.lat'][i]=df1['location'][i]['coordinates'][1]\n",
      "c:\\Users\\dusng\\mambaforge\\lib\\site-packages\\geopandas\\array.py:1406: UserWarning: CRS not set for some of the concatenation inputs. Setting output's CRS as WGS 84 (the single non-null crs provided).\n",
      "  warnings.warn(\n",
      "c:\\Users\\dusng\\mambaforge\\lib\\site-packages\\geopandas\\array.py:1406: UserWarning: CRS not set for some of the concatenation inputs. Setting output's CRS as WGS 84 (the single non-null crs provided).\n",
      "  warnings.warn(\n"
     ]
    },
    {
     "name": "stdout",
     "output_type": "stream",
     "text": [
      "189\n"
     ]
    },
    {
     "name": "stderr",
     "output_type": "stream",
     "text": [
      "C:\\Users\\dusng\\AppData\\Local\\Temp\\ipykernel_3364\\2258611513.py:30: SettingWithCopyWarning: \n",
      "A value is trying to be set on a copy of a slice from a DataFrame\n",
      "\n",
      "See the caveats in the documentation: https://pandas.pydata.org/pandas-docs/stable/user_guide/indexing.html#returning-a-view-versus-a-copy\n",
      "  df['location.coordinates.lon'][i]=df1['location'][i]['coordinates'][0]\n",
      "C:\\Users\\dusng\\AppData\\Local\\Temp\\ipykernel_3364\\2258611513.py:31: SettingWithCopyWarning: \n",
      "A value is trying to be set on a copy of a slice from a DataFrame\n",
      "\n",
      "See the caveats in the documentation: https://pandas.pydata.org/pandas-docs/stable/user_guide/indexing.html#returning-a-view-versus-a-copy\n",
      "  df['location.coordinates.lat'][i]=df1['location'][i]['coordinates'][1]\n",
      "c:\\Users\\dusng\\mambaforge\\lib\\site-packages\\geopandas\\array.py:1406: UserWarning: CRS not set for some of the concatenation inputs. Setting output's CRS as WGS 84 (the single non-null crs provided).\n",
      "  warnings.warn(\n",
      "c:\\Users\\dusng\\mambaforge\\lib\\site-packages\\geopandas\\array.py:1406: UserWarning: CRS not set for some of the concatenation inputs. Setting output's CRS as WGS 84 (the single non-null crs provided).\n",
      "  warnings.warn(\n"
     ]
    },
    {
     "name": "stdout",
     "output_type": "stream",
     "text": [
      "215\n"
     ]
    },
    {
     "name": "stderr",
     "output_type": "stream",
     "text": [
      "C:\\Users\\dusng\\AppData\\Local\\Temp\\ipykernel_3364\\2258611513.py:30: SettingWithCopyWarning: \n",
      "A value is trying to be set on a copy of a slice from a DataFrame\n",
      "\n",
      "See the caveats in the documentation: https://pandas.pydata.org/pandas-docs/stable/user_guide/indexing.html#returning-a-view-versus-a-copy\n",
      "  df['location.coordinates.lon'][i]=df1['location'][i]['coordinates'][0]\n",
      "C:\\Users\\dusng\\AppData\\Local\\Temp\\ipykernel_3364\\2258611513.py:31: SettingWithCopyWarning: \n",
      "A value is trying to be set on a copy of a slice from a DataFrame\n",
      "\n",
      "See the caveats in the documentation: https://pandas.pydata.org/pandas-docs/stable/user_guide/indexing.html#returning-a-view-versus-a-copy\n",
      "  df['location.coordinates.lat'][i]=df1['location'][i]['coordinates'][1]\n",
      "c:\\Users\\dusng\\mambaforge\\lib\\site-packages\\geopandas\\array.py:1406: UserWarning: CRS not set for some of the concatenation inputs. Setting output's CRS as WGS 84 (the single non-null crs provided).\n",
      "  warnings.warn(\n",
      "c:\\Users\\dusng\\mambaforge\\lib\\site-packages\\geopandas\\array.py:1406: UserWarning: CRS not set for some of the concatenation inputs. Setting output's CRS as WGS 84 (the single non-null crs provided).\n",
      "  warnings.warn(\n"
     ]
    },
    {
     "name": "stdout",
     "output_type": "stream",
     "text": [
      "219\n"
     ]
    },
    {
     "name": "stderr",
     "output_type": "stream",
     "text": [
      "C:\\Users\\dusng\\AppData\\Local\\Temp\\ipykernel_3364\\2258611513.py:30: SettingWithCopyWarning: \n",
      "A value is trying to be set on a copy of a slice from a DataFrame\n",
      "\n",
      "See the caveats in the documentation: https://pandas.pydata.org/pandas-docs/stable/user_guide/indexing.html#returning-a-view-versus-a-copy\n",
      "  df['location.coordinates.lon'][i]=df1['location'][i]['coordinates'][0]\n",
      "C:\\Users\\dusng\\AppData\\Local\\Temp\\ipykernel_3364\\2258611513.py:31: SettingWithCopyWarning: \n",
      "A value is trying to be set on a copy of a slice from a DataFrame\n",
      "\n",
      "See the caveats in the documentation: https://pandas.pydata.org/pandas-docs/stable/user_guide/indexing.html#returning-a-view-versus-a-copy\n",
      "  df['location.coordinates.lat'][i]=df1['location'][i]['coordinates'][1]\n",
      "c:\\Users\\dusng\\mambaforge\\lib\\site-packages\\geopandas\\array.py:1406: UserWarning: CRS not set for some of the concatenation inputs. Setting output's CRS as WGS 84 (the single non-null crs provided).\n",
      "  warnings.warn(\n",
      "c:\\Users\\dusng\\mambaforge\\lib\\site-packages\\geopandas\\array.py:1406: UserWarning: CRS not set for some of the concatenation inputs. Setting output's CRS as WGS 84 (the single non-null crs provided).\n",
      "  warnings.warn(\n"
     ]
    },
    {
     "name": "stdout",
     "output_type": "stream",
     "text": [
      "152\n"
     ]
    },
    {
     "name": "stderr",
     "output_type": "stream",
     "text": [
      "C:\\Users\\dusng\\AppData\\Local\\Temp\\ipykernel_3364\\2258611513.py:30: SettingWithCopyWarning: \n",
      "A value is trying to be set on a copy of a slice from a DataFrame\n",
      "\n",
      "See the caveats in the documentation: https://pandas.pydata.org/pandas-docs/stable/user_guide/indexing.html#returning-a-view-versus-a-copy\n",
      "  df['location.coordinates.lon'][i]=df1['location'][i]['coordinates'][0]\n",
      "C:\\Users\\dusng\\AppData\\Local\\Temp\\ipykernel_3364\\2258611513.py:31: SettingWithCopyWarning: \n",
      "A value is trying to be set on a copy of a slice from a DataFrame\n",
      "\n",
      "See the caveats in the documentation: https://pandas.pydata.org/pandas-docs/stable/user_guide/indexing.html#returning-a-view-versus-a-copy\n",
      "  df['location.coordinates.lat'][i]=df1['location'][i]['coordinates'][1]\n",
      "c:\\Users\\dusng\\mambaforge\\lib\\site-packages\\geopandas\\array.py:1406: UserWarning: CRS not set for some of the concatenation inputs. Setting output's CRS as WGS 84 (the single non-null crs provided).\n",
      "  warnings.warn(\n",
      "c:\\Users\\dusng\\mambaforge\\lib\\site-packages\\geopandas\\array.py:1406: UserWarning: CRS not set for some of the concatenation inputs. Setting output's CRS as WGS 84 (the single non-null crs provided).\n",
      "  warnings.warn(\n"
     ]
    },
    {
     "name": "stdout",
     "output_type": "stream",
     "text": [
      "244\n"
     ]
    },
    {
     "name": "stderr",
     "output_type": "stream",
     "text": [
      "C:\\Users\\dusng\\AppData\\Local\\Temp\\ipykernel_3364\\2258611513.py:30: SettingWithCopyWarning: \n",
      "A value is trying to be set on a copy of a slice from a DataFrame\n",
      "\n",
      "See the caveats in the documentation: https://pandas.pydata.org/pandas-docs/stable/user_guide/indexing.html#returning-a-view-versus-a-copy\n",
      "  df['location.coordinates.lon'][i]=df1['location'][i]['coordinates'][0]\n",
      "C:\\Users\\dusng\\AppData\\Local\\Temp\\ipykernel_3364\\2258611513.py:31: SettingWithCopyWarning: \n",
      "A value is trying to be set on a copy of a slice from a DataFrame\n",
      "\n",
      "See the caveats in the documentation: https://pandas.pydata.org/pandas-docs/stable/user_guide/indexing.html#returning-a-view-versus-a-copy\n",
      "  df['location.coordinates.lat'][i]=df1['location'][i]['coordinates'][1]\n",
      "c:\\Users\\dusng\\mambaforge\\lib\\site-packages\\geopandas\\array.py:1406: UserWarning: CRS not set for some of the concatenation inputs. Setting output's CRS as WGS 84 (the single non-null crs provided).\n",
      "  warnings.warn(\n",
      "c:\\Users\\dusng\\mambaforge\\lib\\site-packages\\geopandas\\array.py:1406: UserWarning: CRS not set for some of the concatenation inputs. Setting output's CRS as WGS 84 (the single non-null crs provided).\n",
      "  warnings.warn(\n"
     ]
    },
    {
     "name": "stdout",
     "output_type": "stream",
     "text": [
      "50\n"
     ]
    },
    {
     "name": "stderr",
     "output_type": "stream",
     "text": [
      "C:\\Users\\dusng\\AppData\\Local\\Temp\\ipykernel_3364\\2258611513.py:30: SettingWithCopyWarning: \n",
      "A value is trying to be set on a copy of a slice from a DataFrame\n",
      "\n",
      "See the caveats in the documentation: https://pandas.pydata.org/pandas-docs/stable/user_guide/indexing.html#returning-a-view-versus-a-copy\n",
      "  df['location.coordinates.lon'][i]=df1['location'][i]['coordinates'][0]\n",
      "C:\\Users\\dusng\\AppData\\Local\\Temp\\ipykernel_3364\\2258611513.py:31: SettingWithCopyWarning: \n",
      "A value is trying to be set on a copy of a slice from a DataFrame\n",
      "\n",
      "See the caveats in the documentation: https://pandas.pydata.org/pandas-docs/stable/user_guide/indexing.html#returning-a-view-versus-a-copy\n",
      "  df['location.coordinates.lat'][i]=df1['location'][i]['coordinates'][1]\n",
      "c:\\Users\\dusng\\mambaforge\\lib\\site-packages\\geopandas\\array.py:1406: UserWarning: CRS not set for some of the concatenation inputs. Setting output's CRS as WGS 84 (the single non-null crs provided).\n",
      "  warnings.warn(\n",
      "c:\\Users\\dusng\\mambaforge\\lib\\site-packages\\geopandas\\array.py:1406: UserWarning: CRS not set for some of the concatenation inputs. Setting output's CRS as WGS 84 (the single non-null crs provided).\n",
      "  warnings.warn(\n"
     ]
    },
    {
     "name": "stdout",
     "output_type": "stream",
     "text": [
      "96\n"
     ]
    },
    {
     "name": "stderr",
     "output_type": "stream",
     "text": [
      "C:\\Users\\dusng\\AppData\\Local\\Temp\\ipykernel_3364\\2258611513.py:30: SettingWithCopyWarning: \n",
      "A value is trying to be set on a copy of a slice from a DataFrame\n",
      "\n",
      "See the caveats in the documentation: https://pandas.pydata.org/pandas-docs/stable/user_guide/indexing.html#returning-a-view-versus-a-copy\n",
      "  df['location.coordinates.lon'][i]=df1['location'][i]['coordinates'][0]\n",
      "C:\\Users\\dusng\\AppData\\Local\\Temp\\ipykernel_3364\\2258611513.py:31: SettingWithCopyWarning: \n",
      "A value is trying to be set on a copy of a slice from a DataFrame\n",
      "\n",
      "See the caveats in the documentation: https://pandas.pydata.org/pandas-docs/stable/user_guide/indexing.html#returning-a-view-versus-a-copy\n",
      "  df['location.coordinates.lat'][i]=df1['location'][i]['coordinates'][1]\n",
      "c:\\Users\\dusng\\mambaforge\\lib\\site-packages\\geopandas\\array.py:1406: UserWarning: CRS not set for some of the concatenation inputs. Setting output's CRS as WGS 84 (the single non-null crs provided).\n",
      "  warnings.warn(\n",
      "c:\\Users\\dusng\\mambaforge\\lib\\site-packages\\geopandas\\array.py:1406: UserWarning: CRS not set for some of the concatenation inputs. Setting output's CRS as WGS 84 (the single non-null crs provided).\n",
      "  warnings.warn(\n"
     ]
    },
    {
     "name": "stdout",
     "output_type": "stream",
     "text": [
      "281\n"
     ]
    },
    {
     "name": "stderr",
     "output_type": "stream",
     "text": [
      "C:\\Users\\dusng\\AppData\\Local\\Temp\\ipykernel_3364\\2258611513.py:30: SettingWithCopyWarning: \n",
      "A value is trying to be set on a copy of a slice from a DataFrame\n",
      "\n",
      "See the caveats in the documentation: https://pandas.pydata.org/pandas-docs/stable/user_guide/indexing.html#returning-a-view-versus-a-copy\n",
      "  df['location.coordinates.lon'][i]=df1['location'][i]['coordinates'][0]\n",
      "C:\\Users\\dusng\\AppData\\Local\\Temp\\ipykernel_3364\\2258611513.py:31: SettingWithCopyWarning: \n",
      "A value is trying to be set on a copy of a slice from a DataFrame\n",
      "\n",
      "See the caveats in the documentation: https://pandas.pydata.org/pandas-docs/stable/user_guide/indexing.html#returning-a-view-versus-a-copy\n",
      "  df['location.coordinates.lat'][i]=df1['location'][i]['coordinates'][1]\n",
      "c:\\Users\\dusng\\mambaforge\\lib\\site-packages\\geopandas\\array.py:1406: UserWarning: CRS not set for some of the concatenation inputs. Setting output's CRS as WGS 84 (the single non-null crs provided).\n",
      "  warnings.warn(\n",
      "c:\\Users\\dusng\\mambaforge\\lib\\site-packages\\geopandas\\array.py:1406: UserWarning: CRS not set for some of the concatenation inputs. Setting output's CRS as WGS 84 (the single non-null crs provided).\n",
      "  warnings.warn(\n"
     ]
    },
    {
     "name": "stdout",
     "output_type": "stream",
     "text": [
      "239\n"
     ]
    },
    {
     "name": "stderr",
     "output_type": "stream",
     "text": [
      "C:\\Users\\dusng\\AppData\\Local\\Temp\\ipykernel_3364\\2258611513.py:30: SettingWithCopyWarning: \n",
      "A value is trying to be set on a copy of a slice from a DataFrame\n",
      "\n",
      "See the caveats in the documentation: https://pandas.pydata.org/pandas-docs/stable/user_guide/indexing.html#returning-a-view-versus-a-copy\n",
      "  df['location.coordinates.lon'][i]=df1['location'][i]['coordinates'][0]\n",
      "C:\\Users\\dusng\\AppData\\Local\\Temp\\ipykernel_3364\\2258611513.py:31: SettingWithCopyWarning: \n",
      "A value is trying to be set on a copy of a slice from a DataFrame\n",
      "\n",
      "See the caveats in the documentation: https://pandas.pydata.org/pandas-docs/stable/user_guide/indexing.html#returning-a-view-versus-a-copy\n",
      "  df['location.coordinates.lat'][i]=df1['location'][i]['coordinates'][1]\n",
      "c:\\Users\\dusng\\mambaforge\\lib\\site-packages\\geopandas\\array.py:1406: UserWarning: CRS not set for some of the concatenation inputs. Setting output's CRS as WGS 84 (the single non-null crs provided).\n",
      "  warnings.warn(\n",
      "c:\\Users\\dusng\\mambaforge\\lib\\site-packages\\geopandas\\array.py:1406: UserWarning: CRS not set for some of the concatenation inputs. Setting output's CRS as WGS 84 (the single non-null crs provided).\n",
      "  warnings.warn(\n"
     ]
    },
    {
     "name": "stdout",
     "output_type": "stream",
     "text": [
      "349\n",
      "176\n"
     ]
    },
    {
     "name": "stderr",
     "output_type": "stream",
     "text": [
      "C:\\Users\\dusng\\AppData\\Local\\Temp\\ipykernel_3364\\2258611513.py:30: SettingWithCopyWarning: \n",
      "A value is trying to be set on a copy of a slice from a DataFrame\n",
      "\n",
      "See the caveats in the documentation: https://pandas.pydata.org/pandas-docs/stable/user_guide/indexing.html#returning-a-view-versus-a-copy\n",
      "  df['location.coordinates.lon'][i]=df1['location'][i]['coordinates'][0]\n",
      "C:\\Users\\dusng\\AppData\\Local\\Temp\\ipykernel_3364\\2258611513.py:31: SettingWithCopyWarning: \n",
      "A value is trying to be set on a copy of a slice from a DataFrame\n",
      "\n",
      "See the caveats in the documentation: https://pandas.pydata.org/pandas-docs/stable/user_guide/indexing.html#returning-a-view-versus-a-copy\n",
      "  df['location.coordinates.lat'][i]=df1['location'][i]['coordinates'][1]\n",
      "c:\\Users\\dusng\\mambaforge\\lib\\site-packages\\geopandas\\array.py:1406: UserWarning: CRS not set for some of the concatenation inputs. Setting output's CRS as WGS 84 (the single non-null crs provided).\n",
      "  warnings.warn(\n",
      "c:\\Users\\dusng\\mambaforge\\lib\\site-packages\\geopandas\\array.py:1406: UserWarning: CRS not set for some of the concatenation inputs. Setting output's CRS as WGS 84 (the single non-null crs provided).\n",
      "  warnings.warn(\n",
      "C:\\Users\\dusng\\AppData\\Local\\Temp\\ipykernel_3364\\2258611513.py:30: SettingWithCopyWarning: \n",
      "A value is trying to be set on a copy of a slice from a DataFrame\n",
      "\n",
      "See the caveats in the documentation: https://pandas.pydata.org/pandas-docs/stable/user_guide/indexing.html#returning-a-view-versus-a-copy\n",
      "  df['location.coordinates.lon'][i]=df1['location'][i]['coordinates'][0]\n",
      "C:\\Users\\dusng\\AppData\\Local\\Temp\\ipykernel_3364\\2258611513.py:31: SettingWithCopyWarning: \n",
      "A value is trying to be set on a copy of a slice from a DataFrame\n",
      "\n",
      "See the caveats in the documentation: https://pandas.pydata.org/pandas-docs/stable/user_guide/indexing.html#returning-a-view-versus-a-copy\n",
      "  df['location.coordinates.lat'][i]=df1['location'][i]['coordinates'][1]\n",
      "c:\\Users\\dusng\\mambaforge\\lib\\site-packages\\geopandas\\array.py:1406: UserWarning: CRS not set for some of the concatenation inputs. Setting output's CRS as WGS 84 (the single non-null crs provided).\n",
      "  warnings.warn(\n",
      "c:\\Users\\dusng\\mambaforge\\lib\\site-packages\\geopandas\\array.py:1406: UserWarning: CRS not set for some of the concatenation inputs. Setting output's CRS as WGS 84 (the single non-null crs provided).\n",
      "  warnings.warn(\n"
     ]
    },
    {
     "name": "stdout",
     "output_type": "stream",
     "text": [
      "106\n"
     ]
    },
    {
     "name": "stderr",
     "output_type": "stream",
     "text": [
      "C:\\Users\\dusng\\AppData\\Local\\Temp\\ipykernel_3364\\2258611513.py:30: SettingWithCopyWarning: \n",
      "A value is trying to be set on a copy of a slice from a DataFrame\n",
      "\n",
      "See the caveats in the documentation: https://pandas.pydata.org/pandas-docs/stable/user_guide/indexing.html#returning-a-view-versus-a-copy\n",
      "  df['location.coordinates.lon'][i]=df1['location'][i]['coordinates'][0]\n",
      "C:\\Users\\dusng\\AppData\\Local\\Temp\\ipykernel_3364\\2258611513.py:31: SettingWithCopyWarning: \n",
      "A value is trying to be set on a copy of a slice from a DataFrame\n",
      "\n",
      "See the caveats in the documentation: https://pandas.pydata.org/pandas-docs/stable/user_guide/indexing.html#returning-a-view-versus-a-copy\n",
      "  df['location.coordinates.lat'][i]=df1['location'][i]['coordinates'][1]\n",
      "c:\\Users\\dusng\\mambaforge\\lib\\site-packages\\geopandas\\array.py:1406: UserWarning: CRS not set for some of the concatenation inputs. Setting output's CRS as WGS 84 (the single non-null crs provided).\n",
      "  warnings.warn(\n",
      "c:\\Users\\dusng\\mambaforge\\lib\\site-packages\\geopandas\\array.py:1406: UserWarning: CRS not set for some of the concatenation inputs. Setting output's CRS as WGS 84 (the single non-null crs provided).\n",
      "  warnings.warn(\n"
     ]
    },
    {
     "name": "stdout",
     "output_type": "stream",
     "text": [
      "140\n"
     ]
    },
    {
     "name": "stderr",
     "output_type": "stream",
     "text": [
      "C:\\Users\\dusng\\AppData\\Local\\Temp\\ipykernel_3364\\2258611513.py:30: SettingWithCopyWarning: \n",
      "A value is trying to be set on a copy of a slice from a DataFrame\n",
      "\n",
      "See the caveats in the documentation: https://pandas.pydata.org/pandas-docs/stable/user_guide/indexing.html#returning-a-view-versus-a-copy\n",
      "  df['location.coordinates.lon'][i]=df1['location'][i]['coordinates'][0]\n",
      "C:\\Users\\dusng\\AppData\\Local\\Temp\\ipykernel_3364\\2258611513.py:31: SettingWithCopyWarning: \n",
      "A value is trying to be set on a copy of a slice from a DataFrame\n",
      "\n",
      "See the caveats in the documentation: https://pandas.pydata.org/pandas-docs/stable/user_guide/indexing.html#returning-a-view-versus-a-copy\n",
      "  df['location.coordinates.lat'][i]=df1['location'][i]['coordinates'][1]\n",
      "c:\\Users\\dusng\\mambaforge\\lib\\site-packages\\geopandas\\array.py:1406: UserWarning: CRS not set for some of the concatenation inputs. Setting output's CRS as WGS 84 (the single non-null crs provided).\n",
      "  warnings.warn(\n",
      "c:\\Users\\dusng\\mambaforge\\lib\\site-packages\\geopandas\\array.py:1406: UserWarning: CRS not set for some of the concatenation inputs. Setting output's CRS as WGS 84 (the single non-null crs provided).\n",
      "  warnings.warn(\n"
     ]
    },
    {
     "name": "stdout",
     "output_type": "stream",
     "text": [
      "136\n"
     ]
    },
    {
     "name": "stderr",
     "output_type": "stream",
     "text": [
      "C:\\Users\\dusng\\AppData\\Local\\Temp\\ipykernel_3364\\2258611513.py:30: SettingWithCopyWarning: \n",
      "A value is trying to be set on a copy of a slice from a DataFrame\n",
      "\n",
      "See the caveats in the documentation: https://pandas.pydata.org/pandas-docs/stable/user_guide/indexing.html#returning-a-view-versus-a-copy\n",
      "  df['location.coordinates.lon'][i]=df1['location'][i]['coordinates'][0]\n",
      "C:\\Users\\dusng\\AppData\\Local\\Temp\\ipykernel_3364\\2258611513.py:31: SettingWithCopyWarning: \n",
      "A value is trying to be set on a copy of a slice from a DataFrame\n",
      "\n",
      "See the caveats in the documentation: https://pandas.pydata.org/pandas-docs/stable/user_guide/indexing.html#returning-a-view-versus-a-copy\n",
      "  df['location.coordinates.lat'][i]=df1['location'][i]['coordinates'][1]\n",
      "c:\\Users\\dusng\\mambaforge\\lib\\site-packages\\geopandas\\array.py:1406: UserWarning: CRS not set for some of the concatenation inputs. Setting output's CRS as WGS 84 (the single non-null crs provided).\n",
      "  warnings.warn(\n",
      "c:\\Users\\dusng\\mambaforge\\lib\\site-packages\\geopandas\\array.py:1406: UserWarning: CRS not set for some of the concatenation inputs. Setting output's CRS as WGS 84 (the single non-null crs provided).\n",
      "  warnings.warn(\n"
     ]
    },
    {
     "name": "stdout",
     "output_type": "stream",
     "text": [
      "101\n"
     ]
    },
    {
     "name": "stderr",
     "output_type": "stream",
     "text": [
      "C:\\Users\\dusng\\AppData\\Local\\Temp\\ipykernel_3364\\2258611513.py:30: SettingWithCopyWarning: \n",
      "A value is trying to be set on a copy of a slice from a DataFrame\n",
      "\n",
      "See the caveats in the documentation: https://pandas.pydata.org/pandas-docs/stable/user_guide/indexing.html#returning-a-view-versus-a-copy\n",
      "  df['location.coordinates.lon'][i]=df1['location'][i]['coordinates'][0]\n",
      "C:\\Users\\dusng\\AppData\\Local\\Temp\\ipykernel_3364\\2258611513.py:31: SettingWithCopyWarning: \n",
      "A value is trying to be set on a copy of a slice from a DataFrame\n",
      "\n",
      "See the caveats in the documentation: https://pandas.pydata.org/pandas-docs/stable/user_guide/indexing.html#returning-a-view-versus-a-copy\n",
      "  df['location.coordinates.lat'][i]=df1['location'][i]['coordinates'][1]\n",
      "c:\\Users\\dusng\\mambaforge\\lib\\site-packages\\geopandas\\array.py:1406: UserWarning: CRS not set for some of the concatenation inputs. Setting output's CRS as WGS 84 (the single non-null crs provided).\n",
      "  warnings.warn(\n",
      "c:\\Users\\dusng\\mambaforge\\lib\\site-packages\\geopandas\\array.py:1406: UserWarning: CRS not set for some of the concatenation inputs. Setting output's CRS as WGS 84 (the single non-null crs provided).\n",
      "  warnings.warn(\n"
     ]
    },
    {
     "name": "stdout",
     "output_type": "stream",
     "text": [
      "309\n",
      "99\n"
     ]
    },
    {
     "name": "stderr",
     "output_type": "stream",
     "text": [
      "C:\\Users\\dusng\\AppData\\Local\\Temp\\ipykernel_3364\\2258611513.py:30: SettingWithCopyWarning: \n",
      "A value is trying to be set on a copy of a slice from a DataFrame\n",
      "\n",
      "See the caveats in the documentation: https://pandas.pydata.org/pandas-docs/stable/user_guide/indexing.html#returning-a-view-versus-a-copy\n",
      "  df['location.coordinates.lon'][i]=df1['location'][i]['coordinates'][0]\n",
      "C:\\Users\\dusng\\AppData\\Local\\Temp\\ipykernel_3364\\2258611513.py:31: SettingWithCopyWarning: \n",
      "A value is trying to be set on a copy of a slice from a DataFrame\n",
      "\n",
      "See the caveats in the documentation: https://pandas.pydata.org/pandas-docs/stable/user_guide/indexing.html#returning-a-view-versus-a-copy\n",
      "  df['location.coordinates.lat'][i]=df1['location'][i]['coordinates'][1]\n",
      "c:\\Users\\dusng\\mambaforge\\lib\\site-packages\\geopandas\\array.py:1406: UserWarning: CRS not set for some of the concatenation inputs. Setting output's CRS as WGS 84 (the single non-null crs provided).\n",
      "  warnings.warn(\n",
      "c:\\Users\\dusng\\mambaforge\\lib\\site-packages\\geopandas\\array.py:1406: UserWarning: CRS not set for some of the concatenation inputs. Setting output's CRS as WGS 84 (the single non-null crs provided).\n",
      "  warnings.warn(\n",
      "C:\\Users\\dusng\\AppData\\Local\\Temp\\ipykernel_3364\\2258611513.py:30: SettingWithCopyWarning: \n",
      "A value is trying to be set on a copy of a slice from a DataFrame\n",
      "\n",
      "See the caveats in the documentation: https://pandas.pydata.org/pandas-docs/stable/user_guide/indexing.html#returning-a-view-versus-a-copy\n",
      "  df['location.coordinates.lon'][i]=df1['location'][i]['coordinates'][0]\n",
      "C:\\Users\\dusng\\AppData\\Local\\Temp\\ipykernel_3364\\2258611513.py:31: SettingWithCopyWarning: \n",
      "A value is trying to be set on a copy of a slice from a DataFrame\n",
      "\n",
      "See the caveats in the documentation: https://pandas.pydata.org/pandas-docs/stable/user_guide/indexing.html#returning-a-view-versus-a-copy\n",
      "  df['location.coordinates.lat'][i]=df1['location'][i]['coordinates'][1]\n",
      "c:\\Users\\dusng\\mambaforge\\lib\\site-packages\\geopandas\\array.py:1406: UserWarning: CRS not set for some of the concatenation inputs. Setting output's CRS as WGS 84 (the single non-null crs provided).\n",
      "  warnings.warn(\n",
      "c:\\Users\\dusng\\mambaforge\\lib\\site-packages\\geopandas\\array.py:1406: UserWarning: CRS not set for some of the concatenation inputs. Setting output's CRS as WGS 84 (the single non-null crs provided).\n",
      "  warnings.warn(\n"
     ]
    },
    {
     "name": "stdout",
     "output_type": "stream",
     "text": [
      "8\n"
     ]
    },
    {
     "name": "stderr",
     "output_type": "stream",
     "text": [
      "C:\\Users\\dusng\\AppData\\Local\\Temp\\ipykernel_3364\\2258611513.py:30: SettingWithCopyWarning: \n",
      "A value is trying to be set on a copy of a slice from a DataFrame\n",
      "\n",
      "See the caveats in the documentation: https://pandas.pydata.org/pandas-docs/stable/user_guide/indexing.html#returning-a-view-versus-a-copy\n",
      "  df['location.coordinates.lon'][i]=df1['location'][i]['coordinates'][0]\n",
      "C:\\Users\\dusng\\AppData\\Local\\Temp\\ipykernel_3364\\2258611513.py:31: SettingWithCopyWarning: \n",
      "A value is trying to be set on a copy of a slice from a DataFrame\n",
      "\n",
      "See the caveats in the documentation: https://pandas.pydata.org/pandas-docs/stable/user_guide/indexing.html#returning-a-view-versus-a-copy\n",
      "  df['location.coordinates.lat'][i]=df1['location'][i]['coordinates'][1]\n",
      "c:\\Users\\dusng\\mambaforge\\lib\\site-packages\\geopandas\\array.py:1406: UserWarning: CRS not set for some of the concatenation inputs. Setting output's CRS as WGS 84 (the single non-null crs provided).\n",
      "  warnings.warn(\n",
      "c:\\Users\\dusng\\mambaforge\\lib\\site-packages\\geopandas\\array.py:1406: UserWarning: CRS not set for some of the concatenation inputs. Setting output's CRS as WGS 84 (the single non-null crs provided).\n",
      "  warnings.warn(\n"
     ]
    },
    {
     "name": "stdout",
     "output_type": "stream",
     "text": [
      "19\n"
     ]
    },
    {
     "name": "stderr",
     "output_type": "stream",
     "text": [
      "C:\\Users\\dusng\\AppData\\Local\\Temp\\ipykernel_3364\\2258611513.py:30: SettingWithCopyWarning: \n",
      "A value is trying to be set on a copy of a slice from a DataFrame\n",
      "\n",
      "See the caveats in the documentation: https://pandas.pydata.org/pandas-docs/stable/user_guide/indexing.html#returning-a-view-versus-a-copy\n",
      "  df['location.coordinates.lon'][i]=df1['location'][i]['coordinates'][0]\n",
      "C:\\Users\\dusng\\AppData\\Local\\Temp\\ipykernel_3364\\2258611513.py:31: SettingWithCopyWarning: \n",
      "A value is trying to be set on a copy of a slice from a DataFrame\n",
      "\n",
      "See the caveats in the documentation: https://pandas.pydata.org/pandas-docs/stable/user_guide/indexing.html#returning-a-view-versus-a-copy\n",
      "  df['location.coordinates.lat'][i]=df1['location'][i]['coordinates'][1]\n",
      "c:\\Users\\dusng\\mambaforge\\lib\\site-packages\\geopandas\\array.py:1406: UserWarning: CRS not set for some of the concatenation inputs. Setting output's CRS as WGS 84 (the single non-null crs provided).\n",
      "  warnings.warn(\n",
      "c:\\Users\\dusng\\mambaforge\\lib\\site-packages\\geopandas\\array.py:1406: UserWarning: CRS not set for some of the concatenation inputs. Setting output's CRS as WGS 84 (the single non-null crs provided).\n",
      "  warnings.warn(\n"
     ]
    },
    {
     "name": "stdout",
     "output_type": "stream",
     "text": [
      "39\n"
     ]
    },
    {
     "name": "stderr",
     "output_type": "stream",
     "text": [
      "C:\\Users\\dusng\\AppData\\Local\\Temp\\ipykernel_3364\\2258611513.py:30: SettingWithCopyWarning: \n",
      "A value is trying to be set on a copy of a slice from a DataFrame\n",
      "\n",
      "See the caveats in the documentation: https://pandas.pydata.org/pandas-docs/stable/user_guide/indexing.html#returning-a-view-versus-a-copy\n",
      "  df['location.coordinates.lon'][i]=df1['location'][i]['coordinates'][0]\n",
      "C:\\Users\\dusng\\AppData\\Local\\Temp\\ipykernel_3364\\2258611513.py:31: SettingWithCopyWarning: \n",
      "A value is trying to be set on a copy of a slice from a DataFrame\n",
      "\n",
      "See the caveats in the documentation: https://pandas.pydata.org/pandas-docs/stable/user_guide/indexing.html#returning-a-view-versus-a-copy\n",
      "  df['location.coordinates.lat'][i]=df1['location'][i]['coordinates'][1]\n",
      "c:\\Users\\dusng\\mambaforge\\lib\\site-packages\\geopandas\\array.py:1406: UserWarning: CRS not set for some of the concatenation inputs. Setting output's CRS as WGS 84 (the single non-null crs provided).\n",
      "  warnings.warn(\n",
      "c:\\Users\\dusng\\mambaforge\\lib\\site-packages\\geopandas\\array.py:1406: UserWarning: CRS not set for some of the concatenation inputs. Setting output's CRS as WGS 84 (the single non-null crs provided).\n",
      "  warnings.warn(\n"
     ]
    },
    {
     "name": "stdout",
     "output_type": "stream",
     "text": [
      "24\n"
     ]
    },
    {
     "name": "stderr",
     "output_type": "stream",
     "text": [
      "C:\\Users\\dusng\\AppData\\Local\\Temp\\ipykernel_3364\\2258611513.py:30: SettingWithCopyWarning: \n",
      "A value is trying to be set on a copy of a slice from a DataFrame\n",
      "\n",
      "See the caveats in the documentation: https://pandas.pydata.org/pandas-docs/stable/user_guide/indexing.html#returning-a-view-versus-a-copy\n",
      "  df['location.coordinates.lon'][i]=df1['location'][i]['coordinates'][0]\n",
      "C:\\Users\\dusng\\AppData\\Local\\Temp\\ipykernel_3364\\2258611513.py:31: SettingWithCopyWarning: \n",
      "A value is trying to be set on a copy of a slice from a DataFrame\n",
      "\n",
      "See the caveats in the documentation: https://pandas.pydata.org/pandas-docs/stable/user_guide/indexing.html#returning-a-view-versus-a-copy\n",
      "  df['location.coordinates.lat'][i]=df1['location'][i]['coordinates'][1]\n",
      "c:\\Users\\dusng\\mambaforge\\lib\\site-packages\\geopandas\\array.py:1406: UserWarning: CRS not set for some of the concatenation inputs. Setting output's CRS as WGS 84 (the single non-null crs provided).\n",
      "  warnings.warn(\n",
      "c:\\Users\\dusng\\mambaforge\\lib\\site-packages\\geopandas\\array.py:1406: UserWarning: CRS not set for some of the concatenation inputs. Setting output's CRS as WGS 84 (the single non-null crs provided).\n",
      "  warnings.warn(\n"
     ]
    },
    {
     "name": "stdout",
     "output_type": "stream",
     "text": [
      "186\n"
     ]
    },
    {
     "name": "stderr",
     "output_type": "stream",
     "text": [
      "C:\\Users\\dusng\\AppData\\Local\\Temp\\ipykernel_3364\\2258611513.py:30: SettingWithCopyWarning: \n",
      "A value is trying to be set on a copy of a slice from a DataFrame\n",
      "\n",
      "See the caveats in the documentation: https://pandas.pydata.org/pandas-docs/stable/user_guide/indexing.html#returning-a-view-versus-a-copy\n",
      "  df['location.coordinates.lon'][i]=df1['location'][i]['coordinates'][0]\n",
      "C:\\Users\\dusng\\AppData\\Local\\Temp\\ipykernel_3364\\2258611513.py:31: SettingWithCopyWarning: \n",
      "A value is trying to be set on a copy of a slice from a DataFrame\n",
      "\n",
      "See the caveats in the documentation: https://pandas.pydata.org/pandas-docs/stable/user_guide/indexing.html#returning-a-view-versus-a-copy\n",
      "  df['location.coordinates.lat'][i]=df1['location'][i]['coordinates'][1]\n",
      "c:\\Users\\dusng\\mambaforge\\lib\\site-packages\\geopandas\\array.py:1406: UserWarning: CRS not set for some of the concatenation inputs. Setting output's CRS as WGS 84 (the single non-null crs provided).\n",
      "  warnings.warn(\n",
      "c:\\Users\\dusng\\mambaforge\\lib\\site-packages\\geopandas\\array.py:1406: UserWarning: CRS not set for some of the concatenation inputs. Setting output's CRS as WGS 84 (the single non-null crs provided).\n",
      "  warnings.warn(\n"
     ]
    },
    {
     "name": "stdout",
     "output_type": "stream",
     "text": [
      "51\n"
     ]
    },
    {
     "name": "stderr",
     "output_type": "stream",
     "text": [
      "C:\\Users\\dusng\\AppData\\Local\\Temp\\ipykernel_3364\\2258611513.py:30: SettingWithCopyWarning: \n",
      "A value is trying to be set on a copy of a slice from a DataFrame\n",
      "\n",
      "See the caveats in the documentation: https://pandas.pydata.org/pandas-docs/stable/user_guide/indexing.html#returning-a-view-versus-a-copy\n",
      "  df['location.coordinates.lon'][i]=df1['location'][i]['coordinates'][0]\n",
      "C:\\Users\\dusng\\AppData\\Local\\Temp\\ipykernel_3364\\2258611513.py:31: SettingWithCopyWarning: \n",
      "A value is trying to be set on a copy of a slice from a DataFrame\n",
      "\n",
      "See the caveats in the documentation: https://pandas.pydata.org/pandas-docs/stable/user_guide/indexing.html#returning-a-view-versus-a-copy\n",
      "  df['location.coordinates.lat'][i]=df1['location'][i]['coordinates'][1]\n",
      "c:\\Users\\dusng\\mambaforge\\lib\\site-packages\\geopandas\\array.py:1406: UserWarning: CRS not set for some of the concatenation inputs. Setting output's CRS as WGS 84 (the single non-null crs provided).\n",
      "  warnings.warn(\n",
      "c:\\Users\\dusng\\mambaforge\\lib\\site-packages\\geopandas\\array.py:1406: UserWarning: CRS not set for some of the concatenation inputs. Setting output's CRS as WGS 84 (the single non-null crs provided).\n",
      "  warnings.warn(\n"
     ]
    },
    {
     "name": "stdout",
     "output_type": "stream",
     "text": [
      "179\n"
     ]
    },
    {
     "name": "stderr",
     "output_type": "stream",
     "text": [
      "C:\\Users\\dusng\\AppData\\Local\\Temp\\ipykernel_3364\\2258611513.py:30: SettingWithCopyWarning: \n",
      "A value is trying to be set on a copy of a slice from a DataFrame\n",
      "\n",
      "See the caveats in the documentation: https://pandas.pydata.org/pandas-docs/stable/user_guide/indexing.html#returning-a-view-versus-a-copy\n",
      "  df['location.coordinates.lon'][i]=df1['location'][i]['coordinates'][0]\n",
      "C:\\Users\\dusng\\AppData\\Local\\Temp\\ipykernel_3364\\2258611513.py:31: SettingWithCopyWarning: \n",
      "A value is trying to be set on a copy of a slice from a DataFrame\n",
      "\n",
      "See the caveats in the documentation: https://pandas.pydata.org/pandas-docs/stable/user_guide/indexing.html#returning-a-view-versus-a-copy\n",
      "  df['location.coordinates.lat'][i]=df1['location'][i]['coordinates'][1]\n",
      "c:\\Users\\dusng\\mambaforge\\lib\\site-packages\\geopandas\\array.py:1406: UserWarning: CRS not set for some of the concatenation inputs. Setting output's CRS as WGS 84 (the single non-null crs provided).\n",
      "  warnings.warn(\n",
      "c:\\Users\\dusng\\mambaforge\\lib\\site-packages\\geopandas\\array.py:1406: UserWarning: CRS not set for some of the concatenation inputs. Setting output's CRS as WGS 84 (the single non-null crs provided).\n",
      "  warnings.warn(\n"
     ]
    },
    {
     "name": "stdout",
     "output_type": "stream",
     "text": [
      "222\n"
     ]
    },
    {
     "name": "stderr",
     "output_type": "stream",
     "text": [
      "C:\\Users\\dusng\\AppData\\Local\\Temp\\ipykernel_3364\\2258611513.py:30: SettingWithCopyWarning: \n",
      "A value is trying to be set on a copy of a slice from a DataFrame\n",
      "\n",
      "See the caveats in the documentation: https://pandas.pydata.org/pandas-docs/stable/user_guide/indexing.html#returning-a-view-versus-a-copy\n",
      "  df['location.coordinates.lon'][i]=df1['location'][i]['coordinates'][0]\n",
      "C:\\Users\\dusng\\AppData\\Local\\Temp\\ipykernel_3364\\2258611513.py:31: SettingWithCopyWarning: \n",
      "A value is trying to be set on a copy of a slice from a DataFrame\n",
      "\n",
      "See the caveats in the documentation: https://pandas.pydata.org/pandas-docs/stable/user_guide/indexing.html#returning-a-view-versus-a-copy\n",
      "  df['location.coordinates.lat'][i]=df1['location'][i]['coordinates'][1]\n",
      "c:\\Users\\dusng\\mambaforge\\lib\\site-packages\\geopandas\\array.py:1406: UserWarning: CRS not set for some of the concatenation inputs. Setting output's CRS as WGS 84 (the single non-null crs provided).\n",
      "  warnings.warn(\n",
      "c:\\Users\\dusng\\mambaforge\\lib\\site-packages\\geopandas\\array.py:1406: UserWarning: CRS not set for some of the concatenation inputs. Setting output's CRS as WGS 84 (the single non-null crs provided).\n",
      "  warnings.warn(\n"
     ]
    },
    {
     "name": "stdout",
     "output_type": "stream",
     "text": [
      "205\n"
     ]
    },
    {
     "name": "stderr",
     "output_type": "stream",
     "text": [
      "C:\\Users\\dusng\\AppData\\Local\\Temp\\ipykernel_3364\\2258611513.py:30: SettingWithCopyWarning: \n",
      "A value is trying to be set on a copy of a slice from a DataFrame\n",
      "\n",
      "See the caveats in the documentation: https://pandas.pydata.org/pandas-docs/stable/user_guide/indexing.html#returning-a-view-versus-a-copy\n",
      "  df['location.coordinates.lon'][i]=df1['location'][i]['coordinates'][0]\n",
      "C:\\Users\\dusng\\AppData\\Local\\Temp\\ipykernel_3364\\2258611513.py:31: SettingWithCopyWarning: \n",
      "A value is trying to be set on a copy of a slice from a DataFrame\n",
      "\n",
      "See the caveats in the documentation: https://pandas.pydata.org/pandas-docs/stable/user_guide/indexing.html#returning-a-view-versus-a-copy\n",
      "  df['location.coordinates.lat'][i]=df1['location'][i]['coordinates'][1]\n",
      "c:\\Users\\dusng\\mambaforge\\lib\\site-packages\\geopandas\\array.py:1406: UserWarning: CRS not set for some of the concatenation inputs. Setting output's CRS as WGS 84 (the single non-null crs provided).\n",
      "  warnings.warn(\n",
      "c:\\Users\\dusng\\mambaforge\\lib\\site-packages\\geopandas\\array.py:1406: UserWarning: CRS not set for some of the concatenation inputs. Setting output's CRS as WGS 84 (the single non-null crs provided).\n",
      "  warnings.warn(\n"
     ]
    },
    {
     "name": "stdout",
     "output_type": "stream",
     "text": [
      "37\n"
     ]
    },
    {
     "name": "stderr",
     "output_type": "stream",
     "text": [
      "C:\\Users\\dusng\\AppData\\Local\\Temp\\ipykernel_3364\\2258611513.py:30: SettingWithCopyWarning: \n",
      "A value is trying to be set on a copy of a slice from a DataFrame\n",
      "\n",
      "See the caveats in the documentation: https://pandas.pydata.org/pandas-docs/stable/user_guide/indexing.html#returning-a-view-versus-a-copy\n",
      "  df['location.coordinates.lon'][i]=df1['location'][i]['coordinates'][0]\n",
      "C:\\Users\\dusng\\AppData\\Local\\Temp\\ipykernel_3364\\2258611513.py:31: SettingWithCopyWarning: \n",
      "A value is trying to be set on a copy of a slice from a DataFrame\n",
      "\n",
      "See the caveats in the documentation: https://pandas.pydata.org/pandas-docs/stable/user_guide/indexing.html#returning-a-view-versus-a-copy\n",
      "  df['location.coordinates.lat'][i]=df1['location'][i]['coordinates'][1]\n",
      "c:\\Users\\dusng\\mambaforge\\lib\\site-packages\\geopandas\\array.py:1406: UserWarning: CRS not set for some of the concatenation inputs. Setting output's CRS as WGS 84 (the single non-null crs provided).\n",
      "  warnings.warn(\n",
      "c:\\Users\\dusng\\mambaforge\\lib\\site-packages\\geopandas\\array.py:1406: UserWarning: CRS not set for some of the concatenation inputs. Setting output's CRS as WGS 84 (the single non-null crs provided).\n",
      "  warnings.warn(\n"
     ]
    },
    {
     "name": "stdout",
     "output_type": "stream",
     "text": [
      "48\n"
     ]
    },
    {
     "name": "stderr",
     "output_type": "stream",
     "text": [
      "C:\\Users\\dusng\\AppData\\Local\\Temp\\ipykernel_3364\\2258611513.py:30: SettingWithCopyWarning: \n",
      "A value is trying to be set on a copy of a slice from a DataFrame\n",
      "\n",
      "See the caveats in the documentation: https://pandas.pydata.org/pandas-docs/stable/user_guide/indexing.html#returning-a-view-versus-a-copy\n",
      "  df['location.coordinates.lon'][i]=df1['location'][i]['coordinates'][0]\n",
      "C:\\Users\\dusng\\AppData\\Local\\Temp\\ipykernel_3364\\2258611513.py:31: SettingWithCopyWarning: \n",
      "A value is trying to be set on a copy of a slice from a DataFrame\n",
      "\n",
      "See the caveats in the documentation: https://pandas.pydata.org/pandas-docs/stable/user_guide/indexing.html#returning-a-view-versus-a-copy\n",
      "  df['location.coordinates.lat'][i]=df1['location'][i]['coordinates'][1]\n",
      "c:\\Users\\dusng\\mambaforge\\lib\\site-packages\\geopandas\\array.py:1406: UserWarning: CRS not set for some of the concatenation inputs. Setting output's CRS as WGS 84 (the single non-null crs provided).\n",
      "  warnings.warn(\n",
      "c:\\Users\\dusng\\mambaforge\\lib\\site-packages\\geopandas\\array.py:1406: UserWarning: CRS not set for some of the concatenation inputs. Setting output's CRS as WGS 84 (the single non-null crs provided).\n",
      "  warnings.warn(\n"
     ]
    },
    {
     "name": "stdout",
     "output_type": "stream",
     "text": [
      "187\n"
     ]
    },
    {
     "name": "stderr",
     "output_type": "stream",
     "text": [
      "C:\\Users\\dusng\\AppData\\Local\\Temp\\ipykernel_3364\\2258611513.py:30: SettingWithCopyWarning: \n",
      "A value is trying to be set on a copy of a slice from a DataFrame\n",
      "\n",
      "See the caveats in the documentation: https://pandas.pydata.org/pandas-docs/stable/user_guide/indexing.html#returning-a-view-versus-a-copy\n",
      "  df['location.coordinates.lon'][i]=df1['location'][i]['coordinates'][0]\n",
      "C:\\Users\\dusng\\AppData\\Local\\Temp\\ipykernel_3364\\2258611513.py:31: SettingWithCopyWarning: \n",
      "A value is trying to be set on a copy of a slice from a DataFrame\n",
      "\n",
      "See the caveats in the documentation: https://pandas.pydata.org/pandas-docs/stable/user_guide/indexing.html#returning-a-view-versus-a-copy\n",
      "  df['location.coordinates.lat'][i]=df1['location'][i]['coordinates'][1]\n",
      "c:\\Users\\dusng\\mambaforge\\lib\\site-packages\\geopandas\\array.py:1406: UserWarning: CRS not set for some of the concatenation inputs. Setting output's CRS as WGS 84 (the single non-null crs provided).\n",
      "  warnings.warn(\n",
      "c:\\Users\\dusng\\mambaforge\\lib\\site-packages\\geopandas\\array.py:1406: UserWarning: CRS not set for some of the concatenation inputs. Setting output's CRS as WGS 84 (the single non-null crs provided).\n",
      "  warnings.warn(\n"
     ]
    },
    {
     "name": "stdout",
     "output_type": "stream",
     "text": [
      "350\n"
     ]
    },
    {
     "name": "stderr",
     "output_type": "stream",
     "text": [
      "C:\\Users\\dusng\\AppData\\Local\\Temp\\ipykernel_3364\\2258611513.py:30: SettingWithCopyWarning: \n",
      "A value is trying to be set on a copy of a slice from a DataFrame\n",
      "\n",
      "See the caveats in the documentation: https://pandas.pydata.org/pandas-docs/stable/user_guide/indexing.html#returning-a-view-versus-a-copy\n",
      "  df['location.coordinates.lon'][i]=df1['location'][i]['coordinates'][0]\n",
      "C:\\Users\\dusng\\AppData\\Local\\Temp\\ipykernel_3364\\2258611513.py:31: SettingWithCopyWarning: \n",
      "A value is trying to be set on a copy of a slice from a DataFrame\n",
      "\n",
      "See the caveats in the documentation: https://pandas.pydata.org/pandas-docs/stable/user_guide/indexing.html#returning-a-view-versus-a-copy\n",
      "  df['location.coordinates.lat'][i]=df1['location'][i]['coordinates'][1]\n",
      "c:\\Users\\dusng\\mambaforge\\lib\\site-packages\\geopandas\\array.py:1406: UserWarning: CRS not set for some of the concatenation inputs. Setting output's CRS as WGS 84 (the single non-null crs provided).\n",
      "  warnings.warn(\n",
      "c:\\Users\\dusng\\mambaforge\\lib\\site-packages\\geopandas\\array.py:1406: UserWarning: CRS not set for some of the concatenation inputs. Setting output's CRS as WGS 84 (the single non-null crs provided).\n",
      "  warnings.warn(\n"
     ]
    },
    {
     "name": "stdout",
     "output_type": "stream",
     "text": [
      "134\n"
     ]
    },
    {
     "name": "stderr",
     "output_type": "stream",
     "text": [
      "C:\\Users\\dusng\\AppData\\Local\\Temp\\ipykernel_3364\\2258611513.py:30: SettingWithCopyWarning: \n",
      "A value is trying to be set on a copy of a slice from a DataFrame\n",
      "\n",
      "See the caveats in the documentation: https://pandas.pydata.org/pandas-docs/stable/user_guide/indexing.html#returning-a-view-versus-a-copy\n",
      "  df['location.coordinates.lon'][i]=df1['location'][i]['coordinates'][0]\n",
      "C:\\Users\\dusng\\AppData\\Local\\Temp\\ipykernel_3364\\2258611513.py:31: SettingWithCopyWarning: \n",
      "A value is trying to be set on a copy of a slice from a DataFrame\n",
      "\n",
      "See the caveats in the documentation: https://pandas.pydata.org/pandas-docs/stable/user_guide/indexing.html#returning-a-view-versus-a-copy\n",
      "  df['location.coordinates.lat'][i]=df1['location'][i]['coordinates'][1]\n",
      "c:\\Users\\dusng\\mambaforge\\lib\\site-packages\\geopandas\\array.py:1406: UserWarning: CRS not set for some of the concatenation inputs. Setting output's CRS as WGS 84 (the single non-null crs provided).\n",
      "  warnings.warn(\n",
      "c:\\Users\\dusng\\mambaforge\\lib\\site-packages\\geopandas\\array.py:1406: UserWarning: CRS not set for some of the concatenation inputs. Setting output's CRS as WGS 84 (the single non-null crs provided).\n",
      "  warnings.warn(\n"
     ]
    },
    {
     "name": "stdout",
     "output_type": "stream",
     "text": [
      "173\n"
     ]
    },
    {
     "name": "stderr",
     "output_type": "stream",
     "text": [
      "C:\\Users\\dusng\\AppData\\Local\\Temp\\ipykernel_3364\\2258611513.py:30: SettingWithCopyWarning: \n",
      "A value is trying to be set on a copy of a slice from a DataFrame\n",
      "\n",
      "See the caveats in the documentation: https://pandas.pydata.org/pandas-docs/stable/user_guide/indexing.html#returning-a-view-versus-a-copy\n",
      "  df['location.coordinates.lon'][i]=df1['location'][i]['coordinates'][0]\n",
      "C:\\Users\\dusng\\AppData\\Local\\Temp\\ipykernel_3364\\2258611513.py:31: SettingWithCopyWarning: \n",
      "A value is trying to be set on a copy of a slice from a DataFrame\n",
      "\n",
      "See the caveats in the documentation: https://pandas.pydata.org/pandas-docs/stable/user_guide/indexing.html#returning-a-view-versus-a-copy\n",
      "  df['location.coordinates.lat'][i]=df1['location'][i]['coordinates'][1]\n",
      "c:\\Users\\dusng\\mambaforge\\lib\\site-packages\\geopandas\\array.py:1406: UserWarning: CRS not set for some of the concatenation inputs. Setting output's CRS as WGS 84 (the single non-null crs provided).\n",
      "  warnings.warn(\n",
      "c:\\Users\\dusng\\mambaforge\\lib\\site-packages\\geopandas\\array.py:1406: UserWarning: CRS not set for some of the concatenation inputs. Setting output's CRS as WGS 84 (the single non-null crs provided).\n",
      "  warnings.warn(\n"
     ]
    },
    {
     "name": "stdout",
     "output_type": "stream",
     "text": [
      "122\n"
     ]
    },
    {
     "name": "stderr",
     "output_type": "stream",
     "text": [
      "C:\\Users\\dusng\\AppData\\Local\\Temp\\ipykernel_3364\\2258611513.py:30: SettingWithCopyWarning: \n",
      "A value is trying to be set on a copy of a slice from a DataFrame\n",
      "\n",
      "See the caveats in the documentation: https://pandas.pydata.org/pandas-docs/stable/user_guide/indexing.html#returning-a-view-versus-a-copy\n",
      "  df['location.coordinates.lon'][i]=df1['location'][i]['coordinates'][0]\n",
      "C:\\Users\\dusng\\AppData\\Local\\Temp\\ipykernel_3364\\2258611513.py:31: SettingWithCopyWarning: \n",
      "A value is trying to be set on a copy of a slice from a DataFrame\n",
      "\n",
      "See the caveats in the documentation: https://pandas.pydata.org/pandas-docs/stable/user_guide/indexing.html#returning-a-view-versus-a-copy\n",
      "  df['location.coordinates.lat'][i]=df1['location'][i]['coordinates'][1]\n",
      "c:\\Users\\dusng\\mambaforge\\lib\\site-packages\\geopandas\\array.py:1406: UserWarning: CRS not set for some of the concatenation inputs. Setting output's CRS as WGS 84 (the single non-null crs provided).\n",
      "  warnings.warn(\n",
      "c:\\Users\\dusng\\mambaforge\\lib\\site-packages\\geopandas\\array.py:1406: UserWarning: CRS not set for some of the concatenation inputs. Setting output's CRS as WGS 84 (the single non-null crs provided).\n",
      "  warnings.warn(\n"
     ]
    },
    {
     "name": "stdout",
     "output_type": "stream",
     "text": [
      "196\n"
     ]
    },
    {
     "name": "stderr",
     "output_type": "stream",
     "text": [
      "C:\\Users\\dusng\\AppData\\Local\\Temp\\ipykernel_3364\\2258611513.py:30: SettingWithCopyWarning: \n",
      "A value is trying to be set on a copy of a slice from a DataFrame\n",
      "\n",
      "See the caveats in the documentation: https://pandas.pydata.org/pandas-docs/stable/user_guide/indexing.html#returning-a-view-versus-a-copy\n",
      "  df['location.coordinates.lon'][i]=df1['location'][i]['coordinates'][0]\n",
      "C:\\Users\\dusng\\AppData\\Local\\Temp\\ipykernel_3364\\2258611513.py:31: SettingWithCopyWarning: \n",
      "A value is trying to be set on a copy of a slice from a DataFrame\n",
      "\n",
      "See the caveats in the documentation: https://pandas.pydata.org/pandas-docs/stable/user_guide/indexing.html#returning-a-view-versus-a-copy\n",
      "  df['location.coordinates.lat'][i]=df1['location'][i]['coordinates'][1]\n",
      "c:\\Users\\dusng\\mambaforge\\lib\\site-packages\\geopandas\\array.py:1406: UserWarning: CRS not set for some of the concatenation inputs. Setting output's CRS as WGS 84 (the single non-null crs provided).\n",
      "  warnings.warn(\n",
      "c:\\Users\\dusng\\mambaforge\\lib\\site-packages\\geopandas\\array.py:1406: UserWarning: CRS not set for some of the concatenation inputs. Setting output's CRS as WGS 84 (the single non-null crs provided).\n",
      "  warnings.warn(\n"
     ]
    },
    {
     "name": "stdout",
     "output_type": "stream",
     "text": [
      "77\n"
     ]
    },
    {
     "name": "stderr",
     "output_type": "stream",
     "text": [
      "C:\\Users\\dusng\\AppData\\Local\\Temp\\ipykernel_3364\\2258611513.py:30: SettingWithCopyWarning: \n",
      "A value is trying to be set on a copy of a slice from a DataFrame\n",
      "\n",
      "See the caveats in the documentation: https://pandas.pydata.org/pandas-docs/stable/user_guide/indexing.html#returning-a-view-versus-a-copy\n",
      "  df['location.coordinates.lon'][i]=df1['location'][i]['coordinates'][0]\n",
      "C:\\Users\\dusng\\AppData\\Local\\Temp\\ipykernel_3364\\2258611513.py:31: SettingWithCopyWarning: \n",
      "A value is trying to be set on a copy of a slice from a DataFrame\n",
      "\n",
      "See the caveats in the documentation: https://pandas.pydata.org/pandas-docs/stable/user_guide/indexing.html#returning-a-view-versus-a-copy\n",
      "  df['location.coordinates.lat'][i]=df1['location'][i]['coordinates'][1]\n",
      "c:\\Users\\dusng\\mambaforge\\lib\\site-packages\\geopandas\\array.py:1406: UserWarning: CRS not set for some of the concatenation inputs. Setting output's CRS as WGS 84 (the single non-null crs provided).\n",
      "  warnings.warn(\n",
      "c:\\Users\\dusng\\mambaforge\\lib\\site-packages\\geopandas\\array.py:1406: UserWarning: CRS not set for some of the concatenation inputs. Setting output's CRS as WGS 84 (the single non-null crs provided).\n",
      "  warnings.warn(\n"
     ]
    },
    {
     "name": "stdout",
     "output_type": "stream",
     "text": [
      "95\n"
     ]
    },
    {
     "name": "stderr",
     "output_type": "stream",
     "text": [
      "C:\\Users\\dusng\\AppData\\Local\\Temp\\ipykernel_3364\\2258611513.py:30: SettingWithCopyWarning: \n",
      "A value is trying to be set on a copy of a slice from a DataFrame\n",
      "\n",
      "See the caveats in the documentation: https://pandas.pydata.org/pandas-docs/stable/user_guide/indexing.html#returning-a-view-versus-a-copy\n",
      "  df['location.coordinates.lon'][i]=df1['location'][i]['coordinates'][0]\n",
      "C:\\Users\\dusng\\AppData\\Local\\Temp\\ipykernel_3364\\2258611513.py:31: SettingWithCopyWarning: \n",
      "A value is trying to be set on a copy of a slice from a DataFrame\n",
      "\n",
      "See the caveats in the documentation: https://pandas.pydata.org/pandas-docs/stable/user_guide/indexing.html#returning-a-view-versus-a-copy\n",
      "  df['location.coordinates.lat'][i]=df1['location'][i]['coordinates'][1]\n",
      "c:\\Users\\dusng\\mambaforge\\lib\\site-packages\\geopandas\\array.py:1406: UserWarning: CRS not set for some of the concatenation inputs. Setting output's CRS as WGS 84 (the single non-null crs provided).\n",
      "  warnings.warn(\n",
      "c:\\Users\\dusng\\mambaforge\\lib\\site-packages\\geopandas\\array.py:1406: UserWarning: CRS not set for some of the concatenation inputs. Setting output's CRS as WGS 84 (the single non-null crs provided).\n",
      "  warnings.warn(\n"
     ]
    },
    {
     "name": "stdout",
     "output_type": "stream",
     "text": [
      "174\n"
     ]
    },
    {
     "name": "stderr",
     "output_type": "stream",
     "text": [
      "C:\\Users\\dusng\\AppData\\Local\\Temp\\ipykernel_3364\\2258611513.py:30: SettingWithCopyWarning: \n",
      "A value is trying to be set on a copy of a slice from a DataFrame\n",
      "\n",
      "See the caveats in the documentation: https://pandas.pydata.org/pandas-docs/stable/user_guide/indexing.html#returning-a-view-versus-a-copy\n",
      "  df['location.coordinates.lon'][i]=df1['location'][i]['coordinates'][0]\n",
      "C:\\Users\\dusng\\AppData\\Local\\Temp\\ipykernel_3364\\2258611513.py:31: SettingWithCopyWarning: \n",
      "A value is trying to be set on a copy of a slice from a DataFrame\n",
      "\n",
      "See the caveats in the documentation: https://pandas.pydata.org/pandas-docs/stable/user_guide/indexing.html#returning-a-view-versus-a-copy\n",
      "  df['location.coordinates.lat'][i]=df1['location'][i]['coordinates'][1]\n",
      "c:\\Users\\dusng\\mambaforge\\lib\\site-packages\\geopandas\\array.py:1406: UserWarning: CRS not set for some of the concatenation inputs. Setting output's CRS as WGS 84 (the single non-null crs provided).\n",
      "  warnings.warn(\n",
      "c:\\Users\\dusng\\mambaforge\\lib\\site-packages\\geopandas\\array.py:1406: UserWarning: CRS not set for some of the concatenation inputs. Setting output's CRS as WGS 84 (the single non-null crs provided).\n",
      "  warnings.warn(\n"
     ]
    },
    {
     "name": "stdout",
     "output_type": "stream",
     "text": [
      "348\n"
     ]
    },
    {
     "name": "stderr",
     "output_type": "stream",
     "text": [
      "C:\\Users\\dusng\\AppData\\Local\\Temp\\ipykernel_3364\\2258611513.py:30: SettingWithCopyWarning: \n",
      "A value is trying to be set on a copy of a slice from a DataFrame\n",
      "\n",
      "See the caveats in the documentation: https://pandas.pydata.org/pandas-docs/stable/user_guide/indexing.html#returning-a-view-versus-a-copy\n",
      "  df['location.coordinates.lon'][i]=df1['location'][i]['coordinates'][0]\n",
      "C:\\Users\\dusng\\AppData\\Local\\Temp\\ipykernel_3364\\2258611513.py:31: SettingWithCopyWarning: \n",
      "A value is trying to be set on a copy of a slice from a DataFrame\n",
      "\n",
      "See the caveats in the documentation: https://pandas.pydata.org/pandas-docs/stable/user_guide/indexing.html#returning-a-view-versus-a-copy\n",
      "  df['location.coordinates.lat'][i]=df1['location'][i]['coordinates'][1]\n",
      "c:\\Users\\dusng\\mambaforge\\lib\\site-packages\\geopandas\\array.py:1406: UserWarning: CRS not set for some of the concatenation inputs. Setting output's CRS as WGS 84 (the single non-null crs provided).\n",
      "  warnings.warn(\n",
      "c:\\Users\\dusng\\mambaforge\\lib\\site-packages\\geopandas\\array.py:1406: UserWarning: CRS not set for some of the concatenation inputs. Setting output's CRS as WGS 84 (the single non-null crs provided).\n",
      "  warnings.warn(\n"
     ]
    },
    {
     "name": "stdout",
     "output_type": "stream",
     "text": [
      "235\n"
     ]
    },
    {
     "name": "stderr",
     "output_type": "stream",
     "text": [
      "C:\\Users\\dusng\\AppData\\Local\\Temp\\ipykernel_3364\\2258611513.py:30: SettingWithCopyWarning: \n",
      "A value is trying to be set on a copy of a slice from a DataFrame\n",
      "\n",
      "See the caveats in the documentation: https://pandas.pydata.org/pandas-docs/stable/user_guide/indexing.html#returning-a-view-versus-a-copy\n",
      "  df['location.coordinates.lon'][i]=df1['location'][i]['coordinates'][0]\n",
      "C:\\Users\\dusng\\AppData\\Local\\Temp\\ipykernel_3364\\2258611513.py:31: SettingWithCopyWarning: \n",
      "A value is trying to be set on a copy of a slice from a DataFrame\n",
      "\n",
      "See the caveats in the documentation: https://pandas.pydata.org/pandas-docs/stable/user_guide/indexing.html#returning-a-view-versus-a-copy\n",
      "  df['location.coordinates.lat'][i]=df1['location'][i]['coordinates'][1]\n",
      "c:\\Users\\dusng\\mambaforge\\lib\\site-packages\\geopandas\\array.py:1406: UserWarning: CRS not set for some of the concatenation inputs. Setting output's CRS as WGS 84 (the single non-null crs provided).\n",
      "  warnings.warn(\n",
      "c:\\Users\\dusng\\mambaforge\\lib\\site-packages\\geopandas\\array.py:1406: UserWarning: CRS not set for some of the concatenation inputs. Setting output's CRS as WGS 84 (the single non-null crs provided).\n",
      "  warnings.warn(\n"
     ]
    },
    {
     "name": "stdout",
     "output_type": "stream",
     "text": [
      "172\n"
     ]
    },
    {
     "name": "stderr",
     "output_type": "stream",
     "text": [
      "C:\\Users\\dusng\\AppData\\Local\\Temp\\ipykernel_3364\\2258611513.py:30: SettingWithCopyWarning: \n",
      "A value is trying to be set on a copy of a slice from a DataFrame\n",
      "\n",
      "See the caveats in the documentation: https://pandas.pydata.org/pandas-docs/stable/user_guide/indexing.html#returning-a-view-versus-a-copy\n",
      "  df['location.coordinates.lon'][i]=df1['location'][i]['coordinates'][0]\n",
      "C:\\Users\\dusng\\AppData\\Local\\Temp\\ipykernel_3364\\2258611513.py:31: SettingWithCopyWarning: \n",
      "A value is trying to be set on a copy of a slice from a DataFrame\n",
      "\n",
      "See the caveats in the documentation: https://pandas.pydata.org/pandas-docs/stable/user_guide/indexing.html#returning-a-view-versus-a-copy\n",
      "  df['location.coordinates.lat'][i]=df1['location'][i]['coordinates'][1]\n",
      "c:\\Users\\dusng\\mambaforge\\lib\\site-packages\\geopandas\\array.py:1406: UserWarning: CRS not set for some of the concatenation inputs. Setting output's CRS as WGS 84 (the single non-null crs provided).\n",
      "  warnings.warn(\n",
      "c:\\Users\\dusng\\mambaforge\\lib\\site-packages\\geopandas\\array.py:1406: UserWarning: CRS not set for some of the concatenation inputs. Setting output's CRS as WGS 84 (the single non-null crs provided).\n",
      "  warnings.warn(\n"
     ]
    },
    {
     "name": "stdout",
     "output_type": "stream",
     "text": [
      "336\n"
     ]
    },
    {
     "name": "stderr",
     "output_type": "stream",
     "text": [
      "C:\\Users\\dusng\\AppData\\Local\\Temp\\ipykernel_3364\\2258611513.py:30: SettingWithCopyWarning: \n",
      "A value is trying to be set on a copy of a slice from a DataFrame\n",
      "\n",
      "See the caveats in the documentation: https://pandas.pydata.org/pandas-docs/stable/user_guide/indexing.html#returning-a-view-versus-a-copy\n",
      "  df['location.coordinates.lon'][i]=df1['location'][i]['coordinates'][0]\n",
      "C:\\Users\\dusng\\AppData\\Local\\Temp\\ipykernel_3364\\2258611513.py:31: SettingWithCopyWarning: \n",
      "A value is trying to be set on a copy of a slice from a DataFrame\n",
      "\n",
      "See the caveats in the documentation: https://pandas.pydata.org/pandas-docs/stable/user_guide/indexing.html#returning-a-view-versus-a-copy\n",
      "  df['location.coordinates.lat'][i]=df1['location'][i]['coordinates'][1]\n",
      "c:\\Users\\dusng\\mambaforge\\lib\\site-packages\\geopandas\\array.py:1406: UserWarning: CRS not set for some of the concatenation inputs. Setting output's CRS as WGS 84 (the single non-null crs provided).\n",
      "  warnings.warn(\n",
      "c:\\Users\\dusng\\mambaforge\\lib\\site-packages\\geopandas\\array.py:1406: UserWarning: CRS not set for some of the concatenation inputs. Setting output's CRS as WGS 84 (the single non-null crs provided).\n",
      "  warnings.warn(\n"
     ]
    },
    {
     "name": "stdout",
     "output_type": "stream",
     "text": [
      "223\n"
     ]
    },
    {
     "name": "stderr",
     "output_type": "stream",
     "text": [
      "C:\\Users\\dusng\\AppData\\Local\\Temp\\ipykernel_3364\\2258611513.py:30: SettingWithCopyWarning: \n",
      "A value is trying to be set on a copy of a slice from a DataFrame\n",
      "\n",
      "See the caveats in the documentation: https://pandas.pydata.org/pandas-docs/stable/user_guide/indexing.html#returning-a-view-versus-a-copy\n",
      "  df['location.coordinates.lon'][i]=df1['location'][i]['coordinates'][0]\n",
      "C:\\Users\\dusng\\AppData\\Local\\Temp\\ipykernel_3364\\2258611513.py:31: SettingWithCopyWarning: \n",
      "A value is trying to be set on a copy of a slice from a DataFrame\n",
      "\n",
      "See the caveats in the documentation: https://pandas.pydata.org/pandas-docs/stable/user_guide/indexing.html#returning-a-view-versus-a-copy\n",
      "  df['location.coordinates.lat'][i]=df1['location'][i]['coordinates'][1]\n",
      "c:\\Users\\dusng\\mambaforge\\lib\\site-packages\\geopandas\\array.py:1406: UserWarning: CRS not set for some of the concatenation inputs. Setting output's CRS as WGS 84 (the single non-null crs provided).\n",
      "  warnings.warn(\n",
      "c:\\Users\\dusng\\mambaforge\\lib\\site-packages\\geopandas\\array.py:1406: UserWarning: CRS not set for some of the concatenation inputs. Setting output's CRS as WGS 84 (the single non-null crs provided).\n",
      "  warnings.warn(\n"
     ]
    },
    {
     "name": "stdout",
     "output_type": "stream",
     "text": [
      "227\n"
     ]
    },
    {
     "name": "stderr",
     "output_type": "stream",
     "text": [
      "C:\\Users\\dusng\\AppData\\Local\\Temp\\ipykernel_3364\\2258611513.py:30: SettingWithCopyWarning: \n",
      "A value is trying to be set on a copy of a slice from a DataFrame\n",
      "\n",
      "See the caveats in the documentation: https://pandas.pydata.org/pandas-docs/stable/user_guide/indexing.html#returning-a-view-versus-a-copy\n",
      "  df['location.coordinates.lon'][i]=df1['location'][i]['coordinates'][0]\n",
      "C:\\Users\\dusng\\AppData\\Local\\Temp\\ipykernel_3364\\2258611513.py:31: SettingWithCopyWarning: \n",
      "A value is trying to be set on a copy of a slice from a DataFrame\n",
      "\n",
      "See the caveats in the documentation: https://pandas.pydata.org/pandas-docs/stable/user_guide/indexing.html#returning-a-view-versus-a-copy\n",
      "  df['location.coordinates.lat'][i]=df1['location'][i]['coordinates'][1]\n",
      "c:\\Users\\dusng\\mambaforge\\lib\\site-packages\\geopandas\\array.py:1406: UserWarning: CRS not set for some of the concatenation inputs. Setting output's CRS as WGS 84 (the single non-null crs provided).\n",
      "  warnings.warn(\n",
      "c:\\Users\\dusng\\mambaforge\\lib\\site-packages\\geopandas\\array.py:1406: UserWarning: CRS not set for some of the concatenation inputs. Setting output's CRS as WGS 84 (the single non-null crs provided).\n",
      "  warnings.warn(\n"
     ]
    },
    {
     "name": "stdout",
     "output_type": "stream",
     "text": [
      "212\n"
     ]
    },
    {
     "name": "stderr",
     "output_type": "stream",
     "text": [
      "C:\\Users\\dusng\\AppData\\Local\\Temp\\ipykernel_3364\\2258611513.py:30: SettingWithCopyWarning: \n",
      "A value is trying to be set on a copy of a slice from a DataFrame\n",
      "\n",
      "See the caveats in the documentation: https://pandas.pydata.org/pandas-docs/stable/user_guide/indexing.html#returning-a-view-versus-a-copy\n",
      "  df['location.coordinates.lon'][i]=df1['location'][i]['coordinates'][0]\n",
      "C:\\Users\\dusng\\AppData\\Local\\Temp\\ipykernel_3364\\2258611513.py:31: SettingWithCopyWarning: \n",
      "A value is trying to be set on a copy of a slice from a DataFrame\n",
      "\n",
      "See the caveats in the documentation: https://pandas.pydata.org/pandas-docs/stable/user_guide/indexing.html#returning-a-view-versus-a-copy\n",
      "  df['location.coordinates.lat'][i]=df1['location'][i]['coordinates'][1]\n",
      "c:\\Users\\dusng\\mambaforge\\lib\\site-packages\\geopandas\\array.py:1406: UserWarning: CRS not set for some of the concatenation inputs. Setting output's CRS as WGS 84 (the single non-null crs provided).\n",
      "  warnings.warn(\n",
      "c:\\Users\\dusng\\mambaforge\\lib\\site-packages\\geopandas\\array.py:1406: UserWarning: CRS not set for some of the concatenation inputs. Setting output's CRS as WGS 84 (the single non-null crs provided).\n",
      "  warnings.warn(\n"
     ]
    },
    {
     "name": "stdout",
     "output_type": "stream",
     "text": [
      "168\n"
     ]
    },
    {
     "name": "stderr",
     "output_type": "stream",
     "text": [
      "C:\\Users\\dusng\\AppData\\Local\\Temp\\ipykernel_3364\\2258611513.py:30: SettingWithCopyWarning: \n",
      "A value is trying to be set on a copy of a slice from a DataFrame\n",
      "\n",
      "See the caveats in the documentation: https://pandas.pydata.org/pandas-docs/stable/user_guide/indexing.html#returning-a-view-versus-a-copy\n",
      "  df['location.coordinates.lon'][i]=df1['location'][i]['coordinates'][0]\n",
      "C:\\Users\\dusng\\AppData\\Local\\Temp\\ipykernel_3364\\2258611513.py:31: SettingWithCopyWarning: \n",
      "A value is trying to be set on a copy of a slice from a DataFrame\n",
      "\n",
      "See the caveats in the documentation: https://pandas.pydata.org/pandas-docs/stable/user_guide/indexing.html#returning-a-view-versus-a-copy\n",
      "  df['location.coordinates.lat'][i]=df1['location'][i]['coordinates'][1]\n",
      "c:\\Users\\dusng\\mambaforge\\lib\\site-packages\\geopandas\\array.py:1406: UserWarning: CRS not set for some of the concatenation inputs. Setting output's CRS as WGS 84 (the single non-null crs provided).\n",
      "  warnings.warn(\n",
      "c:\\Users\\dusng\\mambaforge\\lib\\site-packages\\geopandas\\array.py:1406: UserWarning: CRS not set for some of the concatenation inputs. Setting output's CRS as WGS 84 (the single non-null crs provided).\n",
      "  warnings.warn(\n"
     ]
    },
    {
     "name": "stdout",
     "output_type": "stream",
     "text": [
      "82\n"
     ]
    },
    {
     "name": "stderr",
     "output_type": "stream",
     "text": [
      "C:\\Users\\dusng\\AppData\\Local\\Temp\\ipykernel_3364\\2258611513.py:30: SettingWithCopyWarning: \n",
      "A value is trying to be set on a copy of a slice from a DataFrame\n",
      "\n",
      "See the caveats in the documentation: https://pandas.pydata.org/pandas-docs/stable/user_guide/indexing.html#returning-a-view-versus-a-copy\n",
      "  df['location.coordinates.lon'][i]=df1['location'][i]['coordinates'][0]\n",
      "C:\\Users\\dusng\\AppData\\Local\\Temp\\ipykernel_3364\\2258611513.py:31: SettingWithCopyWarning: \n",
      "A value is trying to be set on a copy of a slice from a DataFrame\n",
      "\n",
      "See the caveats in the documentation: https://pandas.pydata.org/pandas-docs/stable/user_guide/indexing.html#returning-a-view-versus-a-copy\n",
      "  df['location.coordinates.lat'][i]=df1['location'][i]['coordinates'][1]\n",
      "c:\\Users\\dusng\\mambaforge\\lib\\site-packages\\geopandas\\array.py:1406: UserWarning: CRS not set for some of the concatenation inputs. Setting output's CRS as WGS 84 (the single non-null crs provided).\n",
      "  warnings.warn(\n",
      "c:\\Users\\dusng\\mambaforge\\lib\\site-packages\\geopandas\\array.py:1406: UserWarning: CRS not set for some of the concatenation inputs. Setting output's CRS as WGS 84 (the single non-null crs provided).\n",
      "  warnings.warn(\n"
     ]
    },
    {
     "name": "stdout",
     "output_type": "stream",
     "text": [
      "68\n"
     ]
    },
    {
     "name": "stderr",
     "output_type": "stream",
     "text": [
      "C:\\Users\\dusng\\AppData\\Local\\Temp\\ipykernel_3364\\2258611513.py:30: SettingWithCopyWarning: \n",
      "A value is trying to be set on a copy of a slice from a DataFrame\n",
      "\n",
      "See the caveats in the documentation: https://pandas.pydata.org/pandas-docs/stable/user_guide/indexing.html#returning-a-view-versus-a-copy\n",
      "  df['location.coordinates.lon'][i]=df1['location'][i]['coordinates'][0]\n",
      "C:\\Users\\dusng\\AppData\\Local\\Temp\\ipykernel_3364\\2258611513.py:31: SettingWithCopyWarning: \n",
      "A value is trying to be set on a copy of a slice from a DataFrame\n",
      "\n",
      "See the caveats in the documentation: https://pandas.pydata.org/pandas-docs/stable/user_guide/indexing.html#returning-a-view-versus-a-copy\n",
      "  df['location.coordinates.lat'][i]=df1['location'][i]['coordinates'][1]\n",
      "c:\\Users\\dusng\\mambaforge\\lib\\site-packages\\geopandas\\array.py:1406: UserWarning: CRS not set for some of the concatenation inputs. Setting output's CRS as WGS 84 (the single non-null crs provided).\n",
      "  warnings.warn(\n",
      "c:\\Users\\dusng\\mambaforge\\lib\\site-packages\\geopandas\\array.py:1406: UserWarning: CRS not set for some of the concatenation inputs. Setting output's CRS as WGS 84 (the single non-null crs provided).\n",
      "  warnings.warn(\n"
     ]
    },
    {
     "name": "stdout",
     "output_type": "stream",
     "text": [
      "97\n"
     ]
    },
    {
     "name": "stderr",
     "output_type": "stream",
     "text": [
      "C:\\Users\\dusng\\AppData\\Local\\Temp\\ipykernel_3364\\2258611513.py:30: SettingWithCopyWarning: \n",
      "A value is trying to be set on a copy of a slice from a DataFrame\n",
      "\n",
      "See the caveats in the documentation: https://pandas.pydata.org/pandas-docs/stable/user_guide/indexing.html#returning-a-view-versus-a-copy\n",
      "  df['location.coordinates.lon'][i]=df1['location'][i]['coordinates'][0]\n",
      "C:\\Users\\dusng\\AppData\\Local\\Temp\\ipykernel_3364\\2258611513.py:31: SettingWithCopyWarning: \n",
      "A value is trying to be set on a copy of a slice from a DataFrame\n",
      "\n",
      "See the caveats in the documentation: https://pandas.pydata.org/pandas-docs/stable/user_guide/indexing.html#returning-a-view-versus-a-copy\n",
      "  df['location.coordinates.lat'][i]=df1['location'][i]['coordinates'][1]\n",
      "c:\\Users\\dusng\\mambaforge\\lib\\site-packages\\geopandas\\array.py:1406: UserWarning: CRS not set for some of the concatenation inputs. Setting output's CRS as WGS 84 (the single non-null crs provided).\n",
      "  warnings.warn(\n",
      "c:\\Users\\dusng\\mambaforge\\lib\\site-packages\\geopandas\\array.py:1406: UserWarning: CRS not set for some of the concatenation inputs. Setting output's CRS as WGS 84 (the single non-null crs provided).\n",
      "  warnings.warn(\n"
     ]
    },
    {
     "name": "stdout",
     "output_type": "stream",
     "text": [
      "60\n",
      "191\n"
     ]
    },
    {
     "name": "stderr",
     "output_type": "stream",
     "text": [
      "C:\\Users\\dusng\\AppData\\Local\\Temp\\ipykernel_3364\\2258611513.py:30: SettingWithCopyWarning: \n",
      "A value is trying to be set on a copy of a slice from a DataFrame\n",
      "\n",
      "See the caveats in the documentation: https://pandas.pydata.org/pandas-docs/stable/user_guide/indexing.html#returning-a-view-versus-a-copy\n",
      "  df['location.coordinates.lon'][i]=df1['location'][i]['coordinates'][0]\n",
      "C:\\Users\\dusng\\AppData\\Local\\Temp\\ipykernel_3364\\2258611513.py:31: SettingWithCopyWarning: \n",
      "A value is trying to be set on a copy of a slice from a DataFrame\n",
      "\n",
      "See the caveats in the documentation: https://pandas.pydata.org/pandas-docs/stable/user_guide/indexing.html#returning-a-view-versus-a-copy\n",
      "  df['location.coordinates.lat'][i]=df1['location'][i]['coordinates'][1]\n",
      "c:\\Users\\dusng\\mambaforge\\lib\\site-packages\\geopandas\\array.py:1406: UserWarning: CRS not set for some of the concatenation inputs. Setting output's CRS as WGS 84 (the single non-null crs provided).\n",
      "  warnings.warn(\n",
      "c:\\Users\\dusng\\mambaforge\\lib\\site-packages\\geopandas\\array.py:1406: UserWarning: CRS not set for some of the concatenation inputs. Setting output's CRS as WGS 84 (the single non-null crs provided).\n",
      "  warnings.warn(\n",
      "C:\\Users\\dusng\\AppData\\Local\\Temp\\ipykernel_3364\\2258611513.py:30: SettingWithCopyWarning: \n",
      "A value is trying to be set on a copy of a slice from a DataFrame\n",
      "\n",
      "See the caveats in the documentation: https://pandas.pydata.org/pandas-docs/stable/user_guide/indexing.html#returning-a-view-versus-a-copy\n",
      "  df['location.coordinates.lon'][i]=df1['location'][i]['coordinates'][0]\n",
      "C:\\Users\\dusng\\AppData\\Local\\Temp\\ipykernel_3364\\2258611513.py:31: SettingWithCopyWarning: \n",
      "A value is trying to be set on a copy of a slice from a DataFrame\n",
      "\n",
      "See the caveats in the documentation: https://pandas.pydata.org/pandas-docs/stable/user_guide/indexing.html#returning-a-view-versus-a-copy\n",
      "  df['location.coordinates.lat'][i]=df1['location'][i]['coordinates'][1]\n",
      "c:\\Users\\dusng\\mambaforge\\lib\\site-packages\\geopandas\\array.py:1406: UserWarning: CRS not set for some of the concatenation inputs. Setting output's CRS as WGS 84 (the single non-null crs provided).\n",
      "  warnings.warn(\n",
      "c:\\Users\\dusng\\mambaforge\\lib\\site-packages\\geopandas\\array.py:1406: UserWarning: CRS not set for some of the concatenation inputs. Setting output's CRS as WGS 84 (the single non-null crs provided).\n",
      "  warnings.warn(\n"
     ]
    },
    {
     "name": "stdout",
     "output_type": "stream",
     "text": [
      "38\n"
     ]
    },
    {
     "name": "stderr",
     "output_type": "stream",
     "text": [
      "C:\\Users\\dusng\\AppData\\Local\\Temp\\ipykernel_3364\\2258611513.py:30: SettingWithCopyWarning: \n",
      "A value is trying to be set on a copy of a slice from a DataFrame\n",
      "\n",
      "See the caveats in the documentation: https://pandas.pydata.org/pandas-docs/stable/user_guide/indexing.html#returning-a-view-versus-a-copy\n",
      "  df['location.coordinates.lon'][i]=df1['location'][i]['coordinates'][0]\n",
      "C:\\Users\\dusng\\AppData\\Local\\Temp\\ipykernel_3364\\2258611513.py:31: SettingWithCopyWarning: \n",
      "A value is trying to be set on a copy of a slice from a DataFrame\n",
      "\n",
      "See the caveats in the documentation: https://pandas.pydata.org/pandas-docs/stable/user_guide/indexing.html#returning-a-view-versus-a-copy\n",
      "  df['location.coordinates.lat'][i]=df1['location'][i]['coordinates'][1]\n",
      "c:\\Users\\dusng\\mambaforge\\lib\\site-packages\\geopandas\\array.py:1406: UserWarning: CRS not set for some of the concatenation inputs. Setting output's CRS as WGS 84 (the single non-null crs provided).\n",
      "  warnings.warn(\n",
      "c:\\Users\\dusng\\mambaforge\\lib\\site-packages\\geopandas\\array.py:1406: UserWarning: CRS not set for some of the concatenation inputs. Setting output's CRS as WGS 84 (the single non-null crs provided).\n",
      "  warnings.warn(\n"
     ]
    },
    {
     "name": "stdout",
     "output_type": "stream",
     "text": [
      "2\n",
      "121\n"
     ]
    },
    {
     "name": "stderr",
     "output_type": "stream",
     "text": [
      "C:\\Users\\dusng\\AppData\\Local\\Temp\\ipykernel_3364\\2258611513.py:30: SettingWithCopyWarning: \n",
      "A value is trying to be set on a copy of a slice from a DataFrame\n",
      "\n",
      "See the caveats in the documentation: https://pandas.pydata.org/pandas-docs/stable/user_guide/indexing.html#returning-a-view-versus-a-copy\n",
      "  df['location.coordinates.lon'][i]=df1['location'][i]['coordinates'][0]\n",
      "C:\\Users\\dusng\\AppData\\Local\\Temp\\ipykernel_3364\\2258611513.py:31: SettingWithCopyWarning: \n",
      "A value is trying to be set on a copy of a slice from a DataFrame\n",
      "\n",
      "See the caveats in the documentation: https://pandas.pydata.org/pandas-docs/stable/user_guide/indexing.html#returning-a-view-versus-a-copy\n",
      "  df['location.coordinates.lat'][i]=df1['location'][i]['coordinates'][1]\n",
      "c:\\Users\\dusng\\mambaforge\\lib\\site-packages\\geopandas\\array.py:1406: UserWarning: CRS not set for some of the concatenation inputs. Setting output's CRS as WGS 84 (the single non-null crs provided).\n",
      "  warnings.warn(\n",
      "c:\\Users\\dusng\\mambaforge\\lib\\site-packages\\geopandas\\array.py:1406: UserWarning: CRS not set for some of the concatenation inputs. Setting output's CRS as WGS 84 (the single non-null crs provided).\n",
      "  warnings.warn(\n",
      "C:\\Users\\dusng\\AppData\\Local\\Temp\\ipykernel_3364\\2258611513.py:30: SettingWithCopyWarning: \n",
      "A value is trying to be set on a copy of a slice from a DataFrame\n",
      "\n",
      "See the caveats in the documentation: https://pandas.pydata.org/pandas-docs/stable/user_guide/indexing.html#returning-a-view-versus-a-copy\n",
      "  df['location.coordinates.lon'][i]=df1['location'][i]['coordinates'][0]\n",
      "C:\\Users\\dusng\\AppData\\Local\\Temp\\ipykernel_3364\\2258611513.py:31: SettingWithCopyWarning: \n",
      "A value is trying to be set on a copy of a slice from a DataFrame\n",
      "\n",
      "See the caveats in the documentation: https://pandas.pydata.org/pandas-docs/stable/user_guide/indexing.html#returning-a-view-versus-a-copy\n",
      "  df['location.coordinates.lat'][i]=df1['location'][i]['coordinates'][1]\n",
      "c:\\Users\\dusng\\mambaforge\\lib\\site-packages\\geopandas\\array.py:1406: UserWarning: CRS not set for some of the concatenation inputs. Setting output's CRS as WGS 84 (the single non-null crs provided).\n",
      "  warnings.warn(\n",
      "c:\\Users\\dusng\\mambaforge\\lib\\site-packages\\geopandas\\array.py:1406: UserWarning: CRS not set for some of the concatenation inputs. Setting output's CRS as WGS 84 (the single non-null crs provided).\n",
      "  warnings.warn(\n"
     ]
    },
    {
     "name": "stdout",
     "output_type": "stream",
     "text": [
      "394\n"
     ]
    },
    {
     "name": "stderr",
     "output_type": "stream",
     "text": [
      "C:\\Users\\dusng\\AppData\\Local\\Temp\\ipykernel_3364\\2258611513.py:30: SettingWithCopyWarning: \n",
      "A value is trying to be set on a copy of a slice from a DataFrame\n",
      "\n",
      "See the caveats in the documentation: https://pandas.pydata.org/pandas-docs/stable/user_guide/indexing.html#returning-a-view-versus-a-copy\n",
      "  df['location.coordinates.lon'][i]=df1['location'][i]['coordinates'][0]\n",
      "C:\\Users\\dusng\\AppData\\Local\\Temp\\ipykernel_3364\\2258611513.py:31: SettingWithCopyWarning: \n",
      "A value is trying to be set on a copy of a slice from a DataFrame\n",
      "\n",
      "See the caveats in the documentation: https://pandas.pydata.org/pandas-docs/stable/user_guide/indexing.html#returning-a-view-versus-a-copy\n",
      "  df['location.coordinates.lat'][i]=df1['location'][i]['coordinates'][1]\n",
      "c:\\Users\\dusng\\mambaforge\\lib\\site-packages\\geopandas\\array.py:1406: UserWarning: CRS not set for some of the concatenation inputs. Setting output's CRS as WGS 84 (the single non-null crs provided).\n",
      "  warnings.warn(\n",
      "c:\\Users\\dusng\\mambaforge\\lib\\site-packages\\geopandas\\array.py:1406: UserWarning: CRS not set for some of the concatenation inputs. Setting output's CRS as WGS 84 (the single non-null crs provided).\n",
      "  warnings.warn(\n"
     ]
    },
    {
     "name": "stdout",
     "output_type": "stream",
     "text": [
      "1\n"
     ]
    },
    {
     "name": "stderr",
     "output_type": "stream",
     "text": [
      "C:\\Users\\dusng\\AppData\\Local\\Temp\\ipykernel_3364\\2258611513.py:30: SettingWithCopyWarning: \n",
      "A value is trying to be set on a copy of a slice from a DataFrame\n",
      "\n",
      "See the caveats in the documentation: https://pandas.pydata.org/pandas-docs/stable/user_guide/indexing.html#returning-a-view-versus-a-copy\n",
      "  df['location.coordinates.lon'][i]=df1['location'][i]['coordinates'][0]\n",
      "C:\\Users\\dusng\\AppData\\Local\\Temp\\ipykernel_3364\\2258611513.py:31: SettingWithCopyWarning: \n",
      "A value is trying to be set on a copy of a slice from a DataFrame\n",
      "\n",
      "See the caveats in the documentation: https://pandas.pydata.org/pandas-docs/stable/user_guide/indexing.html#returning-a-view-versus-a-copy\n",
      "  df['location.coordinates.lat'][i]=df1['location'][i]['coordinates'][1]\n",
      "c:\\Users\\dusng\\mambaforge\\lib\\site-packages\\geopandas\\array.py:1406: UserWarning: CRS not set for some of the concatenation inputs. Setting output's CRS as WGS 84 (the single non-null crs provided).\n",
      "  warnings.warn(\n",
      "c:\\Users\\dusng\\mambaforge\\lib\\site-packages\\geopandas\\array.py:1406: UserWarning: CRS not set for some of the concatenation inputs. Setting output's CRS as WGS 84 (the single non-null crs provided).\n",
      "  warnings.warn(\n"
     ]
    },
    {
     "name": "stdout",
     "output_type": "stream",
     "text": [
      "7\n"
     ]
    },
    {
     "name": "stderr",
     "output_type": "stream",
     "text": [
      "C:\\Users\\dusng\\AppData\\Local\\Temp\\ipykernel_3364\\2258611513.py:30: SettingWithCopyWarning: \n",
      "A value is trying to be set on a copy of a slice from a DataFrame\n",
      "\n",
      "See the caveats in the documentation: https://pandas.pydata.org/pandas-docs/stable/user_guide/indexing.html#returning-a-view-versus-a-copy\n",
      "  df['location.coordinates.lon'][i]=df1['location'][i]['coordinates'][0]\n",
      "C:\\Users\\dusng\\AppData\\Local\\Temp\\ipykernel_3364\\2258611513.py:31: SettingWithCopyWarning: \n",
      "A value is trying to be set on a copy of a slice from a DataFrame\n",
      "\n",
      "See the caveats in the documentation: https://pandas.pydata.org/pandas-docs/stable/user_guide/indexing.html#returning-a-view-versus-a-copy\n",
      "  df['location.coordinates.lat'][i]=df1['location'][i]['coordinates'][1]\n",
      "c:\\Users\\dusng\\mambaforge\\lib\\site-packages\\geopandas\\array.py:1406: UserWarning: CRS not set for some of the concatenation inputs. Setting output's CRS as WGS 84 (the single non-null crs provided).\n",
      "  warnings.warn(\n",
      "c:\\Users\\dusng\\mambaforge\\lib\\site-packages\\geopandas\\array.py:1406: UserWarning: CRS not set for some of the concatenation inputs. Setting output's CRS as WGS 84 (the single non-null crs provided).\n",
      "  warnings.warn(\n"
     ]
    },
    {
     "name": "stdout",
     "output_type": "stream",
     "text": [
      "84\n"
     ]
    },
    {
     "name": "stderr",
     "output_type": "stream",
     "text": [
      "C:\\Users\\dusng\\AppData\\Local\\Temp\\ipykernel_3364\\2258611513.py:30: SettingWithCopyWarning: \n",
      "A value is trying to be set on a copy of a slice from a DataFrame\n",
      "\n",
      "See the caveats in the documentation: https://pandas.pydata.org/pandas-docs/stable/user_guide/indexing.html#returning-a-view-versus-a-copy\n",
      "  df['location.coordinates.lon'][i]=df1['location'][i]['coordinates'][0]\n",
      "C:\\Users\\dusng\\AppData\\Local\\Temp\\ipykernel_3364\\2258611513.py:31: SettingWithCopyWarning: \n",
      "A value is trying to be set on a copy of a slice from a DataFrame\n",
      "\n",
      "See the caveats in the documentation: https://pandas.pydata.org/pandas-docs/stable/user_guide/indexing.html#returning-a-view-versus-a-copy\n",
      "  df['location.coordinates.lat'][i]=df1['location'][i]['coordinates'][1]\n",
      "c:\\Users\\dusng\\mambaforge\\lib\\site-packages\\geopandas\\array.py:1406: UserWarning: CRS not set for some of the concatenation inputs. Setting output's CRS as WGS 84 (the single non-null crs provided).\n",
      "  warnings.warn(\n",
      "c:\\Users\\dusng\\mambaforge\\lib\\site-packages\\geopandas\\array.py:1406: UserWarning: CRS not set for some of the concatenation inputs. Setting output's CRS as WGS 84 (the single non-null crs provided).\n",
      "  warnings.warn(\n"
     ]
    },
    {
     "name": "stdout",
     "output_type": "stream",
     "text": [
      "120\n"
     ]
    },
    {
     "name": "stderr",
     "output_type": "stream",
     "text": [
      "C:\\Users\\dusng\\AppData\\Local\\Temp\\ipykernel_3364\\2258611513.py:30: SettingWithCopyWarning: \n",
      "A value is trying to be set on a copy of a slice from a DataFrame\n",
      "\n",
      "See the caveats in the documentation: https://pandas.pydata.org/pandas-docs/stable/user_guide/indexing.html#returning-a-view-versus-a-copy\n",
      "  df['location.coordinates.lon'][i]=df1['location'][i]['coordinates'][0]\n",
      "C:\\Users\\dusng\\AppData\\Local\\Temp\\ipykernel_3364\\2258611513.py:31: SettingWithCopyWarning: \n",
      "A value is trying to be set on a copy of a slice from a DataFrame\n",
      "\n",
      "See the caveats in the documentation: https://pandas.pydata.org/pandas-docs/stable/user_guide/indexing.html#returning-a-view-versus-a-copy\n",
      "  df['location.coordinates.lat'][i]=df1['location'][i]['coordinates'][1]\n",
      "c:\\Users\\dusng\\mambaforge\\lib\\site-packages\\geopandas\\array.py:1406: UserWarning: CRS not set for some of the concatenation inputs. Setting output's CRS as WGS 84 (the single non-null crs provided).\n",
      "  warnings.warn(\n",
      "c:\\Users\\dusng\\mambaforge\\lib\\site-packages\\geopandas\\array.py:1406: UserWarning: CRS not set for some of the concatenation inputs. Setting output's CRS as WGS 84 (the single non-null crs provided).\n",
      "  warnings.warn(\n"
     ]
    },
    {
     "name": "stdout",
     "output_type": "stream",
     "text": [
      "9\n"
     ]
    },
    {
     "name": "stderr",
     "output_type": "stream",
     "text": [
      "C:\\Users\\dusng\\AppData\\Local\\Temp\\ipykernel_3364\\2258611513.py:30: SettingWithCopyWarning: \n",
      "A value is trying to be set on a copy of a slice from a DataFrame\n",
      "\n",
      "See the caveats in the documentation: https://pandas.pydata.org/pandas-docs/stable/user_guide/indexing.html#returning-a-view-versus-a-copy\n",
      "  df['location.coordinates.lon'][i]=df1['location'][i]['coordinates'][0]\n",
      "C:\\Users\\dusng\\AppData\\Local\\Temp\\ipykernel_3364\\2258611513.py:31: SettingWithCopyWarning: \n",
      "A value is trying to be set on a copy of a slice from a DataFrame\n",
      "\n",
      "See the caveats in the documentation: https://pandas.pydata.org/pandas-docs/stable/user_guide/indexing.html#returning-a-view-versus-a-copy\n",
      "  df['location.coordinates.lat'][i]=df1['location'][i]['coordinates'][1]\n",
      "c:\\Users\\dusng\\mambaforge\\lib\\site-packages\\geopandas\\array.py:1406: UserWarning: CRS not set for some of the concatenation inputs. Setting output's CRS as WGS 84 (the single non-null crs provided).\n",
      "  warnings.warn(\n",
      "c:\\Users\\dusng\\mambaforge\\lib\\site-packages\\geopandas\\array.py:1406: UserWarning: CRS not set for some of the concatenation inputs. Setting output's CRS as WGS 84 (the single non-null crs provided).\n",
      "  warnings.warn(\n"
     ]
    },
    {
     "name": "stdout",
     "output_type": "stream",
     "text": [
      "80\n"
     ]
    },
    {
     "name": "stderr",
     "output_type": "stream",
     "text": [
      "C:\\Users\\dusng\\AppData\\Local\\Temp\\ipykernel_3364\\2258611513.py:30: SettingWithCopyWarning: \n",
      "A value is trying to be set on a copy of a slice from a DataFrame\n",
      "\n",
      "See the caveats in the documentation: https://pandas.pydata.org/pandas-docs/stable/user_guide/indexing.html#returning-a-view-versus-a-copy\n",
      "  df['location.coordinates.lon'][i]=df1['location'][i]['coordinates'][0]\n",
      "C:\\Users\\dusng\\AppData\\Local\\Temp\\ipykernel_3364\\2258611513.py:31: SettingWithCopyWarning: \n",
      "A value is trying to be set on a copy of a slice from a DataFrame\n",
      "\n",
      "See the caveats in the documentation: https://pandas.pydata.org/pandas-docs/stable/user_guide/indexing.html#returning-a-view-versus-a-copy\n",
      "  df['location.coordinates.lat'][i]=df1['location'][i]['coordinates'][1]\n",
      "c:\\Users\\dusng\\mambaforge\\lib\\site-packages\\geopandas\\array.py:1406: UserWarning: CRS not set for some of the concatenation inputs. Setting output's CRS as WGS 84 (the single non-null crs provided).\n",
      "  warnings.warn(\n",
      "c:\\Users\\dusng\\mambaforge\\lib\\site-packages\\geopandas\\array.py:1406: UserWarning: CRS not set for some of the concatenation inputs. Setting output's CRS as WGS 84 (the single non-null crs provided).\n",
      "  warnings.warn(\n"
     ]
    },
    {
     "name": "stdout",
     "output_type": "stream",
     "text": [
      "45\n"
     ]
    },
    {
     "name": "stderr",
     "output_type": "stream",
     "text": [
      "C:\\Users\\dusng\\AppData\\Local\\Temp\\ipykernel_3364\\2258611513.py:30: SettingWithCopyWarning: \n",
      "A value is trying to be set on a copy of a slice from a DataFrame\n",
      "\n",
      "See the caveats in the documentation: https://pandas.pydata.org/pandas-docs/stable/user_guide/indexing.html#returning-a-view-versus-a-copy\n",
      "  df['location.coordinates.lon'][i]=df1['location'][i]['coordinates'][0]\n",
      "C:\\Users\\dusng\\AppData\\Local\\Temp\\ipykernel_3364\\2258611513.py:31: SettingWithCopyWarning: \n",
      "A value is trying to be set on a copy of a slice from a DataFrame\n",
      "\n",
      "See the caveats in the documentation: https://pandas.pydata.org/pandas-docs/stable/user_guide/indexing.html#returning-a-view-versus-a-copy\n",
      "  df['location.coordinates.lat'][i]=df1['location'][i]['coordinates'][1]\n",
      "c:\\Users\\dusng\\mambaforge\\lib\\site-packages\\geopandas\\array.py:1406: UserWarning: CRS not set for some of the concatenation inputs. Setting output's CRS as WGS 84 (the single non-null crs provided).\n",
      "  warnings.warn(\n",
      "c:\\Users\\dusng\\mambaforge\\lib\\site-packages\\geopandas\\array.py:1406: UserWarning: CRS not set for some of the concatenation inputs. Setting output's CRS as WGS 84 (the single non-null crs provided).\n",
      "  warnings.warn(\n"
     ]
    },
    {
     "name": "stdout",
     "output_type": "stream",
     "text": [
      "46\n"
     ]
    },
    {
     "name": "stderr",
     "output_type": "stream",
     "text": [
      "C:\\Users\\dusng\\AppData\\Local\\Temp\\ipykernel_3364\\2258611513.py:30: SettingWithCopyWarning: \n",
      "A value is trying to be set on a copy of a slice from a DataFrame\n",
      "\n",
      "See the caveats in the documentation: https://pandas.pydata.org/pandas-docs/stable/user_guide/indexing.html#returning-a-view-versus-a-copy\n",
      "  df['location.coordinates.lon'][i]=df1['location'][i]['coordinates'][0]\n",
      "C:\\Users\\dusng\\AppData\\Local\\Temp\\ipykernel_3364\\2258611513.py:31: SettingWithCopyWarning: \n",
      "A value is trying to be set on a copy of a slice from a DataFrame\n",
      "\n",
      "See the caveats in the documentation: https://pandas.pydata.org/pandas-docs/stable/user_guide/indexing.html#returning-a-view-versus-a-copy\n",
      "  df['location.coordinates.lat'][i]=df1['location'][i]['coordinates'][1]\n",
      "c:\\Users\\dusng\\mambaforge\\lib\\site-packages\\geopandas\\array.py:1406: UserWarning: CRS not set for some of the concatenation inputs. Setting output's CRS as WGS 84 (the single non-null crs provided).\n",
      "  warnings.warn(\n",
      "c:\\Users\\dusng\\mambaforge\\lib\\site-packages\\geopandas\\array.py:1406: UserWarning: CRS not set for some of the concatenation inputs. Setting output's CRS as WGS 84 (the single non-null crs provided).\n",
      "  warnings.warn(\n"
     ]
    },
    {
     "name": "stdout",
     "output_type": "stream",
     "text": [
      "22\n"
     ]
    },
    {
     "name": "stderr",
     "output_type": "stream",
     "text": [
      "C:\\Users\\dusng\\AppData\\Local\\Temp\\ipykernel_3364\\2258611513.py:30: SettingWithCopyWarning: \n",
      "A value is trying to be set on a copy of a slice from a DataFrame\n",
      "\n",
      "See the caveats in the documentation: https://pandas.pydata.org/pandas-docs/stable/user_guide/indexing.html#returning-a-view-versus-a-copy\n",
      "  df['location.coordinates.lon'][i]=df1['location'][i]['coordinates'][0]\n",
      "C:\\Users\\dusng\\AppData\\Local\\Temp\\ipykernel_3364\\2258611513.py:31: SettingWithCopyWarning: \n",
      "A value is trying to be set on a copy of a slice from a DataFrame\n",
      "\n",
      "See the caveats in the documentation: https://pandas.pydata.org/pandas-docs/stable/user_guide/indexing.html#returning-a-view-versus-a-copy\n",
      "  df['location.coordinates.lat'][i]=df1['location'][i]['coordinates'][1]\n",
      "c:\\Users\\dusng\\mambaforge\\lib\\site-packages\\geopandas\\array.py:1406: UserWarning: CRS not set for some of the concatenation inputs. Setting output's CRS as WGS 84 (the single non-null crs provided).\n",
      "  warnings.warn(\n",
      "c:\\Users\\dusng\\mambaforge\\lib\\site-packages\\geopandas\\array.py:1406: UserWarning: CRS not set for some of the concatenation inputs. Setting output's CRS as WGS 84 (the single non-null crs provided).\n",
      "  warnings.warn(\n"
     ]
    },
    {
     "name": "stdout",
     "output_type": "stream",
     "text": [
      "144\n"
     ]
    },
    {
     "name": "stderr",
     "output_type": "stream",
     "text": [
      "C:\\Users\\dusng\\AppData\\Local\\Temp\\ipykernel_3364\\2258611513.py:30: SettingWithCopyWarning: \n",
      "A value is trying to be set on a copy of a slice from a DataFrame\n",
      "\n",
      "See the caveats in the documentation: https://pandas.pydata.org/pandas-docs/stable/user_guide/indexing.html#returning-a-view-versus-a-copy\n",
      "  df['location.coordinates.lon'][i]=df1['location'][i]['coordinates'][0]\n",
      "C:\\Users\\dusng\\AppData\\Local\\Temp\\ipykernel_3364\\2258611513.py:31: SettingWithCopyWarning: \n",
      "A value is trying to be set on a copy of a slice from a DataFrame\n",
      "\n",
      "See the caveats in the documentation: https://pandas.pydata.org/pandas-docs/stable/user_guide/indexing.html#returning-a-view-versus-a-copy\n",
      "  df['location.coordinates.lat'][i]=df1['location'][i]['coordinates'][1]\n",
      "c:\\Users\\dusng\\mambaforge\\lib\\site-packages\\geopandas\\array.py:1406: UserWarning: CRS not set for some of the concatenation inputs. Setting output's CRS as WGS 84 (the single non-null crs provided).\n",
      "  warnings.warn(\n",
      "c:\\Users\\dusng\\mambaforge\\lib\\site-packages\\geopandas\\array.py:1406: UserWarning: CRS not set for some of the concatenation inputs. Setting output's CRS as WGS 84 (the single non-null crs provided).\n",
      "  warnings.warn(\n"
     ]
    },
    {
     "name": "stdout",
     "output_type": "stream",
     "text": [
      "66\n"
     ]
    },
    {
     "name": "stderr",
     "output_type": "stream",
     "text": [
      "C:\\Users\\dusng\\AppData\\Local\\Temp\\ipykernel_3364\\2258611513.py:30: SettingWithCopyWarning: \n",
      "A value is trying to be set on a copy of a slice from a DataFrame\n",
      "\n",
      "See the caveats in the documentation: https://pandas.pydata.org/pandas-docs/stable/user_guide/indexing.html#returning-a-view-versus-a-copy\n",
      "  df['location.coordinates.lon'][i]=df1['location'][i]['coordinates'][0]\n",
      "C:\\Users\\dusng\\AppData\\Local\\Temp\\ipykernel_3364\\2258611513.py:31: SettingWithCopyWarning: \n",
      "A value is trying to be set on a copy of a slice from a DataFrame\n",
      "\n",
      "See the caveats in the documentation: https://pandas.pydata.org/pandas-docs/stable/user_guide/indexing.html#returning-a-view-versus-a-copy\n",
      "  df['location.coordinates.lat'][i]=df1['location'][i]['coordinates'][1]\n",
      "c:\\Users\\dusng\\mambaforge\\lib\\site-packages\\geopandas\\array.py:1406: UserWarning: CRS not set for some of the concatenation inputs. Setting output's CRS as WGS 84 (the single non-null crs provided).\n",
      "  warnings.warn(\n",
      "c:\\Users\\dusng\\mambaforge\\lib\\site-packages\\geopandas\\array.py:1406: UserWarning: CRS not set for some of the concatenation inputs. Setting output's CRS as WGS 84 (the single non-null crs provided).\n",
      "  warnings.warn(\n"
     ]
    },
    {
     "name": "stdout",
     "output_type": "stream",
     "text": [
      "182\n"
     ]
    },
    {
     "name": "stderr",
     "output_type": "stream",
     "text": [
      "C:\\Users\\dusng\\AppData\\Local\\Temp\\ipykernel_3364\\2258611513.py:30: SettingWithCopyWarning: \n",
      "A value is trying to be set on a copy of a slice from a DataFrame\n",
      "\n",
      "See the caveats in the documentation: https://pandas.pydata.org/pandas-docs/stable/user_guide/indexing.html#returning-a-view-versus-a-copy\n",
      "  df['location.coordinates.lon'][i]=df1['location'][i]['coordinates'][0]\n",
      "C:\\Users\\dusng\\AppData\\Local\\Temp\\ipykernel_3364\\2258611513.py:31: SettingWithCopyWarning: \n",
      "A value is trying to be set on a copy of a slice from a DataFrame\n",
      "\n",
      "See the caveats in the documentation: https://pandas.pydata.org/pandas-docs/stable/user_guide/indexing.html#returning-a-view-versus-a-copy\n",
      "  df['location.coordinates.lat'][i]=df1['location'][i]['coordinates'][1]\n",
      "c:\\Users\\dusng\\mambaforge\\lib\\site-packages\\geopandas\\array.py:1406: UserWarning: CRS not set for some of the concatenation inputs. Setting output's CRS as WGS 84 (the single non-null crs provided).\n",
      "  warnings.warn(\n",
      "c:\\Users\\dusng\\mambaforge\\lib\\site-packages\\geopandas\\array.py:1406: UserWarning: CRS not set for some of the concatenation inputs. Setting output's CRS as WGS 84 (the single non-null crs provided).\n",
      "  warnings.warn(\n"
     ]
    },
    {
     "name": "stdout",
     "output_type": "stream",
     "text": [
      "79\n"
     ]
    },
    {
     "name": "stderr",
     "output_type": "stream",
     "text": [
      "C:\\Users\\dusng\\AppData\\Local\\Temp\\ipykernel_3364\\2258611513.py:30: SettingWithCopyWarning: \n",
      "A value is trying to be set on a copy of a slice from a DataFrame\n",
      "\n",
      "See the caveats in the documentation: https://pandas.pydata.org/pandas-docs/stable/user_guide/indexing.html#returning-a-view-versus-a-copy\n",
      "  df['location.coordinates.lon'][i]=df1['location'][i]['coordinates'][0]\n",
      "C:\\Users\\dusng\\AppData\\Local\\Temp\\ipykernel_3364\\2258611513.py:31: SettingWithCopyWarning: \n",
      "A value is trying to be set on a copy of a slice from a DataFrame\n",
      "\n",
      "See the caveats in the documentation: https://pandas.pydata.org/pandas-docs/stable/user_guide/indexing.html#returning-a-view-versus-a-copy\n",
      "  df['location.coordinates.lat'][i]=df1['location'][i]['coordinates'][1]\n",
      "c:\\Users\\dusng\\mambaforge\\lib\\site-packages\\geopandas\\array.py:1406: UserWarning: CRS not set for some of the concatenation inputs. Setting output's CRS as WGS 84 (the single non-null crs provided).\n",
      "  warnings.warn(\n",
      "c:\\Users\\dusng\\mambaforge\\lib\\site-packages\\geopandas\\array.py:1406: UserWarning: CRS not set for some of the concatenation inputs. Setting output's CRS as WGS 84 (the single non-null crs provided).\n",
      "  warnings.warn(\n"
     ]
    },
    {
     "name": "stdout",
     "output_type": "stream",
     "text": [
      "320\n"
     ]
    },
    {
     "name": "stderr",
     "output_type": "stream",
     "text": [
      "C:\\Users\\dusng\\AppData\\Local\\Temp\\ipykernel_3364\\2258611513.py:30: SettingWithCopyWarning: \n",
      "A value is trying to be set on a copy of a slice from a DataFrame\n",
      "\n",
      "See the caveats in the documentation: https://pandas.pydata.org/pandas-docs/stable/user_guide/indexing.html#returning-a-view-versus-a-copy\n",
      "  df['location.coordinates.lon'][i]=df1['location'][i]['coordinates'][0]\n",
      "C:\\Users\\dusng\\AppData\\Local\\Temp\\ipykernel_3364\\2258611513.py:31: SettingWithCopyWarning: \n",
      "A value is trying to be set on a copy of a slice from a DataFrame\n",
      "\n",
      "See the caveats in the documentation: https://pandas.pydata.org/pandas-docs/stable/user_guide/indexing.html#returning-a-view-versus-a-copy\n",
      "  df['location.coordinates.lat'][i]=df1['location'][i]['coordinates'][1]\n",
      "c:\\Users\\dusng\\mambaforge\\lib\\site-packages\\geopandas\\array.py:1406: UserWarning: CRS not set for some of the concatenation inputs. Setting output's CRS as WGS 84 (the single non-null crs provided).\n",
      "  warnings.warn(\n",
      "c:\\Users\\dusng\\mambaforge\\lib\\site-packages\\geopandas\\array.py:1406: UserWarning: CRS not set for some of the concatenation inputs. Setting output's CRS as WGS 84 (the single non-null crs provided).\n",
      "  warnings.warn(\n"
     ]
    },
    {
     "name": "stdout",
     "output_type": "stream",
     "text": [
      "130\n"
     ]
    },
    {
     "name": "stderr",
     "output_type": "stream",
     "text": [
      "C:\\Users\\dusng\\AppData\\Local\\Temp\\ipykernel_3364\\2258611513.py:30: SettingWithCopyWarning: \n",
      "A value is trying to be set on a copy of a slice from a DataFrame\n",
      "\n",
      "See the caveats in the documentation: https://pandas.pydata.org/pandas-docs/stable/user_guide/indexing.html#returning-a-view-versus-a-copy\n",
      "  df['location.coordinates.lon'][i]=df1['location'][i]['coordinates'][0]\n",
      "C:\\Users\\dusng\\AppData\\Local\\Temp\\ipykernel_3364\\2258611513.py:31: SettingWithCopyWarning: \n",
      "A value is trying to be set on a copy of a slice from a DataFrame\n",
      "\n",
      "See the caveats in the documentation: https://pandas.pydata.org/pandas-docs/stable/user_guide/indexing.html#returning-a-view-versus-a-copy\n",
      "  df['location.coordinates.lat'][i]=df1['location'][i]['coordinates'][1]\n",
      "c:\\Users\\dusng\\mambaforge\\lib\\site-packages\\geopandas\\array.py:1406: UserWarning: CRS not set for some of the concatenation inputs. Setting output's CRS as WGS 84 (the single non-null crs provided).\n",
      "  warnings.warn(\n",
      "c:\\Users\\dusng\\mambaforge\\lib\\site-packages\\geopandas\\array.py:1406: UserWarning: CRS not set for some of the concatenation inputs. Setting output's CRS as WGS 84 (the single non-null crs provided).\n",
      "  warnings.warn(\n"
     ]
    },
    {
     "name": "stdout",
     "output_type": "stream",
     "text": [
      "282\n"
     ]
    },
    {
     "name": "stderr",
     "output_type": "stream",
     "text": [
      "C:\\Users\\dusng\\AppData\\Local\\Temp\\ipykernel_3364\\2258611513.py:30: SettingWithCopyWarning: \n",
      "A value is trying to be set on a copy of a slice from a DataFrame\n",
      "\n",
      "See the caveats in the documentation: https://pandas.pydata.org/pandas-docs/stable/user_guide/indexing.html#returning-a-view-versus-a-copy\n",
      "  df['location.coordinates.lon'][i]=df1['location'][i]['coordinates'][0]\n",
      "C:\\Users\\dusng\\AppData\\Local\\Temp\\ipykernel_3364\\2258611513.py:31: SettingWithCopyWarning: \n",
      "A value is trying to be set on a copy of a slice from a DataFrame\n",
      "\n",
      "See the caveats in the documentation: https://pandas.pydata.org/pandas-docs/stable/user_guide/indexing.html#returning-a-view-versus-a-copy\n",
      "  df['location.coordinates.lat'][i]=df1['location'][i]['coordinates'][1]\n",
      "c:\\Users\\dusng\\mambaforge\\lib\\site-packages\\geopandas\\array.py:1406: UserWarning: CRS not set for some of the concatenation inputs. Setting output's CRS as WGS 84 (the single non-null crs provided).\n",
      "  warnings.warn(\n",
      "c:\\Users\\dusng\\mambaforge\\lib\\site-packages\\geopandas\\array.py:1406: UserWarning: CRS not set for some of the concatenation inputs. Setting output's CRS as WGS 84 (the single non-null crs provided).\n",
      "  warnings.warn(\n"
     ]
    },
    {
     "name": "stdout",
     "output_type": "stream",
     "text": [
      "113\n"
     ]
    },
    {
     "name": "stderr",
     "output_type": "stream",
     "text": [
      "C:\\Users\\dusng\\AppData\\Local\\Temp\\ipykernel_3364\\2258611513.py:30: SettingWithCopyWarning: \n",
      "A value is trying to be set on a copy of a slice from a DataFrame\n",
      "\n",
      "See the caveats in the documentation: https://pandas.pydata.org/pandas-docs/stable/user_guide/indexing.html#returning-a-view-versus-a-copy\n",
      "  df['location.coordinates.lon'][i]=df1['location'][i]['coordinates'][0]\n",
      "C:\\Users\\dusng\\AppData\\Local\\Temp\\ipykernel_3364\\2258611513.py:31: SettingWithCopyWarning: \n",
      "A value is trying to be set on a copy of a slice from a DataFrame\n",
      "\n",
      "See the caveats in the documentation: https://pandas.pydata.org/pandas-docs/stable/user_guide/indexing.html#returning-a-view-versus-a-copy\n",
      "  df['location.coordinates.lat'][i]=df1['location'][i]['coordinates'][1]\n",
      "c:\\Users\\dusng\\mambaforge\\lib\\site-packages\\geopandas\\array.py:1406: UserWarning: CRS not set for some of the concatenation inputs. Setting output's CRS as WGS 84 (the single non-null crs provided).\n",
      "  warnings.warn(\n",
      "c:\\Users\\dusng\\mambaforge\\lib\\site-packages\\geopandas\\array.py:1406: UserWarning: CRS not set for some of the concatenation inputs. Setting output's CRS as WGS 84 (the single non-null crs provided).\n",
      "  warnings.warn(\n"
     ]
    },
    {
     "name": "stdout",
     "output_type": "stream",
     "text": [
      "148\n"
     ]
    },
    {
     "name": "stderr",
     "output_type": "stream",
     "text": [
      "C:\\Users\\dusng\\AppData\\Local\\Temp\\ipykernel_3364\\2258611513.py:30: SettingWithCopyWarning: \n",
      "A value is trying to be set on a copy of a slice from a DataFrame\n",
      "\n",
      "See the caveats in the documentation: https://pandas.pydata.org/pandas-docs/stable/user_guide/indexing.html#returning-a-view-versus-a-copy\n",
      "  df['location.coordinates.lon'][i]=df1['location'][i]['coordinates'][0]\n",
      "C:\\Users\\dusng\\AppData\\Local\\Temp\\ipykernel_3364\\2258611513.py:31: SettingWithCopyWarning: \n",
      "A value is trying to be set on a copy of a slice from a DataFrame\n",
      "\n",
      "See the caveats in the documentation: https://pandas.pydata.org/pandas-docs/stable/user_guide/indexing.html#returning-a-view-versus-a-copy\n",
      "  df['location.coordinates.lat'][i]=df1['location'][i]['coordinates'][1]\n",
      "c:\\Users\\dusng\\mambaforge\\lib\\site-packages\\geopandas\\array.py:1406: UserWarning: CRS not set for some of the concatenation inputs. Setting output's CRS as WGS 84 (the single non-null crs provided).\n",
      "  warnings.warn(\n",
      "c:\\Users\\dusng\\mambaforge\\lib\\site-packages\\geopandas\\array.py:1406: UserWarning: CRS not set for some of the concatenation inputs. Setting output's CRS as WGS 84 (the single non-null crs provided).\n",
      "  warnings.warn(\n"
     ]
    },
    {
     "name": "stdout",
     "output_type": "stream",
     "text": [
      "380\n"
     ]
    },
    {
     "name": "stderr",
     "output_type": "stream",
     "text": [
      "C:\\Users\\dusng\\AppData\\Local\\Temp\\ipykernel_3364\\2258611513.py:30: SettingWithCopyWarning: \n",
      "A value is trying to be set on a copy of a slice from a DataFrame\n",
      "\n",
      "See the caveats in the documentation: https://pandas.pydata.org/pandas-docs/stable/user_guide/indexing.html#returning-a-view-versus-a-copy\n",
      "  df['location.coordinates.lon'][i]=df1['location'][i]['coordinates'][0]\n",
      "C:\\Users\\dusng\\AppData\\Local\\Temp\\ipykernel_3364\\2258611513.py:31: SettingWithCopyWarning: \n",
      "A value is trying to be set on a copy of a slice from a DataFrame\n",
      "\n",
      "See the caveats in the documentation: https://pandas.pydata.org/pandas-docs/stable/user_guide/indexing.html#returning-a-view-versus-a-copy\n",
      "  df['location.coordinates.lat'][i]=df1['location'][i]['coordinates'][1]\n",
      "c:\\Users\\dusng\\mambaforge\\lib\\site-packages\\geopandas\\array.py:1406: UserWarning: CRS not set for some of the concatenation inputs. Setting output's CRS as WGS 84 (the single non-null crs provided).\n",
      "  warnings.warn(\n",
      "c:\\Users\\dusng\\mambaforge\\lib\\site-packages\\geopandas\\array.py:1406: UserWarning: CRS not set for some of the concatenation inputs. Setting output's CRS as WGS 84 (the single non-null crs provided).\n",
      "  warnings.warn(\n"
     ]
    },
    {
     "name": "stdout",
     "output_type": "stream",
     "text": [
      "40\n"
     ]
    },
    {
     "name": "stderr",
     "output_type": "stream",
     "text": [
      "C:\\Users\\dusng\\AppData\\Local\\Temp\\ipykernel_3364\\2258611513.py:30: SettingWithCopyWarning: \n",
      "A value is trying to be set on a copy of a slice from a DataFrame\n",
      "\n",
      "See the caveats in the documentation: https://pandas.pydata.org/pandas-docs/stable/user_guide/indexing.html#returning-a-view-versus-a-copy\n",
      "  df['location.coordinates.lon'][i]=df1['location'][i]['coordinates'][0]\n",
      "C:\\Users\\dusng\\AppData\\Local\\Temp\\ipykernel_3364\\2258611513.py:31: SettingWithCopyWarning: \n",
      "A value is trying to be set on a copy of a slice from a DataFrame\n",
      "\n",
      "See the caveats in the documentation: https://pandas.pydata.org/pandas-docs/stable/user_guide/indexing.html#returning-a-view-versus-a-copy\n",
      "  df['location.coordinates.lat'][i]=df1['location'][i]['coordinates'][1]\n",
      "c:\\Users\\dusng\\mambaforge\\lib\\site-packages\\geopandas\\array.py:1406: UserWarning: CRS not set for some of the concatenation inputs. Setting output's CRS as WGS 84 (the single non-null crs provided).\n",
      "  warnings.warn(\n",
      "c:\\Users\\dusng\\mambaforge\\lib\\site-packages\\geopandas\\array.py:1406: UserWarning: CRS not set for some of the concatenation inputs. Setting output's CRS as WGS 84 (the single non-null crs provided).\n",
      "  warnings.warn(\n"
     ]
    },
    {
     "name": "stdout",
     "output_type": "stream",
     "text": [
      "58\n"
     ]
    },
    {
     "name": "stderr",
     "output_type": "stream",
     "text": [
      "C:\\Users\\dusng\\AppData\\Local\\Temp\\ipykernel_3364\\2258611513.py:30: SettingWithCopyWarning: \n",
      "A value is trying to be set on a copy of a slice from a DataFrame\n",
      "\n",
      "See the caveats in the documentation: https://pandas.pydata.org/pandas-docs/stable/user_guide/indexing.html#returning-a-view-versus-a-copy\n",
      "  df['location.coordinates.lon'][i]=df1['location'][i]['coordinates'][0]\n",
      "C:\\Users\\dusng\\AppData\\Local\\Temp\\ipykernel_3364\\2258611513.py:31: SettingWithCopyWarning: \n",
      "A value is trying to be set on a copy of a slice from a DataFrame\n",
      "\n",
      "See the caveats in the documentation: https://pandas.pydata.org/pandas-docs/stable/user_guide/indexing.html#returning-a-view-versus-a-copy\n",
      "  df['location.coordinates.lat'][i]=df1['location'][i]['coordinates'][1]\n",
      "c:\\Users\\dusng\\mambaforge\\lib\\site-packages\\geopandas\\array.py:1406: UserWarning: CRS not set for some of the concatenation inputs. Setting output's CRS as WGS 84 (the single non-null crs provided).\n",
      "  warnings.warn(\n",
      "c:\\Users\\dusng\\mambaforge\\lib\\site-packages\\geopandas\\array.py:1406: UserWarning: CRS not set for some of the concatenation inputs. Setting output's CRS as WGS 84 (the single non-null crs provided).\n",
      "  warnings.warn(\n"
     ]
    },
    {
     "name": "stdout",
     "output_type": "stream",
     "text": [
      "131\n"
     ]
    },
    {
     "name": "stderr",
     "output_type": "stream",
     "text": [
      "C:\\Users\\dusng\\AppData\\Local\\Temp\\ipykernel_3364\\2258611513.py:30: SettingWithCopyWarning: \n",
      "A value is trying to be set on a copy of a slice from a DataFrame\n",
      "\n",
      "See the caveats in the documentation: https://pandas.pydata.org/pandas-docs/stable/user_guide/indexing.html#returning-a-view-versus-a-copy\n",
      "  df['location.coordinates.lon'][i]=df1['location'][i]['coordinates'][0]\n",
      "C:\\Users\\dusng\\AppData\\Local\\Temp\\ipykernel_3364\\2258611513.py:31: SettingWithCopyWarning: \n",
      "A value is trying to be set on a copy of a slice from a DataFrame\n",
      "\n",
      "See the caveats in the documentation: https://pandas.pydata.org/pandas-docs/stable/user_guide/indexing.html#returning-a-view-versus-a-copy\n",
      "  df['location.coordinates.lat'][i]=df1['location'][i]['coordinates'][1]\n",
      "c:\\Users\\dusng\\mambaforge\\lib\\site-packages\\geopandas\\array.py:1406: UserWarning: CRS not set for some of the concatenation inputs. Setting output's CRS as WGS 84 (the single non-null crs provided).\n",
      "  warnings.warn(\n",
      "c:\\Users\\dusng\\mambaforge\\lib\\site-packages\\geopandas\\array.py:1406: UserWarning: CRS not set for some of the concatenation inputs. Setting output's CRS as WGS 84 (the single non-null crs provided).\n",
      "  warnings.warn(\n"
     ]
    },
    {
     "name": "stdout",
     "output_type": "stream",
     "text": [
      "54\n",
      "194\n"
     ]
    },
    {
     "name": "stderr",
     "output_type": "stream",
     "text": [
      "C:\\Users\\dusng\\AppData\\Local\\Temp\\ipykernel_3364\\2258611513.py:30: SettingWithCopyWarning: \n",
      "A value is trying to be set on a copy of a slice from a DataFrame\n",
      "\n",
      "See the caveats in the documentation: https://pandas.pydata.org/pandas-docs/stable/user_guide/indexing.html#returning-a-view-versus-a-copy\n",
      "  df['location.coordinates.lon'][i]=df1['location'][i]['coordinates'][0]\n",
      "C:\\Users\\dusng\\AppData\\Local\\Temp\\ipykernel_3364\\2258611513.py:31: SettingWithCopyWarning: \n",
      "A value is trying to be set on a copy of a slice from a DataFrame\n",
      "\n",
      "See the caveats in the documentation: https://pandas.pydata.org/pandas-docs/stable/user_guide/indexing.html#returning-a-view-versus-a-copy\n",
      "  df['location.coordinates.lat'][i]=df1['location'][i]['coordinates'][1]\n",
      "c:\\Users\\dusng\\mambaforge\\lib\\site-packages\\geopandas\\array.py:1406: UserWarning: CRS not set for some of the concatenation inputs. Setting output's CRS as WGS 84 (the single non-null crs provided).\n",
      "  warnings.warn(\n",
      "c:\\Users\\dusng\\mambaforge\\lib\\site-packages\\geopandas\\array.py:1406: UserWarning: CRS not set for some of the concatenation inputs. Setting output's CRS as WGS 84 (the single non-null crs provided).\n",
      "  warnings.warn(\n",
      "C:\\Users\\dusng\\AppData\\Local\\Temp\\ipykernel_3364\\2258611513.py:30: SettingWithCopyWarning: \n",
      "A value is trying to be set on a copy of a slice from a DataFrame\n",
      "\n",
      "See the caveats in the documentation: https://pandas.pydata.org/pandas-docs/stable/user_guide/indexing.html#returning-a-view-versus-a-copy\n",
      "  df['location.coordinates.lon'][i]=df1['location'][i]['coordinates'][0]\n",
      "C:\\Users\\dusng\\AppData\\Local\\Temp\\ipykernel_3364\\2258611513.py:31: SettingWithCopyWarning: \n",
      "A value is trying to be set on a copy of a slice from a DataFrame\n",
      "\n",
      "See the caveats in the documentation: https://pandas.pydata.org/pandas-docs/stable/user_guide/indexing.html#returning-a-view-versus-a-copy\n",
      "  df['location.coordinates.lat'][i]=df1['location'][i]['coordinates'][1]\n",
      "c:\\Users\\dusng\\mambaforge\\lib\\site-packages\\geopandas\\array.py:1406: UserWarning: CRS not set for some of the concatenation inputs. Setting output's CRS as WGS 84 (the single non-null crs provided).\n",
      "  warnings.warn(\n",
      "c:\\Users\\dusng\\mambaforge\\lib\\site-packages\\geopandas\\array.py:1406: UserWarning: CRS not set for some of the concatenation inputs. Setting output's CRS as WGS 84 (the single non-null crs provided).\n",
      "  warnings.warn(\n"
     ]
    },
    {
     "name": "stdout",
     "output_type": "stream",
     "text": [
      "213\n"
     ]
    },
    {
     "name": "stderr",
     "output_type": "stream",
     "text": [
      "C:\\Users\\dusng\\AppData\\Local\\Temp\\ipykernel_3364\\2258611513.py:30: SettingWithCopyWarning: \n",
      "A value is trying to be set on a copy of a slice from a DataFrame\n",
      "\n",
      "See the caveats in the documentation: https://pandas.pydata.org/pandas-docs/stable/user_guide/indexing.html#returning-a-view-versus-a-copy\n",
      "  df['location.coordinates.lon'][i]=df1['location'][i]['coordinates'][0]\n",
      "C:\\Users\\dusng\\AppData\\Local\\Temp\\ipykernel_3364\\2258611513.py:31: SettingWithCopyWarning: \n",
      "A value is trying to be set on a copy of a slice from a DataFrame\n",
      "\n",
      "See the caveats in the documentation: https://pandas.pydata.org/pandas-docs/stable/user_guide/indexing.html#returning-a-view-versus-a-copy\n",
      "  df['location.coordinates.lat'][i]=df1['location'][i]['coordinates'][1]\n",
      "c:\\Users\\dusng\\mambaforge\\lib\\site-packages\\geopandas\\array.py:1406: UserWarning: CRS not set for some of the concatenation inputs. Setting output's CRS as WGS 84 (the single non-null crs provided).\n",
      "  warnings.warn(\n",
      "c:\\Users\\dusng\\mambaforge\\lib\\site-packages\\geopandas\\array.py:1406: UserWarning: CRS not set for some of the concatenation inputs. Setting output's CRS as WGS 84 (the single non-null crs provided).\n",
      "  warnings.warn(\n"
     ]
    },
    {
     "name": "stdout",
     "output_type": "stream",
     "text": [
      "151\n"
     ]
    },
    {
     "name": "stderr",
     "output_type": "stream",
     "text": [
      "C:\\Users\\dusng\\AppData\\Local\\Temp\\ipykernel_3364\\2258611513.py:30: SettingWithCopyWarning: \n",
      "A value is trying to be set on a copy of a slice from a DataFrame\n",
      "\n",
      "See the caveats in the documentation: https://pandas.pydata.org/pandas-docs/stable/user_guide/indexing.html#returning-a-view-versus-a-copy\n",
      "  df['location.coordinates.lon'][i]=df1['location'][i]['coordinates'][0]\n",
      "C:\\Users\\dusng\\AppData\\Local\\Temp\\ipykernel_3364\\2258611513.py:31: SettingWithCopyWarning: \n",
      "A value is trying to be set on a copy of a slice from a DataFrame\n",
      "\n",
      "See the caveats in the documentation: https://pandas.pydata.org/pandas-docs/stable/user_guide/indexing.html#returning-a-view-versus-a-copy\n",
      "  df['location.coordinates.lat'][i]=df1['location'][i]['coordinates'][1]\n",
      "c:\\Users\\dusng\\mambaforge\\lib\\site-packages\\geopandas\\array.py:1406: UserWarning: CRS not set for some of the concatenation inputs. Setting output's CRS as WGS 84 (the single non-null crs provided).\n",
      "  warnings.warn(\n",
      "c:\\Users\\dusng\\mambaforge\\lib\\site-packages\\geopandas\\array.py:1406: UserWarning: CRS not set for some of the concatenation inputs. Setting output's CRS as WGS 84 (the single non-null crs provided).\n",
      "  warnings.warn(\n"
     ]
    },
    {
     "name": "stdout",
     "output_type": "stream",
     "text": [
      "245\n"
     ]
    },
    {
     "name": "stderr",
     "output_type": "stream",
     "text": [
      "C:\\Users\\dusng\\AppData\\Local\\Temp\\ipykernel_3364\\2258611513.py:30: SettingWithCopyWarning: \n",
      "A value is trying to be set on a copy of a slice from a DataFrame\n",
      "\n",
      "See the caveats in the documentation: https://pandas.pydata.org/pandas-docs/stable/user_guide/indexing.html#returning-a-view-versus-a-copy\n",
      "  df['location.coordinates.lon'][i]=df1['location'][i]['coordinates'][0]\n",
      "C:\\Users\\dusng\\AppData\\Local\\Temp\\ipykernel_3364\\2258611513.py:31: SettingWithCopyWarning: \n",
      "A value is trying to be set on a copy of a slice from a DataFrame\n",
      "\n",
      "See the caveats in the documentation: https://pandas.pydata.org/pandas-docs/stable/user_guide/indexing.html#returning-a-view-versus-a-copy\n",
      "  df['location.coordinates.lat'][i]=df1['location'][i]['coordinates'][1]\n",
      "c:\\Users\\dusng\\mambaforge\\lib\\site-packages\\geopandas\\array.py:1406: UserWarning: CRS not set for some of the concatenation inputs. Setting output's CRS as WGS 84 (the single non-null crs provided).\n",
      "  warnings.warn(\n",
      "c:\\Users\\dusng\\mambaforge\\lib\\site-packages\\geopandas\\array.py:1406: UserWarning: CRS not set for some of the concatenation inputs. Setting output's CRS as WGS 84 (the single non-null crs provided).\n",
      "  warnings.warn(\n"
     ]
    },
    {
     "name": "stdout",
     "output_type": "stream",
     "text": [
      "127\n"
     ]
    },
    {
     "name": "stderr",
     "output_type": "stream",
     "text": [
      "C:\\Users\\dusng\\AppData\\Local\\Temp\\ipykernel_3364\\2258611513.py:30: SettingWithCopyWarning: \n",
      "A value is trying to be set on a copy of a slice from a DataFrame\n",
      "\n",
      "See the caveats in the documentation: https://pandas.pydata.org/pandas-docs/stable/user_guide/indexing.html#returning-a-view-versus-a-copy\n",
      "  df['location.coordinates.lon'][i]=df1['location'][i]['coordinates'][0]\n",
      "C:\\Users\\dusng\\AppData\\Local\\Temp\\ipykernel_3364\\2258611513.py:31: SettingWithCopyWarning: \n",
      "A value is trying to be set on a copy of a slice from a DataFrame\n",
      "\n",
      "See the caveats in the documentation: https://pandas.pydata.org/pandas-docs/stable/user_guide/indexing.html#returning-a-view-versus-a-copy\n",
      "  df['location.coordinates.lat'][i]=df1['location'][i]['coordinates'][1]\n",
      "c:\\Users\\dusng\\mambaforge\\lib\\site-packages\\geopandas\\array.py:1406: UserWarning: CRS not set for some of the concatenation inputs. Setting output's CRS as WGS 84 (the single non-null crs provided).\n",
      "  warnings.warn(\n",
      "c:\\Users\\dusng\\mambaforge\\lib\\site-packages\\geopandas\\array.py:1406: UserWarning: CRS not set for some of the concatenation inputs. Setting output's CRS as WGS 84 (the single non-null crs provided).\n",
      "  warnings.warn(\n"
     ]
    },
    {
     "name": "stdout",
     "output_type": "stream",
     "text": [
      "252\n"
     ]
    },
    {
     "name": "stderr",
     "output_type": "stream",
     "text": [
      "C:\\Users\\dusng\\AppData\\Local\\Temp\\ipykernel_3364\\2258611513.py:30: SettingWithCopyWarning: \n",
      "A value is trying to be set on a copy of a slice from a DataFrame\n",
      "\n",
      "See the caveats in the documentation: https://pandas.pydata.org/pandas-docs/stable/user_guide/indexing.html#returning-a-view-versus-a-copy\n",
      "  df['location.coordinates.lon'][i]=df1['location'][i]['coordinates'][0]\n",
      "C:\\Users\\dusng\\AppData\\Local\\Temp\\ipykernel_3364\\2258611513.py:31: SettingWithCopyWarning: \n",
      "A value is trying to be set on a copy of a slice from a DataFrame\n",
      "\n",
      "See the caveats in the documentation: https://pandas.pydata.org/pandas-docs/stable/user_guide/indexing.html#returning-a-view-versus-a-copy\n",
      "  df['location.coordinates.lat'][i]=df1['location'][i]['coordinates'][1]\n",
      "c:\\Users\\dusng\\mambaforge\\lib\\site-packages\\geopandas\\array.py:1406: UserWarning: CRS not set for some of the concatenation inputs. Setting output's CRS as WGS 84 (the single non-null crs provided).\n",
      "  warnings.warn(\n",
      "c:\\Users\\dusng\\mambaforge\\lib\\site-packages\\geopandas\\array.py:1406: UserWarning: CRS not set for some of the concatenation inputs. Setting output's CRS as WGS 84 (the single non-null crs provided).\n",
      "  warnings.warn(\n"
     ]
    },
    {
     "name": "stdout",
     "output_type": "stream",
     "text": [
      "132\n"
     ]
    },
    {
     "name": "stderr",
     "output_type": "stream",
     "text": [
      "C:\\Users\\dusng\\AppData\\Local\\Temp\\ipykernel_3364\\2258611513.py:30: SettingWithCopyWarning: \n",
      "A value is trying to be set on a copy of a slice from a DataFrame\n",
      "\n",
      "See the caveats in the documentation: https://pandas.pydata.org/pandas-docs/stable/user_guide/indexing.html#returning-a-view-versus-a-copy\n",
      "  df['location.coordinates.lon'][i]=df1['location'][i]['coordinates'][0]\n",
      "C:\\Users\\dusng\\AppData\\Local\\Temp\\ipykernel_3364\\2258611513.py:31: SettingWithCopyWarning: \n",
      "A value is trying to be set on a copy of a slice from a DataFrame\n",
      "\n",
      "See the caveats in the documentation: https://pandas.pydata.org/pandas-docs/stable/user_guide/indexing.html#returning-a-view-versus-a-copy\n",
      "  df['location.coordinates.lat'][i]=df1['location'][i]['coordinates'][1]\n",
      "c:\\Users\\dusng\\mambaforge\\lib\\site-packages\\geopandas\\array.py:1406: UserWarning: CRS not set for some of the concatenation inputs. Setting output's CRS as WGS 84 (the single non-null crs provided).\n",
      "  warnings.warn(\n",
      "c:\\Users\\dusng\\mambaforge\\lib\\site-packages\\geopandas\\array.py:1406: UserWarning: CRS not set for some of the concatenation inputs. Setting output's CRS as WGS 84 (the single non-null crs provided).\n",
      "  warnings.warn(\n"
     ]
    },
    {
     "name": "stdout",
     "output_type": "stream",
     "text": [
      "72\n"
     ]
    },
    {
     "name": "stderr",
     "output_type": "stream",
     "text": [
      "C:\\Users\\dusng\\AppData\\Local\\Temp\\ipykernel_3364\\2258611513.py:30: SettingWithCopyWarning: \n",
      "A value is trying to be set on a copy of a slice from a DataFrame\n",
      "\n",
      "See the caveats in the documentation: https://pandas.pydata.org/pandas-docs/stable/user_guide/indexing.html#returning-a-view-versus-a-copy\n",
      "  df['location.coordinates.lon'][i]=df1['location'][i]['coordinates'][0]\n",
      "C:\\Users\\dusng\\AppData\\Local\\Temp\\ipykernel_3364\\2258611513.py:31: SettingWithCopyWarning: \n",
      "A value is trying to be set on a copy of a slice from a DataFrame\n",
      "\n",
      "See the caveats in the documentation: https://pandas.pydata.org/pandas-docs/stable/user_guide/indexing.html#returning-a-view-versus-a-copy\n",
      "  df['location.coordinates.lat'][i]=df1['location'][i]['coordinates'][1]\n",
      "c:\\Users\\dusng\\mambaforge\\lib\\site-packages\\geopandas\\array.py:1406: UserWarning: CRS not set for some of the concatenation inputs. Setting output's CRS as WGS 84 (the single non-null crs provided).\n",
      "  warnings.warn(\n",
      "c:\\Users\\dusng\\mambaforge\\lib\\site-packages\\geopandas\\array.py:1406: UserWarning: CRS not set for some of the concatenation inputs. Setting output's CRS as WGS 84 (the single non-null crs provided).\n",
      "  warnings.warn(\n"
     ]
    },
    {
     "name": "stdout",
     "output_type": "stream",
     "text": [
      "169\n"
     ]
    },
    {
     "name": "stderr",
     "output_type": "stream",
     "text": [
      "C:\\Users\\dusng\\AppData\\Local\\Temp\\ipykernel_3364\\2258611513.py:30: SettingWithCopyWarning: \n",
      "A value is trying to be set on a copy of a slice from a DataFrame\n",
      "\n",
      "See the caveats in the documentation: https://pandas.pydata.org/pandas-docs/stable/user_guide/indexing.html#returning-a-view-versus-a-copy\n",
      "  df['location.coordinates.lon'][i]=df1['location'][i]['coordinates'][0]\n",
      "C:\\Users\\dusng\\AppData\\Local\\Temp\\ipykernel_3364\\2258611513.py:31: SettingWithCopyWarning: \n",
      "A value is trying to be set on a copy of a slice from a DataFrame\n",
      "\n",
      "See the caveats in the documentation: https://pandas.pydata.org/pandas-docs/stable/user_guide/indexing.html#returning-a-view-versus-a-copy\n",
      "  df['location.coordinates.lat'][i]=df1['location'][i]['coordinates'][1]\n",
      "c:\\Users\\dusng\\mambaforge\\lib\\site-packages\\geopandas\\array.py:1406: UserWarning: CRS not set for some of the concatenation inputs. Setting output's CRS as WGS 84 (the single non-null crs provided).\n",
      "  warnings.warn(\n",
      "c:\\Users\\dusng\\mambaforge\\lib\\site-packages\\geopandas\\array.py:1406: UserWarning: CRS not set for some of the concatenation inputs. Setting output's CRS as WGS 84 (the single non-null crs provided).\n",
      "  warnings.warn(\n"
     ]
    },
    {
     "name": "stdout",
     "output_type": "stream",
     "text": [
      "249\n"
     ]
    },
    {
     "name": "stderr",
     "output_type": "stream",
     "text": [
      "C:\\Users\\dusng\\AppData\\Local\\Temp\\ipykernel_3364\\2258611513.py:30: SettingWithCopyWarning: \n",
      "A value is trying to be set on a copy of a slice from a DataFrame\n",
      "\n",
      "See the caveats in the documentation: https://pandas.pydata.org/pandas-docs/stable/user_guide/indexing.html#returning-a-view-versus-a-copy\n",
      "  df['location.coordinates.lon'][i]=df1['location'][i]['coordinates'][0]\n",
      "C:\\Users\\dusng\\AppData\\Local\\Temp\\ipykernel_3364\\2258611513.py:31: SettingWithCopyWarning: \n",
      "A value is trying to be set on a copy of a slice from a DataFrame\n",
      "\n",
      "See the caveats in the documentation: https://pandas.pydata.org/pandas-docs/stable/user_guide/indexing.html#returning-a-view-versus-a-copy\n",
      "  df['location.coordinates.lat'][i]=df1['location'][i]['coordinates'][1]\n",
      "c:\\Users\\dusng\\mambaforge\\lib\\site-packages\\geopandas\\array.py:1406: UserWarning: CRS not set for some of the concatenation inputs. Setting output's CRS as WGS 84 (the single non-null crs provided).\n",
      "  warnings.warn(\n",
      "c:\\Users\\dusng\\mambaforge\\lib\\site-packages\\geopandas\\array.py:1406: UserWarning: CRS not set for some of the concatenation inputs. Setting output's CRS as WGS 84 (the single non-null crs provided).\n",
      "  warnings.warn(\n"
     ]
    },
    {
     "name": "stdout",
     "output_type": "stream",
     "text": [
      "29\n"
     ]
    },
    {
     "name": "stderr",
     "output_type": "stream",
     "text": [
      "C:\\Users\\dusng\\AppData\\Local\\Temp\\ipykernel_3364\\2258611513.py:30: SettingWithCopyWarning: \n",
      "A value is trying to be set on a copy of a slice from a DataFrame\n",
      "\n",
      "See the caveats in the documentation: https://pandas.pydata.org/pandas-docs/stable/user_guide/indexing.html#returning-a-view-versus-a-copy\n",
      "  df['location.coordinates.lon'][i]=df1['location'][i]['coordinates'][0]\n",
      "C:\\Users\\dusng\\AppData\\Local\\Temp\\ipykernel_3364\\2258611513.py:31: SettingWithCopyWarning: \n",
      "A value is trying to be set on a copy of a slice from a DataFrame\n",
      "\n",
      "See the caveats in the documentation: https://pandas.pydata.org/pandas-docs/stable/user_guide/indexing.html#returning-a-view-versus-a-copy\n",
      "  df['location.coordinates.lat'][i]=df1['location'][i]['coordinates'][1]\n",
      "c:\\Users\\dusng\\mambaforge\\lib\\site-packages\\geopandas\\array.py:1406: UserWarning: CRS not set for some of the concatenation inputs. Setting output's CRS as WGS 84 (the single non-null crs provided).\n",
      "  warnings.warn(\n",
      "c:\\Users\\dusng\\mambaforge\\lib\\site-packages\\geopandas\\array.py:1406: UserWarning: CRS not set for some of the concatenation inputs. Setting output's CRS as WGS 84 (the single non-null crs provided).\n",
      "  warnings.warn(\n"
     ]
    },
    {
     "name": "stdout",
     "output_type": "stream",
     "text": [
      "57\n"
     ]
    },
    {
     "name": "stderr",
     "output_type": "stream",
     "text": [
      "C:\\Users\\dusng\\AppData\\Local\\Temp\\ipykernel_3364\\2258611513.py:30: SettingWithCopyWarning: \n",
      "A value is trying to be set on a copy of a slice from a DataFrame\n",
      "\n",
      "See the caveats in the documentation: https://pandas.pydata.org/pandas-docs/stable/user_guide/indexing.html#returning-a-view-versus-a-copy\n",
      "  df['location.coordinates.lon'][i]=df1['location'][i]['coordinates'][0]\n",
      "C:\\Users\\dusng\\AppData\\Local\\Temp\\ipykernel_3364\\2258611513.py:31: SettingWithCopyWarning: \n",
      "A value is trying to be set on a copy of a slice from a DataFrame\n",
      "\n",
      "See the caveats in the documentation: https://pandas.pydata.org/pandas-docs/stable/user_guide/indexing.html#returning-a-view-versus-a-copy\n",
      "  df['location.coordinates.lat'][i]=df1['location'][i]['coordinates'][1]\n",
      "c:\\Users\\dusng\\mambaforge\\lib\\site-packages\\geopandas\\array.py:1406: UserWarning: CRS not set for some of the concatenation inputs. Setting output's CRS as WGS 84 (the single non-null crs provided).\n",
      "  warnings.warn(\n",
      "c:\\Users\\dusng\\mambaforge\\lib\\site-packages\\geopandas\\array.py:1406: UserWarning: CRS not set for some of the concatenation inputs. Setting output's CRS as WGS 84 (the single non-null crs provided).\n",
      "  warnings.warn(\n"
     ]
    },
    {
     "name": "stdout",
     "output_type": "stream",
     "text": [
      "166\n"
     ]
    },
    {
     "name": "stderr",
     "output_type": "stream",
     "text": [
      "C:\\Users\\dusng\\AppData\\Local\\Temp\\ipykernel_3364\\2258611513.py:30: SettingWithCopyWarning: \n",
      "A value is trying to be set on a copy of a slice from a DataFrame\n",
      "\n",
      "See the caveats in the documentation: https://pandas.pydata.org/pandas-docs/stable/user_guide/indexing.html#returning-a-view-versus-a-copy\n",
      "  df['location.coordinates.lon'][i]=df1['location'][i]['coordinates'][0]\n",
      "C:\\Users\\dusng\\AppData\\Local\\Temp\\ipykernel_3364\\2258611513.py:31: SettingWithCopyWarning: \n",
      "A value is trying to be set on a copy of a slice from a DataFrame\n",
      "\n",
      "See the caveats in the documentation: https://pandas.pydata.org/pandas-docs/stable/user_guide/indexing.html#returning-a-view-versus-a-copy\n",
      "  df['location.coordinates.lat'][i]=df1['location'][i]['coordinates'][1]\n",
      "c:\\Users\\dusng\\mambaforge\\lib\\site-packages\\geopandas\\array.py:1406: UserWarning: CRS not set for some of the concatenation inputs. Setting output's CRS as WGS 84 (the single non-null crs provided).\n",
      "  warnings.warn(\n",
      "c:\\Users\\dusng\\mambaforge\\lib\\site-packages\\geopandas\\array.py:1406: UserWarning: CRS not set for some of the concatenation inputs. Setting output's CRS as WGS 84 (the single non-null crs provided).\n",
      "  warnings.warn(\n"
     ]
    },
    {
     "name": "stdout",
     "output_type": "stream",
     "text": [
      "165\n"
     ]
    },
    {
     "name": "stderr",
     "output_type": "stream",
     "text": [
      "C:\\Users\\dusng\\AppData\\Local\\Temp\\ipykernel_3364\\2258611513.py:30: SettingWithCopyWarning: \n",
      "A value is trying to be set on a copy of a slice from a DataFrame\n",
      "\n",
      "See the caveats in the documentation: https://pandas.pydata.org/pandas-docs/stable/user_guide/indexing.html#returning-a-view-versus-a-copy\n",
      "  df['location.coordinates.lon'][i]=df1['location'][i]['coordinates'][0]\n",
      "C:\\Users\\dusng\\AppData\\Local\\Temp\\ipykernel_3364\\2258611513.py:31: SettingWithCopyWarning: \n",
      "A value is trying to be set on a copy of a slice from a DataFrame\n",
      "\n",
      "See the caveats in the documentation: https://pandas.pydata.org/pandas-docs/stable/user_guide/indexing.html#returning-a-view-versus-a-copy\n",
      "  df['location.coordinates.lat'][i]=df1['location'][i]['coordinates'][1]\n",
      "c:\\Users\\dusng\\mambaforge\\lib\\site-packages\\geopandas\\array.py:1406: UserWarning: CRS not set for some of the concatenation inputs. Setting output's CRS as WGS 84 (the single non-null crs provided).\n",
      "  warnings.warn(\n",
      "c:\\Users\\dusng\\mambaforge\\lib\\site-packages\\geopandas\\array.py:1406: UserWarning: CRS not set for some of the concatenation inputs. Setting output's CRS as WGS 84 (the single non-null crs provided).\n",
      "  warnings.warn(\n"
     ]
    },
    {
     "name": "stdout",
     "output_type": "stream",
     "text": [
      "112\n"
     ]
    },
    {
     "name": "stderr",
     "output_type": "stream",
     "text": [
      "C:\\Users\\dusng\\AppData\\Local\\Temp\\ipykernel_3364\\2258611513.py:30: SettingWithCopyWarning: \n",
      "A value is trying to be set on a copy of a slice from a DataFrame\n",
      "\n",
      "See the caveats in the documentation: https://pandas.pydata.org/pandas-docs/stable/user_guide/indexing.html#returning-a-view-versus-a-copy\n",
      "  df['location.coordinates.lon'][i]=df1['location'][i]['coordinates'][0]\n",
      "C:\\Users\\dusng\\AppData\\Local\\Temp\\ipykernel_3364\\2258611513.py:31: SettingWithCopyWarning: \n",
      "A value is trying to be set on a copy of a slice from a DataFrame\n",
      "\n",
      "See the caveats in the documentation: https://pandas.pydata.org/pandas-docs/stable/user_guide/indexing.html#returning-a-view-versus-a-copy\n",
      "  df['location.coordinates.lat'][i]=df1['location'][i]['coordinates'][1]\n",
      "c:\\Users\\dusng\\mambaforge\\lib\\site-packages\\geopandas\\array.py:1406: UserWarning: CRS not set for some of the concatenation inputs. Setting output's CRS as WGS 84 (the single non-null crs provided).\n",
      "  warnings.warn(\n",
      "c:\\Users\\dusng\\mambaforge\\lib\\site-packages\\geopandas\\array.py:1406: UserWarning: CRS not set for some of the concatenation inputs. Setting output's CRS as WGS 84 (the single non-null crs provided).\n",
      "  warnings.warn(\n"
     ]
    },
    {
     "name": "stdout",
     "output_type": "stream",
     "text": [
      "288\n"
     ]
    },
    {
     "name": "stderr",
     "output_type": "stream",
     "text": [
      "C:\\Users\\dusng\\AppData\\Local\\Temp\\ipykernel_3364\\2258611513.py:30: SettingWithCopyWarning: \n",
      "A value is trying to be set on a copy of a slice from a DataFrame\n",
      "\n",
      "See the caveats in the documentation: https://pandas.pydata.org/pandas-docs/stable/user_guide/indexing.html#returning-a-view-versus-a-copy\n",
      "  df['location.coordinates.lon'][i]=df1['location'][i]['coordinates'][0]\n",
      "C:\\Users\\dusng\\AppData\\Local\\Temp\\ipykernel_3364\\2258611513.py:31: SettingWithCopyWarning: \n",
      "A value is trying to be set on a copy of a slice from a DataFrame\n",
      "\n",
      "See the caveats in the documentation: https://pandas.pydata.org/pandas-docs/stable/user_guide/indexing.html#returning-a-view-versus-a-copy\n",
      "  df['location.coordinates.lat'][i]=df1['location'][i]['coordinates'][1]\n",
      "c:\\Users\\dusng\\mambaforge\\lib\\site-packages\\geopandas\\array.py:1406: UserWarning: CRS not set for some of the concatenation inputs. Setting output's CRS as WGS 84 (the single non-null crs provided).\n",
      "  warnings.warn(\n",
      "c:\\Users\\dusng\\mambaforge\\lib\\site-packages\\geopandas\\array.py:1406: UserWarning: CRS not set for some of the concatenation inputs. Setting output's CRS as WGS 84 (the single non-null crs provided).\n",
      "  warnings.warn(\n"
     ]
    },
    {
     "name": "stdout",
     "output_type": "stream",
     "text": [
      "61\n"
     ]
    },
    {
     "name": "stderr",
     "output_type": "stream",
     "text": [
      "C:\\Users\\dusng\\AppData\\Local\\Temp\\ipykernel_3364\\2258611513.py:30: SettingWithCopyWarning: \n",
      "A value is trying to be set on a copy of a slice from a DataFrame\n",
      "\n",
      "See the caveats in the documentation: https://pandas.pydata.org/pandas-docs/stable/user_guide/indexing.html#returning-a-view-versus-a-copy\n",
      "  df['location.coordinates.lon'][i]=df1['location'][i]['coordinates'][0]\n",
      "C:\\Users\\dusng\\AppData\\Local\\Temp\\ipykernel_3364\\2258611513.py:31: SettingWithCopyWarning: \n",
      "A value is trying to be set on a copy of a slice from a DataFrame\n",
      "\n",
      "See the caveats in the documentation: https://pandas.pydata.org/pandas-docs/stable/user_guide/indexing.html#returning-a-view-versus-a-copy\n",
      "  df['location.coordinates.lat'][i]=df1['location'][i]['coordinates'][1]\n",
      "c:\\Users\\dusng\\mambaforge\\lib\\site-packages\\geopandas\\array.py:1406: UserWarning: CRS not set for some of the concatenation inputs. Setting output's CRS as WGS 84 (the single non-null crs provided).\n",
      "  warnings.warn(\n",
      "c:\\Users\\dusng\\mambaforge\\lib\\site-packages\\geopandas\\array.py:1406: UserWarning: CRS not set for some of the concatenation inputs. Setting output's CRS as WGS 84 (the single non-null crs provided).\n",
      "  warnings.warn(\n"
     ]
    },
    {
     "name": "stdout",
     "output_type": "stream",
     "text": [
      "193\n"
     ]
    },
    {
     "name": "stderr",
     "output_type": "stream",
     "text": [
      "C:\\Users\\dusng\\AppData\\Local\\Temp\\ipykernel_3364\\2258611513.py:30: SettingWithCopyWarning: \n",
      "A value is trying to be set on a copy of a slice from a DataFrame\n",
      "\n",
      "See the caveats in the documentation: https://pandas.pydata.org/pandas-docs/stable/user_guide/indexing.html#returning-a-view-versus-a-copy\n",
      "  df['location.coordinates.lon'][i]=df1['location'][i]['coordinates'][0]\n",
      "C:\\Users\\dusng\\AppData\\Local\\Temp\\ipykernel_3364\\2258611513.py:31: SettingWithCopyWarning: \n",
      "A value is trying to be set on a copy of a slice from a DataFrame\n",
      "\n",
      "See the caveats in the documentation: https://pandas.pydata.org/pandas-docs/stable/user_guide/indexing.html#returning-a-view-versus-a-copy\n",
      "  df['location.coordinates.lat'][i]=df1['location'][i]['coordinates'][1]\n",
      "c:\\Users\\dusng\\mambaforge\\lib\\site-packages\\geopandas\\array.py:1406: UserWarning: CRS not set for some of the concatenation inputs. Setting output's CRS as WGS 84 (the single non-null crs provided).\n",
      "  warnings.warn(\n",
      "c:\\Users\\dusng\\mambaforge\\lib\\site-packages\\geopandas\\array.py:1406: UserWarning: CRS not set for some of the concatenation inputs. Setting output's CRS as WGS 84 (the single non-null crs provided).\n",
      "  warnings.warn(\n"
     ]
    },
    {
     "name": "stdout",
     "output_type": "stream",
     "text": [
      "149\n"
     ]
    },
    {
     "name": "stderr",
     "output_type": "stream",
     "text": [
      "C:\\Users\\dusng\\AppData\\Local\\Temp\\ipykernel_3364\\2258611513.py:30: SettingWithCopyWarning: \n",
      "A value is trying to be set on a copy of a slice from a DataFrame\n",
      "\n",
      "See the caveats in the documentation: https://pandas.pydata.org/pandas-docs/stable/user_guide/indexing.html#returning-a-view-versus-a-copy\n",
      "  df['location.coordinates.lon'][i]=df1['location'][i]['coordinates'][0]\n",
      "C:\\Users\\dusng\\AppData\\Local\\Temp\\ipykernel_3364\\2258611513.py:31: SettingWithCopyWarning: \n",
      "A value is trying to be set on a copy of a slice from a DataFrame\n",
      "\n",
      "See the caveats in the documentation: https://pandas.pydata.org/pandas-docs/stable/user_guide/indexing.html#returning-a-view-versus-a-copy\n",
      "  df['location.coordinates.lat'][i]=df1['location'][i]['coordinates'][1]\n",
      "c:\\Users\\dusng\\mambaforge\\lib\\site-packages\\geopandas\\array.py:1406: UserWarning: CRS not set for some of the concatenation inputs. Setting output's CRS as WGS 84 (the single non-null crs provided).\n",
      "  warnings.warn(\n",
      "c:\\Users\\dusng\\mambaforge\\lib\\site-packages\\geopandas\\array.py:1406: UserWarning: CRS not set for some of the concatenation inputs. Setting output's CRS as WGS 84 (the single non-null crs provided).\n",
      "  warnings.warn(\n"
     ]
    },
    {
     "name": "stdout",
     "output_type": "stream",
     "text": [
      "291\n"
     ]
    },
    {
     "name": "stderr",
     "output_type": "stream",
     "text": [
      "C:\\Users\\dusng\\AppData\\Local\\Temp\\ipykernel_3364\\2258611513.py:30: SettingWithCopyWarning: \n",
      "A value is trying to be set on a copy of a slice from a DataFrame\n",
      "\n",
      "See the caveats in the documentation: https://pandas.pydata.org/pandas-docs/stable/user_guide/indexing.html#returning-a-view-versus-a-copy\n",
      "  df['location.coordinates.lon'][i]=df1['location'][i]['coordinates'][0]\n",
      "C:\\Users\\dusng\\AppData\\Local\\Temp\\ipykernel_3364\\2258611513.py:31: SettingWithCopyWarning: \n",
      "A value is trying to be set on a copy of a slice from a DataFrame\n",
      "\n",
      "See the caveats in the documentation: https://pandas.pydata.org/pandas-docs/stable/user_guide/indexing.html#returning-a-view-versus-a-copy\n",
      "  df['location.coordinates.lat'][i]=df1['location'][i]['coordinates'][1]\n",
      "c:\\Users\\dusng\\mambaforge\\lib\\site-packages\\geopandas\\array.py:1406: UserWarning: CRS not set for some of the concatenation inputs. Setting output's CRS as WGS 84 (the single non-null crs provided).\n",
      "  warnings.warn(\n",
      "c:\\Users\\dusng\\mambaforge\\lib\\site-packages\\geopandas\\array.py:1406: UserWarning: CRS not set for some of the concatenation inputs. Setting output's CRS as WGS 84 (the single non-null crs provided).\n",
      "  warnings.warn(\n"
     ]
    },
    {
     "name": "stdout",
     "output_type": "stream",
     "text": [
      "89\n"
     ]
    },
    {
     "name": "stderr",
     "output_type": "stream",
     "text": [
      "C:\\Users\\dusng\\AppData\\Local\\Temp\\ipykernel_3364\\2258611513.py:30: SettingWithCopyWarning: \n",
      "A value is trying to be set on a copy of a slice from a DataFrame\n",
      "\n",
      "See the caveats in the documentation: https://pandas.pydata.org/pandas-docs/stable/user_guide/indexing.html#returning-a-view-versus-a-copy\n",
      "  df['location.coordinates.lon'][i]=df1['location'][i]['coordinates'][0]\n",
      "C:\\Users\\dusng\\AppData\\Local\\Temp\\ipykernel_3364\\2258611513.py:31: SettingWithCopyWarning: \n",
      "A value is trying to be set on a copy of a slice from a DataFrame\n",
      "\n",
      "See the caveats in the documentation: https://pandas.pydata.org/pandas-docs/stable/user_guide/indexing.html#returning-a-view-versus-a-copy\n",
      "  df['location.coordinates.lat'][i]=df1['location'][i]['coordinates'][1]\n",
      "c:\\Users\\dusng\\mambaforge\\lib\\site-packages\\geopandas\\array.py:1406: UserWarning: CRS not set for some of the concatenation inputs. Setting output's CRS as WGS 84 (the single non-null crs provided).\n",
      "  warnings.warn(\n",
      "c:\\Users\\dusng\\mambaforge\\lib\\site-packages\\geopandas\\array.py:1406: UserWarning: CRS not set for some of the concatenation inputs. Setting output's CRS as WGS 84 (the single non-null crs provided).\n",
      "  warnings.warn(\n"
     ]
    },
    {
     "name": "stdout",
     "output_type": "stream",
     "text": [
      "142\n"
     ]
    },
    {
     "name": "stderr",
     "output_type": "stream",
     "text": [
      "C:\\Users\\dusng\\AppData\\Local\\Temp\\ipykernel_3364\\2258611513.py:30: SettingWithCopyWarning: \n",
      "A value is trying to be set on a copy of a slice from a DataFrame\n",
      "\n",
      "See the caveats in the documentation: https://pandas.pydata.org/pandas-docs/stable/user_guide/indexing.html#returning-a-view-versus-a-copy\n",
      "  df['location.coordinates.lon'][i]=df1['location'][i]['coordinates'][0]\n",
      "C:\\Users\\dusng\\AppData\\Local\\Temp\\ipykernel_3364\\2258611513.py:31: SettingWithCopyWarning: \n",
      "A value is trying to be set on a copy of a slice from a DataFrame\n",
      "\n",
      "See the caveats in the documentation: https://pandas.pydata.org/pandas-docs/stable/user_guide/indexing.html#returning-a-view-versus-a-copy\n",
      "  df['location.coordinates.lat'][i]=df1['location'][i]['coordinates'][1]\n",
      "c:\\Users\\dusng\\mambaforge\\lib\\site-packages\\geopandas\\array.py:1406: UserWarning: CRS not set for some of the concatenation inputs. Setting output's CRS as WGS 84 (the single non-null crs provided).\n",
      "  warnings.warn(\n",
      "c:\\Users\\dusng\\mambaforge\\lib\\site-packages\\geopandas\\array.py:1406: UserWarning: CRS not set for some of the concatenation inputs. Setting output's CRS as WGS 84 (the single non-null crs provided).\n",
      "  warnings.warn(\n"
     ]
    },
    {
     "name": "stdout",
     "output_type": "stream",
     "text": [
      "210\n"
     ]
    },
    {
     "name": "stderr",
     "output_type": "stream",
     "text": [
      "C:\\Users\\dusng\\AppData\\Local\\Temp\\ipykernel_3364\\2258611513.py:30: SettingWithCopyWarning: \n",
      "A value is trying to be set on a copy of a slice from a DataFrame\n",
      "\n",
      "See the caveats in the documentation: https://pandas.pydata.org/pandas-docs/stable/user_guide/indexing.html#returning-a-view-versus-a-copy\n",
      "  df['location.coordinates.lon'][i]=df1['location'][i]['coordinates'][0]\n",
      "C:\\Users\\dusng\\AppData\\Local\\Temp\\ipykernel_3364\\2258611513.py:31: SettingWithCopyWarning: \n",
      "A value is trying to be set on a copy of a slice from a DataFrame\n",
      "\n",
      "See the caveats in the documentation: https://pandas.pydata.org/pandas-docs/stable/user_guide/indexing.html#returning-a-view-versus-a-copy\n",
      "  df['location.coordinates.lat'][i]=df1['location'][i]['coordinates'][1]\n",
      "c:\\Users\\dusng\\mambaforge\\lib\\site-packages\\geopandas\\array.py:1406: UserWarning: CRS not set for some of the concatenation inputs. Setting output's CRS as WGS 84 (the single non-null crs provided).\n",
      "  warnings.warn(\n",
      "c:\\Users\\dusng\\mambaforge\\lib\\site-packages\\geopandas\\array.py:1406: UserWarning: CRS not set for some of the concatenation inputs. Setting output's CRS as WGS 84 (the single non-null crs provided).\n",
      "  warnings.warn(\n"
     ]
    },
    {
     "name": "stdout",
     "output_type": "stream",
     "text": [
      "388\n"
     ]
    },
    {
     "name": "stderr",
     "output_type": "stream",
     "text": [
      "C:\\Users\\dusng\\AppData\\Local\\Temp\\ipykernel_3364\\2258611513.py:30: SettingWithCopyWarning: \n",
      "A value is trying to be set on a copy of a slice from a DataFrame\n",
      "\n",
      "See the caveats in the documentation: https://pandas.pydata.org/pandas-docs/stable/user_guide/indexing.html#returning-a-view-versus-a-copy\n",
      "  df['location.coordinates.lon'][i]=df1['location'][i]['coordinates'][0]\n",
      "C:\\Users\\dusng\\AppData\\Local\\Temp\\ipykernel_3364\\2258611513.py:31: SettingWithCopyWarning: \n",
      "A value is trying to be set on a copy of a slice from a DataFrame\n",
      "\n",
      "See the caveats in the documentation: https://pandas.pydata.org/pandas-docs/stable/user_guide/indexing.html#returning-a-view-versus-a-copy\n",
      "  df['location.coordinates.lat'][i]=df1['location'][i]['coordinates'][1]\n",
      "c:\\Users\\dusng\\mambaforge\\lib\\site-packages\\geopandas\\array.py:1406: UserWarning: CRS not set for some of the concatenation inputs. Setting output's CRS as WGS 84 (the single non-null crs provided).\n",
      "  warnings.warn(\n",
      "c:\\Users\\dusng\\mambaforge\\lib\\site-packages\\geopandas\\array.py:1406: UserWarning: CRS not set for some of the concatenation inputs. Setting output's CRS as WGS 84 (the single non-null crs provided).\n",
      "  warnings.warn(\n"
     ]
    },
    {
     "name": "stdout",
     "output_type": "stream",
     "text": [
      "119\n"
     ]
    },
    {
     "name": "stderr",
     "output_type": "stream",
     "text": [
      "C:\\Users\\dusng\\AppData\\Local\\Temp\\ipykernel_3364\\2258611513.py:30: SettingWithCopyWarning: \n",
      "A value is trying to be set on a copy of a slice from a DataFrame\n",
      "\n",
      "See the caveats in the documentation: https://pandas.pydata.org/pandas-docs/stable/user_guide/indexing.html#returning-a-view-versus-a-copy\n",
      "  df['location.coordinates.lon'][i]=df1['location'][i]['coordinates'][0]\n",
      "C:\\Users\\dusng\\AppData\\Local\\Temp\\ipykernel_3364\\2258611513.py:31: SettingWithCopyWarning: \n",
      "A value is trying to be set on a copy of a slice from a DataFrame\n",
      "\n",
      "See the caveats in the documentation: https://pandas.pydata.org/pandas-docs/stable/user_guide/indexing.html#returning-a-view-versus-a-copy\n",
      "  df['location.coordinates.lat'][i]=df1['location'][i]['coordinates'][1]\n",
      "c:\\Users\\dusng\\mambaforge\\lib\\site-packages\\geopandas\\array.py:1406: UserWarning: CRS not set for some of the concatenation inputs. Setting output's CRS as WGS 84 (the single non-null crs provided).\n",
      "  warnings.warn(\n",
      "c:\\Users\\dusng\\mambaforge\\lib\\site-packages\\geopandas\\array.py:1406: UserWarning: CRS not set for some of the concatenation inputs. Setting output's CRS as WGS 84 (the single non-null crs provided).\n",
      "  warnings.warn(\n"
     ]
    },
    {
     "name": "stdout",
     "output_type": "stream",
     "text": [
      "56\n"
     ]
    },
    {
     "name": "stderr",
     "output_type": "stream",
     "text": [
      "C:\\Users\\dusng\\AppData\\Local\\Temp\\ipykernel_3364\\2258611513.py:30: SettingWithCopyWarning: \n",
      "A value is trying to be set on a copy of a slice from a DataFrame\n",
      "\n",
      "See the caveats in the documentation: https://pandas.pydata.org/pandas-docs/stable/user_guide/indexing.html#returning-a-view-versus-a-copy\n",
      "  df['location.coordinates.lon'][i]=df1['location'][i]['coordinates'][0]\n",
      "C:\\Users\\dusng\\AppData\\Local\\Temp\\ipykernel_3364\\2258611513.py:31: SettingWithCopyWarning: \n",
      "A value is trying to be set on a copy of a slice from a DataFrame\n",
      "\n",
      "See the caveats in the documentation: https://pandas.pydata.org/pandas-docs/stable/user_guide/indexing.html#returning-a-view-versus-a-copy\n",
      "  df['location.coordinates.lat'][i]=df1['location'][i]['coordinates'][1]\n",
      "c:\\Users\\dusng\\mambaforge\\lib\\site-packages\\geopandas\\array.py:1406: UserWarning: CRS not set for some of the concatenation inputs. Setting output's CRS as WGS 84 (the single non-null crs provided).\n",
      "  warnings.warn(\n",
      "c:\\Users\\dusng\\mambaforge\\lib\\site-packages\\geopandas\\array.py:1406: UserWarning: CRS not set for some of the concatenation inputs. Setting output's CRS as WGS 84 (the single non-null crs provided).\n",
      "  warnings.warn(\n"
     ]
    },
    {
     "name": "stdout",
     "output_type": "stream",
     "text": [
      "263\n",
      "94\n"
     ]
    },
    {
     "name": "stderr",
     "output_type": "stream",
     "text": [
      "C:\\Users\\dusng\\AppData\\Local\\Temp\\ipykernel_3364\\2258611513.py:30: SettingWithCopyWarning: \n",
      "A value is trying to be set on a copy of a slice from a DataFrame\n",
      "\n",
      "See the caveats in the documentation: https://pandas.pydata.org/pandas-docs/stable/user_guide/indexing.html#returning-a-view-versus-a-copy\n",
      "  df['location.coordinates.lon'][i]=df1['location'][i]['coordinates'][0]\n",
      "C:\\Users\\dusng\\AppData\\Local\\Temp\\ipykernel_3364\\2258611513.py:31: SettingWithCopyWarning: \n",
      "A value is trying to be set on a copy of a slice from a DataFrame\n",
      "\n",
      "See the caveats in the documentation: https://pandas.pydata.org/pandas-docs/stable/user_guide/indexing.html#returning-a-view-versus-a-copy\n",
      "  df['location.coordinates.lat'][i]=df1['location'][i]['coordinates'][1]\n",
      "c:\\Users\\dusng\\mambaforge\\lib\\site-packages\\geopandas\\array.py:1406: UserWarning: CRS not set for some of the concatenation inputs. Setting output's CRS as WGS 84 (the single non-null crs provided).\n",
      "  warnings.warn(\n",
      "c:\\Users\\dusng\\mambaforge\\lib\\site-packages\\geopandas\\array.py:1406: UserWarning: CRS not set for some of the concatenation inputs. Setting output's CRS as WGS 84 (the single non-null crs provided).\n",
      "  warnings.warn(\n",
      "C:\\Users\\dusng\\AppData\\Local\\Temp\\ipykernel_3364\\2258611513.py:30: SettingWithCopyWarning: \n",
      "A value is trying to be set on a copy of a slice from a DataFrame\n",
      "\n",
      "See the caveats in the documentation: https://pandas.pydata.org/pandas-docs/stable/user_guide/indexing.html#returning-a-view-versus-a-copy\n",
      "  df['location.coordinates.lon'][i]=df1['location'][i]['coordinates'][0]\n",
      "C:\\Users\\dusng\\AppData\\Local\\Temp\\ipykernel_3364\\2258611513.py:31: SettingWithCopyWarning: \n",
      "A value is trying to be set on a copy of a slice from a DataFrame\n",
      "\n",
      "See the caveats in the documentation: https://pandas.pydata.org/pandas-docs/stable/user_guide/indexing.html#returning-a-view-versus-a-copy\n",
      "  df['location.coordinates.lat'][i]=df1['location'][i]['coordinates'][1]\n",
      "c:\\Users\\dusng\\mambaforge\\lib\\site-packages\\geopandas\\array.py:1406: UserWarning: CRS not set for some of the concatenation inputs. Setting output's CRS as WGS 84 (the single non-null crs provided).\n",
      "  warnings.warn(\n",
      "c:\\Users\\dusng\\mambaforge\\lib\\site-packages\\geopandas\\array.py:1406: UserWarning: CRS not set for some of the concatenation inputs. Setting output's CRS as WGS 84 (the single non-null crs provided).\n",
      "  warnings.warn(\n"
     ]
    },
    {
     "name": "stdout",
     "output_type": "stream",
     "text": [
      "105\n"
     ]
    },
    {
     "name": "stderr",
     "output_type": "stream",
     "text": [
      "C:\\Users\\dusng\\AppData\\Local\\Temp\\ipykernel_3364\\2258611513.py:30: SettingWithCopyWarning: \n",
      "A value is trying to be set on a copy of a slice from a DataFrame\n",
      "\n",
      "See the caveats in the documentation: https://pandas.pydata.org/pandas-docs/stable/user_guide/indexing.html#returning-a-view-versus-a-copy\n",
      "  df['location.coordinates.lon'][i]=df1['location'][i]['coordinates'][0]\n",
      "C:\\Users\\dusng\\AppData\\Local\\Temp\\ipykernel_3364\\2258611513.py:31: SettingWithCopyWarning: \n",
      "A value is trying to be set on a copy of a slice from a DataFrame\n",
      "\n",
      "See the caveats in the documentation: https://pandas.pydata.org/pandas-docs/stable/user_guide/indexing.html#returning-a-view-versus-a-copy\n",
      "  df['location.coordinates.lat'][i]=df1['location'][i]['coordinates'][1]\n",
      "c:\\Users\\dusng\\mambaforge\\lib\\site-packages\\geopandas\\array.py:1406: UserWarning: CRS not set for some of the concatenation inputs. Setting output's CRS as WGS 84 (the single non-null crs provided).\n",
      "  warnings.warn(\n",
      "c:\\Users\\dusng\\mambaforge\\lib\\site-packages\\geopandas\\array.py:1406: UserWarning: CRS not set for some of the concatenation inputs. Setting output's CRS as WGS 84 (the single non-null crs provided).\n",
      "  warnings.warn(\n"
     ]
    },
    {
     "name": "stdout",
     "output_type": "stream",
     "text": [
      "355\n"
     ]
    },
    {
     "name": "stderr",
     "output_type": "stream",
     "text": [
      "C:\\Users\\dusng\\AppData\\Local\\Temp\\ipykernel_3364\\2258611513.py:30: SettingWithCopyWarning: \n",
      "A value is trying to be set on a copy of a slice from a DataFrame\n",
      "\n",
      "See the caveats in the documentation: https://pandas.pydata.org/pandas-docs/stable/user_guide/indexing.html#returning-a-view-versus-a-copy\n",
      "  df['location.coordinates.lon'][i]=df1['location'][i]['coordinates'][0]\n",
      "C:\\Users\\dusng\\AppData\\Local\\Temp\\ipykernel_3364\\2258611513.py:31: SettingWithCopyWarning: \n",
      "A value is trying to be set on a copy of a slice from a DataFrame\n",
      "\n",
      "See the caveats in the documentation: https://pandas.pydata.org/pandas-docs/stable/user_guide/indexing.html#returning-a-view-versus-a-copy\n",
      "  df['location.coordinates.lat'][i]=df1['location'][i]['coordinates'][1]\n",
      "c:\\Users\\dusng\\mambaforge\\lib\\site-packages\\geopandas\\array.py:1406: UserWarning: CRS not set for some of the concatenation inputs. Setting output's CRS as WGS 84 (the single non-null crs provided).\n",
      "  warnings.warn(\n",
      "c:\\Users\\dusng\\mambaforge\\lib\\site-packages\\geopandas\\array.py:1406: UserWarning: CRS not set for some of the concatenation inputs. Setting output's CRS as WGS 84 (the single non-null crs provided).\n",
      "  warnings.warn(\n"
     ]
    },
    {
     "name": "stdout",
     "output_type": "stream",
     "text": [
      "220\n",
      "44\n"
     ]
    },
    {
     "name": "stderr",
     "output_type": "stream",
     "text": [
      "C:\\Users\\dusng\\AppData\\Local\\Temp\\ipykernel_3364\\2258611513.py:30: SettingWithCopyWarning: \n",
      "A value is trying to be set on a copy of a slice from a DataFrame\n",
      "\n",
      "See the caveats in the documentation: https://pandas.pydata.org/pandas-docs/stable/user_guide/indexing.html#returning-a-view-versus-a-copy\n",
      "  df['location.coordinates.lon'][i]=df1['location'][i]['coordinates'][0]\n",
      "C:\\Users\\dusng\\AppData\\Local\\Temp\\ipykernel_3364\\2258611513.py:31: SettingWithCopyWarning: \n",
      "A value is trying to be set on a copy of a slice from a DataFrame\n",
      "\n",
      "See the caveats in the documentation: https://pandas.pydata.org/pandas-docs/stable/user_guide/indexing.html#returning-a-view-versus-a-copy\n",
      "  df['location.coordinates.lat'][i]=df1['location'][i]['coordinates'][1]\n",
      "c:\\Users\\dusng\\mambaforge\\lib\\site-packages\\geopandas\\array.py:1406: UserWarning: CRS not set for some of the concatenation inputs. Setting output's CRS as WGS 84 (the single non-null crs provided).\n",
      "  warnings.warn(\n",
      "c:\\Users\\dusng\\mambaforge\\lib\\site-packages\\geopandas\\array.py:1406: UserWarning: CRS not set for some of the concatenation inputs. Setting output's CRS as WGS 84 (the single non-null crs provided).\n",
      "  warnings.warn(\n",
      "C:\\Users\\dusng\\AppData\\Local\\Temp\\ipykernel_3364\\2258611513.py:30: SettingWithCopyWarning: \n",
      "A value is trying to be set on a copy of a slice from a DataFrame\n",
      "\n",
      "See the caveats in the documentation: https://pandas.pydata.org/pandas-docs/stable/user_guide/indexing.html#returning-a-view-versus-a-copy\n",
      "  df['location.coordinates.lon'][i]=df1['location'][i]['coordinates'][0]\n",
      "C:\\Users\\dusng\\AppData\\Local\\Temp\\ipykernel_3364\\2258611513.py:31: SettingWithCopyWarning: \n",
      "A value is trying to be set on a copy of a slice from a DataFrame\n",
      "\n",
      "See the caveats in the documentation: https://pandas.pydata.org/pandas-docs/stable/user_guide/indexing.html#returning-a-view-versus-a-copy\n",
      "  df['location.coordinates.lat'][i]=df1['location'][i]['coordinates'][1]\n",
      "c:\\Users\\dusng\\mambaforge\\lib\\site-packages\\geopandas\\array.py:1406: UserWarning: CRS not set for some of the concatenation inputs. Setting output's CRS as WGS 84 (the single non-null crs provided).\n",
      "  warnings.warn(\n",
      "c:\\Users\\dusng\\mambaforge\\lib\\site-packages\\geopandas\\array.py:1406: UserWarning: CRS not set for some of the concatenation inputs. Setting output's CRS as WGS 84 (the single non-null crs provided).\n",
      "  warnings.warn(\n"
     ]
    },
    {
     "name": "stdout",
     "output_type": "stream",
     "text": [
      "23\n"
     ]
    },
    {
     "name": "stderr",
     "output_type": "stream",
     "text": [
      "C:\\Users\\dusng\\AppData\\Local\\Temp\\ipykernel_3364\\2258611513.py:30: SettingWithCopyWarning: \n",
      "A value is trying to be set on a copy of a slice from a DataFrame\n",
      "\n",
      "See the caveats in the documentation: https://pandas.pydata.org/pandas-docs/stable/user_guide/indexing.html#returning-a-view-versus-a-copy\n",
      "  df['location.coordinates.lon'][i]=df1['location'][i]['coordinates'][0]\n",
      "C:\\Users\\dusng\\AppData\\Local\\Temp\\ipykernel_3364\\2258611513.py:31: SettingWithCopyWarning: \n",
      "A value is trying to be set on a copy of a slice from a DataFrame\n",
      "\n",
      "See the caveats in the documentation: https://pandas.pydata.org/pandas-docs/stable/user_guide/indexing.html#returning-a-view-versus-a-copy\n",
      "  df['location.coordinates.lat'][i]=df1['location'][i]['coordinates'][1]\n",
      "c:\\Users\\dusng\\mambaforge\\lib\\site-packages\\geopandas\\array.py:1406: UserWarning: CRS not set for some of the concatenation inputs. Setting output's CRS as WGS 84 (the single non-null crs provided).\n",
      "  warnings.warn(\n",
      "c:\\Users\\dusng\\mambaforge\\lib\\site-packages\\geopandas\\array.py:1406: UserWarning: CRS not set for some of the concatenation inputs. Setting output's CRS as WGS 84 (the single non-null crs provided).\n",
      "  warnings.warn(\n"
     ]
    },
    {
     "name": "stdout",
     "output_type": "stream",
     "text": [
      "351\n"
     ]
    },
    {
     "name": "stderr",
     "output_type": "stream",
     "text": [
      "C:\\Users\\dusng\\AppData\\Local\\Temp\\ipykernel_3364\\2258611513.py:30: SettingWithCopyWarning: \n",
      "A value is trying to be set on a copy of a slice from a DataFrame\n",
      "\n",
      "See the caveats in the documentation: https://pandas.pydata.org/pandas-docs/stable/user_guide/indexing.html#returning-a-view-versus-a-copy\n",
      "  df['location.coordinates.lon'][i]=df1['location'][i]['coordinates'][0]\n",
      "C:\\Users\\dusng\\AppData\\Local\\Temp\\ipykernel_3364\\2258611513.py:31: SettingWithCopyWarning: \n",
      "A value is trying to be set on a copy of a slice from a DataFrame\n",
      "\n",
      "See the caveats in the documentation: https://pandas.pydata.org/pandas-docs/stable/user_guide/indexing.html#returning-a-view-versus-a-copy\n",
      "  df['location.coordinates.lat'][i]=df1['location'][i]['coordinates'][1]\n",
      "c:\\Users\\dusng\\mambaforge\\lib\\site-packages\\geopandas\\array.py:1406: UserWarning: CRS not set for some of the concatenation inputs. Setting output's CRS as WGS 84 (the single non-null crs provided).\n",
      "  warnings.warn(\n",
      "c:\\Users\\dusng\\mambaforge\\lib\\site-packages\\geopandas\\array.py:1406: UserWarning: CRS not set for some of the concatenation inputs. Setting output's CRS as WGS 84 (the single non-null crs provided).\n",
      "  warnings.warn(\n"
     ]
    },
    {
     "name": "stdout",
     "output_type": "stream",
     "text": [
      "163\n",
      "25\n"
     ]
    },
    {
     "name": "stderr",
     "output_type": "stream",
     "text": [
      "C:\\Users\\dusng\\AppData\\Local\\Temp\\ipykernel_3364\\2258611513.py:30: SettingWithCopyWarning: \n",
      "A value is trying to be set on a copy of a slice from a DataFrame\n",
      "\n",
      "See the caveats in the documentation: https://pandas.pydata.org/pandas-docs/stable/user_guide/indexing.html#returning-a-view-versus-a-copy\n",
      "  df['location.coordinates.lon'][i]=df1['location'][i]['coordinates'][0]\n",
      "C:\\Users\\dusng\\AppData\\Local\\Temp\\ipykernel_3364\\2258611513.py:31: SettingWithCopyWarning: \n",
      "A value is trying to be set on a copy of a slice from a DataFrame\n",
      "\n",
      "See the caveats in the documentation: https://pandas.pydata.org/pandas-docs/stable/user_guide/indexing.html#returning-a-view-versus-a-copy\n",
      "  df['location.coordinates.lat'][i]=df1['location'][i]['coordinates'][1]\n",
      "c:\\Users\\dusng\\mambaforge\\lib\\site-packages\\geopandas\\array.py:1406: UserWarning: CRS not set for some of the concatenation inputs. Setting output's CRS as WGS 84 (the single non-null crs provided).\n",
      "  warnings.warn(\n",
      "c:\\Users\\dusng\\mambaforge\\lib\\site-packages\\geopandas\\array.py:1406: UserWarning: CRS not set for some of the concatenation inputs. Setting output's CRS as WGS 84 (the single non-null crs provided).\n",
      "  warnings.warn(\n",
      "C:\\Users\\dusng\\AppData\\Local\\Temp\\ipykernel_3364\\2258611513.py:30: SettingWithCopyWarning: \n",
      "A value is trying to be set on a copy of a slice from a DataFrame\n",
      "\n",
      "See the caveats in the documentation: https://pandas.pydata.org/pandas-docs/stable/user_guide/indexing.html#returning-a-view-versus-a-copy\n",
      "  df['location.coordinates.lon'][i]=df1['location'][i]['coordinates'][0]\n",
      "C:\\Users\\dusng\\AppData\\Local\\Temp\\ipykernel_3364\\2258611513.py:31: SettingWithCopyWarning: \n",
      "A value is trying to be set on a copy of a slice from a DataFrame\n",
      "\n",
      "See the caveats in the documentation: https://pandas.pydata.org/pandas-docs/stable/user_guide/indexing.html#returning-a-view-versus-a-copy\n",
      "  df['location.coordinates.lat'][i]=df1['location'][i]['coordinates'][1]\n",
      "c:\\Users\\dusng\\mambaforge\\lib\\site-packages\\geopandas\\array.py:1406: UserWarning: CRS not set for some of the concatenation inputs. Setting output's CRS as WGS 84 (the single non-null crs provided).\n",
      "  warnings.warn(\n",
      "c:\\Users\\dusng\\mambaforge\\lib\\site-packages\\geopandas\\array.py:1406: UserWarning: CRS not set for some of the concatenation inputs. Setting output's CRS as WGS 84 (the single non-null crs provided).\n",
      "  warnings.warn(\n"
     ]
    },
    {
     "name": "stdout",
     "output_type": "stream",
     "text": [
      "86\n"
     ]
    },
    {
     "name": "stderr",
     "output_type": "stream",
     "text": [
      "C:\\Users\\dusng\\AppData\\Local\\Temp\\ipykernel_3364\\2258611513.py:30: SettingWithCopyWarning: \n",
      "A value is trying to be set on a copy of a slice from a DataFrame\n",
      "\n",
      "See the caveats in the documentation: https://pandas.pydata.org/pandas-docs/stable/user_guide/indexing.html#returning-a-view-versus-a-copy\n",
      "  df['location.coordinates.lon'][i]=df1['location'][i]['coordinates'][0]\n",
      "C:\\Users\\dusng\\AppData\\Local\\Temp\\ipykernel_3364\\2258611513.py:31: SettingWithCopyWarning: \n",
      "A value is trying to be set on a copy of a slice from a DataFrame\n",
      "\n",
      "See the caveats in the documentation: https://pandas.pydata.org/pandas-docs/stable/user_guide/indexing.html#returning-a-view-versus-a-copy\n",
      "  df['location.coordinates.lat'][i]=df1['location'][i]['coordinates'][1]\n",
      "c:\\Users\\dusng\\mambaforge\\lib\\site-packages\\geopandas\\array.py:1406: UserWarning: CRS not set for some of the concatenation inputs. Setting output's CRS as WGS 84 (the single non-null crs provided).\n",
      "  warnings.warn(\n",
      "c:\\Users\\dusng\\mambaforge\\lib\\site-packages\\geopandas\\array.py:1406: UserWarning: CRS not set for some of the concatenation inputs. Setting output's CRS as WGS 84 (the single non-null crs provided).\n",
      "  warnings.warn(\n"
     ]
    },
    {
     "name": "stdout",
     "output_type": "stream",
     "text": [
      "310\n"
     ]
    },
    {
     "name": "stderr",
     "output_type": "stream",
     "text": [
      "C:\\Users\\dusng\\AppData\\Local\\Temp\\ipykernel_3364\\2258611513.py:30: SettingWithCopyWarning: \n",
      "A value is trying to be set on a copy of a slice from a DataFrame\n",
      "\n",
      "See the caveats in the documentation: https://pandas.pydata.org/pandas-docs/stable/user_guide/indexing.html#returning-a-view-versus-a-copy\n",
      "  df['location.coordinates.lon'][i]=df1['location'][i]['coordinates'][0]\n",
      "C:\\Users\\dusng\\AppData\\Local\\Temp\\ipykernel_3364\\2258611513.py:31: SettingWithCopyWarning: \n",
      "A value is trying to be set on a copy of a slice from a DataFrame\n",
      "\n",
      "See the caveats in the documentation: https://pandas.pydata.org/pandas-docs/stable/user_guide/indexing.html#returning-a-view-versus-a-copy\n",
      "  df['location.coordinates.lat'][i]=df1['location'][i]['coordinates'][1]\n",
      "c:\\Users\\dusng\\mambaforge\\lib\\site-packages\\geopandas\\array.py:1406: UserWarning: CRS not set for some of the concatenation inputs. Setting output's CRS as WGS 84 (the single non-null crs provided).\n",
      "  warnings.warn(\n",
      "c:\\Users\\dusng\\mambaforge\\lib\\site-packages\\geopandas\\array.py:1406: UserWarning: CRS not set for some of the concatenation inputs. Setting output's CRS as WGS 84 (the single non-null crs provided).\n",
      "  warnings.warn(\n"
     ]
    },
    {
     "name": "stdout",
     "output_type": "stream",
     "text": [
      "211\n"
     ]
    }
   ],
   "source": [
    "from datetime import datetime, tzinfo, timezone\n",
    "from pymongo import MongoClient\n",
    "import pandas as pd\n",
    "import geopandas as gpd\n",
    "import movingpandas as mpd\n",
    "\n",
    "CONNECTION_STRING = \"mongodb://192.168.1.10:27017/\"\n",
    "client=MongoClient(CONNECTION_STRING)\n",
    "dbname=client['TMTU']\n",
    "collection_names_list = dbname.list_collection_names()\n",
    "# collection_names_list = ['82','60']\n",
    "for collection_names in collection_names_list:\n",
    "    collection_name = dbname[collection_names]\n",
    "\n",
    "    filter={\n",
    "        'LastTrackdt': {\n",
    "            '$gte': datetime(2022, 9, 25, 13, 0, 0, tzinfo=timezone.utc)\n",
    "        }\n",
    "    }\n",
    "\n",
    "    collection=collection_name.find(filter=filter, projection={'LastTrackdt': 1, 'location': 1, '_id': 0, 'VehId': 1 })\n",
    "\n",
    "    df1 = pd.DataFrame(collection, columns=['LastTrackdt', 'location', 'location.coordinates.lon', 'location.coordinates.lat', 'VehId'])\n",
    "    \n",
    "    if len(df1) < 2:\n",
    "        continue\n",
    "    \n",
    "    df=df1[['LastTrackdt', 'location', 'location.coordinates.lon', 'location.coordinates.lat', 'VehId']]\n",
    "    for i in range(0, len(df1)):\n",
    "        df['location.coordinates.lon'][i]=df1['location'][i]['coordinates'][0]\n",
    "        df['location.coordinates.lat'][i]=df1['location'][i]['coordinates'][1]\n",
    "\n",
    "    df['LastTrackdt'] = pd.to_datetime(df['LastTrackdt'])\n",
    "    df.set_index('LastTrackdt', inplace=True)\n",
    "    dfgpd = gpd.GeoDataFrame(df, geometry=gpd.points_from_xy(df['location.coordinates.lon'], df['location.coordinates.lat']))\n",
    "    dfgpd = dfgpd.set_crs(4326)\n",
    "\n",
    "\n",
    "    my_traj = mpd.Trajectory(dfgpd, 'LastTrackdt', 'location.coordinates.lon', 'location.coordinates.lat')\n",
    "    # my_traj.plot()\n",
    "    my_traj.add_speed(overwrite=True, name='newspeed')\n",
    "    save_file=my_traj.to_line_gdf()\n",
    "    saved_file=save_file.loc[save_file['newspeed'] != 0]\n",
    "    saved_file.to_file(\"output/jsonfiles/\"+collection_names+\".geojson\", driver='GeoJSON')\n",
    "    print(collection_names)"
   ]
  },
  {
   "cell_type": "code",
   "execution_count": 35,
   "metadata": {},
   "outputs": [
    {
     "name": "stdout",
     "output_type": "stream",
     "text": [
      "output/jsonfiles/1.geojson\n",
      "output/jsonfiles/100.geojson\n",
      "output/jsonfiles/101.geojson\n",
      "output/jsonfiles/102.geojson\n",
      "output/jsonfiles/103.geojson\n",
      "output/jsonfiles/104.geojson\n",
      "output/jsonfiles/105.geojson\n",
      "output/jsonfiles/106.geojson\n",
      "output/jsonfiles/108.geojson\n",
      "output/jsonfiles/111.geojson\n",
      "output/jsonfiles/112.geojson\n",
      "output/jsonfiles/113.geojson\n",
      "output/jsonfiles/114.geojson\n",
      "output/jsonfiles/119.geojson\n",
      "output/jsonfiles/120.geojson\n",
      "output/jsonfiles/121.geojson\n",
      "output/jsonfiles/122.geojson\n",
      "output/jsonfiles/127.geojson\n",
      "output/jsonfiles/128.geojson\n",
      "output/jsonfiles/129.geojson\n",
      "output/jsonfiles/130.geojson\n",
      "output/jsonfiles/131.geojson\n",
      "output/jsonfiles/132.geojson\n",
      "output/jsonfiles/134.geojson\n",
      "output/jsonfiles/135.geojson\n",
      "output/jsonfiles/136.geojson\n",
      "output/jsonfiles/139.geojson\n",
      "output/jsonfiles/14.geojson\n",
      "output/jsonfiles/140.geojson\n",
      "output/jsonfiles/141.geojson\n",
      "output/jsonfiles/142.geojson\n",
      "output/jsonfiles/144.geojson\n",
      "output/jsonfiles/148.geojson\n",
      "output/jsonfiles/149.geojson\n",
      "output/jsonfiles/151.geojson\n",
      "output/jsonfiles/152.geojson\n",
      "output/jsonfiles/154.geojson\n",
      "output/jsonfiles/155.geojson\n",
      "output/jsonfiles/158.geojson\n",
      "output/jsonfiles/163.geojson\n",
      "output/jsonfiles/165.geojson\n",
      "output/jsonfiles/166.geojson\n",
      "output/jsonfiles/168.geojson\n",
      "output/jsonfiles/169.geojson\n",
      "output/jsonfiles/170.geojson\n",
      "output/jsonfiles/172.geojson\n",
      "output/jsonfiles/173.geojson\n",
      "output/jsonfiles/174.geojson\n",
      "output/jsonfiles/175.geojson\n",
      "output/jsonfiles/176.geojson\n",
      "output/jsonfiles/177.geojson\n",
      "output/jsonfiles/179.geojson\n",
      "output/jsonfiles/182.geojson\n",
      "output/jsonfiles/183.geojson\n",
      "output/jsonfiles/184.geojson\n",
      "output/jsonfiles/185.geojson\n",
      "output/jsonfiles/186.geojson\n",
      "output/jsonfiles/187.geojson\n",
      "output/jsonfiles/189.geojson\n",
      "output/jsonfiles/19.geojson\n",
      "output/jsonfiles/190.geojson\n",
      "output/jsonfiles/191.geojson\n",
      "output/jsonfiles/192.geojson\n",
      "output/jsonfiles/193.geojson\n",
      "output/jsonfiles/194.geojson\n",
      "output/jsonfiles/196.geojson\n",
      "output/jsonfiles/197.geojson\n",
      "output/jsonfiles/199.geojson\n",
      "output/jsonfiles/2.geojson\n",
      "output/jsonfiles/205.geojson\n",
      "output/jsonfiles/210.geojson\n",
      "output/jsonfiles/211.geojson\n",
      "output/jsonfiles/212.geojson\n",
      "output/jsonfiles/213.geojson\n",
      "output/jsonfiles/214.geojson\n",
      "output/jsonfiles/215.geojson\n",
      "output/jsonfiles/219.geojson\n",
      "output/jsonfiles/22.geojson\n",
      "output/jsonfiles/220.geojson\n",
      "output/jsonfiles/222.geojson\n",
      "output/jsonfiles/223.geojson\n",
      "output/jsonfiles/226.geojson\n",
      "output/jsonfiles/227.geojson\n",
      "output/jsonfiles/23.geojson\n",
      "output/jsonfiles/235.geojson\n",
      "output/jsonfiles/239.geojson\n",
      "output/jsonfiles/24.geojson\n",
      "output/jsonfiles/242.geojson\n",
      "output/jsonfiles/244.geojson\n",
      "output/jsonfiles/245.geojson\n",
      "output/jsonfiles/249.geojson\n",
      "output/jsonfiles/25.geojson\n",
      "output/jsonfiles/252.geojson\n",
      "output/jsonfiles/263.geojson\n",
      "output/jsonfiles/265.geojson\n",
      "output/jsonfiles/274.geojson\n",
      "output/jsonfiles/281.geojson\n",
      "output/jsonfiles/282.geojson\n",
      "output/jsonfiles/288.geojson\n",
      "output/jsonfiles/29.geojson\n",
      "output/jsonfiles/291.geojson\n",
      "output/jsonfiles/309.geojson\n",
      "output/jsonfiles/310.geojson\n",
      "output/jsonfiles/320.geojson\n",
      "output/jsonfiles/336.geojson\n",
      "output/jsonfiles/348.geojson\n",
      "output/jsonfiles/349.geojson\n",
      "output/jsonfiles/350.geojson\n",
      "output/jsonfiles/351.geojson\n",
      "output/jsonfiles/355.geojson\n",
      "output/jsonfiles/36.geojson\n",
      "output/jsonfiles/37.geojson\n",
      "output/jsonfiles/38.geojson\n",
      "output/jsonfiles/380.geojson\n",
      "output/jsonfiles/388.geojson\n",
      "output/jsonfiles/389.geojson\n",
      "output/jsonfiles/39.geojson\n",
      "output/jsonfiles/392.geojson\n",
      "output/jsonfiles/394.geojson\n",
      "output/jsonfiles/397.geojson\n",
      "output/jsonfiles/40.geojson\n",
      "output/jsonfiles/41.geojson\n",
      "output/jsonfiles/43.geojson\n",
      "output/jsonfiles/44.geojson\n",
      "output/jsonfiles/45.geojson\n",
      "output/jsonfiles/46.geojson\n",
      "output/jsonfiles/47.geojson\n",
      "output/jsonfiles/48.geojson\n",
      "output/jsonfiles/49.geojson\n",
      "output/jsonfiles/50.geojson\n",
      "output/jsonfiles/51.geojson\n",
      "output/jsonfiles/52.geojson\n",
      "output/jsonfiles/53.geojson\n",
      "output/jsonfiles/54.geojson\n",
      "output/jsonfiles/56.geojson\n",
      "output/jsonfiles/57.geojson\n",
      "output/jsonfiles/58.geojson\n",
      "output/jsonfiles/60.geojson\n",
      "output/jsonfiles/61.geojson\n",
      "output/jsonfiles/63.geojson\n",
      "output/jsonfiles/66.geojson\n",
      "output/jsonfiles/68.geojson\n",
      "output/jsonfiles/7.geojson\n",
      "output/jsonfiles/71.geojson\n",
      "output/jsonfiles/72.geojson\n",
      "output/jsonfiles/74.geojson\n",
      "output/jsonfiles/77.geojson\n",
      "output/jsonfiles/78.geojson\n",
      "output/jsonfiles/79.geojson\n",
      "output/jsonfiles/8.geojson\n",
      "output/jsonfiles/80.geojson\n",
      "output/jsonfiles/81.geojson\n",
      "output/jsonfiles/82.geojson\n",
      "output/jsonfiles/83.geojson\n",
      "output/jsonfiles/84.geojson\n",
      "output/jsonfiles/86.geojson\n",
      "output/jsonfiles/88.geojson\n",
      "output/jsonfiles/89.geojson\n",
      "output/jsonfiles/9.geojson\n",
      "output/jsonfiles/91.geojson\n",
      "output/jsonfiles/92.geojson\n",
      "output/jsonfiles/93.geojson\n",
      "output/jsonfiles/94.geojson\n",
      "output/jsonfiles/95.geojson\n",
      "output/jsonfiles/96.geojson\n",
      "output/jsonfiles/97.geojson\n",
      "output/jsonfiles/99.geojson\n"
     ]
    }
   ],
   "source": [
    "import os\n",
    "import geopandas as gpd\n",
    "import pandas as pd\n",
    "\n",
    "path = \"output/jsonfiles\"\n",
    "dir_list = os.listdir(path)\n",
    "# dir_list = ['78.geojson','168.geojson','170.geojson','74.geojson','83.geojson','196.geojson']\n",
    "gpdfinal = gpd.GeoDataFrame()\n",
    "for filename in dir_list:\n",
    "    filepath=\"output/jsonfiles/\"+filename\n",
    "    print(filepath)\n",
    "    gpd1 = gpd.read_file(filepath)\n",
    "    gpdfinal = pd.concat([gpdfinal, gpd1])\n",
    "\n",
    "gpdfinalfile=gpdfinal.loc[gpdfinal['newspeed'] < 50]\n",
    "\n",
    "gpdfinalfile.to_csv(\"output/BusLocations.csv\", index=False)\n"
   ]
  }
 ],
 "metadata": {
  "kernelspec": {
   "display_name": "Python 3",
   "language": "python",
   "name": "python3"
  },
  "language_info": {
   "codemirror_mode": {
    "name": "ipython",
    "version": 3
   },
   "file_extension": ".py",
   "mimetype": "text/x-python",
   "name": "python",
   "nbconvert_exporter": "python",
   "pygments_lexer": "ipython3",
   "version": "3.10.6"
  },
  "orig_nbformat": 4,
  "vscode": {
   "interpreter": {
    "hash": "92b43928381fa603f546f19f9d5dec4f147963a77de9bd65c4fb577fb9ed174c"
   }
  }
 },
 "nbformat": 4,
 "nbformat_minor": 2
}
